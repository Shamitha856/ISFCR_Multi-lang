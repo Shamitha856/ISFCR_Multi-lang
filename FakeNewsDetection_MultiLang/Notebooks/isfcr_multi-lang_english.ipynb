{
 "cells": [
  {
   "cell_type": "markdown",
   "metadata": {},
   "source": [
    "# Fake News Detection"
   ]
  },
  {
   "cell_type": "code",
   "execution_count": 109,
   "metadata": {},
   "outputs": [
    {
     "data": {
      "text/plain": [
       "'C:\\\\Users\\\\Shamitha'"
      ]
     },
     "execution_count": 109,
     "metadata": {},
     "output_type": "execute_result"
    }
   ],
   "source": [
    "pwd"
   ]
  },
  {
   "cell_type": "code",
   "execution_count": 110,
   "metadata": {},
   "outputs": [],
   "source": [
    "import pandas as pd\n",
    "import numpy as np\n",
    "from sklearn.model_selection import train_test_split\n",
    "from sklearn.metrics import classification_report, confusion_matrix, accuracy_score\n",
    "from sklearn.pipeline import Pipeline\n",
    "from sklearn.linear_model import PassiveAggressiveClassifier\n",
    "from sklearn.naive_bayes import MultinomialNB\n",
    "import re\n",
    "import string\n",
    "import pickle"
   ]
  },
  {
   "cell_type": "code",
   "execution_count": 111,
   "metadata": {},
   "outputs": [],
   "source": [
    "df_fake = pd.read_csv(\"E:\\\\isfcr project\\\\Fake.csv\")\n",
    "df_true = pd.read_csv(\"E:\\\\isfcr project\\\\True.csv\")"
   ]
  },
  {
   "cell_type": "code",
   "execution_count": 112,
   "metadata": {},
   "outputs": [
    {
     "data": {
      "text/html": [
       "<div>\n",
       "<style scoped>\n",
       "    .dataframe tbody tr th:only-of-type {\n",
       "        vertical-align: middle;\n",
       "    }\n",
       "\n",
       "    .dataframe tbody tr th {\n",
       "        vertical-align: top;\n",
       "    }\n",
       "\n",
       "    .dataframe thead th {\n",
       "        text-align: right;\n",
       "    }\n",
       "</style>\n",
       "<table border=\"1\" class=\"dataframe\">\n",
       "  <thead>\n",
       "    <tr style=\"text-align: right;\">\n",
       "      <th></th>\n",
       "      <th>title</th>\n",
       "      <th>text</th>\n",
       "      <th>subject</th>\n",
       "      <th>date</th>\n",
       "    </tr>\n",
       "  </thead>\n",
       "  <tbody>\n",
       "    <tr>\n",
       "      <th>0</th>\n",
       "      <td>Donald Trump Sends Out Embarrassing New Year’...</td>\n",
       "      <td>Donald Trump just couldn t wish all Americans ...</td>\n",
       "      <td>News</td>\n",
       "      <td>December 31, 2017</td>\n",
       "    </tr>\n",
       "    <tr>\n",
       "      <th>1</th>\n",
       "      <td>Drunk Bragging Trump Staffer Started Russian ...</td>\n",
       "      <td>House Intelligence Committee Chairman Devin Nu...</td>\n",
       "      <td>News</td>\n",
       "      <td>December 31, 2017</td>\n",
       "    </tr>\n",
       "    <tr>\n",
       "      <th>2</th>\n",
       "      <td>Sheriff David Clarke Becomes An Internet Joke...</td>\n",
       "      <td>On Friday, it was revealed that former Milwauk...</td>\n",
       "      <td>News</td>\n",
       "      <td>December 30, 2017</td>\n",
       "    </tr>\n",
       "    <tr>\n",
       "      <th>3</th>\n",
       "      <td>Trump Is So Obsessed He Even Has Obama’s Name...</td>\n",
       "      <td>On Christmas day, Donald Trump announced that ...</td>\n",
       "      <td>News</td>\n",
       "      <td>December 29, 2017</td>\n",
       "    </tr>\n",
       "    <tr>\n",
       "      <th>4</th>\n",
       "      <td>Pope Francis Just Called Out Donald Trump Dur...</td>\n",
       "      <td>Pope Francis used his annual Christmas Day mes...</td>\n",
       "      <td>News</td>\n",
       "      <td>December 25, 2017</td>\n",
       "    </tr>\n",
       "    <tr>\n",
       "      <th>...</th>\n",
       "      <td>...</td>\n",
       "      <td>...</td>\n",
       "      <td>...</td>\n",
       "      <td>...</td>\n",
       "    </tr>\n",
       "    <tr>\n",
       "      <th>23444</th>\n",
       "      <td>McPain: John McCain Furious That Iran Treated ...</td>\n",
       "      <td>21st Century Wire says As 21WIRE reported earl...</td>\n",
       "      <td>Middle-east</td>\n",
       "      <td>January 16, 2016</td>\n",
       "    </tr>\n",
       "    <tr>\n",
       "      <th>23445</th>\n",
       "      <td>JUSTICE? Yahoo Settles E-mail Privacy Class-ac...</td>\n",
       "      <td>21st Century Wire says It s a familiar theme. ...</td>\n",
       "      <td>Middle-east</td>\n",
       "      <td>January 16, 2016</td>\n",
       "    </tr>\n",
       "    <tr>\n",
       "      <th>23446</th>\n",
       "      <td>Sunnistan: US and Allied ‘Safe Zone’ Plan to T...</td>\n",
       "      <td>Patrick Henningsen  21st Century WireRemember ...</td>\n",
       "      <td>Middle-east</td>\n",
       "      <td>January 15, 2016</td>\n",
       "    </tr>\n",
       "    <tr>\n",
       "      <th>23447</th>\n",
       "      <td>How to Blow $700 Million: Al Jazeera America F...</td>\n",
       "      <td>21st Century Wire says Al Jazeera America will...</td>\n",
       "      <td>Middle-east</td>\n",
       "      <td>January 14, 2016</td>\n",
       "    </tr>\n",
       "    <tr>\n",
       "      <th>23448</th>\n",
       "      <td>10 U.S. Navy Sailors Held by Iranian Military ...</td>\n",
       "      <td>21st Century Wire says As 21WIRE predicted in ...</td>\n",
       "      <td>Middle-east</td>\n",
       "      <td>January 12, 2016</td>\n",
       "    </tr>\n",
       "  </tbody>\n",
       "</table>\n",
       "<p>23449 rows × 4 columns</p>\n",
       "</div>"
      ],
      "text/plain": [
       "                                                   title  \\\n",
       "0       Donald Trump Sends Out Embarrassing New Year’...   \n",
       "1       Drunk Bragging Trump Staffer Started Russian ...   \n",
       "2       Sheriff David Clarke Becomes An Internet Joke...   \n",
       "3       Trump Is So Obsessed He Even Has Obama’s Name...   \n",
       "4       Pope Francis Just Called Out Donald Trump Dur...   \n",
       "...                                                  ...   \n",
       "23444  McPain: John McCain Furious That Iran Treated ...   \n",
       "23445  JUSTICE? Yahoo Settles E-mail Privacy Class-ac...   \n",
       "23446  Sunnistan: US and Allied ‘Safe Zone’ Plan to T...   \n",
       "23447  How to Blow $700 Million: Al Jazeera America F...   \n",
       "23448  10 U.S. Navy Sailors Held by Iranian Military ...   \n",
       "\n",
       "                                                    text      subject  \\\n",
       "0      Donald Trump just couldn t wish all Americans ...         News   \n",
       "1      House Intelligence Committee Chairman Devin Nu...         News   \n",
       "2      On Friday, it was revealed that former Milwauk...         News   \n",
       "3      On Christmas day, Donald Trump announced that ...         News   \n",
       "4      Pope Francis used his annual Christmas Day mes...         News   \n",
       "...                                                  ...          ...   \n",
       "23444  21st Century Wire says As 21WIRE reported earl...  Middle-east   \n",
       "23445  21st Century Wire says It s a familiar theme. ...  Middle-east   \n",
       "23446  Patrick Henningsen  21st Century WireRemember ...  Middle-east   \n",
       "23447  21st Century Wire says Al Jazeera America will...  Middle-east   \n",
       "23448  21st Century Wire says As 21WIRE predicted in ...  Middle-east   \n",
       "\n",
       "                    date  \n",
       "0      December 31, 2017  \n",
       "1      December 31, 2017  \n",
       "2      December 30, 2017  \n",
       "3      December 29, 2017  \n",
       "4      December 25, 2017  \n",
       "...                  ...  \n",
       "23444   January 16, 2016  \n",
       "23445   January 16, 2016  \n",
       "23446   January 15, 2016  \n",
       "23447   January 14, 2016  \n",
       "23448   January 12, 2016  \n",
       "\n",
       "[23449 rows x 4 columns]"
      ]
     },
     "execution_count": 112,
     "metadata": {},
     "output_type": "execute_result"
    }
   ],
   "source": [
    "df_fake"
   ]
  },
  {
   "cell_type": "code",
   "execution_count": 113,
   "metadata": {},
   "outputs": [
    {
     "data": {
      "text/html": [
       "<div>\n",
       "<style scoped>\n",
       "    .dataframe tbody tr th:only-of-type {\n",
       "        vertical-align: middle;\n",
       "    }\n",
       "\n",
       "    .dataframe tbody tr th {\n",
       "        vertical-align: top;\n",
       "    }\n",
       "\n",
       "    .dataframe thead th {\n",
       "        text-align: right;\n",
       "    }\n",
       "</style>\n",
       "<table border=\"1\" class=\"dataframe\">\n",
       "  <thead>\n",
       "    <tr style=\"text-align: right;\">\n",
       "      <th></th>\n",
       "      <th>title</th>\n",
       "      <th>text</th>\n",
       "      <th>subject</th>\n",
       "      <th>date</th>\n",
       "    </tr>\n",
       "  </thead>\n",
       "  <tbody>\n",
       "    <tr>\n",
       "      <th>0</th>\n",
       "      <td>As U.S. budget fight looms, Republicans flip t...</td>\n",
       "      <td>WASHINGTON (Reuters) - The head of a conservat...</td>\n",
       "      <td>politicsNews</td>\n",
       "      <td>December 31, 2017</td>\n",
       "    </tr>\n",
       "    <tr>\n",
       "      <th>1</th>\n",
       "      <td>U.S. military to accept transgender recruits o...</td>\n",
       "      <td>WASHINGTON (Reuters) - Transgender people will...</td>\n",
       "      <td>politicsNews</td>\n",
       "      <td>December 29, 2017</td>\n",
       "    </tr>\n",
       "    <tr>\n",
       "      <th>2</th>\n",
       "      <td>Senior U.S. Republican senator: 'Let Mr. Muell...</td>\n",
       "      <td>WASHINGTON (Reuters) - The special counsel inv...</td>\n",
       "      <td>politicsNews</td>\n",
       "      <td>December 31, 2017</td>\n",
       "    </tr>\n",
       "    <tr>\n",
       "      <th>3</th>\n",
       "      <td>FBI Russia probe helped by Australian diplomat...</td>\n",
       "      <td>WASHINGTON (Reuters) - Trump campaign adviser ...</td>\n",
       "      <td>politicsNews</td>\n",
       "      <td>December 30, 2017</td>\n",
       "    </tr>\n",
       "    <tr>\n",
       "      <th>4</th>\n",
       "      <td>Trump wants Postal Service to charge 'much mor...</td>\n",
       "      <td>SEATTLE/WASHINGTON (Reuters) - President Donal...</td>\n",
       "      <td>politicsNews</td>\n",
       "      <td>December 29, 2017</td>\n",
       "    </tr>\n",
       "    <tr>\n",
       "      <th>...</th>\n",
       "      <td>...</td>\n",
       "      <td>...</td>\n",
       "      <td>...</td>\n",
       "      <td>...</td>\n",
       "    </tr>\n",
       "    <tr>\n",
       "      <th>21412</th>\n",
       "      <td>'Fully committed' NATO backs new U.S. approach...</td>\n",
       "      <td>BRUSSELS (Reuters) - NATO allies on Tuesday we...</td>\n",
       "      <td>worldnews</td>\n",
       "      <td>August 22, 2017</td>\n",
       "    </tr>\n",
       "    <tr>\n",
       "      <th>21413</th>\n",
       "      <td>LexisNexis withdrew two products from Chinese ...</td>\n",
       "      <td>LONDON (Reuters) - LexisNexis, a provider of l...</td>\n",
       "      <td>worldnews</td>\n",
       "      <td>August 22, 2017</td>\n",
       "    </tr>\n",
       "    <tr>\n",
       "      <th>21414</th>\n",
       "      <td>Minsk cultural hub becomes haven from authorities</td>\n",
       "      <td>MINSK (Reuters) - In the shadow of disused Sov...</td>\n",
       "      <td>worldnews</td>\n",
       "      <td>August 22, 2017</td>\n",
       "    </tr>\n",
       "    <tr>\n",
       "      <th>21415</th>\n",
       "      <td>Vatican upbeat on possibility of Pope Francis ...</td>\n",
       "      <td>MOSCOW (Reuters) - Vatican Secretary of State ...</td>\n",
       "      <td>worldnews</td>\n",
       "      <td>August 22, 2017</td>\n",
       "    </tr>\n",
       "    <tr>\n",
       "      <th>21416</th>\n",
       "      <td>Indonesia to buy $1.14 billion worth of Russia...</td>\n",
       "      <td>JAKARTA (Reuters) - Indonesia will buy 11 Sukh...</td>\n",
       "      <td>worldnews</td>\n",
       "      <td>August 22, 2017</td>\n",
       "    </tr>\n",
       "  </tbody>\n",
       "</table>\n",
       "<p>21417 rows × 4 columns</p>\n",
       "</div>"
      ],
      "text/plain": [
       "                                                   title  \\\n",
       "0      As U.S. budget fight looms, Republicans flip t...   \n",
       "1      U.S. military to accept transgender recruits o...   \n",
       "2      Senior U.S. Republican senator: 'Let Mr. Muell...   \n",
       "3      FBI Russia probe helped by Australian diplomat...   \n",
       "4      Trump wants Postal Service to charge 'much mor...   \n",
       "...                                                  ...   \n",
       "21412  'Fully committed' NATO backs new U.S. approach...   \n",
       "21413  LexisNexis withdrew two products from Chinese ...   \n",
       "21414  Minsk cultural hub becomes haven from authorities   \n",
       "21415  Vatican upbeat on possibility of Pope Francis ...   \n",
       "21416  Indonesia to buy $1.14 billion worth of Russia...   \n",
       "\n",
       "                                                    text       subject  \\\n",
       "0      WASHINGTON (Reuters) - The head of a conservat...  politicsNews   \n",
       "1      WASHINGTON (Reuters) - Transgender people will...  politicsNews   \n",
       "2      WASHINGTON (Reuters) - The special counsel inv...  politicsNews   \n",
       "3      WASHINGTON (Reuters) - Trump campaign adviser ...  politicsNews   \n",
       "4      SEATTLE/WASHINGTON (Reuters) - President Donal...  politicsNews   \n",
       "...                                                  ...           ...   \n",
       "21412  BRUSSELS (Reuters) - NATO allies on Tuesday we...     worldnews   \n",
       "21413  LONDON (Reuters) - LexisNexis, a provider of l...     worldnews   \n",
       "21414  MINSK (Reuters) - In the shadow of disused Sov...     worldnews   \n",
       "21415  MOSCOW (Reuters) - Vatican Secretary of State ...     worldnews   \n",
       "21416  JAKARTA (Reuters) - Indonesia will buy 11 Sukh...     worldnews   \n",
       "\n",
       "                     date  \n",
       "0      December 31, 2017   \n",
       "1      December 29, 2017   \n",
       "2      December 31, 2017   \n",
       "3      December 30, 2017   \n",
       "4      December 29, 2017   \n",
       "...                   ...  \n",
       "21412    August 22, 2017   \n",
       "21413    August 22, 2017   \n",
       "21414    August 22, 2017   \n",
       "21415    August 22, 2017   \n",
       "21416    August 22, 2017   \n",
       "\n",
       "[21417 rows x 4 columns]"
      ]
     },
     "execution_count": 113,
     "metadata": {},
     "output_type": "execute_result"
    }
   ],
   "source": [
    "df_true"
   ]
  },
  {
   "cell_type": "code",
   "execution_count": 114,
   "metadata": {},
   "outputs": [
    {
     "data": {
      "text/html": [
       "<div>\n",
       "<style scoped>\n",
       "    .dataframe tbody tr th:only-of-type {\n",
       "        vertical-align: middle;\n",
       "    }\n",
       "\n",
       "    .dataframe tbody tr th {\n",
       "        vertical-align: top;\n",
       "    }\n",
       "\n",
       "    .dataframe thead th {\n",
       "        text-align: right;\n",
       "    }\n",
       "</style>\n",
       "<table border=\"1\" class=\"dataframe\">\n",
       "  <thead>\n",
       "    <tr style=\"text-align: right;\">\n",
       "      <th></th>\n",
       "      <th>title</th>\n",
       "      <th>text</th>\n",
       "      <th>subject</th>\n",
       "      <th>date</th>\n",
       "    </tr>\n",
       "  </thead>\n",
       "  <tbody>\n",
       "    <tr>\n",
       "      <th>0</th>\n",
       "      <td>Donald Trump Sends Out Embarrassing New Year’...</td>\n",
       "      <td>Donald Trump just couldn t wish all Americans ...</td>\n",
       "      <td>News</td>\n",
       "      <td>December 31, 2017</td>\n",
       "    </tr>\n",
       "    <tr>\n",
       "      <th>1</th>\n",
       "      <td>Drunk Bragging Trump Staffer Started Russian ...</td>\n",
       "      <td>House Intelligence Committee Chairman Devin Nu...</td>\n",
       "      <td>News</td>\n",
       "      <td>December 31, 2017</td>\n",
       "    </tr>\n",
       "    <tr>\n",
       "      <th>2</th>\n",
       "      <td>Sheriff David Clarke Becomes An Internet Joke...</td>\n",
       "      <td>On Friday, it was revealed that former Milwauk...</td>\n",
       "      <td>News</td>\n",
       "      <td>December 30, 2017</td>\n",
       "    </tr>\n",
       "    <tr>\n",
       "      <th>3</th>\n",
       "      <td>Trump Is So Obsessed He Even Has Obama’s Name...</td>\n",
       "      <td>On Christmas day, Donald Trump announced that ...</td>\n",
       "      <td>News</td>\n",
       "      <td>December 29, 2017</td>\n",
       "    </tr>\n",
       "    <tr>\n",
       "      <th>4</th>\n",
       "      <td>Pope Francis Just Called Out Donald Trump Dur...</td>\n",
       "      <td>Pope Francis used his annual Christmas Day mes...</td>\n",
       "      <td>News</td>\n",
       "      <td>December 25, 2017</td>\n",
       "    </tr>\n",
       "    <tr>\n",
       "      <th>5</th>\n",
       "      <td>Racist Alabama Cops Brutalize Black Boy While...</td>\n",
       "      <td>The number of cases of cops brutalizing and ki...</td>\n",
       "      <td>News</td>\n",
       "      <td>December 25, 2017</td>\n",
       "    </tr>\n",
       "    <tr>\n",
       "      <th>6</th>\n",
       "      <td>Fresh Off The Golf Course, Trump Lashes Out A...</td>\n",
       "      <td>Donald Trump spent a good portion of his day a...</td>\n",
       "      <td>News</td>\n",
       "      <td>December 23, 2017</td>\n",
       "    </tr>\n",
       "    <tr>\n",
       "      <th>7</th>\n",
       "      <td>Trump Said Some INSANELY Racist Stuff Inside ...</td>\n",
       "      <td>In the wake of yet another court decision that...</td>\n",
       "      <td>News</td>\n",
       "      <td>December 23, 2017</td>\n",
       "    </tr>\n",
       "    <tr>\n",
       "      <th>8</th>\n",
       "      <td>Former CIA Director Slams Trump Over UN Bully...</td>\n",
       "      <td>Many people have raised the alarm regarding th...</td>\n",
       "      <td>News</td>\n",
       "      <td>December 22, 2017</td>\n",
       "    </tr>\n",
       "    <tr>\n",
       "      <th>9</th>\n",
       "      <td>WATCH: Brand-New Pro-Trump Ad Features So Muc...</td>\n",
       "      <td>Just when you might have thought we d get a br...</td>\n",
       "      <td>News</td>\n",
       "      <td>December 21, 2017</td>\n",
       "    </tr>\n",
       "  </tbody>\n",
       "</table>\n",
       "</div>"
      ],
      "text/plain": [
       "                                               title  \\\n",
       "0   Donald Trump Sends Out Embarrassing New Year’...   \n",
       "1   Drunk Bragging Trump Staffer Started Russian ...   \n",
       "2   Sheriff David Clarke Becomes An Internet Joke...   \n",
       "3   Trump Is So Obsessed He Even Has Obama’s Name...   \n",
       "4   Pope Francis Just Called Out Donald Trump Dur...   \n",
       "5   Racist Alabama Cops Brutalize Black Boy While...   \n",
       "6   Fresh Off The Golf Course, Trump Lashes Out A...   \n",
       "7   Trump Said Some INSANELY Racist Stuff Inside ...   \n",
       "8   Former CIA Director Slams Trump Over UN Bully...   \n",
       "9   WATCH: Brand-New Pro-Trump Ad Features So Muc...   \n",
       "\n",
       "                                                text subject  \\\n",
       "0  Donald Trump just couldn t wish all Americans ...    News   \n",
       "1  House Intelligence Committee Chairman Devin Nu...    News   \n",
       "2  On Friday, it was revealed that former Milwauk...    News   \n",
       "3  On Christmas day, Donald Trump announced that ...    News   \n",
       "4  Pope Francis used his annual Christmas Day mes...    News   \n",
       "5  The number of cases of cops brutalizing and ki...    News   \n",
       "6  Donald Trump spent a good portion of his day a...    News   \n",
       "7  In the wake of yet another court decision that...    News   \n",
       "8  Many people have raised the alarm regarding th...    News   \n",
       "9  Just when you might have thought we d get a br...    News   \n",
       "\n",
       "                date  \n",
       "0  December 31, 2017  \n",
       "1  December 31, 2017  \n",
       "2  December 30, 2017  \n",
       "3  December 29, 2017  \n",
       "4  December 25, 2017  \n",
       "5  December 25, 2017  \n",
       "6  December 23, 2017  \n",
       "7  December 23, 2017  \n",
       "8  December 22, 2017  \n",
       "9  December 21, 2017  "
      ]
     },
     "execution_count": 114,
     "metadata": {},
     "output_type": "execute_result"
    }
   ],
   "source": [
    "df_fake.head(10)"
   ]
  },
  {
   "cell_type": "code",
   "execution_count": 115,
   "metadata": {},
   "outputs": [
    {
     "data": {
      "text/html": [
       "<div>\n",
       "<style scoped>\n",
       "    .dataframe tbody tr th:only-of-type {\n",
       "        vertical-align: middle;\n",
       "    }\n",
       "\n",
       "    .dataframe tbody tr th {\n",
       "        vertical-align: top;\n",
       "    }\n",
       "\n",
       "    .dataframe thead th {\n",
       "        text-align: right;\n",
       "    }\n",
       "</style>\n",
       "<table border=\"1\" class=\"dataframe\">\n",
       "  <thead>\n",
       "    <tr style=\"text-align: right;\">\n",
       "      <th></th>\n",
       "      <th>title</th>\n",
       "      <th>text</th>\n",
       "      <th>subject</th>\n",
       "      <th>date</th>\n",
       "    </tr>\n",
       "  </thead>\n",
       "  <tbody>\n",
       "    <tr>\n",
       "      <th>0</th>\n",
       "      <td>As U.S. budget fight looms, Republicans flip t...</td>\n",
       "      <td>WASHINGTON (Reuters) - The head of a conservat...</td>\n",
       "      <td>politicsNews</td>\n",
       "      <td>December 31, 2017</td>\n",
       "    </tr>\n",
       "    <tr>\n",
       "      <th>1</th>\n",
       "      <td>U.S. military to accept transgender recruits o...</td>\n",
       "      <td>WASHINGTON (Reuters) - Transgender people will...</td>\n",
       "      <td>politicsNews</td>\n",
       "      <td>December 29, 2017</td>\n",
       "    </tr>\n",
       "    <tr>\n",
       "      <th>2</th>\n",
       "      <td>Senior U.S. Republican senator: 'Let Mr. Muell...</td>\n",
       "      <td>WASHINGTON (Reuters) - The special counsel inv...</td>\n",
       "      <td>politicsNews</td>\n",
       "      <td>December 31, 2017</td>\n",
       "    </tr>\n",
       "    <tr>\n",
       "      <th>3</th>\n",
       "      <td>FBI Russia probe helped by Australian diplomat...</td>\n",
       "      <td>WASHINGTON (Reuters) - Trump campaign adviser ...</td>\n",
       "      <td>politicsNews</td>\n",
       "      <td>December 30, 2017</td>\n",
       "    </tr>\n",
       "    <tr>\n",
       "      <th>4</th>\n",
       "      <td>Trump wants Postal Service to charge 'much mor...</td>\n",
       "      <td>SEATTLE/WASHINGTON (Reuters) - President Donal...</td>\n",
       "      <td>politicsNews</td>\n",
       "      <td>December 29, 2017</td>\n",
       "    </tr>\n",
       "    <tr>\n",
       "      <th>5</th>\n",
       "      <td>White House, Congress prepare for talks on spe...</td>\n",
       "      <td>WEST PALM BEACH, Fla./WASHINGTON (Reuters) - T...</td>\n",
       "      <td>politicsNews</td>\n",
       "      <td>December 29, 2017</td>\n",
       "    </tr>\n",
       "    <tr>\n",
       "      <th>6</th>\n",
       "      <td>Trump says Russia probe will be fair, but time...</td>\n",
       "      <td>WEST PALM BEACH, Fla (Reuters) - President Don...</td>\n",
       "      <td>politicsNews</td>\n",
       "      <td>December 29, 2017</td>\n",
       "    </tr>\n",
       "    <tr>\n",
       "      <th>7</th>\n",
       "      <td>Factbox: Trump on Twitter (Dec 29) - Approval ...</td>\n",
       "      <td>The following statements were posted to the ve...</td>\n",
       "      <td>politicsNews</td>\n",
       "      <td>December 29, 2017</td>\n",
       "    </tr>\n",
       "    <tr>\n",
       "      <th>8</th>\n",
       "      <td>Trump on Twitter (Dec 28) - Global Warming</td>\n",
       "      <td>The following statements were posted to the ve...</td>\n",
       "      <td>politicsNews</td>\n",
       "      <td>December 29, 2017</td>\n",
       "    </tr>\n",
       "    <tr>\n",
       "      <th>9</th>\n",
       "      <td>Alabama official to certify Senator-elect Jone...</td>\n",
       "      <td>WASHINGTON (Reuters) - Alabama Secretary of St...</td>\n",
       "      <td>politicsNews</td>\n",
       "      <td>December 28, 2017</td>\n",
       "    </tr>\n",
       "  </tbody>\n",
       "</table>\n",
       "</div>"
      ],
      "text/plain": [
       "                                               title  \\\n",
       "0  As U.S. budget fight looms, Republicans flip t...   \n",
       "1  U.S. military to accept transgender recruits o...   \n",
       "2  Senior U.S. Republican senator: 'Let Mr. Muell...   \n",
       "3  FBI Russia probe helped by Australian diplomat...   \n",
       "4  Trump wants Postal Service to charge 'much mor...   \n",
       "5  White House, Congress prepare for talks on spe...   \n",
       "6  Trump says Russia probe will be fair, but time...   \n",
       "7  Factbox: Trump on Twitter (Dec 29) - Approval ...   \n",
       "8         Trump on Twitter (Dec 28) - Global Warming   \n",
       "9  Alabama official to certify Senator-elect Jone...   \n",
       "\n",
       "                                                text       subject  \\\n",
       "0  WASHINGTON (Reuters) - The head of a conservat...  politicsNews   \n",
       "1  WASHINGTON (Reuters) - Transgender people will...  politicsNews   \n",
       "2  WASHINGTON (Reuters) - The special counsel inv...  politicsNews   \n",
       "3  WASHINGTON (Reuters) - Trump campaign adviser ...  politicsNews   \n",
       "4  SEATTLE/WASHINGTON (Reuters) - President Donal...  politicsNews   \n",
       "5  WEST PALM BEACH, Fla./WASHINGTON (Reuters) - T...  politicsNews   \n",
       "6  WEST PALM BEACH, Fla (Reuters) - President Don...  politicsNews   \n",
       "7  The following statements were posted to the ve...  politicsNews   \n",
       "8  The following statements were posted to the ve...  politicsNews   \n",
       "9  WASHINGTON (Reuters) - Alabama Secretary of St...  politicsNews   \n",
       "\n",
       "                 date  \n",
       "0  December 31, 2017   \n",
       "1  December 29, 2017   \n",
       "2  December 31, 2017   \n",
       "3  December 30, 2017   \n",
       "4  December 29, 2017   \n",
       "5  December 29, 2017   \n",
       "6  December 29, 2017   \n",
       "7  December 29, 2017   \n",
       "8  December 29, 2017   \n",
       "9  December 28, 2017   "
      ]
     },
     "execution_count": 115,
     "metadata": {},
     "output_type": "execute_result"
    }
   ],
   "source": [
    "df_true.head(10)"
   ]
  },
  {
   "cell_type": "code",
   "execution_count": 116,
   "metadata": {},
   "outputs": [],
   "source": [
    "df_fake[\"real/fake\"] = \"Fake\"\n",
    "df_true[\"real/fake\"] = \"Real\""
   ]
  },
  {
   "cell_type": "code",
   "execution_count": 117,
   "metadata": {},
   "outputs": [
    {
     "data": {
      "text/plain": [
       "((23449, 5), (21417, 5))"
      ]
     },
     "execution_count": 117,
     "metadata": {},
     "output_type": "execute_result"
    }
   ],
   "source": [
    "df_fake.shape, df_true.shape"
   ]
  },
  {
   "cell_type": "code",
   "execution_count": 118,
   "metadata": {},
   "outputs": [],
   "source": [
    "df_fake_manual_testing = df_fake.tail(10)\n",
    "for i in range(23448, 23438, -1):\n",
    "    df_fake.drop([i], axis = 0, inplace = True)\n",
    "df_true_manual_testing = df_true.tail(10)\n",
    "for i in range(21416, 21406, -1):\n",
    "    df_true.drop([i], axis = 0, inplace = True)\n",
    "df_true_manual_testing = df_true.tail(10)\n",
    "#inplace=true coz v do not want another dataset to be returned, axis=0=>along a row"
   ]
  },
  {
   "cell_type": "code",
   "execution_count": 119,
   "metadata": {},
   "outputs": [
    {
     "data": {
      "text/plain": [
       "((23439, 5), (21407, 5))"
      ]
     },
     "execution_count": 119,
     "metadata": {},
     "output_type": "execute_result"
    }
   ],
   "source": [
    "df_fake.shape, df_true.shape"
   ]
  },
  {
   "cell_type": "code",
   "execution_count": 120,
   "metadata": {},
   "outputs": [],
   "source": [
    "df_manual_testing = pd.concat([df_fake_manual_testing, df_true_manual_testing], axis = 0)\n",
    "df_manual_testing.to_csv(\"E:\\\\isfcr project\\\\manual_testing.csv\")\n",
    "#axis=0 indicates concatenation along series or rows"
   ]
  },
  {
   "cell_type": "code",
   "execution_count": 121,
   "metadata": {},
   "outputs": [
    {
     "data": {
      "text/html": [
       "<div>\n",
       "<style scoped>\n",
       "    .dataframe tbody tr th:only-of-type {\n",
       "        vertical-align: middle;\n",
       "    }\n",
       "\n",
       "    .dataframe tbody tr th {\n",
       "        vertical-align: top;\n",
       "    }\n",
       "\n",
       "    .dataframe thead th {\n",
       "        text-align: right;\n",
       "    }\n",
       "</style>\n",
       "<table border=\"1\" class=\"dataframe\">\n",
       "  <thead>\n",
       "    <tr style=\"text-align: right;\">\n",
       "      <th></th>\n",
       "      <th>title</th>\n",
       "      <th>text</th>\n",
       "      <th>subject</th>\n",
       "      <th>date</th>\n",
       "      <th>real/fake</th>\n",
       "    </tr>\n",
       "  </thead>\n",
       "  <tbody>\n",
       "    <tr>\n",
       "      <th>0</th>\n",
       "      <td>Donald Trump Sends Out Embarrassing New Year’...</td>\n",
       "      <td>Donald Trump just couldn t wish all Americans ...</td>\n",
       "      <td>News</td>\n",
       "      <td>December 31, 2017</td>\n",
       "      <td>Fake</td>\n",
       "    </tr>\n",
       "    <tr>\n",
       "      <th>1</th>\n",
       "      <td>Drunk Bragging Trump Staffer Started Russian ...</td>\n",
       "      <td>House Intelligence Committee Chairman Devin Nu...</td>\n",
       "      <td>News</td>\n",
       "      <td>December 31, 2017</td>\n",
       "      <td>Fake</td>\n",
       "    </tr>\n",
       "    <tr>\n",
       "      <th>2</th>\n",
       "      <td>Sheriff David Clarke Becomes An Internet Joke...</td>\n",
       "      <td>On Friday, it was revealed that former Milwauk...</td>\n",
       "      <td>News</td>\n",
       "      <td>December 30, 2017</td>\n",
       "      <td>Fake</td>\n",
       "    </tr>\n",
       "    <tr>\n",
       "      <th>3</th>\n",
       "      <td>Trump Is So Obsessed He Even Has Obama’s Name...</td>\n",
       "      <td>On Christmas day, Donald Trump announced that ...</td>\n",
       "      <td>News</td>\n",
       "      <td>December 29, 2017</td>\n",
       "      <td>Fake</td>\n",
       "    </tr>\n",
       "    <tr>\n",
       "      <th>4</th>\n",
       "      <td>Pope Francis Just Called Out Donald Trump Dur...</td>\n",
       "      <td>Pope Francis used his annual Christmas Day mes...</td>\n",
       "      <td>News</td>\n",
       "      <td>December 25, 2017</td>\n",
       "      <td>Fake</td>\n",
       "    </tr>\n",
       "    <tr>\n",
       "      <th>5</th>\n",
       "      <td>Racist Alabama Cops Brutalize Black Boy While...</td>\n",
       "      <td>The number of cases of cops brutalizing and ki...</td>\n",
       "      <td>News</td>\n",
       "      <td>December 25, 2017</td>\n",
       "      <td>Fake</td>\n",
       "    </tr>\n",
       "    <tr>\n",
       "      <th>6</th>\n",
       "      <td>Fresh Off The Golf Course, Trump Lashes Out A...</td>\n",
       "      <td>Donald Trump spent a good portion of his day a...</td>\n",
       "      <td>News</td>\n",
       "      <td>December 23, 2017</td>\n",
       "      <td>Fake</td>\n",
       "    </tr>\n",
       "    <tr>\n",
       "      <th>7</th>\n",
       "      <td>Trump Said Some INSANELY Racist Stuff Inside ...</td>\n",
       "      <td>In the wake of yet another court decision that...</td>\n",
       "      <td>News</td>\n",
       "      <td>December 23, 2017</td>\n",
       "      <td>Fake</td>\n",
       "    </tr>\n",
       "    <tr>\n",
       "      <th>8</th>\n",
       "      <td>Former CIA Director Slams Trump Over UN Bully...</td>\n",
       "      <td>Many people have raised the alarm regarding th...</td>\n",
       "      <td>News</td>\n",
       "      <td>December 22, 2017</td>\n",
       "      <td>Fake</td>\n",
       "    </tr>\n",
       "    <tr>\n",
       "      <th>9</th>\n",
       "      <td>WATCH: Brand-New Pro-Trump Ad Features So Muc...</td>\n",
       "      <td>Just when you might have thought we d get a br...</td>\n",
       "      <td>News</td>\n",
       "      <td>December 21, 2017</td>\n",
       "      <td>Fake</td>\n",
       "    </tr>\n",
       "  </tbody>\n",
       "</table>\n",
       "</div>"
      ],
      "text/plain": [
       "                                               title  \\\n",
       "0   Donald Trump Sends Out Embarrassing New Year’...   \n",
       "1   Drunk Bragging Trump Staffer Started Russian ...   \n",
       "2   Sheriff David Clarke Becomes An Internet Joke...   \n",
       "3   Trump Is So Obsessed He Even Has Obama’s Name...   \n",
       "4   Pope Francis Just Called Out Donald Trump Dur...   \n",
       "5   Racist Alabama Cops Brutalize Black Boy While...   \n",
       "6   Fresh Off The Golf Course, Trump Lashes Out A...   \n",
       "7   Trump Said Some INSANELY Racist Stuff Inside ...   \n",
       "8   Former CIA Director Slams Trump Over UN Bully...   \n",
       "9   WATCH: Brand-New Pro-Trump Ad Features So Muc...   \n",
       "\n",
       "                                                text subject  \\\n",
       "0  Donald Trump just couldn t wish all Americans ...    News   \n",
       "1  House Intelligence Committee Chairman Devin Nu...    News   \n",
       "2  On Friday, it was revealed that former Milwauk...    News   \n",
       "3  On Christmas day, Donald Trump announced that ...    News   \n",
       "4  Pope Francis used his annual Christmas Day mes...    News   \n",
       "5  The number of cases of cops brutalizing and ki...    News   \n",
       "6  Donald Trump spent a good portion of his day a...    News   \n",
       "7  In the wake of yet another court decision that...    News   \n",
       "8  Many people have raised the alarm regarding th...    News   \n",
       "9  Just when you might have thought we d get a br...    News   \n",
       "\n",
       "                date real/fake  \n",
       "0  December 31, 2017      Fake  \n",
       "1  December 31, 2017      Fake  \n",
       "2  December 30, 2017      Fake  \n",
       "3  December 29, 2017      Fake  \n",
       "4  December 25, 2017      Fake  \n",
       "5  December 25, 2017      Fake  \n",
       "6  December 23, 2017      Fake  \n",
       "7  December 23, 2017      Fake  \n",
       "8  December 22, 2017      Fake  \n",
       "9  December 21, 2017      Fake  "
      ]
     },
     "execution_count": 121,
     "metadata": {},
     "output_type": "execute_result"
    }
   ],
   "source": [
    "df_merge = pd.concat([df_fake, df_true], axis = 0)\n",
    "df_merge.head(10)"
   ]
  },
  {
   "cell_type": "code",
   "execution_count": 122,
   "metadata": {},
   "outputs": [],
   "source": [
    "df = df_merge.sample(frac = 1)\n",
    "#sample() is a function from pandas, used to generate sample random row or column from the function(to shuffle)\n",
    "#frac indicates the length of dataframe values to be returned , 1 indicates to return all values"
   ]
  },
  {
   "cell_type": "code",
   "execution_count": 123,
   "metadata": {},
   "outputs": [
    {
     "data": {
      "text/html": [
       "<div>\n",
       "<style scoped>\n",
       "    .dataframe tbody tr th:only-of-type {\n",
       "        vertical-align: middle;\n",
       "    }\n",
       "\n",
       "    .dataframe tbody tr th {\n",
       "        vertical-align: top;\n",
       "    }\n",
       "\n",
       "    .dataframe thead th {\n",
       "        text-align: right;\n",
       "    }\n",
       "</style>\n",
       "<table border=\"1\" class=\"dataframe\">\n",
       "  <thead>\n",
       "    <tr style=\"text-align: right;\">\n",
       "      <th></th>\n",
       "      <th>title</th>\n",
       "      <th>text</th>\n",
       "      <th>subject</th>\n",
       "      <th>date</th>\n",
       "      <th>real/fake</th>\n",
       "    </tr>\n",
       "  </thead>\n",
       "  <tbody>\n",
       "    <tr>\n",
       "      <th>6424</th>\n",
       "      <td>Trump to Republicans: Act swiftly to replace O...</td>\n",
       "      <td>WASHINGTON (Reuters) - U.S. President-elect Do...</td>\n",
       "      <td>politicsNews</td>\n",
       "      <td>January 10, 2017</td>\n",
       "      <td>Real</td>\n",
       "    </tr>\n",
       "    <tr>\n",
       "      <th>11063</th>\n",
       "      <td>BOOM! WATCH SEAN HANNITY Hit Back At Bogus Sex...</td>\n",
       "      <td>Thank you Sean Hannity for hitting back at the...</td>\n",
       "      <td>politics</td>\n",
       "      <td>Apr 24, 2017</td>\n",
       "      <td>Fake</td>\n",
       "    </tr>\n",
       "    <tr>\n",
       "      <th>11112</th>\n",
       "      <td>Senator Markey places hold on Obama's nominee ...</td>\n",
       "      <td>(Reuters) - Democratic U.S. Senator Edward Mar...</td>\n",
       "      <td>politicsNews</td>\n",
       "      <td>January 25, 2016</td>\n",
       "      <td>Real</td>\n",
       "    </tr>\n",
       "    <tr>\n",
       "      <th>13875</th>\n",
       "      <td>French minister believes banks had 'good reaso...</td>\n",
       "      <td>PARIS (Reuters) - French Finance Minister Brun...</td>\n",
       "      <td>worldnews</td>\n",
       "      <td>November 25, 2017</td>\n",
       "      <td>Real</td>\n",
       "    </tr>\n",
       "    <tr>\n",
       "      <th>15532</th>\n",
       "      <td>Saudi-led forces close air, sea and land acces...</td>\n",
       "      <td>DUBAI (Reuters) - The Saudi-led military coali...</td>\n",
       "      <td>worldnews</td>\n",
       "      <td>November 6, 2017</td>\n",
       "      <td>Real</td>\n",
       "    </tr>\n",
       "    <tr>\n",
       "      <th>13814</th>\n",
       "      <td>Honduras president with strong lead in TV stat...</td>\n",
       "      <td>TEGUCIGALPA (Reuters) - An exit poll by a Hond...</td>\n",
       "      <td>worldnews</td>\n",
       "      <td>November 27, 2017</td>\n",
       "      <td>Real</td>\n",
       "    </tr>\n",
       "    <tr>\n",
       "      <th>6238</th>\n",
       "      <td>U.S. Supreme Court justices fret over offensiv...</td>\n",
       "      <td>WASHINGTON (Reuters) - Supreme Court justices ...</td>\n",
       "      <td>politicsNews</td>\n",
       "      <td>January 18, 2017</td>\n",
       "      <td>Real</td>\n",
       "    </tr>\n",
       "    <tr>\n",
       "      <th>5709</th>\n",
       "      <td>U.S. watchdog agency to review implementation ...</td>\n",
       "      <td>WASHINGTON (Reuters) - A watchdog agency at th...</td>\n",
       "      <td>politicsNews</td>\n",
       "      <td>February 2, 2017</td>\n",
       "      <td>Real</td>\n",
       "    </tr>\n",
       "    <tr>\n",
       "      <th>4606</th>\n",
       "      <td>U.S. to review energy royalty rates on federal...</td>\n",
       "      <td>WASHINGTON (Reuters) - The U.S. Interior Depar...</td>\n",
       "      <td>politicsNews</td>\n",
       "      <td>March 29, 2017</td>\n",
       "      <td>Real</td>\n",
       "    </tr>\n",
       "    <tr>\n",
       "      <th>19241</th>\n",
       "      <td>INSANE ANTI-TRUMP PROTESTER Lights Trump Suppo...</td>\n",
       "      <td>The Inauguration was a beautiful day full of g...</td>\n",
       "      <td>left-news</td>\n",
       "      <td>Jan 23, 2017</td>\n",
       "      <td>Fake</td>\n",
       "    </tr>\n",
       "  </tbody>\n",
       "</table>\n",
       "</div>"
      ],
      "text/plain": [
       "                                                   title  \\\n",
       "6424   Trump to Republicans: Act swiftly to replace O...   \n",
       "11063  BOOM! WATCH SEAN HANNITY Hit Back At Bogus Sex...   \n",
       "11112  Senator Markey places hold on Obama's nominee ...   \n",
       "13875  French minister believes banks had 'good reaso...   \n",
       "15532  Saudi-led forces close air, sea and land acces...   \n",
       "13814  Honduras president with strong lead in TV stat...   \n",
       "6238   U.S. Supreme Court justices fret over offensiv...   \n",
       "5709   U.S. watchdog agency to review implementation ...   \n",
       "4606   U.S. to review energy royalty rates on federal...   \n",
       "19241  INSANE ANTI-TRUMP PROTESTER Lights Trump Suppo...   \n",
       "\n",
       "                                                    text       subject  \\\n",
       "6424   WASHINGTON (Reuters) - U.S. President-elect Do...  politicsNews   \n",
       "11063  Thank you Sean Hannity for hitting back at the...      politics   \n",
       "11112  (Reuters) - Democratic U.S. Senator Edward Mar...  politicsNews   \n",
       "13875  PARIS (Reuters) - French Finance Minister Brun...     worldnews   \n",
       "15532  DUBAI (Reuters) - The Saudi-led military coali...     worldnews   \n",
       "13814  TEGUCIGALPA (Reuters) - An exit poll by a Hond...     worldnews   \n",
       "6238   WASHINGTON (Reuters) - Supreme Court justices ...  politicsNews   \n",
       "5709   WASHINGTON (Reuters) - A watchdog agency at th...  politicsNews   \n",
       "4606   WASHINGTON (Reuters) - The U.S. Interior Depar...  politicsNews   \n",
       "19241  The Inauguration was a beautiful day full of g...     left-news   \n",
       "\n",
       "                     date real/fake  \n",
       "6424    January 10, 2017       Real  \n",
       "11063        Apr 24, 2017      Fake  \n",
       "11112   January 25, 2016       Real  \n",
       "13875  November 25, 2017       Real  \n",
       "15532   November 6, 2017       Real  \n",
       "13814  November 27, 2017       Real  \n",
       "6238    January 18, 2017       Real  \n",
       "5709    February 2, 2017       Real  \n",
       "4606      March 29, 2017       Real  \n",
       "19241        Jan 23, 2017      Fake  "
      ]
     },
     "execution_count": 123,
     "metadata": {},
     "output_type": "execute_result"
    }
   ],
   "source": [
    "df.head(10)"
   ]
  },
  {
   "cell_type": "code",
   "execution_count": 124,
   "metadata": {},
   "outputs": [
    {
     "data": {
      "text/html": [
       "<div>\n",
       "<style scoped>\n",
       "    .dataframe tbody tr th:only-of-type {\n",
       "        vertical-align: middle;\n",
       "    }\n",
       "\n",
       "    .dataframe tbody tr th {\n",
       "        vertical-align: top;\n",
       "    }\n",
       "\n",
       "    .dataframe thead th {\n",
       "        text-align: right;\n",
       "    }\n",
       "</style>\n",
       "<table border=\"1\" class=\"dataframe\">\n",
       "  <thead>\n",
       "    <tr style=\"text-align: right;\">\n",
       "      <th></th>\n",
       "      <th>title</th>\n",
       "      <th>text</th>\n",
       "      <th>subject</th>\n",
       "      <th>date</th>\n",
       "      <th>real/fake</th>\n",
       "    </tr>\n",
       "  </thead>\n",
       "  <tbody>\n",
       "    <tr>\n",
       "      <th>6424</th>\n",
       "      <td>Trump to Republicans: Act swiftly to replace O...</td>\n",
       "      <td>WASHINGTON (Reuters) - U.S. President-elect Do...</td>\n",
       "      <td>politicsNews</td>\n",
       "      <td>January 10, 2017</td>\n",
       "      <td>Real</td>\n",
       "    </tr>\n",
       "    <tr>\n",
       "      <th>11063</th>\n",
       "      <td>BOOM! WATCH SEAN HANNITY Hit Back At Bogus Sex...</td>\n",
       "      <td>Thank you Sean Hannity for hitting back at the...</td>\n",
       "      <td>politics</td>\n",
       "      <td>Apr 24, 2017</td>\n",
       "      <td>Fake</td>\n",
       "    </tr>\n",
       "    <tr>\n",
       "      <th>11112</th>\n",
       "      <td>Senator Markey places hold on Obama's nominee ...</td>\n",
       "      <td>(Reuters) - Democratic U.S. Senator Edward Mar...</td>\n",
       "      <td>politicsNews</td>\n",
       "      <td>January 25, 2016</td>\n",
       "      <td>Real</td>\n",
       "    </tr>\n",
       "    <tr>\n",
       "      <th>13875</th>\n",
       "      <td>French minister believes banks had 'good reaso...</td>\n",
       "      <td>PARIS (Reuters) - French Finance Minister Brun...</td>\n",
       "      <td>worldnews</td>\n",
       "      <td>November 25, 2017</td>\n",
       "      <td>Real</td>\n",
       "    </tr>\n",
       "    <tr>\n",
       "      <th>15532</th>\n",
       "      <td>Saudi-led forces close air, sea and land acces...</td>\n",
       "      <td>DUBAI (Reuters) - The Saudi-led military coali...</td>\n",
       "      <td>worldnews</td>\n",
       "      <td>November 6, 2017</td>\n",
       "      <td>Real</td>\n",
       "    </tr>\n",
       "    <tr>\n",
       "      <th>...</th>\n",
       "      <td>...</td>\n",
       "      <td>...</td>\n",
       "      <td>...</td>\n",
       "      <td>...</td>\n",
       "      <td>...</td>\n",
       "    </tr>\n",
       "    <tr>\n",
       "      <th>19579</th>\n",
       "      <td>BOOM! LIBERAL COLUMNIST Gets DESTROYED By Tuck...</td>\n",
       "      <td></td>\n",
       "      <td>left-news</td>\n",
       "      <td>Nov 18, 2016</td>\n",
       "      <td>Fake</td>\n",
       "    </tr>\n",
       "    <tr>\n",
       "      <th>15991</th>\n",
       "      <td>Britain accelerates Brexit plans, divorce talk...</td>\n",
       "      <td>LONDON/BRATISLAVA (Reuters) - Britain is accel...</td>\n",
       "      <td>worldnews</td>\n",
       "      <td>October 31, 2017</td>\n",
       "      <td>Real</td>\n",
       "    </tr>\n",
       "    <tr>\n",
       "      <th>20653</th>\n",
       "      <td>Three vehicles torched in long-running South A...</td>\n",
       "      <td>JOHANNESBURG (Reuters) - One Uber vehicle and ...</td>\n",
       "      <td>worldnews</td>\n",
       "      <td>September 8, 2017</td>\n",
       "      <td>Real</td>\n",
       "    </tr>\n",
       "    <tr>\n",
       "      <th>13101</th>\n",
       "      <td>HILLARY’S STATE DEPARTMENT DESTROYED 13 Of Her...</td>\n",
       "      <td>I thought it would be easier to carry just on...</td>\n",
       "      <td>politics</td>\n",
       "      <td>Sep 3, 2016</td>\n",
       "      <td>Fake</td>\n",
       "    </tr>\n",
       "    <tr>\n",
       "      <th>21308</th>\n",
       "      <td>Disturbing Uncovered Emails From Huma Abedin B...</td>\n",
       "      <td>How quickly the Democrats have forgotten about...</td>\n",
       "      <td>left-news</td>\n",
       "      <td>Nov 17, 2015</td>\n",
       "      <td>Fake</td>\n",
       "    </tr>\n",
       "  </tbody>\n",
       "</table>\n",
       "<p>44846 rows × 5 columns</p>\n",
       "</div>"
      ],
      "text/plain": [
       "                                                   title  \\\n",
       "6424   Trump to Republicans: Act swiftly to replace O...   \n",
       "11063  BOOM! WATCH SEAN HANNITY Hit Back At Bogus Sex...   \n",
       "11112  Senator Markey places hold on Obama's nominee ...   \n",
       "13875  French minister believes banks had 'good reaso...   \n",
       "15532  Saudi-led forces close air, sea and land acces...   \n",
       "...                                                  ...   \n",
       "19579  BOOM! LIBERAL COLUMNIST Gets DESTROYED By Tuck...   \n",
       "15991  Britain accelerates Brexit plans, divorce talk...   \n",
       "20653  Three vehicles torched in long-running South A...   \n",
       "13101  HILLARY’S STATE DEPARTMENT DESTROYED 13 Of Her...   \n",
       "21308  Disturbing Uncovered Emails From Huma Abedin B...   \n",
       "\n",
       "                                                    text       subject  \\\n",
       "6424   WASHINGTON (Reuters) - U.S. President-elect Do...  politicsNews   \n",
       "11063  Thank you Sean Hannity for hitting back at the...      politics   \n",
       "11112  (Reuters) - Democratic U.S. Senator Edward Mar...  politicsNews   \n",
       "13875  PARIS (Reuters) - French Finance Minister Brun...     worldnews   \n",
       "15532  DUBAI (Reuters) - The Saudi-led military coali...     worldnews   \n",
       "...                                                  ...           ...   \n",
       "19579                                                        left-news   \n",
       "15991  LONDON/BRATISLAVA (Reuters) - Britain is accel...     worldnews   \n",
       "20653  JOHANNESBURG (Reuters) - One Uber vehicle and ...     worldnews   \n",
       "13101   I thought it would be easier to carry just on...      politics   \n",
       "21308  How quickly the Democrats have forgotten about...     left-news   \n",
       "\n",
       "                     date real/fake  \n",
       "6424    January 10, 2017       Real  \n",
       "11063        Apr 24, 2017      Fake  \n",
       "11112   January 25, 2016       Real  \n",
       "13875  November 25, 2017       Real  \n",
       "15532   November 6, 2017       Real  \n",
       "...                   ...       ...  \n",
       "19579        Nov 18, 2016      Fake  \n",
       "15991   October 31, 2017       Real  \n",
       "20653  September 8, 2017       Real  \n",
       "13101         Sep 3, 2016      Fake  \n",
       "21308        Nov 17, 2015      Fake  \n",
       "\n",
       "[44846 rows x 5 columns]"
      ]
     },
     "execution_count": 124,
     "metadata": {},
     "output_type": "execute_result"
    }
   ],
   "source": [
    "df"
   ]
  },
  {
   "cell_type": "code",
   "execution_count": 125,
   "metadata": {},
   "outputs": [
    {
     "data": {
      "text/plain": [
       "(44846, 5)"
      ]
     },
     "execution_count": 125,
     "metadata": {},
     "output_type": "execute_result"
    }
   ],
   "source": [
    "df.shape"
   ]
  },
  {
   "cell_type": "code",
   "execution_count": 126,
   "metadata": {},
   "outputs": [
    {
     "data": {
      "text/plain": [
       "title        0\n",
       "text         0\n",
       "subject      0\n",
       "date         0\n",
       "real/fake    0\n",
       "dtype: int64"
      ]
     },
     "execution_count": 126,
     "metadata": {},
     "output_type": "execute_result"
    }
   ],
   "source": [
    "df.isnull().sum()"
   ]
  },
  {
   "cell_type": "code",
   "execution_count": 127,
   "metadata": {},
   "outputs": [],
   "source": [
    "def word_drop(text):\n",
    "    text = text.lower()\n",
    "    text = re.sub('\\[.*?\\]', '', text)\n",
    "    text = re.sub(\"\\\\W\",\" \",text) \n",
    "    text = re.sub('https?://\\S+|www\\.\\S+', '', text)\n",
    "    text = re.sub('<.*?>+', '', text)\n",
    "    text = re.sub('[%s]' % re.escape(string.punctuation), '', text)\n",
    "    text = re.sub('\\n', '', text)\n",
    "    text = re.sub('\\w*\\d\\w*', '', text)    \n",
    "    return text\n",
    "#to remove unusual and irregular expressions in the text column\n",
    "#sub is an built-in library to replace substring with another substring"
   ]
  },
  {
   "cell_type": "code",
   "execution_count": 128,
   "metadata": {},
   "outputs": [],
   "source": [
    "df[\"text\"] = df[\"text\"].apply(word_drop)"
   ]
  },
  {
   "cell_type": "code",
   "execution_count": 129,
   "metadata": {},
   "outputs": [
    {
     "data": {
      "text/html": [
       "<div>\n",
       "<style scoped>\n",
       "    .dataframe tbody tr th:only-of-type {\n",
       "        vertical-align: middle;\n",
       "    }\n",
       "\n",
       "    .dataframe tbody tr th {\n",
       "        vertical-align: top;\n",
       "    }\n",
       "\n",
       "    .dataframe thead th {\n",
       "        text-align: right;\n",
       "    }\n",
       "</style>\n",
       "<table border=\"1\" class=\"dataframe\">\n",
       "  <thead>\n",
       "    <tr style=\"text-align: right;\">\n",
       "      <th></th>\n",
       "      <th>title</th>\n",
       "      <th>text</th>\n",
       "      <th>subject</th>\n",
       "      <th>date</th>\n",
       "      <th>real/fake</th>\n",
       "    </tr>\n",
       "  </thead>\n",
       "  <tbody>\n",
       "    <tr>\n",
       "      <th>6424</th>\n",
       "      <td>Trump to Republicans: Act swiftly to replace O...</td>\n",
       "      <td>washington  reuters    u s  president elect do...</td>\n",
       "      <td>politicsNews</td>\n",
       "      <td>January 10, 2017</td>\n",
       "      <td>Real</td>\n",
       "    </tr>\n",
       "    <tr>\n",
       "      <th>11063</th>\n",
       "      <td>BOOM! WATCH SEAN HANNITY Hit Back At Bogus Sex...</td>\n",
       "      <td>thank you sean hannity for hitting back at the...</td>\n",
       "      <td>politics</td>\n",
       "      <td>Apr 24, 2017</td>\n",
       "      <td>Fake</td>\n",
       "    </tr>\n",
       "    <tr>\n",
       "      <th>11112</th>\n",
       "      <td>Senator Markey places hold on Obama's nominee ...</td>\n",
       "      <td>reuters    democratic u s  senator edward mar...</td>\n",
       "      <td>politicsNews</td>\n",
       "      <td>January 25, 2016</td>\n",
       "      <td>Real</td>\n",
       "    </tr>\n",
       "    <tr>\n",
       "      <th>13875</th>\n",
       "      <td>French minister believes banks had 'good reaso...</td>\n",
       "      <td>paris  reuters    french finance minister brun...</td>\n",
       "      <td>worldnews</td>\n",
       "      <td>November 25, 2017</td>\n",
       "      <td>Real</td>\n",
       "    </tr>\n",
       "    <tr>\n",
       "      <th>15532</th>\n",
       "      <td>Saudi-led forces close air, sea and land acces...</td>\n",
       "      <td>dubai  reuters    the saudi led military coali...</td>\n",
       "      <td>worldnews</td>\n",
       "      <td>November 6, 2017</td>\n",
       "      <td>Real</td>\n",
       "    </tr>\n",
       "    <tr>\n",
       "      <th>...</th>\n",
       "      <td>...</td>\n",
       "      <td>...</td>\n",
       "      <td>...</td>\n",
       "      <td>...</td>\n",
       "      <td>...</td>\n",
       "    </tr>\n",
       "    <tr>\n",
       "      <th>8571</th>\n",
       "      <td>Glenn Beck Endorses Ted Cruz In A Series Of B...</td>\n",
       "      <td>it s a bromance for the ages  one that may go ...</td>\n",
       "      <td>News</td>\n",
       "      <td>January 23, 2016</td>\n",
       "      <td>Fake</td>\n",
       "    </tr>\n",
       "    <tr>\n",
       "      <th>8376</th>\n",
       "      <td>Elizabeth Warren Has Some News As To Who She’...</td>\n",
       "      <td>if there s one person who is loved by all in t...</td>\n",
       "      <td>News</td>\n",
       "      <td>February 2, 2016</td>\n",
       "      <td>Fake</td>\n",
       "    </tr>\n",
       "    <tr>\n",
       "      <th>5063</th>\n",
       "      <td>Two Muslim Men Shot To Death In Queens, Local...</td>\n",
       "      <td>two muslim men were shot to death in broad day...</td>\n",
       "      <td>News</td>\n",
       "      <td>August 13, 2016</td>\n",
       "      <td>Fake</td>\n",
       "    </tr>\n",
       "    <tr>\n",
       "      <th>10201</th>\n",
       "      <td>WHY THE HUGE 1.1 MILLION DROP in Food Stamp En...</td>\n",
       "      <td>over  million people have dropped off of the f...</td>\n",
       "      <td>politics</td>\n",
       "      <td>Aug 8, 2017</td>\n",
       "      <td>Fake</td>\n",
       "    </tr>\n",
       "    <tr>\n",
       "      <th>13002</th>\n",
       "      <td>Arab League to hold emergency meeting on Jerus...</td>\n",
       "      <td>cairo  reuters    the arab league is to hold a...</td>\n",
       "      <td>worldnews</td>\n",
       "      <td>December 6, 2017</td>\n",
       "      <td>Real</td>\n",
       "    </tr>\n",
       "  </tbody>\n",
       "</table>\n",
       "<p>100 rows × 5 columns</p>\n",
       "</div>"
      ],
      "text/plain": [
       "                                                   title  \\\n",
       "6424   Trump to Republicans: Act swiftly to replace O...   \n",
       "11063  BOOM! WATCH SEAN HANNITY Hit Back At Bogus Sex...   \n",
       "11112  Senator Markey places hold on Obama's nominee ...   \n",
       "13875  French minister believes banks had 'good reaso...   \n",
       "15532  Saudi-led forces close air, sea and land acces...   \n",
       "...                                                  ...   \n",
       "8571    Glenn Beck Endorses Ted Cruz In A Series Of B...   \n",
       "8376    Elizabeth Warren Has Some News As To Who She’...   \n",
       "5063    Two Muslim Men Shot To Death In Queens, Local...   \n",
       "10201  WHY THE HUGE 1.1 MILLION DROP in Food Stamp En...   \n",
       "13002  Arab League to hold emergency meeting on Jerus...   \n",
       "\n",
       "                                                    text       subject  \\\n",
       "6424   washington  reuters    u s  president elect do...  politicsNews   \n",
       "11063  thank you sean hannity for hitting back at the...      politics   \n",
       "11112   reuters    democratic u s  senator edward mar...  politicsNews   \n",
       "13875  paris  reuters    french finance minister brun...     worldnews   \n",
       "15532  dubai  reuters    the saudi led military coali...     worldnews   \n",
       "...                                                  ...           ...   \n",
       "8571   it s a bromance for the ages  one that may go ...          News   \n",
       "8376   if there s one person who is loved by all in t...          News   \n",
       "5063   two muslim men were shot to death in broad day...          News   \n",
       "10201  over  million people have dropped off of the f...      politics   \n",
       "13002  cairo  reuters    the arab league is to hold a...     worldnews   \n",
       "\n",
       "                     date real/fake  \n",
       "6424    January 10, 2017       Real  \n",
       "11063        Apr 24, 2017      Fake  \n",
       "11112   January 25, 2016       Real  \n",
       "13875  November 25, 2017       Real  \n",
       "15532   November 6, 2017       Real  \n",
       "...                   ...       ...  \n",
       "8571     January 23, 2016      Fake  \n",
       "8376     February 2, 2016      Fake  \n",
       "5063      August 13, 2016      Fake  \n",
       "10201         Aug 8, 2017      Fake  \n",
       "13002   December 6, 2017       Real  \n",
       "\n",
       "[100 rows x 5 columns]"
      ]
     },
     "execution_count": 129,
     "metadata": {},
     "output_type": "execute_result"
    }
   ],
   "source": [
    "df.head(100)"
   ]
  },
  {
   "cell_type": "code",
   "execution_count": 130,
   "metadata": {},
   "outputs": [
    {
     "data": {
      "text/plain": [
       "(44846, 5)"
      ]
     },
     "execution_count": 130,
     "metadata": {},
     "output_type": "execute_result"
    }
   ],
   "source": [
    "df.shape"
   ]
  },
  {
   "cell_type": "code",
   "execution_count": 131,
   "metadata": {},
   "outputs": [],
   "source": [
    "def word(subject):\n",
    "    subject = subject.lower()\n",
    "    return subject\n",
    "#converts all data in column subject to lowercase"
   ]
  },
  {
   "cell_type": "code",
   "execution_count": 132,
   "metadata": {},
   "outputs": [],
   "source": [
    "df[\"subject\"] = df[\"subject\"].apply(word)"
   ]
  },
  {
   "cell_type": "code",
   "execution_count": 133,
   "metadata": {},
   "outputs": [
    {
     "data": {
      "text/html": [
       "<div>\n",
       "<style scoped>\n",
       "    .dataframe tbody tr th:only-of-type {\n",
       "        vertical-align: middle;\n",
       "    }\n",
       "\n",
       "    .dataframe tbody tr th {\n",
       "        vertical-align: top;\n",
       "    }\n",
       "\n",
       "    .dataframe thead th {\n",
       "        text-align: right;\n",
       "    }\n",
       "</style>\n",
       "<table border=\"1\" class=\"dataframe\">\n",
       "  <thead>\n",
       "    <tr style=\"text-align: right;\">\n",
       "      <th></th>\n",
       "      <th>title</th>\n",
       "      <th>text</th>\n",
       "      <th>subject</th>\n",
       "      <th>date</th>\n",
       "      <th>real/fake</th>\n",
       "    </tr>\n",
       "  </thead>\n",
       "  <tbody>\n",
       "    <tr>\n",
       "      <th>6424</th>\n",
       "      <td>Trump to Republicans: Act swiftly to replace O...</td>\n",
       "      <td>washington  reuters    u s  president elect do...</td>\n",
       "      <td>politicsnews</td>\n",
       "      <td>January 10, 2017</td>\n",
       "      <td>Real</td>\n",
       "    </tr>\n",
       "    <tr>\n",
       "      <th>11063</th>\n",
       "      <td>BOOM! WATCH SEAN HANNITY Hit Back At Bogus Sex...</td>\n",
       "      <td>thank you sean hannity for hitting back at the...</td>\n",
       "      <td>politics</td>\n",
       "      <td>Apr 24, 2017</td>\n",
       "      <td>Fake</td>\n",
       "    </tr>\n",
       "    <tr>\n",
       "      <th>11112</th>\n",
       "      <td>Senator Markey places hold on Obama's nominee ...</td>\n",
       "      <td>reuters    democratic u s  senator edward mar...</td>\n",
       "      <td>politicsnews</td>\n",
       "      <td>January 25, 2016</td>\n",
       "      <td>Real</td>\n",
       "    </tr>\n",
       "    <tr>\n",
       "      <th>13875</th>\n",
       "      <td>French minister believes banks had 'good reaso...</td>\n",
       "      <td>paris  reuters    french finance minister brun...</td>\n",
       "      <td>worldnews</td>\n",
       "      <td>November 25, 2017</td>\n",
       "      <td>Real</td>\n",
       "    </tr>\n",
       "    <tr>\n",
       "      <th>15532</th>\n",
       "      <td>Saudi-led forces close air, sea and land acces...</td>\n",
       "      <td>dubai  reuters    the saudi led military coali...</td>\n",
       "      <td>worldnews</td>\n",
       "      <td>November 6, 2017</td>\n",
       "      <td>Real</td>\n",
       "    </tr>\n",
       "    <tr>\n",
       "      <th>13814</th>\n",
       "      <td>Honduras president with strong lead in TV stat...</td>\n",
       "      <td>tegucigalpa  reuters    an exit poll by a hond...</td>\n",
       "      <td>worldnews</td>\n",
       "      <td>November 27, 2017</td>\n",
       "      <td>Real</td>\n",
       "    </tr>\n",
       "    <tr>\n",
       "      <th>6238</th>\n",
       "      <td>U.S. Supreme Court justices fret over offensiv...</td>\n",
       "      <td>washington  reuters    supreme court justices ...</td>\n",
       "      <td>politicsnews</td>\n",
       "      <td>January 18, 2017</td>\n",
       "      <td>Real</td>\n",
       "    </tr>\n",
       "    <tr>\n",
       "      <th>5709</th>\n",
       "      <td>U.S. watchdog agency to review implementation ...</td>\n",
       "      <td>washington  reuters    a watchdog agency at th...</td>\n",
       "      <td>politicsnews</td>\n",
       "      <td>February 2, 2017</td>\n",
       "      <td>Real</td>\n",
       "    </tr>\n",
       "    <tr>\n",
       "      <th>4606</th>\n",
       "      <td>U.S. to review energy royalty rates on federal...</td>\n",
       "      <td>washington  reuters    the u s  interior depar...</td>\n",
       "      <td>politicsnews</td>\n",
       "      <td>March 29, 2017</td>\n",
       "      <td>Real</td>\n",
       "    </tr>\n",
       "    <tr>\n",
       "      <th>19241</th>\n",
       "      <td>INSANE ANTI-TRUMP PROTESTER Lights Trump Suppo...</td>\n",
       "      <td>the inauguration was a beautiful day full of g...</td>\n",
       "      <td>left-news</td>\n",
       "      <td>Jan 23, 2017</td>\n",
       "      <td>Fake</td>\n",
       "    </tr>\n",
       "  </tbody>\n",
       "</table>\n",
       "</div>"
      ],
      "text/plain": [
       "                                                   title  \\\n",
       "6424   Trump to Republicans: Act swiftly to replace O...   \n",
       "11063  BOOM! WATCH SEAN HANNITY Hit Back At Bogus Sex...   \n",
       "11112  Senator Markey places hold on Obama's nominee ...   \n",
       "13875  French minister believes banks had 'good reaso...   \n",
       "15532  Saudi-led forces close air, sea and land acces...   \n",
       "13814  Honduras president with strong lead in TV stat...   \n",
       "6238   U.S. Supreme Court justices fret over offensiv...   \n",
       "5709   U.S. watchdog agency to review implementation ...   \n",
       "4606   U.S. to review energy royalty rates on federal...   \n",
       "19241  INSANE ANTI-TRUMP PROTESTER Lights Trump Suppo...   \n",
       "\n",
       "                                                    text       subject  \\\n",
       "6424   washington  reuters    u s  president elect do...  politicsnews   \n",
       "11063  thank you sean hannity for hitting back at the...      politics   \n",
       "11112   reuters    democratic u s  senator edward mar...  politicsnews   \n",
       "13875  paris  reuters    french finance minister brun...     worldnews   \n",
       "15532  dubai  reuters    the saudi led military coali...     worldnews   \n",
       "13814  tegucigalpa  reuters    an exit poll by a hond...     worldnews   \n",
       "6238   washington  reuters    supreme court justices ...  politicsnews   \n",
       "5709   washington  reuters    a watchdog agency at th...  politicsnews   \n",
       "4606   washington  reuters    the u s  interior depar...  politicsnews   \n",
       "19241  the inauguration was a beautiful day full of g...     left-news   \n",
       "\n",
       "                     date real/fake  \n",
       "6424    January 10, 2017       Real  \n",
       "11063        Apr 24, 2017      Fake  \n",
       "11112   January 25, 2016       Real  \n",
       "13875  November 25, 2017       Real  \n",
       "15532   November 6, 2017       Real  \n",
       "13814  November 27, 2017       Real  \n",
       "6238    January 18, 2017       Real  \n",
       "5709    February 2, 2017       Real  \n",
       "4606      March 29, 2017       Real  \n",
       "19241        Jan 23, 2017      Fake  "
      ]
     },
     "execution_count": 133,
     "metadata": {},
     "output_type": "execute_result"
    }
   ],
   "source": [
    "df.head(10)"
   ]
  },
  {
   "cell_type": "code",
   "execution_count": 134,
   "metadata": {},
   "outputs": [
    {
     "data": {
      "text/plain": [
       "(44846, 5)"
      ]
     },
     "execution_count": 134,
     "metadata": {},
     "output_type": "execute_result"
    }
   ],
   "source": [
    "df.shape"
   ]
  },
  {
   "cell_type": "code",
   "execution_count": 135,
   "metadata": {},
   "outputs": [
    {
     "data": {
      "text/plain": [
       "title        0\n",
       "text         0\n",
       "subject      0\n",
       "date         0\n",
       "real/fake    0\n",
       "dtype: int64"
      ]
     },
     "execution_count": 135,
     "metadata": {},
     "output_type": "execute_result"
    }
   ],
   "source": [
    "df.isnull().sum()"
   ]
  },
  {
   "cell_type": "code",
   "execution_count": 136,
   "metadata": {},
   "outputs": [],
   "source": [
    "df = df.drop_duplicates(subset = ['text','title','date'], keep = 'last').reset_index(drop = True)\n",
    "#when drop=false(default value) a new dataframe is returned\n",
    "#keep=last indicates that while dropping the duplicates last one is kept\n",
    "#function of pandas"
   ]
  },
  {
   "cell_type": "code",
   "execution_count": 137,
   "metadata": {},
   "outputs": [
    {
     "data": {
      "text/html": [
       "<div>\n",
       "<style scoped>\n",
       "    .dataframe tbody tr th:only-of-type {\n",
       "        vertical-align: middle;\n",
       "    }\n",
       "\n",
       "    .dataframe tbody tr th {\n",
       "        vertical-align: top;\n",
       "    }\n",
       "\n",
       "    .dataframe thead th {\n",
       "        text-align: right;\n",
       "    }\n",
       "</style>\n",
       "<table border=\"1\" class=\"dataframe\">\n",
       "  <thead>\n",
       "    <tr style=\"text-align: right;\">\n",
       "      <th></th>\n",
       "      <th>title</th>\n",
       "      <th>text</th>\n",
       "      <th>subject</th>\n",
       "      <th>date</th>\n",
       "      <th>real/fake</th>\n",
       "    </tr>\n",
       "  </thead>\n",
       "  <tbody>\n",
       "    <tr>\n",
       "      <th>0</th>\n",
       "      <td>Trump to Republicans: Act swiftly to replace O...</td>\n",
       "      <td>washington  reuters    u s  president elect do...</td>\n",
       "      <td>politicsnews</td>\n",
       "      <td>January 10, 2017</td>\n",
       "      <td>Real</td>\n",
       "    </tr>\n",
       "    <tr>\n",
       "      <th>1</th>\n",
       "      <td>Senator Markey places hold on Obama's nominee ...</td>\n",
       "      <td>reuters    democratic u s  senator edward mar...</td>\n",
       "      <td>politicsnews</td>\n",
       "      <td>January 25, 2016</td>\n",
       "      <td>Real</td>\n",
       "    </tr>\n",
       "    <tr>\n",
       "      <th>2</th>\n",
       "      <td>French minister believes banks had 'good reaso...</td>\n",
       "      <td>paris  reuters    french finance minister brun...</td>\n",
       "      <td>worldnews</td>\n",
       "      <td>November 25, 2017</td>\n",
       "      <td>Real</td>\n",
       "    </tr>\n",
       "    <tr>\n",
       "      <th>3</th>\n",
       "      <td>Saudi-led forces close air, sea and land acces...</td>\n",
       "      <td>dubai  reuters    the saudi led military coali...</td>\n",
       "      <td>worldnews</td>\n",
       "      <td>November 6, 2017</td>\n",
       "      <td>Real</td>\n",
       "    </tr>\n",
       "    <tr>\n",
       "      <th>4</th>\n",
       "      <td>Honduras president with strong lead in TV stat...</td>\n",
       "      <td>tegucigalpa  reuters    an exit poll by a hond...</td>\n",
       "      <td>worldnews</td>\n",
       "      <td>November 27, 2017</td>\n",
       "      <td>Real</td>\n",
       "    </tr>\n",
       "    <tr>\n",
       "      <th>...</th>\n",
       "      <td>...</td>\n",
       "      <td>...</td>\n",
       "      <td>...</td>\n",
       "      <td>...</td>\n",
       "      <td>...</td>\n",
       "    </tr>\n",
       "    <tr>\n",
       "      <th>38824</th>\n",
       "      <td>BOOM! LIBERAL COLUMNIST Gets DESTROYED By Tuck...</td>\n",
       "      <td></td>\n",
       "      <td>left-news</td>\n",
       "      <td>Nov 18, 2016</td>\n",
       "      <td>Fake</td>\n",
       "    </tr>\n",
       "    <tr>\n",
       "      <th>38825</th>\n",
       "      <td>Britain accelerates Brexit plans, divorce talk...</td>\n",
       "      <td>london bratislava  reuters    britain is accel...</td>\n",
       "      <td>worldnews</td>\n",
       "      <td>October 31, 2017</td>\n",
       "      <td>Real</td>\n",
       "    </tr>\n",
       "    <tr>\n",
       "      <th>38826</th>\n",
       "      <td>Three vehicles torched in long-running South A...</td>\n",
       "      <td>johannesburg  reuters    one uber vehicle and ...</td>\n",
       "      <td>worldnews</td>\n",
       "      <td>September 8, 2017</td>\n",
       "      <td>Real</td>\n",
       "    </tr>\n",
       "    <tr>\n",
       "      <th>38827</th>\n",
       "      <td>HILLARY’S STATE DEPARTMENT DESTROYED 13 Of Her...</td>\n",
       "      <td>i thought it would be easier to carry just on...</td>\n",
       "      <td>politics</td>\n",
       "      <td>Sep 3, 2016</td>\n",
       "      <td>Fake</td>\n",
       "    </tr>\n",
       "    <tr>\n",
       "      <th>38828</th>\n",
       "      <td>Disturbing Uncovered Emails From Huma Abedin B...</td>\n",
       "      <td>how quickly the democrats have forgotten about...</td>\n",
       "      <td>left-news</td>\n",
       "      <td>Nov 17, 2015</td>\n",
       "      <td>Fake</td>\n",
       "    </tr>\n",
       "  </tbody>\n",
       "</table>\n",
       "<p>38829 rows × 5 columns</p>\n",
       "</div>"
      ],
      "text/plain": [
       "                                                   title  \\\n",
       "0      Trump to Republicans: Act swiftly to replace O...   \n",
       "1      Senator Markey places hold on Obama's nominee ...   \n",
       "2      French minister believes banks had 'good reaso...   \n",
       "3      Saudi-led forces close air, sea and land acces...   \n",
       "4      Honduras president with strong lead in TV stat...   \n",
       "...                                                  ...   \n",
       "38824  BOOM! LIBERAL COLUMNIST Gets DESTROYED By Tuck...   \n",
       "38825  Britain accelerates Brexit plans, divorce talk...   \n",
       "38826  Three vehicles torched in long-running South A...   \n",
       "38827  HILLARY’S STATE DEPARTMENT DESTROYED 13 Of Her...   \n",
       "38828  Disturbing Uncovered Emails From Huma Abedin B...   \n",
       "\n",
       "                                                    text       subject  \\\n",
       "0      washington  reuters    u s  president elect do...  politicsnews   \n",
       "1       reuters    democratic u s  senator edward mar...  politicsnews   \n",
       "2      paris  reuters    french finance minister brun...     worldnews   \n",
       "3      dubai  reuters    the saudi led military coali...     worldnews   \n",
       "4      tegucigalpa  reuters    an exit poll by a hond...     worldnews   \n",
       "...                                                  ...           ...   \n",
       "38824                                                        left-news   \n",
       "38825  london bratislava  reuters    britain is accel...     worldnews   \n",
       "38826  johannesburg  reuters    one uber vehicle and ...     worldnews   \n",
       "38827   i thought it would be easier to carry just on...      politics   \n",
       "38828  how quickly the democrats have forgotten about...     left-news   \n",
       "\n",
       "                     date real/fake  \n",
       "0       January 10, 2017       Real  \n",
       "1       January 25, 2016       Real  \n",
       "2      November 25, 2017       Real  \n",
       "3       November 6, 2017       Real  \n",
       "4      November 27, 2017       Real  \n",
       "...                   ...       ...  \n",
       "38824        Nov 18, 2016      Fake  \n",
       "38825   October 31, 2017       Real  \n",
       "38826  September 8, 2017       Real  \n",
       "38827         Sep 3, 2016      Fake  \n",
       "38828        Nov 17, 2015      Fake  \n",
       "\n",
       "[38829 rows x 5 columns]"
      ]
     },
     "execution_count": 137,
     "metadata": {},
     "output_type": "execute_result"
    }
   ],
   "source": [
    "df"
   ]
  },
  {
   "cell_type": "code",
   "execution_count": 138,
   "metadata": {},
   "outputs": [
    {
     "data": {
      "text/plain": [
       "(38829, 5)"
      ]
     },
     "execution_count": 138,
     "metadata": {},
     "output_type": "execute_result"
    }
   ],
   "source": [
    "df.shape"
   ]
  },
  {
   "cell_type": "code",
   "execution_count": 139,
   "metadata": {},
   "outputs": [],
   "source": [
    "df[\"date\"]=df.date.str.replace(' ','-')"
   ]
  },
  {
   "cell_type": "code",
   "execution_count": 140,
   "metadata": {},
   "outputs": [
    {
     "data": {
      "text/html": [
       "<div>\n",
       "<style scoped>\n",
       "    .dataframe tbody tr th:only-of-type {\n",
       "        vertical-align: middle;\n",
       "    }\n",
       "\n",
       "    .dataframe tbody tr th {\n",
       "        vertical-align: top;\n",
       "    }\n",
       "\n",
       "    .dataframe thead th {\n",
       "        text-align: right;\n",
       "    }\n",
       "</style>\n",
       "<table border=\"1\" class=\"dataframe\">\n",
       "  <thead>\n",
       "    <tr style=\"text-align: right;\">\n",
       "      <th></th>\n",
       "      <th>title</th>\n",
       "      <th>text</th>\n",
       "      <th>subject</th>\n",
       "      <th>date</th>\n",
       "      <th>real/fake</th>\n",
       "    </tr>\n",
       "  </thead>\n",
       "  <tbody>\n",
       "    <tr>\n",
       "      <th>0</th>\n",
       "      <td>Trump to Republicans: Act swiftly to replace O...</td>\n",
       "      <td>washington  reuters    u s  president elect do...</td>\n",
       "      <td>politicsnews</td>\n",
       "      <td>January-10,-2017-</td>\n",
       "      <td>Real</td>\n",
       "    </tr>\n",
       "    <tr>\n",
       "      <th>1</th>\n",
       "      <td>Senator Markey places hold on Obama's nominee ...</td>\n",
       "      <td>reuters    democratic u s  senator edward mar...</td>\n",
       "      <td>politicsnews</td>\n",
       "      <td>January-25,-2016-</td>\n",
       "      <td>Real</td>\n",
       "    </tr>\n",
       "    <tr>\n",
       "      <th>2</th>\n",
       "      <td>French minister believes banks had 'good reaso...</td>\n",
       "      <td>paris  reuters    french finance minister brun...</td>\n",
       "      <td>worldnews</td>\n",
       "      <td>November-25,-2017-</td>\n",
       "      <td>Real</td>\n",
       "    </tr>\n",
       "    <tr>\n",
       "      <th>3</th>\n",
       "      <td>Saudi-led forces close air, sea and land acces...</td>\n",
       "      <td>dubai  reuters    the saudi led military coali...</td>\n",
       "      <td>worldnews</td>\n",
       "      <td>November-6,-2017-</td>\n",
       "      <td>Real</td>\n",
       "    </tr>\n",
       "    <tr>\n",
       "      <th>4</th>\n",
       "      <td>Honduras president with strong lead in TV stat...</td>\n",
       "      <td>tegucigalpa  reuters    an exit poll by a hond...</td>\n",
       "      <td>worldnews</td>\n",
       "      <td>November-27,-2017-</td>\n",
       "      <td>Real</td>\n",
       "    </tr>\n",
       "    <tr>\n",
       "      <th>5</th>\n",
       "      <td>U.S. Supreme Court justices fret over offensiv...</td>\n",
       "      <td>washington  reuters    supreme court justices ...</td>\n",
       "      <td>politicsnews</td>\n",
       "      <td>January-18,-2017-</td>\n",
       "      <td>Real</td>\n",
       "    </tr>\n",
       "    <tr>\n",
       "      <th>6</th>\n",
       "      <td>U.S. watchdog agency to review implementation ...</td>\n",
       "      <td>washington  reuters    a watchdog agency at th...</td>\n",
       "      <td>politicsnews</td>\n",
       "      <td>February-2,-2017-</td>\n",
       "      <td>Real</td>\n",
       "    </tr>\n",
       "    <tr>\n",
       "      <th>7</th>\n",
       "      <td>U.S. to review energy royalty rates on federal...</td>\n",
       "      <td>washington  reuters    the u s  interior depar...</td>\n",
       "      <td>politicsnews</td>\n",
       "      <td>March-29,-2017-</td>\n",
       "      <td>Real</td>\n",
       "    </tr>\n",
       "    <tr>\n",
       "      <th>8</th>\n",
       "      <td>Coretta Scott King Wrote A Letter Opposing Je...</td>\n",
       "      <td>this is how far republicans will go to protect...</td>\n",
       "      <td>news</td>\n",
       "      <td>January-10,-2017</td>\n",
       "      <td>Fake</td>\n",
       "    </tr>\n",
       "    <tr>\n",
       "      <th>9</th>\n",
       "      <td>Republicans BETRAY Paul Ryan And Mitch McConn...</td>\n",
       "      <td>many republicans in congressional leadership a...</td>\n",
       "      <td>news</td>\n",
       "      <td>January-10,-2017</td>\n",
       "      <td>Fake</td>\n",
       "    </tr>\n",
       "  </tbody>\n",
       "</table>\n",
       "</div>"
      ],
      "text/plain": [
       "                                               title  \\\n",
       "0  Trump to Republicans: Act swiftly to replace O...   \n",
       "1  Senator Markey places hold on Obama's nominee ...   \n",
       "2  French minister believes banks had 'good reaso...   \n",
       "3  Saudi-led forces close air, sea and land acces...   \n",
       "4  Honduras president with strong lead in TV stat...   \n",
       "5  U.S. Supreme Court justices fret over offensiv...   \n",
       "6  U.S. watchdog agency to review implementation ...   \n",
       "7  U.S. to review energy royalty rates on federal...   \n",
       "8   Coretta Scott King Wrote A Letter Opposing Je...   \n",
       "9   Republicans BETRAY Paul Ryan And Mitch McConn...   \n",
       "\n",
       "                                                text       subject  \\\n",
       "0  washington  reuters    u s  president elect do...  politicsnews   \n",
       "1   reuters    democratic u s  senator edward mar...  politicsnews   \n",
       "2  paris  reuters    french finance minister brun...     worldnews   \n",
       "3  dubai  reuters    the saudi led military coali...     worldnews   \n",
       "4  tegucigalpa  reuters    an exit poll by a hond...     worldnews   \n",
       "5  washington  reuters    supreme court justices ...  politicsnews   \n",
       "6  washington  reuters    a watchdog agency at th...  politicsnews   \n",
       "7  washington  reuters    the u s  interior depar...  politicsnews   \n",
       "8  this is how far republicans will go to protect...          news   \n",
       "9  many republicans in congressional leadership a...          news   \n",
       "\n",
       "                 date real/fake  \n",
       "0   January-10,-2017-      Real  \n",
       "1   January-25,-2016-      Real  \n",
       "2  November-25,-2017-      Real  \n",
       "3   November-6,-2017-      Real  \n",
       "4  November-27,-2017-      Real  \n",
       "5   January-18,-2017-      Real  \n",
       "6   February-2,-2017-      Real  \n",
       "7     March-29,-2017-      Real  \n",
       "8    January-10,-2017      Fake  \n",
       "9    January-10,-2017      Fake  "
      ]
     },
     "execution_count": 140,
     "metadata": {},
     "output_type": "execute_result"
    }
   ],
   "source": [
    "df.head(10)"
   ]
  },
  {
   "cell_type": "code",
   "execution_count": 141,
   "metadata": {},
   "outputs": [],
   "source": [
    "df[\"date\"]=df.date.str.replace(',','')"
   ]
  },
  {
   "cell_type": "code",
   "execution_count": 142,
   "metadata": {},
   "outputs": [
    {
     "data": {
      "text/html": [
       "<div>\n",
       "<style scoped>\n",
       "    .dataframe tbody tr th:only-of-type {\n",
       "        vertical-align: middle;\n",
       "    }\n",
       "\n",
       "    .dataframe tbody tr th {\n",
       "        vertical-align: top;\n",
       "    }\n",
       "\n",
       "    .dataframe thead th {\n",
       "        text-align: right;\n",
       "    }\n",
       "</style>\n",
       "<table border=\"1\" class=\"dataframe\">\n",
       "  <thead>\n",
       "    <tr style=\"text-align: right;\">\n",
       "      <th></th>\n",
       "      <th>title</th>\n",
       "      <th>text</th>\n",
       "      <th>subject</th>\n",
       "      <th>date</th>\n",
       "      <th>real/fake</th>\n",
       "    </tr>\n",
       "  </thead>\n",
       "  <tbody>\n",
       "    <tr>\n",
       "      <th>0</th>\n",
       "      <td>Trump to Republicans: Act swiftly to replace O...</td>\n",
       "      <td>washington  reuters    u s  president elect do...</td>\n",
       "      <td>politicsnews</td>\n",
       "      <td>January-10-2017-</td>\n",
       "      <td>Real</td>\n",
       "    </tr>\n",
       "    <tr>\n",
       "      <th>1</th>\n",
       "      <td>Senator Markey places hold on Obama's nominee ...</td>\n",
       "      <td>reuters    democratic u s  senator edward mar...</td>\n",
       "      <td>politicsnews</td>\n",
       "      <td>January-25-2016-</td>\n",
       "      <td>Real</td>\n",
       "    </tr>\n",
       "    <tr>\n",
       "      <th>2</th>\n",
       "      <td>French minister believes banks had 'good reaso...</td>\n",
       "      <td>paris  reuters    french finance minister brun...</td>\n",
       "      <td>worldnews</td>\n",
       "      <td>November-25-2017-</td>\n",
       "      <td>Real</td>\n",
       "    </tr>\n",
       "    <tr>\n",
       "      <th>3</th>\n",
       "      <td>Saudi-led forces close air, sea and land acces...</td>\n",
       "      <td>dubai  reuters    the saudi led military coali...</td>\n",
       "      <td>worldnews</td>\n",
       "      <td>November-6-2017-</td>\n",
       "      <td>Real</td>\n",
       "    </tr>\n",
       "    <tr>\n",
       "      <th>4</th>\n",
       "      <td>Honduras president with strong lead in TV stat...</td>\n",
       "      <td>tegucigalpa  reuters    an exit poll by a hond...</td>\n",
       "      <td>worldnews</td>\n",
       "      <td>November-27-2017-</td>\n",
       "      <td>Real</td>\n",
       "    </tr>\n",
       "    <tr>\n",
       "      <th>...</th>\n",
       "      <td>...</td>\n",
       "      <td>...</td>\n",
       "      <td>...</td>\n",
       "      <td>...</td>\n",
       "      <td>...</td>\n",
       "    </tr>\n",
       "    <tr>\n",
       "      <th>95</th>\n",
       "      <td>In Illinois, partisan politics send budget bat...</td>\n",
       "      <td>chicago  reuters    any hope for a break in il...</td>\n",
       "      <td>politicsnews</td>\n",
       "      <td>May-31-2017-</td>\n",
       "      <td>Real</td>\n",
       "    </tr>\n",
       "    <tr>\n",
       "      <th>96</th>\n",
       "      <td>A majority of adults disagree with Trump on fi...</td>\n",
       "      <td>new york  reuters    a majority of americans d...</td>\n",
       "      <td>politicsnews</td>\n",
       "      <td>September-26-2017-</td>\n",
       "      <td>Real</td>\n",
       "    </tr>\n",
       "    <tr>\n",
       "      <th>97</th>\n",
       "      <td>Obama to deliver farewell address in Chicago o...</td>\n",
       "      <td>honolulu  reuters    u s  president barack oba...</td>\n",
       "      <td>politicsnews</td>\n",
       "      <td>January-2-2017-</td>\n",
       "      <td>Real</td>\n",
       "    </tr>\n",
       "    <tr>\n",
       "      <th>98</th>\n",
       "      <td>Trump says he trusts Putin's denials of electi...</td>\n",
       "      <td>danang  vietnam  reuters    president donald t...</td>\n",
       "      <td>worldnews</td>\n",
       "      <td>November-11-2017-</td>\n",
       "      <td>Real</td>\n",
       "    </tr>\n",
       "    <tr>\n",
       "      <th>99</th>\n",
       "      <td>Louisiana governor urges tax hike, tapping res...</td>\n",
       "      <td>reuters    louisiana governor john bel edward...</td>\n",
       "      <td>politicsnews</td>\n",
       "      <td>January-20-2016-</td>\n",
       "      <td>Real</td>\n",
       "    </tr>\n",
       "  </tbody>\n",
       "</table>\n",
       "<p>100 rows × 5 columns</p>\n",
       "</div>"
      ],
      "text/plain": [
       "                                                title  \\\n",
       "0   Trump to Republicans: Act swiftly to replace O...   \n",
       "1   Senator Markey places hold on Obama's nominee ...   \n",
       "2   French minister believes banks had 'good reaso...   \n",
       "3   Saudi-led forces close air, sea and land acces...   \n",
       "4   Honduras president with strong lead in TV stat...   \n",
       "..                                                ...   \n",
       "95  In Illinois, partisan politics send budget bat...   \n",
       "96  A majority of adults disagree with Trump on fi...   \n",
       "97  Obama to deliver farewell address in Chicago o...   \n",
       "98  Trump says he trusts Putin's denials of electi...   \n",
       "99  Louisiana governor urges tax hike, tapping res...   \n",
       "\n",
       "                                                 text       subject  \\\n",
       "0   washington  reuters    u s  president elect do...  politicsnews   \n",
       "1    reuters    democratic u s  senator edward mar...  politicsnews   \n",
       "2   paris  reuters    french finance minister brun...     worldnews   \n",
       "3   dubai  reuters    the saudi led military coali...     worldnews   \n",
       "4   tegucigalpa  reuters    an exit poll by a hond...     worldnews   \n",
       "..                                                ...           ...   \n",
       "95  chicago  reuters    any hope for a break in il...  politicsnews   \n",
       "96  new york  reuters    a majority of americans d...  politicsnews   \n",
       "97  honolulu  reuters    u s  president barack oba...  politicsnews   \n",
       "98  danang  vietnam  reuters    president donald t...     worldnews   \n",
       "99   reuters    louisiana governor john bel edward...  politicsnews   \n",
       "\n",
       "                  date real/fake  \n",
       "0     January-10-2017-      Real  \n",
       "1     January-25-2016-      Real  \n",
       "2    November-25-2017-      Real  \n",
       "3     November-6-2017-      Real  \n",
       "4    November-27-2017-      Real  \n",
       "..                 ...       ...  \n",
       "95        May-31-2017-      Real  \n",
       "96  September-26-2017-      Real  \n",
       "97     January-2-2017-      Real  \n",
       "98   November-11-2017-      Real  \n",
       "99    January-20-2016-      Real  \n",
       "\n",
       "[100 rows x 5 columns]"
      ]
     },
     "execution_count": 142,
     "metadata": {},
     "output_type": "execute_result"
    }
   ],
   "source": [
    "df.head(100)"
   ]
  },
  {
   "cell_type": "code",
   "execution_count": 143,
   "metadata": {},
   "outputs": [],
   "source": [
    "df[\"date\"]=df.date.str.replace(r'[-]$','', regex=True)\n",
    "#regex=true indicates to replace for all regular expressions"
   ]
  },
  {
   "cell_type": "code",
   "execution_count": 144,
   "metadata": {},
   "outputs": [
    {
     "data": {
      "text/html": [
       "<div>\n",
       "<style scoped>\n",
       "    .dataframe tbody tr th:only-of-type {\n",
       "        vertical-align: middle;\n",
       "    }\n",
       "\n",
       "    .dataframe tbody tr th {\n",
       "        vertical-align: top;\n",
       "    }\n",
       "\n",
       "    .dataframe thead th {\n",
       "        text-align: right;\n",
       "    }\n",
       "</style>\n",
       "<table border=\"1\" class=\"dataframe\">\n",
       "  <thead>\n",
       "    <tr style=\"text-align: right;\">\n",
       "      <th></th>\n",
       "      <th>title</th>\n",
       "      <th>text</th>\n",
       "      <th>subject</th>\n",
       "      <th>date</th>\n",
       "      <th>real/fake</th>\n",
       "    </tr>\n",
       "  </thead>\n",
       "  <tbody>\n",
       "    <tr>\n",
       "      <th>0</th>\n",
       "      <td>Trump to Republicans: Act swiftly to replace O...</td>\n",
       "      <td>washington  reuters    u s  president elect do...</td>\n",
       "      <td>politicsnews</td>\n",
       "      <td>January-10-2017</td>\n",
       "      <td>Real</td>\n",
       "    </tr>\n",
       "    <tr>\n",
       "      <th>1</th>\n",
       "      <td>Senator Markey places hold on Obama's nominee ...</td>\n",
       "      <td>reuters    democratic u s  senator edward mar...</td>\n",
       "      <td>politicsnews</td>\n",
       "      <td>January-25-2016</td>\n",
       "      <td>Real</td>\n",
       "    </tr>\n",
       "    <tr>\n",
       "      <th>2</th>\n",
       "      <td>French minister believes banks had 'good reaso...</td>\n",
       "      <td>paris  reuters    french finance minister brun...</td>\n",
       "      <td>worldnews</td>\n",
       "      <td>November-25-2017</td>\n",
       "      <td>Real</td>\n",
       "    </tr>\n",
       "    <tr>\n",
       "      <th>3</th>\n",
       "      <td>Saudi-led forces close air, sea and land acces...</td>\n",
       "      <td>dubai  reuters    the saudi led military coali...</td>\n",
       "      <td>worldnews</td>\n",
       "      <td>November-6-2017</td>\n",
       "      <td>Real</td>\n",
       "    </tr>\n",
       "    <tr>\n",
       "      <th>4</th>\n",
       "      <td>Honduras president with strong lead in TV stat...</td>\n",
       "      <td>tegucigalpa  reuters    an exit poll by a hond...</td>\n",
       "      <td>worldnews</td>\n",
       "      <td>November-27-2017</td>\n",
       "      <td>Real</td>\n",
       "    </tr>\n",
       "    <tr>\n",
       "      <th>5</th>\n",
       "      <td>U.S. Supreme Court justices fret over offensiv...</td>\n",
       "      <td>washington  reuters    supreme court justices ...</td>\n",
       "      <td>politicsnews</td>\n",
       "      <td>January-18-2017</td>\n",
       "      <td>Real</td>\n",
       "    </tr>\n",
       "    <tr>\n",
       "      <th>6</th>\n",
       "      <td>U.S. watchdog agency to review implementation ...</td>\n",
       "      <td>washington  reuters    a watchdog agency at th...</td>\n",
       "      <td>politicsnews</td>\n",
       "      <td>February-2-2017</td>\n",
       "      <td>Real</td>\n",
       "    </tr>\n",
       "    <tr>\n",
       "      <th>7</th>\n",
       "      <td>U.S. to review energy royalty rates on federal...</td>\n",
       "      <td>washington  reuters    the u s  interior depar...</td>\n",
       "      <td>politicsnews</td>\n",
       "      <td>March-29-2017</td>\n",
       "      <td>Real</td>\n",
       "    </tr>\n",
       "    <tr>\n",
       "      <th>8</th>\n",
       "      <td>Coretta Scott King Wrote A Letter Opposing Je...</td>\n",
       "      <td>this is how far republicans will go to protect...</td>\n",
       "      <td>news</td>\n",
       "      <td>January-10-2017</td>\n",
       "      <td>Fake</td>\n",
       "    </tr>\n",
       "    <tr>\n",
       "      <th>9</th>\n",
       "      <td>Republicans BETRAY Paul Ryan And Mitch McConn...</td>\n",
       "      <td>many republicans in congressional leadership a...</td>\n",
       "      <td>news</td>\n",
       "      <td>January-10-2017</td>\n",
       "      <td>Fake</td>\n",
       "    </tr>\n",
       "  </tbody>\n",
       "</table>\n",
       "</div>"
      ],
      "text/plain": [
       "                                               title  \\\n",
       "0  Trump to Republicans: Act swiftly to replace O...   \n",
       "1  Senator Markey places hold on Obama's nominee ...   \n",
       "2  French minister believes banks had 'good reaso...   \n",
       "3  Saudi-led forces close air, sea and land acces...   \n",
       "4  Honduras president with strong lead in TV stat...   \n",
       "5  U.S. Supreme Court justices fret over offensiv...   \n",
       "6  U.S. watchdog agency to review implementation ...   \n",
       "7  U.S. to review energy royalty rates on federal...   \n",
       "8   Coretta Scott King Wrote A Letter Opposing Je...   \n",
       "9   Republicans BETRAY Paul Ryan And Mitch McConn...   \n",
       "\n",
       "                                                text       subject  \\\n",
       "0  washington  reuters    u s  president elect do...  politicsnews   \n",
       "1   reuters    democratic u s  senator edward mar...  politicsnews   \n",
       "2  paris  reuters    french finance minister brun...     worldnews   \n",
       "3  dubai  reuters    the saudi led military coali...     worldnews   \n",
       "4  tegucigalpa  reuters    an exit poll by a hond...     worldnews   \n",
       "5  washington  reuters    supreme court justices ...  politicsnews   \n",
       "6  washington  reuters    a watchdog agency at th...  politicsnews   \n",
       "7  washington  reuters    the u s  interior depar...  politicsnews   \n",
       "8  this is how far republicans will go to protect...          news   \n",
       "9  many republicans in congressional leadership a...          news   \n",
       "\n",
       "               date real/fake  \n",
       "0   January-10-2017      Real  \n",
       "1   January-25-2016      Real  \n",
       "2  November-25-2017      Real  \n",
       "3   November-6-2017      Real  \n",
       "4  November-27-2017      Real  \n",
       "5   January-18-2017      Real  \n",
       "6   February-2-2017      Real  \n",
       "7     March-29-2017      Real  \n",
       "8   January-10-2017      Fake  \n",
       "9   January-10-2017      Fake  "
      ]
     },
     "execution_count": 144,
     "metadata": {},
     "output_type": "execute_result"
    }
   ],
   "source": [
    "df.head(10)"
   ]
  },
  {
   "cell_type": "code",
   "execution_count": 145,
   "metadata": {},
   "outputs": [],
   "source": [
    "df[\"date\"]=df.date.str.replace(\"January\",'1')\n",
    "df[\"date\"]=df.date.str.replace(\"February\",'2')\n",
    "df[\"date\"]=df.date.str.replace(\"Febraury\",'2')\n",
    "df[\"date\"]=df.date.str.replace(\"March\",'3')\n",
    "df[\"date\"]=df.date.str.replace(\"April\",'4')\n",
    "df[\"date\"]=df.date.str.replace(\"May\",'5')\n",
    "df[\"date\"]=df.date.str.replace(\"June\",'6')\n",
    "df[\"date\"]=df.date.str.replace(\"July\",'7')\n",
    "df[\"date\"]=df.date.str.replace(\"August\",'8')\n",
    "df[\"date\"]=df.date.str.replace(\"September\",'9')\n",
    "df[\"date\"]=df.date.str.replace(\"October\",'10')\n",
    "df[\"date\"]=df.date.str.replace(\"November\",'11')\n",
    "df[\"date\"]=df.date.str.replace(\"December\",'12')"
   ]
  },
  {
   "cell_type": "code",
   "execution_count": 146,
   "metadata": {},
   "outputs": [
    {
     "data": {
      "text/html": [
       "<div>\n",
       "<style scoped>\n",
       "    .dataframe tbody tr th:only-of-type {\n",
       "        vertical-align: middle;\n",
       "    }\n",
       "\n",
       "    .dataframe tbody tr th {\n",
       "        vertical-align: top;\n",
       "    }\n",
       "\n",
       "    .dataframe thead th {\n",
       "        text-align: right;\n",
       "    }\n",
       "</style>\n",
       "<table border=\"1\" class=\"dataframe\">\n",
       "  <thead>\n",
       "    <tr style=\"text-align: right;\">\n",
       "      <th></th>\n",
       "      <th>title</th>\n",
       "      <th>text</th>\n",
       "      <th>subject</th>\n",
       "      <th>date</th>\n",
       "      <th>real/fake</th>\n",
       "    </tr>\n",
       "  </thead>\n",
       "  <tbody>\n",
       "    <tr>\n",
       "      <th>0</th>\n",
       "      <td>Trump to Republicans: Act swiftly to replace O...</td>\n",
       "      <td>washington  reuters    u s  president elect do...</td>\n",
       "      <td>politicsnews</td>\n",
       "      <td>1-10-2017</td>\n",
       "      <td>Real</td>\n",
       "    </tr>\n",
       "    <tr>\n",
       "      <th>1</th>\n",
       "      <td>Senator Markey places hold on Obama's nominee ...</td>\n",
       "      <td>reuters    democratic u s  senator edward mar...</td>\n",
       "      <td>politicsnews</td>\n",
       "      <td>1-25-2016</td>\n",
       "      <td>Real</td>\n",
       "    </tr>\n",
       "    <tr>\n",
       "      <th>2</th>\n",
       "      <td>French minister believes banks had 'good reaso...</td>\n",
       "      <td>paris  reuters    french finance minister brun...</td>\n",
       "      <td>worldnews</td>\n",
       "      <td>11-25-2017</td>\n",
       "      <td>Real</td>\n",
       "    </tr>\n",
       "    <tr>\n",
       "      <th>3</th>\n",
       "      <td>Saudi-led forces close air, sea and land acces...</td>\n",
       "      <td>dubai  reuters    the saudi led military coali...</td>\n",
       "      <td>worldnews</td>\n",
       "      <td>11-6-2017</td>\n",
       "      <td>Real</td>\n",
       "    </tr>\n",
       "    <tr>\n",
       "      <th>4</th>\n",
       "      <td>Honduras president with strong lead in TV stat...</td>\n",
       "      <td>tegucigalpa  reuters    an exit poll by a hond...</td>\n",
       "      <td>worldnews</td>\n",
       "      <td>11-27-2017</td>\n",
       "      <td>Real</td>\n",
       "    </tr>\n",
       "    <tr>\n",
       "      <th>...</th>\n",
       "      <td>...</td>\n",
       "      <td>...</td>\n",
       "      <td>...</td>\n",
       "      <td>...</td>\n",
       "      <td>...</td>\n",
       "    </tr>\n",
       "    <tr>\n",
       "      <th>995</th>\n",
       "      <td>Trump presses China on North Korea ahead of Xi...</td>\n",
       "      <td>washington  reuters    u s  president donald t...</td>\n",
       "      <td>politicsnews</td>\n",
       "      <td>4-2-2017</td>\n",
       "      <td>Real</td>\n",
       "    </tr>\n",
       "    <tr>\n",
       "      <th>996</th>\n",
       "      <td>Trump’s Trying To Attend Muhammad Ali’s Musli...</td>\n",
       "      <td>donald trump  the gop candidate who has been c...</td>\n",
       "      <td>news</td>\n",
       "      <td>6-8-2016</td>\n",
       "      <td>Fake</td>\n",
       "    </tr>\n",
       "    <tr>\n",
       "      <th>997</th>\n",
       "      <td>Trump opponents urge U.S. Supreme Court to rul...</td>\n",
       "      <td>washington  reuters    challengers to presiden...</td>\n",
       "      <td>politicsnews</td>\n",
       "      <td>10-5-2017</td>\n",
       "      <td>Real</td>\n",
       "    </tr>\n",
       "    <tr>\n",
       "      <th>998</th>\n",
       "      <td>With One Simple Chart, The Wall Street Journa...</td>\n",
       "      <td>republicans seem to be steadfast in their ques...</td>\n",
       "      <td>news</td>\n",
       "      <td>3-13-2017</td>\n",
       "      <td>Fake</td>\n",
       "    </tr>\n",
       "    <tr>\n",
       "      <th>999</th>\n",
       "      <td>U.S. Senate committee passes bill to impose ne...</td>\n",
       "      <td>washington  reuters    the u s  senate foreign...</td>\n",
       "      <td>politicsnews</td>\n",
       "      <td>5-25-2017</td>\n",
       "      <td>Real</td>\n",
       "    </tr>\n",
       "  </tbody>\n",
       "</table>\n",
       "<p>1000 rows × 5 columns</p>\n",
       "</div>"
      ],
      "text/plain": [
       "                                                 title  \\\n",
       "0    Trump to Republicans: Act swiftly to replace O...   \n",
       "1    Senator Markey places hold on Obama's nominee ...   \n",
       "2    French minister believes banks had 'good reaso...   \n",
       "3    Saudi-led forces close air, sea and land acces...   \n",
       "4    Honduras president with strong lead in TV stat...   \n",
       "..                                                 ...   \n",
       "995  Trump presses China on North Korea ahead of Xi...   \n",
       "996   Trump’s Trying To Attend Muhammad Ali’s Musli...   \n",
       "997  Trump opponents urge U.S. Supreme Court to rul...   \n",
       "998   With One Simple Chart, The Wall Street Journa...   \n",
       "999  U.S. Senate committee passes bill to impose ne...   \n",
       "\n",
       "                                                  text       subject  \\\n",
       "0    washington  reuters    u s  president elect do...  politicsnews   \n",
       "1     reuters    democratic u s  senator edward mar...  politicsnews   \n",
       "2    paris  reuters    french finance minister brun...     worldnews   \n",
       "3    dubai  reuters    the saudi led military coali...     worldnews   \n",
       "4    tegucigalpa  reuters    an exit poll by a hond...     worldnews   \n",
       "..                                                 ...           ...   \n",
       "995  washington  reuters    u s  president donald t...  politicsnews   \n",
       "996  donald trump  the gop candidate who has been c...          news   \n",
       "997  washington  reuters    challengers to presiden...  politicsnews   \n",
       "998  republicans seem to be steadfast in their ques...          news   \n",
       "999  washington  reuters    the u s  senate foreign...  politicsnews   \n",
       "\n",
       "           date real/fake  \n",
       "0     1-10-2017      Real  \n",
       "1     1-25-2016      Real  \n",
       "2    11-25-2017      Real  \n",
       "3     11-6-2017      Real  \n",
       "4    11-27-2017      Real  \n",
       "..          ...       ...  \n",
       "995    4-2-2017      Real  \n",
       "996    6-8-2016      Fake  \n",
       "997   10-5-2017      Real  \n",
       "998   3-13-2017      Fake  \n",
       "999   5-25-2017      Real  \n",
       "\n",
       "[1000 rows x 5 columns]"
      ]
     },
     "execution_count": 146,
     "metadata": {},
     "output_type": "execute_result"
    }
   ],
   "source": [
    "df.head(1000)"
   ]
  },
  {
   "cell_type": "code",
   "execution_count": 147,
   "metadata": {},
   "outputs": [],
   "source": [
    "df[\"date\"]=df.date.str.replace(\"Jan\",'1')\n",
    "df[\"date\"]=df.date.str.replace(\"Feb\",'2')\n",
    "df[\"date\"]=df.date.str.replace(\"Mar\",'3')\n",
    "df[\"date\"]=df.date.str.replace(\"Apr\",'4')\n",
    "df[\"date\"]=df.date.str.replace(\"Jun\",'6')\n",
    "df[\"date\"]=df.date.str.replace(\"Jul\",'7')\n",
    "df[\"date\"]=df.date.str.replace(\"Aug\",'8')\n",
    "df[\"date\"]=df.date.str.replace(\"Sep\",'9')\n",
    "df[\"date\"]=df.date.str.replace(\"Oct\",'10')\n",
    "df[\"date\"]=df.date.str.replace(\"Nov\",'11')\n",
    "df[\"date\"]=df.date.str.replace(\"Dec\",'12')"
   ]
  },
  {
   "cell_type": "code",
   "execution_count": 148,
   "metadata": {},
   "outputs": [
    {
     "data": {
      "text/html": [
       "<div>\n",
       "<style scoped>\n",
       "    .dataframe tbody tr th:only-of-type {\n",
       "        vertical-align: middle;\n",
       "    }\n",
       "\n",
       "    .dataframe tbody tr th {\n",
       "        vertical-align: top;\n",
       "    }\n",
       "\n",
       "    .dataframe thead th {\n",
       "        text-align: right;\n",
       "    }\n",
       "</style>\n",
       "<table border=\"1\" class=\"dataframe\">\n",
       "  <thead>\n",
       "    <tr style=\"text-align: right;\">\n",
       "      <th></th>\n",
       "      <th>title</th>\n",
       "      <th>text</th>\n",
       "      <th>subject</th>\n",
       "      <th>date</th>\n",
       "      <th>real/fake</th>\n",
       "    </tr>\n",
       "  </thead>\n",
       "  <tbody>\n",
       "    <tr>\n",
       "      <th>0</th>\n",
       "      <td>Trump to Republicans: Act swiftly to replace O...</td>\n",
       "      <td>washington  reuters    u s  president elect do...</td>\n",
       "      <td>politicsnews</td>\n",
       "      <td>1-10-2017</td>\n",
       "      <td>Real</td>\n",
       "    </tr>\n",
       "    <tr>\n",
       "      <th>1</th>\n",
       "      <td>Senator Markey places hold on Obama's nominee ...</td>\n",
       "      <td>reuters    democratic u s  senator edward mar...</td>\n",
       "      <td>politicsnews</td>\n",
       "      <td>1-25-2016</td>\n",
       "      <td>Real</td>\n",
       "    </tr>\n",
       "    <tr>\n",
       "      <th>2</th>\n",
       "      <td>French minister believes banks had 'good reaso...</td>\n",
       "      <td>paris  reuters    french finance minister brun...</td>\n",
       "      <td>worldnews</td>\n",
       "      <td>11-25-2017</td>\n",
       "      <td>Real</td>\n",
       "    </tr>\n",
       "    <tr>\n",
       "      <th>3</th>\n",
       "      <td>Saudi-led forces close air, sea and land acces...</td>\n",
       "      <td>dubai  reuters    the saudi led military coali...</td>\n",
       "      <td>worldnews</td>\n",
       "      <td>11-6-2017</td>\n",
       "      <td>Real</td>\n",
       "    </tr>\n",
       "    <tr>\n",
       "      <th>4</th>\n",
       "      <td>Honduras president with strong lead in TV stat...</td>\n",
       "      <td>tegucigalpa  reuters    an exit poll by a hond...</td>\n",
       "      <td>worldnews</td>\n",
       "      <td>11-27-2017</td>\n",
       "      <td>Real</td>\n",
       "    </tr>\n",
       "    <tr>\n",
       "      <th>...</th>\n",
       "      <td>...</td>\n",
       "      <td>...</td>\n",
       "      <td>...</td>\n",
       "      <td>...</td>\n",
       "      <td>...</td>\n",
       "    </tr>\n",
       "    <tr>\n",
       "      <th>95</th>\n",
       "      <td>In Illinois, partisan politics send budget bat...</td>\n",
       "      <td>chicago  reuters    any hope for a break in il...</td>\n",
       "      <td>politicsnews</td>\n",
       "      <td>5-31-2017</td>\n",
       "      <td>Real</td>\n",
       "    </tr>\n",
       "    <tr>\n",
       "      <th>96</th>\n",
       "      <td>A majority of adults disagree with Trump on fi...</td>\n",
       "      <td>new york  reuters    a majority of americans d...</td>\n",
       "      <td>politicsnews</td>\n",
       "      <td>9-26-2017</td>\n",
       "      <td>Real</td>\n",
       "    </tr>\n",
       "    <tr>\n",
       "      <th>97</th>\n",
       "      <td>Obama to deliver farewell address in Chicago o...</td>\n",
       "      <td>honolulu  reuters    u s  president barack oba...</td>\n",
       "      <td>politicsnews</td>\n",
       "      <td>1-2-2017</td>\n",
       "      <td>Real</td>\n",
       "    </tr>\n",
       "    <tr>\n",
       "      <th>98</th>\n",
       "      <td>Trump says he trusts Putin's denials of electi...</td>\n",
       "      <td>danang  vietnam  reuters    president donald t...</td>\n",
       "      <td>worldnews</td>\n",
       "      <td>11-11-2017</td>\n",
       "      <td>Real</td>\n",
       "    </tr>\n",
       "    <tr>\n",
       "      <th>99</th>\n",
       "      <td>Louisiana governor urges tax hike, tapping res...</td>\n",
       "      <td>reuters    louisiana governor john bel edward...</td>\n",
       "      <td>politicsnews</td>\n",
       "      <td>1-20-2016</td>\n",
       "      <td>Real</td>\n",
       "    </tr>\n",
       "  </tbody>\n",
       "</table>\n",
       "<p>100 rows × 5 columns</p>\n",
       "</div>"
      ],
      "text/plain": [
       "                                                title  \\\n",
       "0   Trump to Republicans: Act swiftly to replace O...   \n",
       "1   Senator Markey places hold on Obama's nominee ...   \n",
       "2   French minister believes banks had 'good reaso...   \n",
       "3   Saudi-led forces close air, sea and land acces...   \n",
       "4   Honduras president with strong lead in TV stat...   \n",
       "..                                                ...   \n",
       "95  In Illinois, partisan politics send budget bat...   \n",
       "96  A majority of adults disagree with Trump on fi...   \n",
       "97  Obama to deliver farewell address in Chicago o...   \n",
       "98  Trump says he trusts Putin's denials of electi...   \n",
       "99  Louisiana governor urges tax hike, tapping res...   \n",
       "\n",
       "                                                 text       subject  \\\n",
       "0   washington  reuters    u s  president elect do...  politicsnews   \n",
       "1    reuters    democratic u s  senator edward mar...  politicsnews   \n",
       "2   paris  reuters    french finance minister brun...     worldnews   \n",
       "3   dubai  reuters    the saudi led military coali...     worldnews   \n",
       "4   tegucigalpa  reuters    an exit poll by a hond...     worldnews   \n",
       "..                                                ...           ...   \n",
       "95  chicago  reuters    any hope for a break in il...  politicsnews   \n",
       "96  new york  reuters    a majority of americans d...  politicsnews   \n",
       "97  honolulu  reuters    u s  president barack oba...  politicsnews   \n",
       "98  danang  vietnam  reuters    president donald t...     worldnews   \n",
       "99   reuters    louisiana governor john bel edward...  politicsnews   \n",
       "\n",
       "          date real/fake  \n",
       "0    1-10-2017      Real  \n",
       "1    1-25-2016      Real  \n",
       "2   11-25-2017      Real  \n",
       "3    11-6-2017      Real  \n",
       "4   11-27-2017      Real  \n",
       "..         ...       ...  \n",
       "95   5-31-2017      Real  \n",
       "96   9-26-2017      Real  \n",
       "97    1-2-2017      Real  \n",
       "98  11-11-2017      Real  \n",
       "99   1-20-2016      Real  \n",
       "\n",
       "[100 rows x 5 columns]"
      ]
     },
     "execution_count": 148,
     "metadata": {},
     "output_type": "execute_result"
    }
   ],
   "source": [
    "df.head(100)"
   ]
  },
  {
   "cell_type": "code",
   "execution_count": 149,
   "metadata": {},
   "outputs": [],
   "source": [
    "import datetime as dt"
   ]
  },
  {
   "cell_type": "code",
   "execution_count": 150,
   "metadata": {},
   "outputs": [
    {
     "name": "stdout",
     "output_type": "stream",
     "text": [
      "<class 'pandas.core.frame.DataFrame'>\n",
      "RangeIndex: 38829 entries, 0 to 38828\n",
      "Data columns (total 5 columns):\n",
      " #   Column     Non-Null Count  Dtype \n",
      "---  ------     --------------  ----- \n",
      " 0   title      38829 non-null  object\n",
      " 1   text       38829 non-null  object\n",
      " 2   subject    38829 non-null  object\n",
      " 3   date       38829 non-null  object\n",
      " 4   real/fake  38829 non-null  object\n",
      "dtypes: object(5)\n",
      "memory usage: 1.5+ MB\n"
     ]
    }
   ],
   "source": [
    "df.info()\n",
    "#prints the datatypes of all the columns"
   ]
  },
  {
   "cell_type": "code",
   "execution_count": 151,
   "metadata": {},
   "outputs": [],
   "source": [
    "df[\"date\"]= pd.to_datetime(df[\"date\"])"
   ]
  },
  {
   "cell_type": "code",
   "execution_count": 152,
   "metadata": {},
   "outputs": [],
   "source": [
    "df.sort_values(by='date', inplace=True)\n",
    "#not to return a new dataset"
   ]
  },
  {
   "cell_type": "code",
   "execution_count": 153,
   "metadata": {},
   "outputs": [
    {
     "data": {
      "text/html": [
       "<div>\n",
       "<style scoped>\n",
       "    .dataframe tbody tr th:only-of-type {\n",
       "        vertical-align: middle;\n",
       "    }\n",
       "\n",
       "    .dataframe tbody tr th {\n",
       "        vertical-align: top;\n",
       "    }\n",
       "\n",
       "    .dataframe thead th {\n",
       "        text-align: right;\n",
       "    }\n",
       "</style>\n",
       "<table border=\"1\" class=\"dataframe\">\n",
       "  <thead>\n",
       "    <tr style=\"text-align: right;\">\n",
       "      <th></th>\n",
       "      <th>title</th>\n",
       "      <th>text</th>\n",
       "      <th>subject</th>\n",
       "      <th>date</th>\n",
       "      <th>real/fake</th>\n",
       "    </tr>\n",
       "  </thead>\n",
       "  <tbody>\n",
       "    <tr>\n",
       "      <th>32218</th>\n",
       "      <td>WATCH DIRTY HARRY REID ON HIS LIE ABOUT ROMNEY...</td>\n",
       "      <td>in case you missed it sen  harry reid  r nv   ...</td>\n",
       "      <td>left-news</td>\n",
       "      <td>2015-03-31</td>\n",
       "      <td>Fake</td>\n",
       "    </tr>\n",
       "    <tr>\n",
       "      <th>29313</th>\n",
       "      <td>BENGHAZI PANEL CALLS HILLARY TO TESTIFY UNDER ...</td>\n",
       "      <td>does anyone really think hillary clinton will ...</td>\n",
       "      <td>politics</td>\n",
       "      <td>2015-03-31</td>\n",
       "      <td>Fake</td>\n",
       "    </tr>\n",
       "    <tr>\n",
       "      <th>37798</th>\n",
       "      <td>FLASHBACK: KING OBAMA COMMUTES SENTENCES OF 22...</td>\n",
       "      <td>just making room for hillary president obama t...</td>\n",
       "      <td>politics</td>\n",
       "      <td>2015-03-31</td>\n",
       "      <td>Fake</td>\n",
       "    </tr>\n",
       "    <tr>\n",
       "      <th>11246</th>\n",
       "      <td>OH NO! GUESS WHO FUNDED THE SHRINE TO TED KENNEDY</td>\n",
       "      <td>nothing like political cronyism to make your s...</td>\n",
       "      <td>politics</td>\n",
       "      <td>2015-03-31</td>\n",
       "      <td>Fake</td>\n",
       "    </tr>\n",
       "    <tr>\n",
       "      <th>16840</th>\n",
       "      <td>HILLARY RODHAM NIXON: A CANDIDATE WITH MORE BA...</td>\n",
       "      <td>the irony here isn t lost on us  hillary is be...</td>\n",
       "      <td>left-news</td>\n",
       "      <td>2015-03-31</td>\n",
       "      <td>Fake</td>\n",
       "    </tr>\n",
       "    <tr>\n",
       "      <th>4714</th>\n",
       "      <td>APPLE’S CEO SAYS RELIGIOUS FREEDOM LAWS ARE ‘D...</td>\n",
       "      <td>the gay mafia has a new corporate  don  this i...</td>\n",
       "      <td>politics</td>\n",
       "      <td>2015-03-31</td>\n",
       "      <td>Fake</td>\n",
       "    </tr>\n",
       "    <tr>\n",
       "      <th>27139</th>\n",
       "      <td>MUSLIM WOMAN ARRESTED FOR SPITTING ON HER FELL...</td>\n",
       "      <td>this woman s having trouble entering the walma...</td>\n",
       "      <td>politics</td>\n",
       "      <td>2015-04-01</td>\n",
       "      <td>Fake</td>\n",
       "    </tr>\n",
       "    <tr>\n",
       "      <th>16058</th>\n",
       "      <td>“Non-violence hasn’t worked”…Reverend Sam Most...</td>\n",
       "      <td>yeah that whole  taking up arms  thing seems t...</td>\n",
       "      <td>left-news</td>\n",
       "      <td>2015-04-01</td>\n",
       "      <td>Fake</td>\n",
       "    </tr>\n",
       "    <tr>\n",
       "      <th>31032</th>\n",
       "      <td>IS ISIS IN DANGER OF BEING WIPED OUT BY A FLES...</td>\n",
       "      <td>try to fix that with a dull knife boys the sel...</td>\n",
       "      <td>politics</td>\n",
       "      <td>2015-04-02</td>\n",
       "      <td>Fake</td>\n",
       "    </tr>\n",
       "    <tr>\n",
       "      <th>36725</th>\n",
       "      <td>ENTITLED IRS ETHICS LAWYER DISBARRED FOR ETHIC...</td>\n",
       "      <td>don t you just love an entitled irs lawyer who...</td>\n",
       "      <td>government news</td>\n",
       "      <td>2015-04-04</td>\n",
       "      <td>Fake</td>\n",
       "    </tr>\n",
       "  </tbody>\n",
       "</table>\n",
       "</div>"
      ],
      "text/plain": [
       "                                                   title  \\\n",
       "32218  WATCH DIRTY HARRY REID ON HIS LIE ABOUT ROMNEY...   \n",
       "29313  BENGHAZI PANEL CALLS HILLARY TO TESTIFY UNDER ...   \n",
       "37798  FLASHBACK: KING OBAMA COMMUTES SENTENCES OF 22...   \n",
       "11246  OH NO! GUESS WHO FUNDED THE SHRINE TO TED KENNEDY   \n",
       "16840  HILLARY RODHAM NIXON: A CANDIDATE WITH MORE BA...   \n",
       "4714   APPLE’S CEO SAYS RELIGIOUS FREEDOM LAWS ARE ‘D...   \n",
       "27139  MUSLIM WOMAN ARRESTED FOR SPITTING ON HER FELL...   \n",
       "16058  “Non-violence hasn’t worked”…Reverend Sam Most...   \n",
       "31032  IS ISIS IN DANGER OF BEING WIPED OUT BY A FLES...   \n",
       "36725  ENTITLED IRS ETHICS LAWYER DISBARRED FOR ETHIC...   \n",
       "\n",
       "                                                    text          subject  \\\n",
       "32218  in case you missed it sen  harry reid  r nv   ...        left-news   \n",
       "29313  does anyone really think hillary clinton will ...         politics   \n",
       "37798  just making room for hillary president obama t...         politics   \n",
       "11246  nothing like political cronyism to make your s...         politics   \n",
       "16840  the irony here isn t lost on us  hillary is be...        left-news   \n",
       "4714   the gay mafia has a new corporate  don  this i...         politics   \n",
       "27139  this woman s having trouble entering the walma...         politics   \n",
       "16058  yeah that whole  taking up arms  thing seems t...        left-news   \n",
       "31032  try to fix that with a dull knife boys the sel...         politics   \n",
       "36725  don t you just love an entitled irs lawyer who...  government news   \n",
       "\n",
       "            date real/fake  \n",
       "32218 2015-03-31      Fake  \n",
       "29313 2015-03-31      Fake  \n",
       "37798 2015-03-31      Fake  \n",
       "11246 2015-03-31      Fake  \n",
       "16840 2015-03-31      Fake  \n",
       "4714  2015-03-31      Fake  \n",
       "27139 2015-04-01      Fake  \n",
       "16058 2015-04-01      Fake  \n",
       "31032 2015-04-02      Fake  \n",
       "36725 2015-04-04      Fake  "
      ]
     },
     "execution_count": 153,
     "metadata": {},
     "output_type": "execute_result"
    }
   ],
   "source": [
    "df.head(10)"
   ]
  },
  {
   "cell_type": "code",
   "execution_count": 154,
   "metadata": {},
   "outputs": [],
   "source": [
    "df = df.reset_index(drop=True)\n",
    "#when drop=false(default) a new dataframe is returned"
   ]
  },
  {
   "cell_type": "code",
   "execution_count": 155,
   "metadata": {},
   "outputs": [
    {
     "data": {
      "text/html": [
       "<div>\n",
       "<style scoped>\n",
       "    .dataframe tbody tr th:only-of-type {\n",
       "        vertical-align: middle;\n",
       "    }\n",
       "\n",
       "    .dataframe tbody tr th {\n",
       "        vertical-align: top;\n",
       "    }\n",
       "\n",
       "    .dataframe thead th {\n",
       "        text-align: right;\n",
       "    }\n",
       "</style>\n",
       "<table border=\"1\" class=\"dataframe\">\n",
       "  <thead>\n",
       "    <tr style=\"text-align: right;\">\n",
       "      <th></th>\n",
       "      <th>title</th>\n",
       "      <th>text</th>\n",
       "      <th>subject</th>\n",
       "      <th>date</th>\n",
       "      <th>real/fake</th>\n",
       "    </tr>\n",
       "  </thead>\n",
       "  <tbody>\n",
       "    <tr>\n",
       "      <th>0</th>\n",
       "      <td>WATCH DIRTY HARRY REID ON HIS LIE ABOUT ROMNEY...</td>\n",
       "      <td>in case you missed it sen  harry reid  r nv   ...</td>\n",
       "      <td>left-news</td>\n",
       "      <td>2015-03-31</td>\n",
       "      <td>Fake</td>\n",
       "    </tr>\n",
       "    <tr>\n",
       "      <th>1</th>\n",
       "      <td>BENGHAZI PANEL CALLS HILLARY TO TESTIFY UNDER ...</td>\n",
       "      <td>does anyone really think hillary clinton will ...</td>\n",
       "      <td>politics</td>\n",
       "      <td>2015-03-31</td>\n",
       "      <td>Fake</td>\n",
       "    </tr>\n",
       "    <tr>\n",
       "      <th>2</th>\n",
       "      <td>FLASHBACK: KING OBAMA COMMUTES SENTENCES OF 22...</td>\n",
       "      <td>just making room for hillary president obama t...</td>\n",
       "      <td>politics</td>\n",
       "      <td>2015-03-31</td>\n",
       "      <td>Fake</td>\n",
       "    </tr>\n",
       "    <tr>\n",
       "      <th>3</th>\n",
       "      <td>OH NO! GUESS WHO FUNDED THE SHRINE TO TED KENNEDY</td>\n",
       "      <td>nothing like political cronyism to make your s...</td>\n",
       "      <td>politics</td>\n",
       "      <td>2015-03-31</td>\n",
       "      <td>Fake</td>\n",
       "    </tr>\n",
       "    <tr>\n",
       "      <th>4</th>\n",
       "      <td>HILLARY RODHAM NIXON: A CANDIDATE WITH MORE BA...</td>\n",
       "      <td>the irony here isn t lost on us  hillary is be...</td>\n",
       "      <td>left-news</td>\n",
       "      <td>2015-03-31</td>\n",
       "      <td>Fake</td>\n",
       "    </tr>\n",
       "    <tr>\n",
       "      <th>...</th>\n",
       "      <td>...</td>\n",
       "      <td>...</td>\n",
       "      <td>...</td>\n",
       "      <td>...</td>\n",
       "      <td>...</td>\n",
       "    </tr>\n",
       "    <tr>\n",
       "      <th>38824</th>\n",
       "      <td>HIGH SCHOOL TEACHER Makes “Shooting At Trump” ...</td>\n",
       "      <td>eag news  a wyoming high school is under fire ...</td>\n",
       "      <td>politics</td>\n",
       "      <td>2018-02-18</td>\n",
       "      <td>Fake</td>\n",
       "    </tr>\n",
       "    <tr>\n",
       "      <th>38825</th>\n",
       "      <td>JUST IN: BADASS GENERAL JOHN KELLY Shoved Chin...</td>\n",
       "      <td>just one more reminder of why president trump ...</td>\n",
       "      <td>politics</td>\n",
       "      <td>2018-02-19</td>\n",
       "      <td>Fake</td>\n",
       "    </tr>\n",
       "    <tr>\n",
       "      <th>38826</th>\n",
       "      <td>WATCH: SNOWFLAKES ASKED Communist Party Platfo...</td>\n",
       "      <td>ami horowitz is fantastic  check out this man ...</td>\n",
       "      <td>politics</td>\n",
       "      <td>2018-02-19</td>\n",
       "      <td>Fake</td>\n",
       "    </tr>\n",
       "    <tr>\n",
       "      <th>38827</th>\n",
       "      <td>Democrat Senator Warns Mueller Not To Release ...</td>\n",
       "      <td>according to the hill  democrat senator bob ca...</td>\n",
       "      <td>politics</td>\n",
       "      <td>2018-02-19</td>\n",
       "      <td>Fake</td>\n",
       "    </tr>\n",
       "    <tr>\n",
       "      <th>38828</th>\n",
       "      <td>MSNBC ANCHOR Flabbergasted at What Texas Teach...</td>\n",
       "      <td>if we protect every other government building ...</td>\n",
       "      <td>politics</td>\n",
       "      <td>2018-02-19</td>\n",
       "      <td>Fake</td>\n",
       "    </tr>\n",
       "  </tbody>\n",
       "</table>\n",
       "<p>38829 rows × 5 columns</p>\n",
       "</div>"
      ],
      "text/plain": [
       "                                                   title  \\\n",
       "0      WATCH DIRTY HARRY REID ON HIS LIE ABOUT ROMNEY...   \n",
       "1      BENGHAZI PANEL CALLS HILLARY TO TESTIFY UNDER ...   \n",
       "2      FLASHBACK: KING OBAMA COMMUTES SENTENCES OF 22...   \n",
       "3      OH NO! GUESS WHO FUNDED THE SHRINE TO TED KENNEDY   \n",
       "4      HILLARY RODHAM NIXON: A CANDIDATE WITH MORE BA...   \n",
       "...                                                  ...   \n",
       "38824  HIGH SCHOOL TEACHER Makes “Shooting At Trump” ...   \n",
       "38825  JUST IN: BADASS GENERAL JOHN KELLY Shoved Chin...   \n",
       "38826  WATCH: SNOWFLAKES ASKED Communist Party Platfo...   \n",
       "38827  Democrat Senator Warns Mueller Not To Release ...   \n",
       "38828  MSNBC ANCHOR Flabbergasted at What Texas Teach...   \n",
       "\n",
       "                                                    text    subject  \\\n",
       "0      in case you missed it sen  harry reid  r nv   ...  left-news   \n",
       "1      does anyone really think hillary clinton will ...   politics   \n",
       "2      just making room for hillary president obama t...   politics   \n",
       "3      nothing like political cronyism to make your s...   politics   \n",
       "4      the irony here isn t lost on us  hillary is be...  left-news   \n",
       "...                                                  ...        ...   \n",
       "38824  eag news  a wyoming high school is under fire ...   politics   \n",
       "38825  just one more reminder of why president trump ...   politics   \n",
       "38826  ami horowitz is fantastic  check out this man ...   politics   \n",
       "38827  according to the hill  democrat senator bob ca...   politics   \n",
       "38828  if we protect every other government building ...   politics   \n",
       "\n",
       "            date real/fake  \n",
       "0     2015-03-31      Fake  \n",
       "1     2015-03-31      Fake  \n",
       "2     2015-03-31      Fake  \n",
       "3     2015-03-31      Fake  \n",
       "4     2015-03-31      Fake  \n",
       "...          ...       ...  \n",
       "38824 2018-02-18      Fake  \n",
       "38825 2018-02-19      Fake  \n",
       "38826 2018-02-19      Fake  \n",
       "38827 2018-02-19      Fake  \n",
       "38828 2018-02-19      Fake  \n",
       "\n",
       "[38829 rows x 5 columns]"
      ]
     },
     "execution_count": 155,
     "metadata": {},
     "output_type": "execute_result"
    }
   ],
   "source": [
    "df"
   ]
  },
  {
   "cell_type": "code",
   "execution_count": 156,
   "metadata": {},
   "outputs": [],
   "source": [
    "final_df = df.to_csv(\"E:\\\\isfcr project\\\\final_df.csv\")"
   ]
  },
  {
   "cell_type": "code",
   "execution_count": 157,
   "metadata": {},
   "outputs": [],
   "source": [
    "#text-independent(x) real/fake-dependent(y)\n",
    "x = df[\"text\"]\n",
    "y = df[\"real/fake\"]"
   ]
  },
  {
   "cell_type": "code",
   "execution_count": 158,
   "metadata": {},
   "outputs": [],
   "source": [
    "#splitting data into train and test sets out of which 0.2 percent of data is for testing\n",
    "#train_test_split is a function in sklearn for splitting data sets into two sub-arrays randomly \n",
    "x_train, x_test, y_train, y_test = train_test_split(x, y, test_size=0.2,random_state=0)"
   ]
  },
  {
   "cell_type": "code",
   "execution_count": 159,
   "metadata": {},
   "outputs": [
    {
     "data": {
      "text/plain": [
       "14469                                                     \n",
       "37939    washington  reuters    republican u s  senator...\n",
       "37722    beirut  reuters    lebanon has set a date of m...\n",
       "2595     patrick henningsen  century wire update     la...\n",
       "8130     washington  reuters    presumptive republican ...\n",
       "                               ...                        \n",
       "20757    washington  reuters    a white house meeting t...\n",
       "32103    moscow  reuters    russia said on thursday it ...\n",
       "30403    harrisburg  pa  washington  reuters    preside...\n",
       "21243    beverly hills  reuters    u s  treasury secret...\n",
       "2732     in the closing days before the iowa caucus  th...\n",
       "Name: text, Length: 31063, dtype: object"
      ]
     },
     "execution_count": 159,
     "metadata": {},
     "output_type": "execute_result"
    }
   ],
   "source": [
    "x_train"
   ]
  },
  {
   "cell_type": "code",
   "execution_count": 160,
   "metadata": {},
   "outputs": [
    {
     "data": {
      "text/plain": [
       "829      pandering like crazy is what you see here  the...\n",
       "29080    first lady melania trump fired back friday at ...\n",
       "30359     washington  reuters    the trump administrati...\n",
       "37322    johannesburg  reuters    the nearly man of sou...\n",
       "13387    cubs close out indians to win first series sin...\n",
       "                               ...                        \n",
       "17127    donald trump s latest executive orders are bei...\n",
       "30282    washington  reuters    the u s  federal govern...\n",
       "17206    washington  reuters    u s  senate majority le...\n",
       "10430    are these students bullies  are they racists  ...\n",
       "16515    our children are at risk  people  fortunately ...\n",
       "Name: text, Length: 7766, dtype: object"
      ]
     },
     "execution_count": 160,
     "metadata": {},
     "output_type": "execute_result"
    }
   ],
   "source": [
    "x_test"
   ]
  },
  {
   "cell_type": "code",
   "execution_count": 161,
   "metadata": {},
   "outputs": [
    {
     "data": {
      "text/plain": [
       "14469    Fake\n",
       "37939    Real\n",
       "37722    Real\n",
       "2595     Fake\n",
       "8130     Real\n",
       "         ... \n",
       "20757    Real\n",
       "32103    Real\n",
       "30403    Real\n",
       "21243    Real\n",
       "2732     Fake\n",
       "Name: real/fake, Length: 31063, dtype: object"
      ]
     },
     "execution_count": 161,
     "metadata": {},
     "output_type": "execute_result"
    }
   ],
   "source": [
    "y_train"
   ]
  },
  {
   "cell_type": "code",
   "execution_count": 162,
   "metadata": {},
   "outputs": [
    {
     "data": {
      "text/plain": [
       "829      Fake\n",
       "29080    Fake\n",
       "30359    Real\n",
       "37322    Real\n",
       "13387    Fake\n",
       "         ... \n",
       "17127    Fake\n",
       "30282    Real\n",
       "17206    Real\n",
       "10430    Fake\n",
       "16515    Fake\n",
       "Name: real/fake, Length: 7766, dtype: object"
      ]
     },
     "execution_count": 162,
     "metadata": {},
     "output_type": "execute_result"
    }
   ],
   "source": [
    "y_test"
   ]
  },
  {
   "cell_type": "code",
   "execution_count": 163,
   "metadata": {},
   "outputs": [],
   "source": [
    "#text column has raw data which cant be used for computations so vectorize it into  vectors\n",
    "from sklearn.feature_extraction.text import TfidfVectorizer"
   ]
  },
  {
   "cell_type": "code",
   "execution_count": 164,
   "metadata": {},
   "outputs": [],
   "source": [
    "#stop words are english words which doesn't add much meaning to a sentence and can be safely removed\n",
    "#term frequency–inverse document frequency\n",
    "tfvect = TfidfVectorizer(stop_words='english', max_df = 0.7)\n",
    "#max_df=0.7=>ignore terms that appear in more than 70% of the texts\n",
    "tfid_x_train = tfvect.fit_transform(x_train)\n",
    "tfid_x_test = tfvect.transform(x_test)\n",
    "#fit_tranform returns (sentence_index,feature_index) count.....fit_transform does some calculation and then transforms\n",
    "#it removes all 0 entries in a sparse matrix\n",
    "#transform just tranforms the raw text into number"
   ]
  },
  {
   "cell_type": "code",
   "execution_count": 165,
   "metadata": {},
   "outputs": [
    {
     "data": {
      "text/plain": [
       "<31063x94350 sparse matrix of type '<class 'numpy.float64'>'\n",
       "\twith 4534283 stored elements in Compressed Sparse Row format>"
      ]
     },
     "execution_count": 165,
     "metadata": {},
     "output_type": "execute_result"
    }
   ],
   "source": [
    "tfid_x_train"
   ]
  },
  {
   "cell_type": "code",
   "execution_count": 166,
   "metadata": {},
   "outputs": [
    {
     "data": {
      "text/plain": [
       "TfidfVectorizer(max_df=0.7, stop_words='english')"
      ]
     },
     "execution_count": 166,
     "metadata": {},
     "output_type": "execute_result"
    }
   ],
   "source": [
    "tfvect"
   ]
  },
  {
   "cell_type": "code",
   "execution_count": 167,
   "metadata": {},
   "outputs": [
    {
     "data": {
      "text/plain": [
       "<7766x94350 sparse matrix of type '<class 'numpy.float64'>'\n",
       "\twith 1130221 stored elements in Compressed Sparse Row format>"
      ]
     },
     "execution_count": 167,
     "metadata": {},
     "output_type": "execute_result"
    }
   ],
   "source": [
    "tfid_x_test"
   ]
  },
  {
   "cell_type": "code",
   "execution_count": 168,
   "metadata": {},
   "outputs": [
    {
     "data": {
      "text/plain": [
       "PassiveAggressiveClassifier(max_iter=50)"
      ]
     },
     "execution_count": 168,
     "metadata": {},
     "output_type": "execute_result"
    }
   ],
   "source": [
    "#this model remains passive for normal inputs(true) and turns aggressive on different input(fake)\n",
    "classifier = PassiveAggressiveClassifier(max_iter=50)\n",
    "#max_iter=maximum number of passes over the training data\n",
    "classifier.fit(tfid_x_train,y_train)\n",
    "#fit-taining part of the modelling process"
   ]
  },
  {
   "cell_type": "code",
   "execution_count": 169,
   "metadata": {},
   "outputs": [
    {
     "name": "stdout",
     "output_type": "stream",
     "text": [
      "Accuracy: 99.09%\n"
     ]
    }
   ],
   "source": [
    "y_pred = classifier.predict(tfid_x_test)\n",
    "#accuracy_score -> sklearn\n",
    "score = accuracy_score(y_test,y_pred)\n",
    "#accuracy between the predicted and actual values\n",
    "print(f'Accuracy: {round(score*100,2)}%')"
   ]
  },
  {
   "cell_type": "code",
   "execution_count": 170,
   "metadata": {},
   "outputs": [
    {
     "name": "stdout",
     "output_type": "stream",
     "text": [
      "[[3529   50]\n",
      " [  21 4166]]\n"
     ]
    }
   ],
   "source": [
    "cf = confusion_matrix(y_test,y_pred, labels=['Fake','Real'])\n",
    "print(cf)\n",
    "#2 rows and 2 columns that reports the number of false positives,false negatives,true positives and true negatives\n",
    "#actual fake and actual real along rows and actual fake and actual true along columns\n",
    "#the classifier predicted (19+4143) news as real and (3553+19) as fake, in reality (4143+19) news are real and (3553+51)are fake\n",
    "#'True -ve', 'False +ve'\n",
    "#'False -ve', 'True +ve'\n"
   ]
  },
  {
   "cell_type": "code",
   "execution_count": 171,
   "metadata": {},
   "outputs": [
    {
     "data": {
      "image/png": "[encoded data removed]",
      "text/plain": [
       "<Figure size 288x288 with 2 Axes>"
      ]
     },
     "metadata": {
      "needs_background": "light"
     },
     "output_type": "display_data"
    }
   ],
   "source": [
    "import pylab as pl\n",
    "pl.matshow(cf)\n",
    "pl.title(\"Confusion matrix of the classifier\")\n",
    "pl.colorbar()\n",
    "pl.show()"
   ]
  },
  {
   "cell_type": "code",
   "execution_count": 172,
   "metadata": {},
   "outputs": [
    {
     "data": {
      "text/plain": [
       "Text(0.5, 1.0, 'Confusion Matrix for PassiveAggressiveClassifier')"
      ]
     },
     "execution_count": 172,
     "metadata": {},
     "output_type": "execute_result"
    },
    {
     "data": {
      "image/png": "[encoded data removed]",
      "text/plain": [
       "<Figure size 432x288 with 2 Axes>"
      ]
     },
     "metadata": {
      "needs_background": "light"
     },
     "output_type": "display_data"
    }
   ],
   "source": [
    "import matplotlib as plt\n",
    "import seaborn as sns\n",
    "group_names = ['True -ve', 'False +ve', 'False -ve', 'True +ve']\n",
    "group_percentages = [\"{0:.3%}\".format(value) for value in\n",
    "                    cf.flatten()/np.sum(cf)]\n",
    "labels = [f\"{v1}\\n\\n{v2}\"\n",
    "          for v1,v2 in\n",
    "          zip(group_names, group_percentages)]\n",
    "labels = np.asarray(labels).reshape(2,2)\n",
    "#ax = plt.axes()\n",
    "ax=sns.heatmap(cf, annot = labels, fmt = '')\n",
    "ax.set_title('Confusion Matrix for PassiveAggressiveClassifier')"
   ]
  },
  {
   "cell_type": "code",
   "execution_count": 173,
   "metadata": {},
   "outputs": [
    {
     "name": "stdout",
     "output_type": "stream",
     "text": [
      "94350\n"
     ]
    }
   ],
   "source": [
    "print(len(tfvect.vocabulary_))\n",
    "#Total no of vocabularies identified"
   ]
  },
  {
   "cell_type": "code",
   "execution_count": 174,
   "metadata": {},
   "outputs": [],
   "source": [
    "#Pickle in Python is primarily used in serializing and deserializing a Python object structure.\n",
    "#In other words, it's the process of converting a Python object into a byte stream to store it in a file/database, maintain program state across sessions, or transport data over the network.\n",
    "import pickle"
   ]
  },
  {
   "cell_type": "code",
   "execution_count": 175,
   "metadata": {},
   "outputs": [],
   "source": [
    "#pickle.dump(pac,open('model_1.pkl', 'wb'))-direct method\n",
    "with open('model_english_pac.pkl','wb') as handle:\n",
    "    pickle.dump(classifier,handle,protocol=pickle.HIGHEST_PROTOCOL)\n",
    "#handle-file object returned after opening the model\n",
    "#pickle.HIGHEST_PROTOCOL indicates the highest version of pickle"
   ]
  },
  {
   "cell_type": "code",
   "execution_count": 176,
   "metadata": {},
   "outputs": [
    {
     "name": "stdout",
     "output_type": "stream",
     "text": [
      "94350\n"
     ]
    }
   ],
   "source": [
    "print(len(tfvect.vocabulary_))"
   ]
  },
  {
   "cell_type": "code",
   "execution_count": 177,
   "metadata": {},
   "outputs": [],
   "source": [
    "pipeline = Pipeline([('tfidf', TfidfVectorizer(stop_words='english')), ('nbmodel', MultinomialNB())])\n",
    "#multinomial naive bayes algorithm is a probabilistic learning method used in NLP"
   ]
  },
  {
   "cell_type": "code",
   "execution_count": 178,
   "metadata": {},
   "outputs": [
    {
     "data": {
      "text/plain": [
       "Pipeline(steps=[('tfidf', TfidfVectorizer(stop_words='english')),\n",
       "                ('nbmodel', MultinomialNB())])"
      ]
     },
     "execution_count": 178,
     "metadata": {},
     "output_type": "execute_result"
    }
   ],
   "source": [
    "pipeline.fit(x_train, y_train)"
   ]
  },
  {
   "cell_type": "code",
   "execution_count": 179,
   "metadata": {},
   "outputs": [
    {
     "name": "stdout",
     "output_type": "stream",
     "text": [
      "Accuracy 0.9229976822044811\n"
     ]
    }
   ],
   "source": [
    "score = pipeline.score(x_test, y_test)\n",
    "print('Accuracy', score)\n",
    "#score-returns a score or a loss"
   ]
  },
  {
   "cell_type": "code",
   "execution_count": 180,
   "metadata": {},
   "outputs": [],
   "source": [
    "pred = pipeline.predict(x_test)"
   ]
  },
  {
   "cell_type": "code",
   "execution_count": 181,
   "metadata": {},
   "outputs": [
    {
     "name": "stdout",
     "output_type": "stream",
     "text": [
      "              precision    recall  f1-score   support\n",
      "\n",
      "        Fake       0.95      0.88      0.91      3579\n",
      "        Real       0.90      0.96      0.93      4187\n",
      "\n",
      "    accuracy                           0.92      7766\n",
      "   macro avg       0.93      0.92      0.92      7766\n",
      "weighted avg       0.92      0.92      0.92      7766\n",
      "\n"
     ]
    }
   ],
   "source": [
    "print(classification_report(y_test, pred))\n",
    "#to measure the quality of predictions\n",
    "#precisions-measure of classifier's exactness\n",
    "#recall-measure of classifier's completeness\n",
    "#f1-score=weighted harmonic mean of precision and recall\n",
    "#support-number of actual occurences of class in specified dataset"
   ]
  },
  {
   "cell_type": "code",
   "execution_count": 182,
   "metadata": {},
   "outputs": [
    {
     "name": "stdout",
     "output_type": "stream",
     "text": [
      "94350\n"
     ]
    }
   ],
   "source": [
    "print(len(tfvect.vocabulary_))"
   ]
  },
  {
   "cell_type": "code",
   "execution_count": 183,
   "metadata": {},
   "outputs": [
    {
     "name": "stdout",
     "output_type": "stream",
     "text": [
      "[[3140  439]\n",
      " [ 159 4028]]\n"
     ]
    }
   ],
   "source": [
    "print(confusion_matrix(y_test, pred))\n",
    "cf_pipe= confusion_matrix(y_test, pred)"
   ]
  },
  {
   "cell_type": "code",
   "execution_count": 184,
   "metadata": {},
   "outputs": [
    {
     "data": {
      "text/plain": [
       "Text(0.5, 1.0, 'Confusion Matrix for Pipeline Model')"
      ]
     },
     "execution_count": 184,
     "metadata": {},
     "output_type": "execute_result"
    },
    {
     "data": {
      "image/png": "[encoded data removed]",
      "text/plain": [
       "<Figure size 432x288 with 2 Axes>"
      ]
     },
     "metadata": {
      "needs_background": "light"
     },
     "output_type": "display_data"
    }
   ],
   "source": [
    "import seaborn as sns\n",
    "import matplotlib as plt\n",
    "import seaborn as sns\n",
    "group_names = ['True -ve', 'False +ve', 'False -ve', 'True +ve']\n",
    "group_percentages = [\"{0:.3%}\".format(value) for value in\n",
    "                    cf_pipe.flatten()/np.sum(cf_pipe)]\n",
    "labels = [f\"{v1}\\n\\n{v2}\"\n",
    "          for v1,v2 in\n",
    "          zip(group_names, group_percentages)]\n",
    "labels = np.asarray(labels).reshape(2,2)\n",
    "#ax = plt.axes()\n",
    "ax=sns.heatmap(cf_pipe, annot = labels, fmt = '')\n",
    "ax.set_title('Confusion Matrix for Pipeline Model')"
   ]
  },
  {
   "cell_type": "code",
   "execution_count": 185,
   "metadata": {},
   "outputs": [],
   "source": [
    "import pickle"
   ]
  },
  {
   "cell_type": "code",
   "execution_count": 186,
   "metadata": {},
   "outputs": [],
   "source": [
    "with open('model_english_pipeline.pkl','wb') as handle:\n",
    "    pickle.dump(pipeline,handle,protocol=pickle.HIGHEST_PROTOCOL)"
   ]
  },
  {
   "cell_type": "code",
   "execution_count": 187,
   "metadata": {},
   "outputs": [],
   "source": [
    "#Logistic Regression, to model the probability of certain class or event existing\n",
    "from sklearn.linear_model import LogisticRegression"
   ]
  },
  {
   "cell_type": "code",
   "execution_count": 188,
   "metadata": {},
   "outputs": [
    {
     "data": {
      "text/plain": [
       "LogisticRegression()"
      ]
     },
     "execution_count": 188,
     "metadata": {},
     "output_type": "execute_result"
    }
   ],
   "source": [
    "LR = LogisticRegression()\n",
    "LR.fit(tfid_x_train,y_train)\n",
    "#fits the training dataset to the object"
   ]
  },
  {
   "cell_type": "code",
   "execution_count": 189,
   "metadata": {},
   "outputs": [],
   "source": [
    "#given a trained model it predicts the new set of data,it returns learned label of each object in an array\n",
    "pred_lr=LR.predict(tfid_x_test)"
   ]
  },
  {
   "cell_type": "code",
   "execution_count": 190,
   "metadata": {},
   "outputs": [
    {
     "data": {
      "text/plain": [
       "0.9823590007725985"
      ]
     },
     "execution_count": 190,
     "metadata": {},
     "output_type": "execute_result"
    }
   ],
   "source": [
    "#Returns the co-efficient of the determination of the prediction-model accuracy level\n",
    "LR.score(tfid_x_test, y_test)"
   ]
  },
  {
   "cell_type": "code",
   "execution_count": 191,
   "metadata": {},
   "outputs": [
    {
     "name": "stdout",
     "output_type": "stream",
     "text": [
      "              precision    recall  f1-score   support\n",
      "\n",
      "        Fake       0.99      0.97      0.98      3579\n",
      "        Real       0.98      0.99      0.98      4187\n",
      "\n",
      "    accuracy                           0.98      7766\n",
      "   macro avg       0.98      0.98      0.98      7766\n",
      "weighted avg       0.98      0.98      0.98      7766\n",
      "\n"
     ]
    }
   ],
   "source": [
    "#comparison between dataset class and predicted values\n",
    "print(classification_report(y_test, pred_lr))"
   ]
  },
  {
   "cell_type": "code",
   "execution_count": 192,
   "metadata": {},
   "outputs": [
    {
     "name": "stdout",
     "output_type": "stream",
     "text": [
      "[[3480   99]\n",
      " [  38 4149]]\n"
     ]
    }
   ],
   "source": [
    "print(confusion_matrix(y_test, pred_lr))"
   ]
  },
  {
   "cell_type": "code",
   "execution_count": 193,
   "metadata": {},
   "outputs": [],
   "source": [
    "#Decision tree classification\n",
    "from sklearn.tree import DecisionTreeClassifier"
   ]
  },
  {
   "cell_type": "code",
   "execution_count": 194,
   "metadata": {},
   "outputs": [
    {
     "data": {
      "text/plain": [
       "DecisionTreeClassifier()"
      ]
     },
     "execution_count": 194,
     "metadata": {},
     "output_type": "execute_result"
    }
   ],
   "source": [
    "DT = DecisionTreeClassifier()\n",
    "DT.fit(tfid_x_train, y_train)"
   ]
  },
  {
   "cell_type": "code",
   "execution_count": 195,
   "metadata": {},
   "outputs": [],
   "source": [
    "pred_dt = DT.predict(tfid_x_test)"
   ]
  },
  {
   "cell_type": "code",
   "execution_count": 196,
   "metadata": {},
   "outputs": [
    {
     "data": {
      "text/plain": [
       "0.9948493432912696"
      ]
     },
     "execution_count": 196,
     "metadata": {},
     "output_type": "execute_result"
    }
   ],
   "source": [
    "DT.score(tfid_x_test, y_test)"
   ]
  },
  {
   "cell_type": "code",
   "execution_count": 197,
   "metadata": {},
   "outputs": [
    {
     "name": "stdout",
     "output_type": "stream",
     "text": [
      "              precision    recall  f1-score   support\n",
      "\n",
      "        Fake       0.99      1.00      0.99      3579\n",
      "        Real       1.00      0.99      1.00      4187\n",
      "\n",
      "    accuracy                           0.99      7766\n",
      "   macro avg       0.99      0.99      0.99      7766\n",
      "weighted avg       0.99      0.99      0.99      7766\n",
      "\n"
     ]
    }
   ],
   "source": [
    "print(classification_report(y_test, pred_dt))"
   ]
  },
  {
   "cell_type": "code",
   "execution_count": 198,
   "metadata": {},
   "outputs": [
    {
     "name": "stdout",
     "output_type": "stream",
     "text": [
      "[[3563   16]\n",
      " [  24 4163]]\n"
     ]
    }
   ],
   "source": [
    "print(confusion_matrix(y_test, pred_dt))"
   ]
  },
  {
   "cell_type": "code",
   "execution_count": 199,
   "metadata": {},
   "outputs": [],
   "source": [
    "#Gradient Boosting Classifier\n",
    "from sklearn.ensemble import GradientBoostingClassifier"
   ]
  },
  {
   "cell_type": "code",
   "execution_count": 200,
   "metadata": {},
   "outputs": [
    {
     "data": {
      "text/plain": [
       "GradientBoostingClassifier(random_state=0)"
      ]
     },
     "execution_count": 200,
     "metadata": {},
     "output_type": "execute_result"
    }
   ],
   "source": [
    "GBC = GradientBoostingClassifier(random_state=0)\n",
    "#random_state=0 controls the verbosity(fact and quality of using more words than needed) while splitting and prediction\n",
    "GBC.fit(tfid_x_train, y_train)"
   ]
  },
  {
   "cell_type": "code",
   "execution_count": 201,
   "metadata": {},
   "outputs": [],
   "source": [
    "pred_gbc = GBC.predict(tfid_x_test)"
   ]
  },
  {
   "cell_type": "code",
   "execution_count": 202,
   "metadata": {},
   "outputs": [
    {
     "data": {
      "text/plain": [
       "0.9958794746330157"
      ]
     },
     "execution_count": 202,
     "metadata": {},
     "output_type": "execute_result"
    }
   ],
   "source": [
    "GBC.score(tfid_x_test, y_test)"
   ]
  },
  {
   "cell_type": "code",
   "execution_count": 203,
   "metadata": {},
   "outputs": [
    {
     "name": "stdout",
     "output_type": "stream",
     "text": [
      "              precision    recall  f1-score   support\n",
      "\n",
      "        Fake       1.00      0.99      1.00      3579\n",
      "        Real       1.00      1.00      1.00      4187\n",
      "\n",
      "    accuracy                           1.00      7766\n",
      "   macro avg       1.00      1.00      1.00      7766\n",
      "weighted avg       1.00      1.00      1.00      7766\n",
      "\n"
     ]
    }
   ],
   "source": [
    "print(classification_report(y_test, pred_gbc))"
   ]
  },
  {
   "cell_type": "code",
   "execution_count": 204,
   "metadata": {},
   "outputs": [
    {
     "name": "stdout",
     "output_type": "stream",
     "text": [
      "[[3561   18]\n",
      " [  14 4173]]\n"
     ]
    }
   ],
   "source": [
    "print(confusion_matrix(y_test, pred_gbc))"
   ]
  },
  {
   "cell_type": "code",
   "execution_count": 205,
   "metadata": {},
   "outputs": [],
   "source": [
    "#Random forest Classifier\n",
    "from sklearn.ensemble import RandomForestClassifier"
   ]
  },
  {
   "cell_type": "code",
   "execution_count": 206,
   "metadata": {},
   "outputs": [
    {
     "data": {
      "text/plain": [
       "RandomForestClassifier(random_state=0)"
      ]
     },
     "execution_count": 206,
     "metadata": {},
     "output_type": "execute_result"
    }
   ],
   "source": [
    "RFC = RandomForestClassifier(random_state=0)\n",
    "RFC.fit(tfid_x_train, y_train)"
   ]
  },
  {
   "cell_type": "code",
   "execution_count": 207,
   "metadata": {},
   "outputs": [],
   "source": [
    "pred_rfc = RFC.predict(tfid_x_test)"
   ]
  },
  {
   "cell_type": "code",
   "execution_count": 208,
   "metadata": {},
   "outputs": [
    {
     "data": {
      "text/plain": [
       "0.984548029873809"
      ]
     },
     "execution_count": 208,
     "metadata": {},
     "output_type": "execute_result"
    }
   ],
   "source": [
    "RFC.score(tfid_x_test, y_test)"
   ]
  },
  {
   "cell_type": "code",
   "execution_count": 209,
   "metadata": {},
   "outputs": [
    {
     "name": "stdout",
     "output_type": "stream",
     "text": [
      "              precision    recall  f1-score   support\n",
      "\n",
      "        Fake       0.99      0.97      0.98      3579\n",
      "        Real       0.98      1.00      0.99      4187\n",
      "\n",
      "    accuracy                           0.98      7766\n",
      "   macro avg       0.99      0.98      0.98      7766\n",
      "weighted avg       0.98      0.98      0.98      7766\n",
      "\n"
     ]
    }
   ],
   "source": [
    "print(classification_report(y_test, pred_rfc))"
   ]
  },
  {
   "cell_type": "code",
   "execution_count": 210,
   "metadata": {},
   "outputs": [
    {
     "name": "stdout",
     "output_type": "stream",
     "text": [
      "[[3478  101]\n",
      " [  19 4168]]\n"
     ]
    }
   ],
   "source": [
    "print(confusion_matrix(y_test, pred_rfc))"
   ]
  },
  {
   "cell_type": "code",
   "execution_count": 211,
   "metadata": {},
   "outputs": [],
   "source": [
    "#Manual Testing\n",
    "def output_lable(n):\n",
    "    if n == \"Fake\":\n",
    "        return \"Fake News\"\n",
    "    elif n == \"Real\":\n",
    "        return \"Real News\"\n",
    "    \n",
    "def manual_testing(news):\n",
    "    testing_news = {\"text\":[news]}\n",
    "    new_def_test = pd.DataFrame(testing_news)\n",
    "    #creates a dataframe\n",
    "    new_def_test[\"text\"] = new_def_test[\"text\"].apply(word_drop) \n",
    "    new_x_test = new_def_test[\"text\"]\n",
    "    new_xv_test = tfvect.transform(new_x_test)\n",
    "    pred_LR = LR.predict(new_xv_test)\n",
    "    pred_DT = DT.predict(new_xv_test)\n",
    "    pred_GBC = GBC.predict(new_xv_test)\n",
    "    pred_RFC = RFC.predict(new_xv_test)\n",
    "    pred_pac = classifier.predict(new_xv_test)\n",
    "\n",
    "    return print(\"\\n\\nLR Prediction: {} \\nDT Prediction: {} \\nGBC Prediction: {} \\nRFC Prediction: {} \\nPAC Prediction: {} \".format(output_lable(pred_LR[0]), \n",
    "                                                                                                              output_lable(pred_DT[0]), \n",
    "                                                                                                              output_lable(pred_GBC[0]), \n",
    "                                                                                                              output_lable(pred_RFC[0]),\n",
    "                                                                                                              output_lable(pred_pac[0])))"
   ]
  },
  {
   "cell_type": "code",
   "execution_count": 212,
   "metadata": {},
   "outputs": [
    {
     "name": "stdout",
     "output_type": "stream",
     "text": [
      "just making room for hillary president obama t.\n",
      "\n",
      "\n",
      "LR Prediction: Fake News \n",
      "DT Prediction: Fake News \n",
      "GBC Prediction: Fake News \n",
      "RFC Prediction: Fake News \n",
      "PAC Prediction: Fake News \n"
     ]
    }
   ],
   "source": [
    "news = str(input())\n",
    "manual_testing(news)"
   ]
  },
  {
   "cell_type": "code",
   "execution_count": null,
   "metadata": {},
   "outputs": [],
   "source": []
  },
  {
   "cell_type": "code",
   "execution_count": null,
   "metadata": {},
   "outputs": [],
   "source": []
  }
 ],
 "metadata": {
  "kernelspec": {
   "display_name": "virtual_env",
   "language": "python",
   "name": "virtual_env"
  },
  "language_info": {
   "codemirror_mode": {
    "name": "ipython",
    "version": 3
   },
   "file_extension": ".py",
   "mimetype": "text/x-python",
   "name": "python",
   "nbconvert_exporter": "python",
   "pygments_lexer": "ipython3",
   "version": "3.10.1"
  }
 },
 "nbformat": 4,
 "nbformat_minor": 4
}
