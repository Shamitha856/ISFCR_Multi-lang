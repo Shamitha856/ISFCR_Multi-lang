{
 "cells": [
  {
   "cell_type": "code",
   "execution_count": 63,
   "metadata": {},
   "outputs": [],
   "source": [
    "import pandas as pd\n",
    "import numpy as np\n",
    "from sklearn.model_selection import train_test_split\n",
    "from sklearn.metrics import classification_report, confusion_matrix, accuracy_score\n",
    "from sklearn.pipeline import Pipeline\n",
    "from sklearn.linear_model import PassiveAggressiveClassifier\n",
    "from sklearn.naive_bayes import MultinomialNB\n",
    "import re\n",
    "import string\n",
    "import pickle"
   ]
  },
  {
   "cell_type": "code",
   "execution_count": 64,
   "metadata": {},
   "outputs": [],
   "source": [
    "df_true = pd.read_csv(\"E:\\\\isfcr project\\\\true_kannada.csv\")\n",
    "df_true1 = pd.read_csv(\"E:\\\\isfcr project\\\\true1_kannada.csv\")\n",
    "df_true2 = pd.read_csv(\"E:\\\\isfcr project\\\\true2_kannada.csv\")\n",
    "df_true3 = pd.read_csv(\"E:\\\\isfcr project\\\\true3_kannada.csv\")"
   ]
  },
  {
   "cell_type": "code",
   "execution_count": 65,
   "metadata": {},
   "outputs": [],
   "source": [
    "pd.set_option('display.max_colwidth', None)"
   ]
  },
  {
   "cell_type": "code",
   "execution_count": 66,
   "metadata": {},
   "outputs": [],
   "source": [
    "df_true1 = df_true1.drop(['text_url'], axis = 1)\n",
    "df_true2 = df_true2.drop(['text_url'], axis = 1)\n",
    "df_true3 = df_true3.drop(['text_url'], axis = 1)"
   ]
  },
  {
   "cell_type": "code",
   "execution_count": 67,
   "metadata": {},
   "outputs": [
    {
     "data": {
      "text/html": [
       "<div>\n",
       "<style scoped>\n",
       "    .dataframe tbody tr th:only-of-type {\n",
       "        vertical-align: middle;\n",
       "    }\n",
       "\n",
       "    .dataframe tbody tr th {\n",
       "        vertical-align: top;\n",
       "    }\n",
       "\n",
       "    .dataframe thead th {\n",
       "        text-align: right;\n",
       "    }\n",
       "</style>\n",
       "<table border=\"1\" class=\"dataframe\">\n",
       "  <thead>\n",
       "    <tr style=\"text-align: right;\">\n",
       "      <th></th>\n",
       "      <th>Unnamed: 0</th>\n",
       "      <th>text_name</th>\n",
       "    </tr>\n",
       "  </thead>\n",
       "  <tbody>\n",
       "    <tr>\n",
       "      <th>0</th>\n",
       "      <td>0</td>\n",
       "      <td>ಉಡುಪಿ: ಜಿಲ್ಲೆಯಲ್ಲಿ ಒಟ್ಟು 1293 ಮಂದಿ ಮಕ್ಕಳು,ವಿದ್ಯಾರ್ಥಿಗಳಿಗೆ ಕೊರೊನಾ ಸೋಂಕು!</td>\n",
       "    </tr>\n",
       "    <tr>\n",
       "      <th>1</th>\n",
       "      <td>1</td>\n",
       "      <td>ಕ್ರೀಡಾಪಟುಗಳಿಗೆ ವೈಜ್ಞಾನಿಕವಾಗಿ ತರಬೇತಿ ಅಗತ್ಯವಿದೆ: ಸಿಎಂ ಬಸವರಾಜ ಬೊಮ್ಮಾಯಿ</td>\n",
       "    </tr>\n",
       "    <tr>\n",
       "      <th>2</th>\n",
       "      <td>2</td>\n",
       "      <td>ವಸತಿ ಶಾಲೆಯಲ್ಲಿ 37 ವಿದ್ಯಾರ್ಥಿಗಳಿಗೆ ಸೋಂಕು ದೃಢ</td>\n",
       "    </tr>\n",
       "    <tr>\n",
       "      <th>3</th>\n",
       "      <td>3</td>\n",
       "      <td>ಉಡುಪಿ: ಜಿಲ್ಲೆಯಲ್ಲಿ ಒಟ್ಟು 1293 ಮಂದಿ ಮಕ್ಕಳು,ವಿದ್ಯಾರ್ಥಿಗಳಿಗೆ ಕೊರೊನಾ ಸೋಂಕು!</td>\n",
       "    </tr>\n",
       "    <tr>\n",
       "      <th>4</th>\n",
       "      <td>4</td>\n",
       "      <td>ಕ್ರೀಡಾಪಟುಗಳಿಗೆ ವೈಜ್ಞಾನಿಕವಾಗಿ ತರಬೇತಿ ಅಗತ್ಯವಿದೆ: ಸಿಎಂ ಬಸವರಾಜ ಬೊಮ್ಮಾಯಿ</td>\n",
       "    </tr>\n",
       "    <tr>\n",
       "      <th>5</th>\n",
       "      <td>5</td>\n",
       "      <td>ವಸತಿ ಶಾಲೆಯಲ್ಲಿ 37 ವಿದ್ಯಾರ್ಥಿಗಳಿಗೆ ಸೋಂಕು ದೃಢ</td>\n",
       "    </tr>\n",
       "    <tr>\n",
       "      <th>6</th>\n",
       "      <td>6</td>\n",
       "      <td>ಉಡುಪಿ: ಜಿಲ್ಲೆಯಲ್ಲಿ ಒಟ್ಟು 1293 ಮಂದಿ ಮಕ್ಕಳು,ವಿದ್ಯಾರ್ಥಿಗಳಿಗೆ ಕೊರೊನಾ ಸೋಂಕು!</td>\n",
       "    </tr>\n",
       "    <tr>\n",
       "      <th>7</th>\n",
       "      <td>7</td>\n",
       "      <td>ಕ್ರೀಡಾಪಟುಗಳಿಗೆ ವೈಜ್ಞಾನಿಕವಾಗಿ ತರಬೇತಿ ಅಗತ್ಯವಿದೆ: ಸಿಎಂ ಬಸವರಾಜ ಬೊಮ್ಮಾಯಿ</td>\n",
       "    </tr>\n",
       "    <tr>\n",
       "      <th>8</th>\n",
       "      <td>8</td>\n",
       "      <td>ವಸತಿ ಶಾಲೆಯಲ್ಲಿ 37 ವಿದ್ಯಾರ್ಥಿಗಳಿಗೆ ಸೋಂಕು ದೃಢ</td>\n",
       "    </tr>\n",
       "    <tr>\n",
       "      <th>9</th>\n",
       "      <td>9</td>\n",
       "      <td>ಉಡುಪಿ: ಜಿಲ್ಲೆಯಲ್ಲಿ ಒಟ್ಟು 1293 ಮಂದಿ ಮಕ್ಕಳು,ವಿದ್ಯಾರ್ಥಿಗಳಿಗೆ ಕೊರೊನಾ ಸೋಂಕು!</td>\n",
       "    </tr>\n",
       "  </tbody>\n",
       "</table>\n",
       "</div>"
      ],
      "text/plain": [
       "   Unnamed: 0  \\\n",
       "0           0   \n",
       "1           1   \n",
       "2           2   \n",
       "3           3   \n",
       "4           4   \n",
       "5           5   \n",
       "6           6   \n",
       "7           7   \n",
       "8           8   \n",
       "9           9   \n",
       "\n",
       "                                                                 text_name  \n",
       "0  ಉಡುಪಿ: ಜಿಲ್ಲೆಯಲ್ಲಿ ಒಟ್ಟು 1293 ಮಂದಿ ಮಕ್ಕಳು,ವಿದ್ಯಾರ್ಥಿಗಳಿಗೆ ಕೊರೊನಾ ಸೋಂಕು!  \n",
       "1      ಕ್ರೀಡಾಪಟುಗಳಿಗೆ ವೈಜ್ಞಾನಿಕವಾಗಿ ತರಬೇತಿ ಅಗತ್ಯವಿದೆ: ಸಿಎಂ ಬಸವರಾಜ ಬೊಮ್ಮಾಯಿ  \n",
       "2                              ವಸತಿ ಶಾಲೆಯಲ್ಲಿ 37 ವಿದ್ಯಾರ್ಥಿಗಳಿಗೆ ಸೋಂಕು ದೃಢ  \n",
       "3  ಉಡುಪಿ: ಜಿಲ್ಲೆಯಲ್ಲಿ ಒಟ್ಟು 1293 ಮಂದಿ ಮಕ್ಕಳು,ವಿದ್ಯಾರ್ಥಿಗಳಿಗೆ ಕೊರೊನಾ ಸೋಂಕು!  \n",
       "4      ಕ್ರೀಡಾಪಟುಗಳಿಗೆ ವೈಜ್ಞಾನಿಕವಾಗಿ ತರಬೇತಿ ಅಗತ್ಯವಿದೆ: ಸಿಎಂ ಬಸವರಾಜ ಬೊಮ್ಮಾಯಿ  \n",
       "5                              ವಸತಿ ಶಾಲೆಯಲ್ಲಿ 37 ವಿದ್ಯಾರ್ಥಿಗಳಿಗೆ ಸೋಂಕು ದೃಢ  \n",
       "6  ಉಡುಪಿ: ಜಿಲ್ಲೆಯಲ್ಲಿ ಒಟ್ಟು 1293 ಮಂದಿ ಮಕ್ಕಳು,ವಿದ್ಯಾರ್ಥಿಗಳಿಗೆ ಕೊರೊನಾ ಸೋಂಕು!  \n",
       "7      ಕ್ರೀಡಾಪಟುಗಳಿಗೆ ವೈಜ್ಞಾನಿಕವಾಗಿ ತರಬೇತಿ ಅಗತ್ಯವಿದೆ: ಸಿಎಂ ಬಸವರಾಜ ಬೊಮ್ಮಾಯಿ  \n",
       "8                              ವಸತಿ ಶಾಲೆಯಲ್ಲಿ 37 ವಿದ್ಯಾರ್ಥಿಗಳಿಗೆ ಸೋಂಕು ದೃಢ  \n",
       "9  ಉಡುಪಿ: ಜಿಲ್ಲೆಯಲ್ಲಿ ಒಟ್ಟು 1293 ಮಂದಿ ಮಕ್ಕಳು,ವಿದ್ಯಾರ್ಥಿಗಳಿಗೆ ಕೊರೊನಾ ಸೋಂಕು!  "
      ]
     },
     "execution_count": 67,
     "metadata": {},
     "output_type": "execute_result"
    }
   ],
   "source": [
    "df_true.head(10)"
   ]
  },
  {
   "cell_type": "code",
   "execution_count": 68,
   "metadata": {},
   "outputs": [],
   "source": [
    "df_true.drop(['Unnamed: 0'], axis=1, inplace=True)"
   ]
  },
  {
   "cell_type": "code",
   "execution_count": 69,
   "metadata": {},
   "outputs": [
    {
     "data": {
      "text/html": [
       "<div>\n",
       "<style scoped>\n",
       "    .dataframe tbody tr th:only-of-type {\n",
       "        vertical-align: middle;\n",
       "    }\n",
       "\n",
       "    .dataframe tbody tr th {\n",
       "        vertical-align: top;\n",
       "    }\n",
       "\n",
       "    .dataframe thead th {\n",
       "        text-align: right;\n",
       "    }\n",
       "</style>\n",
       "<table border=\"1\" class=\"dataframe\">\n",
       "  <thead>\n",
       "    <tr style=\"text-align: right;\">\n",
       "      <th></th>\n",
       "      <th>text_name</th>\n",
       "    </tr>\n",
       "  </thead>\n",
       "  <tbody>\n",
       "    <tr>\n",
       "      <th>0</th>\n",
       "      <td>ಮೇಕೆದಾಟು ಪಾದಯಾತ್ರೆ ಆರಂಭ; ಕೋವಿಡ್ ನಿಯಮಗಳು ಗಾಳಿಗೆ</td>\n",
       "    </tr>\n",
       "    <tr>\n",
       "      <th>1</th>\n",
       "      <td>ಉಡುಪಿ ಪರ್ಯಾಯಕ್ಕೆ ಸರ್ಕಾರದ ಕೊರೊನಾ ನಿಯಮ ಅಡ್ಡಿ</td>\n",
       "    </tr>\n",
       "    <tr>\n",
       "      <th>2</th>\n",
       "      <td>ಡಿಸ್ಕೌಂಟ್‌ನಲ್ಲಿ ವಿವೋ ಫೋನ್ ಖರೀದಿ ಮಾಡಬೇಕೆ?..ಹಾಗಿದ್ರೆ ಈ ಆಫರ್ ಗಮನಿಸಿ!</td>\n",
       "    </tr>\n",
       "    <tr>\n",
       "      <th>3</th>\n",
       "      <td>ಕರ್ನಾಟಕದ ಕೋವಿಡ್ ವಾರ್ ರೂಮ್‌ಗೆ ರಾಷ್ಟ್ರಪ್ರಶಸ್ತಿ</td>\n",
       "    </tr>\n",
       "    <tr>\n",
       "      <th>4</th>\n",
       "      <td>ಉತ್ತರ ಕನ್ನಡ; ಶಿರಸಿ ಮಾರಿಕಾಂಬ ಜಾತ್ರೆಗೆ ದಿನಾಂಕ ನಿಗದಿ</td>\n",
       "    </tr>\n",
       "    <tr>\n",
       "      <th>5</th>\n",
       "      <td>ಭಾರತ ನನ್ನ ಔಟ್ ಮಾಡಬೇಕಾದ್ರೆ, ನಂದು ಯಾವುದಾದ್ರೂ ಮೂಳೆ ಮುರೀಬೇಕು!</td>\n",
       "    </tr>\n",
       "    <tr>\n",
       "      <th>6</th>\n",
       "      <td>ಸಾವಿನ ರಸ್ತೆ ಕುಖ್ಯಾತಿಯ ಹುಬ್ಬಳ್ಳಿ-ಧಾರವಾಡ ಬೈಪಸ್ ಅಗಲೀಕರಣ</td>\n",
       "    </tr>\n",
       "    <tr>\n",
       "      <th>7</th>\n",
       "      <td>ಪಂತ್ ಬಾಯಲ್ಲಿ ಬ್ಯಾಟ್ ಬೀಸೋದನ್ನು ಬಿಡ್ಬೇಕು!!! ಬೇಕಿತ್ತಾ ಪಂತ್...</td>\n",
       "    </tr>\n",
       "    <tr>\n",
       "      <th>8</th>\n",
       "      <td>ಜ.9ರಿಂದ ಜ.14ರ ವಾರ ಭವಿಷ್ಯ- ಯಾರಿಗೆಲ್ಲಾ ಅದೃಷ್ಟ ಇದೆ, ರಾಶಿಫಲದಲ್ಲಿ ಏನೆಲ್ಲಾ ಬದಲಾವಣೆ ಇದೆ?</td>\n",
       "    </tr>\n",
       "    <tr>\n",
       "      <th>9</th>\n",
       "      <td>Explained: ಪಂಚರಾಜ್ಯಗಳಿಗೆ ಏಳು ಹಂತಗಳಲ್ಲಿ ಚುನಾವಣೆ</td>\n",
       "    </tr>\n",
       "  </tbody>\n",
       "</table>\n",
       "</div>"
      ],
      "text/plain": [
       "                                                                           text_name\n",
       "0                                     ಮೇಕೆದಾಟು ಪಾದಯಾತ್ರೆ ಆರಂಭ; ಕೋವಿಡ್ ನಿಯಮಗಳು ಗಾಳಿಗೆ\n",
       "1                                         ಉಡುಪಿ ಪರ್ಯಾಯಕ್ಕೆ ಸರ್ಕಾರದ ಕೊರೊನಾ ನಿಯಮ ಅಡ್ಡಿ\n",
       "2                  ಡಿಸ್ಕೌಂಟ್‌ನಲ್ಲಿ ವಿವೋ ಫೋನ್ ಖರೀದಿ ಮಾಡಬೇಕೆ?..ಹಾಗಿದ್ರೆ ಈ ಆಫರ್ ಗಮನಿಸಿ!\n",
       "3                                       ಕರ್ನಾಟಕದ ಕೋವಿಡ್ ವಾರ್ ರೂಮ್‌ಗೆ ರಾಷ್ಟ್ರಪ್ರಶಸ್ತಿ\n",
       "4                                  ಉತ್ತರ ಕನ್ನಡ; ಶಿರಸಿ ಮಾರಿಕಾಂಬ ಜಾತ್ರೆಗೆ ದಿನಾಂಕ ನಿಗದಿ\n",
       "5                          ಭಾರತ ನನ್ನ ಔಟ್ ಮಾಡಬೇಕಾದ್ರೆ, ನಂದು ಯಾವುದಾದ್ರೂ ಮೂಳೆ ಮುರೀಬೇಕು!\n",
       "6                               ಸಾವಿನ ರಸ್ತೆ ಕುಖ್ಯಾತಿಯ ಹುಬ್ಬಳ್ಳಿ-ಧಾರವಾಡ ಬೈಪಸ್ ಅಗಲೀಕರಣ\n",
       "7                         ಪಂತ್ ಬಾಯಲ್ಲಿ ಬ್ಯಾಟ್ ಬೀಸೋದನ್ನು ಬಿಡ್ಬೇಕು!!! ಬೇಕಿತ್ತಾ ಪಂತ್...\n",
       "8  ಜ.9ರಿಂದ ಜ.14ರ ವಾರ ಭವಿಷ್ಯ- ಯಾರಿಗೆಲ್ಲಾ ಅದೃಷ್ಟ ಇದೆ, ರಾಶಿಫಲದಲ್ಲಿ ಏನೆಲ್ಲಾ ಬದಲಾವಣೆ ಇದೆ?\n",
       "9                                     Explained: ಪಂಚರಾಜ್ಯಗಳಿಗೆ ಏಳು ಹಂತಗಳಲ್ಲಿ ಚುನಾವಣೆ"
      ]
     },
     "execution_count": 69,
     "metadata": {},
     "output_type": "execute_result"
    }
   ],
   "source": [
    "df_true1.head(10)"
   ]
  },
  {
   "cell_type": "code",
   "execution_count": 70,
   "metadata": {},
   "outputs": [
    {
     "data": {
      "text/html": [
       "<div>\n",
       "<style scoped>\n",
       "    .dataframe tbody tr th:only-of-type {\n",
       "        vertical-align: middle;\n",
       "    }\n",
       "\n",
       "    .dataframe tbody tr th {\n",
       "        vertical-align: top;\n",
       "    }\n",
       "\n",
       "    .dataframe thead th {\n",
       "        text-align: right;\n",
       "    }\n",
       "</style>\n",
       "<table border=\"1\" class=\"dataframe\">\n",
       "  <thead>\n",
       "    <tr style=\"text-align: right;\">\n",
       "      <th></th>\n",
       "      <th>text_name</th>\n",
       "    </tr>\n",
       "  </thead>\n",
       "  <tbody>\n",
       "    <tr>\n",
       "      <th>0</th>\n",
       "      <td>NaN</td>\n",
       "    </tr>\n",
       "    <tr>\n",
       "      <th>1</th>\n",
       "      <td>NaN</td>\n",
       "    </tr>\n",
       "    <tr>\n",
       "      <th>2</th>\n",
       "      <td>Kodagu: ಮಾಂತ್ರಿಕರ ಮಾತು ಕೇಳಿ ನಿಧಿಗಾಗಿ ಮನೆಯನ್ನೆಲ್ಲಾ ಅಗೆದ ಯುವಕ.. ಆದರೆ ಸಿಕ್ಕಿದ್ದು ಇದೇ ನೋಡಿ..</td>\n",
       "    </tr>\n",
       "    <tr>\n",
       "      <th>3</th>\n",
       "      <td>NaN</td>\n",
       "    </tr>\n",
       "    <tr>\n",
       "      <th>4</th>\n",
       "      <td>NaN</td>\n",
       "    </tr>\n",
       "    <tr>\n",
       "      <th>5</th>\n",
       "      <td>4000 ಕಮ್ಯುನಿಟಿ ಹೆಲ್ತ್​ ಆಫೀಸರ್ ಹುದ್ದೆಗಳಿಗೆ ಅರ್ಜಿ ಆಹ್ವಾನ, ಮಾಸಿಕ ವೇತನ ₹ 35,000</td>\n",
       "    </tr>\n",
       "    <tr>\n",
       "      <th>6</th>\n",
       "      <td>NaN</td>\n",
       "    </tr>\n",
       "    <tr>\n",
       "      <th>7</th>\n",
       "      <td>NaN</td>\n",
       "    </tr>\n",
       "    <tr>\n",
       "      <th>8</th>\n",
       "      <td>Relationship Tips: ನಿಮ್ಮ ಕ್ರಶ್ ಹೀಗೆ ಮೆಸೇಜ್ ಮಾಡ್ತಿದ್ರೆ ಅವರಿಂದ ದೂರ ಇರೋದು ಬೆಸ್ಟ್</td>\n",
       "    </tr>\n",
       "    <tr>\n",
       "      <th>9</th>\n",
       "      <td>NaN</td>\n",
       "    </tr>\n",
       "  </tbody>\n",
       "</table>\n",
       "</div>"
      ],
      "text/plain": [
       "                                                                                  text_name\n",
       "0                                                                                       NaN\n",
       "1                                                                                       NaN\n",
       "2  Kodagu: ಮಾಂತ್ರಿಕರ ಮಾತು ಕೇಳಿ ನಿಧಿಗಾಗಿ ಮನೆಯನ್ನೆಲ್ಲಾ ಅಗೆದ ಯುವಕ.. ಆದರೆ ಸಿಕ್ಕಿದ್ದು ಇದೇ ನೋಡಿ..\n",
       "3                                                                                       NaN\n",
       "4                                                                                       NaN\n",
       "5               4000 ಕಮ್ಯುನಿಟಿ ಹೆಲ್ತ್​ ಆಫೀಸರ್ ಹುದ್ದೆಗಳಿಗೆ ಅರ್ಜಿ ಆಹ್ವಾನ, ಮಾಸಿಕ ವೇತನ ₹ 35,000\n",
       "6                                                                                       NaN\n",
       "7                                                                                       NaN\n",
       "8             Relationship Tips: ನಿಮ್ಮ ಕ್ರಶ್ ಹೀಗೆ ಮೆಸೇಜ್ ಮಾಡ್ತಿದ್ರೆ ಅವರಿಂದ ದೂರ ಇರೋದು ಬೆಸ್ಟ್\n",
       "9                                                                                       NaN"
      ]
     },
     "execution_count": 70,
     "metadata": {},
     "output_type": "execute_result"
    }
   ],
   "source": [
    "df_true2.head(10)"
   ]
  },
  {
   "cell_type": "code",
   "execution_count": 71,
   "metadata": {},
   "outputs": [
    {
     "data": {
      "text/html": [
       "<div>\n",
       "<style scoped>\n",
       "    .dataframe tbody tr th:only-of-type {\n",
       "        vertical-align: middle;\n",
       "    }\n",
       "\n",
       "    .dataframe tbody tr th {\n",
       "        vertical-align: top;\n",
       "    }\n",
       "\n",
       "    .dataframe thead th {\n",
       "        text-align: right;\n",
       "    }\n",
       "</style>\n",
       "<table border=\"1\" class=\"dataframe\">\n",
       "  <thead>\n",
       "    <tr style=\"text-align: right;\">\n",
       "      <th></th>\n",
       "      <th>text_name</th>\n",
       "    </tr>\n",
       "  </thead>\n",
       "  <tbody>\n",
       "    <tr>\n",
       "      <th>0</th>\n",
       "      <td>ಕನಕಪುರ ಸಂಗಮದಲ್ಲಿ ಮೇಕೆದಾಟು ಯೋಜನೆ ಪಾದಯಾತ್ರೆಗೆ ಚಾಲನೆ: ಸರ್ವಧರ್ಮ ಗುರುಗಳು ಭಾಗಿ, ಆರಂಭದಲ್ಲಿಯೇ ಕೋವಿಡ್ ನಿಯಮ ಉಲ್ಲಂಘನೆ!</td>\n",
       "    </tr>\n",
       "    <tr>\n",
       "      <th>1</th>\n",
       "      <td>ಮೇಕೆದಾಟು ಪಾದಯಾತ್ರೆ: ಬೆಂಗಳೂರು ತನಕ ನಡೆದೇ ನಡೆಯುತ್ತೇವೆ- ಸಿದ್ದರಾಮಯ್ಯ</td>\n",
       "    </tr>\n",
       "    <tr>\n",
       "      <th>2</th>\n",
       "      <td>'ಕಾಂಗ್ರೆಸ್ 5 ವರ್ಷ ಅಧಿಕಾರದಲ್ಲಿದ್ದರೂ ಡಿಪಿಆರ್ ನ್ನು ಸಲ್ಲಿಸಲಾಗಿಲ್ಲ, ಮೇಕೆದಾಟು ಪಾದಯಾತ್ರೆ ರಾಜಕೀಯ ಪ್ರೇರಿತ: ಸಿಎಂ ಬೊಮ್ಮಾಯಿ</td>\n",
       "    </tr>\n",
       "    <tr>\n",
       "      <th>3</th>\n",
       "      <td>'ಮೇಕೆ'ದಾಟಲು ಕ್ಷಣಗಣನೆ, ಕಾಂಗ್ರೆಸ್ ನಾಯಕರ ಪಣ, ಸಂಗಮದಲ್ಲಿ ಡಿ ಕೆ ಶಿವಕುಮಾರ್ ಪೂಜೆ ಸಲ್ಲಿಕೆ</td>\n",
       "    </tr>\n",
       "    <tr>\n",
       "      <th>4</th>\n",
       "      <td>ಮೇಕೆದಾಟು ಪಾದಯಾತ್ರೆ: ಜವಾಬ್ದಾರಿಯುತವಾಗಿ ನಡೆದುಕೊಳ್ಳಿ- ಕಾಂಗ್ರೆಸ್ ನಾಯಕರಿಗೆ ರಾಜ್ಯದ ಸಚಿವರು</td>\n",
       "    </tr>\n",
       "    <tr>\n",
       "      <th>5</th>\n",
       "      <td>ಮೇಕೆದಾಟು ಪಾದಯಾತ್ರೆ: ಕಾಂಗ್ರೆಸ್ ನಾಯಕರು ನಾಡಿನ ಜನತೆಯ ಕ್ಷಮೆ ಕೇಳಬೇಕು- ಆರಗ ಜ್ಞಾನೇಂದ್ರ</td>\n",
       "    </tr>\n",
       "    <tr>\n",
       "      <th>6</th>\n",
       "      <td>'ಕಾಂಗ್ರೆಸ್ 5 ವರ್ಷ ಅಧಿಕಾರದಲ್ಲಿದ್ದರೂ ಡಿಪಿಆರ್ ನ್ನು ಸಲ್ಲಿಸಲಾಗಿಲ್ಲ, ಮೇಕೆದಾಟು ಪಾದಯಾತ್ರೆ ರಾಜಕೀಯ ಪ್ರೇರಿತ: ಸಿಎಂ ಬೊಮ್ಮಾಯಿ</td>\n",
       "    </tr>\n",
       "    <tr>\n",
       "      <th>7</th>\n",
       "      <td>ಸುಳ್ಳು ಜಾಹೀರಾತು ನೀಡುವ ಮೂಲಕ ಸರ್ಕಾರ ಜನರಿಗೆ ಮೇಕೆದಾಟು ಯೋಜನೆ ವಿಚಾರದಲ್ಲಿ ತಪ್ಪು ಮಾಹಿತಿ ನೀಡುತ್ತಿದೆ: ಸಿದ್ದರಾಮಯ್ಯ ಆಕ್ರೋಶ</td>\n",
       "    </tr>\n",
       "    <tr>\n",
       "      <th>8</th>\n",
       "      <td>ನಮ್ಮ ಹೋರಾಟ ಕಾವೇರಿ ನೀರಿಗಾಗಿ, ಜನರ ಉಳಿವಿಗಾಗಿ: ಡಿ ಕೆ ಶಿವಕುಮಾರ್</td>\n",
       "    </tr>\n",
       "    <tr>\n",
       "      <th>9</th>\n",
       "      <td>ಭೀಕರ ವಿಡಿಯೋ: ಜಾಲಿ ಮೂಡ್ ನಲ್ಲಿ ಬೋಟಿಂಗ್ ಮಾಡುತ್ತಿದ್ದ ಬೋಟ್ ಗಳ ಮೇಲೆ ಬಿದ್ದ ಬೃಹತ್ ಬಂಡೆ, 7 ಸಾವು, 20 ಮಂದಿ ನಾಪತ್ತೆ; ವಿಡಿಯೋ ವೈರಲ್</td>\n",
       "    </tr>\n",
       "  </tbody>\n",
       "</table>\n",
       "</div>"
      ],
      "text/plain": [
       "                                                                                                               text_name\n",
       "0            ಕನಕಪುರ ಸಂಗಮದಲ್ಲಿ ಮೇಕೆದಾಟು ಯೋಜನೆ ಪಾದಯಾತ್ರೆಗೆ ಚಾಲನೆ: ಸರ್ವಧರ್ಮ ಗುರುಗಳು ಭಾಗಿ, ಆರಂಭದಲ್ಲಿಯೇ ಕೋವಿಡ್ ನಿಯಮ ಉಲ್ಲಂಘನೆ!\n",
       "1                                                        ಮೇಕೆದಾಟು ಪಾದಯಾತ್ರೆ: ಬೆಂಗಳೂರು ತನಕ ನಡೆದೇ ನಡೆಯುತ್ತೇವೆ- ಸಿದ್ದರಾಮಯ್ಯ\n",
       "2        'ಕಾಂಗ್ರೆಸ್ 5 ವರ್ಷ ಅಧಿಕಾರದಲ್ಲಿದ್ದರೂ ಡಿಪಿಆರ್ ನ್ನು ಸಲ್ಲಿಸಲಾಗಿಲ್ಲ, ಮೇಕೆದಾಟು ಪಾದಯಾತ್ರೆ ರಾಜಕೀಯ ಪ್ರೇರಿತ: ಸಿಎಂ ಬೊಮ್ಮಾಯಿ\n",
       "3                                       'ಮೇಕೆ'ದಾಟಲು ಕ್ಷಣಗಣನೆ, ಕಾಂಗ್ರೆಸ್ ನಾಯಕರ ಪಣ, ಸಂಗಮದಲ್ಲಿ ಡಿ ಕೆ ಶಿವಕುಮಾರ್ ಪೂಜೆ ಸಲ್ಲಿಕೆ\n",
       "4                                     ಮೇಕೆದಾಟು ಪಾದಯಾತ್ರೆ: ಜವಾಬ್ದಾರಿಯುತವಾಗಿ ನಡೆದುಕೊಳ್ಳಿ- ಕಾಂಗ್ರೆಸ್ ನಾಯಕರಿಗೆ ರಾಜ್ಯದ ಸಚಿವರು\n",
       "5                                         ಮೇಕೆದಾಟು ಪಾದಯಾತ್ರೆ: ಕಾಂಗ್ರೆಸ್ ನಾಯಕರು ನಾಡಿನ ಜನತೆಯ ಕ್ಷಮೆ ಕೇಳಬೇಕು- ಆರಗ ಜ್ಞಾನೇಂದ್ರ\n",
       "6        'ಕಾಂಗ್ರೆಸ್ 5 ವರ್ಷ ಅಧಿಕಾರದಲ್ಲಿದ್ದರೂ ಡಿಪಿಆರ್ ನ್ನು ಸಲ್ಲಿಸಲಾಗಿಲ್ಲ, ಮೇಕೆದಾಟು ಪಾದಯಾತ್ರೆ ರಾಜಕೀಯ ಪ್ರೇರಿತ: ಸಿಎಂ ಬೊಮ್ಮಾಯಿ\n",
       "7         ಸುಳ್ಳು ಜಾಹೀರಾತು ನೀಡುವ ಮೂಲಕ ಸರ್ಕಾರ ಜನರಿಗೆ ಮೇಕೆದಾಟು ಯೋಜನೆ ವಿಚಾರದಲ್ಲಿ ತಪ್ಪು ಮಾಹಿತಿ ನೀಡುತ್ತಿದೆ: ಸಿದ್ದರಾಮಯ್ಯ ಆಕ್ರೋಶ\n",
       "8                                                             ನಮ್ಮ ಹೋರಾಟ ಕಾವೇರಿ ನೀರಿಗಾಗಿ, ಜನರ ಉಳಿವಿಗಾಗಿ: ಡಿ ಕೆ ಶಿವಕುಮಾರ್\n",
       "9  ಭೀಕರ ವಿಡಿಯೋ: ಜಾಲಿ ಮೂಡ್ ನಲ್ಲಿ ಬೋಟಿಂಗ್ ಮಾಡುತ್ತಿದ್ದ ಬೋಟ್ ಗಳ ಮೇಲೆ ಬಿದ್ದ ಬೃಹತ್ ಬಂಡೆ, 7 ಸಾವು, 20 ಮಂದಿ ನಾಪತ್ತೆ; ವಿಡಿಯೋ ವೈರಲ್"
      ]
     },
     "execution_count": 71,
     "metadata": {},
     "output_type": "execute_result"
    }
   ],
   "source": [
    "df_true3.head(10)"
   ]
  },
  {
   "cell_type": "code",
   "execution_count": 72,
   "metadata": {},
   "outputs": [
    {
     "data": {
      "text/plain": [
       "((63, 1), (60, 1), (195, 1), (137, 1))"
      ]
     },
     "execution_count": 72,
     "metadata": {},
     "output_type": "execute_result"
    }
   ],
   "source": [
    "df_true.shape, df_true1.shape, df_true2.shape, df_true3.shape"
   ]
  },
  {
   "cell_type": "code",
   "execution_count": 73,
   "metadata": {},
   "outputs": [],
   "source": [
    "df_true = df_true.drop_duplicates(subset = ['text_name'], keep = 'last').reset_index(drop = True)\n",
    "df_true1 = df_true1.drop_duplicates(subset = ['text_name'], keep = 'last').reset_index(drop = True)\n",
    "df_true2 = df_true2.drop_duplicates(subset = ['text_name'], keep = 'last').reset_index(drop = True)\n",
    "df_true3 = df_true3.drop_duplicates(subset = ['text_name'], keep = 'last').reset_index(drop = True)"
   ]
  },
  {
   "cell_type": "code",
   "execution_count": 74,
   "metadata": {},
   "outputs": [
    {
     "data": {
      "text/plain": [
       "((3, 1), (58, 1), (23, 1), (118, 1))"
      ]
     },
     "execution_count": 74,
     "metadata": {},
     "output_type": "execute_result"
    }
   ],
   "source": [
    "df_true.shape, df_true1.shape, df_true2.shape, df_true3.shape"
   ]
  },
  {
   "cell_type": "code",
   "execution_count": 75,
   "metadata": {},
   "outputs": [],
   "source": [
    "df_merge_true = pd.concat([df_true, df_true1, df_true2, df_true3], axis = 0)"
   ]
  },
  {
   "cell_type": "code",
   "execution_count": 76,
   "metadata": {},
   "outputs": [],
   "source": [
    "df_merge_true[\"real/fake\"] = \"Real\""
   ]
  },
  {
   "cell_type": "code",
   "execution_count": 77,
   "metadata": {},
   "outputs": [
    {
     "data": {
      "text/plain": [
       "(202, 2)"
      ]
     },
     "execution_count": 77,
     "metadata": {},
     "output_type": "execute_result"
    }
   ],
   "source": [
    "df_merge_true.shape"
   ]
  },
  {
   "cell_type": "code",
   "execution_count": 78,
   "metadata": {},
   "outputs": [],
   "source": [
    "df_merge_true = df_merge_true.drop_duplicates(subset = ['text_name'], keep = 'last').reset_index(drop = True)"
   ]
  },
  {
   "cell_type": "code",
   "execution_count": 79,
   "metadata": {},
   "outputs": [
    {
     "data": {
      "text/html": [
       "<div>\n",
       "<style scoped>\n",
       "    .dataframe tbody tr th:only-of-type {\n",
       "        vertical-align: middle;\n",
       "    }\n",
       "\n",
       "    .dataframe tbody tr th {\n",
       "        vertical-align: top;\n",
       "    }\n",
       "\n",
       "    .dataframe thead th {\n",
       "        text-align: right;\n",
       "    }\n",
       "</style>\n",
       "<table border=\"1\" class=\"dataframe\">\n",
       "  <thead>\n",
       "    <tr style=\"text-align: right;\">\n",
       "      <th></th>\n",
       "      <th>text_name</th>\n",
       "      <th>real/fake</th>\n",
       "    </tr>\n",
       "  </thead>\n",
       "  <tbody>\n",
       "    <tr>\n",
       "      <th>192</th>\n",
       "      <td>ಮಾರುತಿ ಸುಜುಕಿಯ ಹೊಸ ಸೆಲೆರಿಯೊ ಮಾರುಕಟ್ಟೆಗೆ ಬಿಡುಗಡೆ, ಬೆಲೆ ರೂ. 4.99 ಲಕ್ಷ</td>\n",
       "      <td>Real</td>\n",
       "    </tr>\n",
       "    <tr>\n",
       "      <th>193</th>\n",
       "      <td>ಟಾಟಾ 'ಪಂಚ್‌' ಸಣ್ಣ ಎಸ್‌ಯುವಿ ಬುಕಿಂಗ್‌ ಆರಂಭ, ಕಾರಿನ ವಿಶೇಷತೆಗಳ ಮಾಹಿತಿ ಇಲ್ಲಿದೆ</td>\n",
       "      <td>Real</td>\n",
       "    </tr>\n",
       "    <tr>\n",
       "      <th>194</th>\n",
       "      <td>ದಿಸ್‏ವಿನ್ - ಭಾರತದಲ್ಲಿ ಲೈವ್ ಕ್ರೀಡೆಗಳ ಇತ್ತೀಚಿನ ಟ್ರೆಂಡ್</td>\n",
       "      <td>Real</td>\n",
       "    </tr>\n",
       "    <tr>\n",
       "      <th>195</th>\n",
       "      <td>ಗುಣಮಟ್ಟಕ್ಕೆ ಹೆಸರುವಾಸಿಯಾದ ಗೋಲ್ಡ್ ವಿನ್ನರ್ ಈಗ ಎಲ್ಡಿಯಾ ಶುದ್ಧ ಕೊಬ್ಬರಿ ಎಣ್ಣೆಯನ್ನು ತನ್ನ ಸಮೂಹಕ್ಕೆ ಸ್ವಾಗತಿಸುತ್ತಿದೆ</td>\n",
       "      <td>Real</td>\n",
       "    </tr>\n",
       "    <tr>\n",
       "      <th>196</th>\n",
       "      <td>ಉತ್ತಮ ನಿದ್ರೆಯ ಪ್ರಾಮುಖ್ಯತೆ ಸಾರಲು ರೆಸ್‏ಮೆಡ್ ನಿಂದ #WakeUpToGoodSleep ಕ್ಯಾಂಪೇನ್</td>\n",
       "      <td>Real</td>\n",
       "    </tr>\n",
       "    <tr>\n",
       "      <th>197</th>\n",
       "      <td>ಅಮೆರಿಕದ ಐಷಾರಾಮಿ ಹೋಟೆಲ್ ಖರೀದಿಸಿದ ಉದ್ಯಮಿ ಮುಖೇಶ್ ಅಂಬಾನಿ!</td>\n",
       "      <td>Real</td>\n",
       "    </tr>\n",
       "    <tr>\n",
       "      <th>198</th>\n",
       "      <td>ನೋ ಬಾಲ್ ಅಲ್ಲ.. ವೈಡ್ ಬಾಲ್ ಅಲ್ವೇ ಅಲ್ಲ; ಫೀಲ್ಡರ್ ಗಳ ಎಡವಟ್ಟಿಗೆ 7 ರನ್ ಚಚ್ಚಿಸಿಕೊಂಡ ಬೌಲರ್; ವಿಡಿಯೋ ವೈರಲ್</td>\n",
       "      <td>Real</td>\n",
       "    </tr>\n",
       "    <tr>\n",
       "      <th>199</th>\n",
       "      <td>ಟೆಸ್ಟ್ ನಲ್ಲಿ ವಿಶ್ವ ದಾಖಲೆ ನಿರ್ಮಿಸಿದ ನ್ಯೂಜಿಲೆಂಡ್ ಆಟಗಾರ ಡೆವೂನ್ ಕಾನ್ವೇ</td>\n",
       "      <td>Real</td>\n",
       "    </tr>\n",
       "    <tr>\n",
       "      <th>200</th>\n",
       "      <td>ವಿಟ್ಲ: ಕೊರಗಜ್ಜನ ವೇಷ ಧರಿಸಿ ಕುಣಿದ ಮುಸ್ಲಿಂ ಮದುಮಗ; ಪೊಲೀಸರಿಂದ ಪ್ರಕರಣ ದಾಖಲು</td>\n",
       "      <td>Real</td>\n",
       "    </tr>\n",
       "    <tr>\n",
       "      <th>201</th>\n",
       "      <td>ಭೀಕರ ವಿಡಿಯೋ: ಜಾಲಿ ಮೂಡ್ ನಲ್ಲಿ ಬೋಟಿಂಗ್ ಮಾಡುತ್ತಿದ್ದ ಬೋಟ್ ಗಳ ಮೇಲೆ ಬಿದ್ದ ಬೃಹತ್ ಬಂಡೆ, 7 ಸಾವು, 20 ಮಂದಿ ನಾಪತ್ತೆ; ವಿಡಿಯೋ ವೈರಲ್</td>\n",
       "      <td>Real</td>\n",
       "    </tr>\n",
       "  </tbody>\n",
       "</table>\n",
       "</div>"
      ],
      "text/plain": [
       "                                                                                                                 text_name  \\\n",
       "192                                                    ಮಾರುತಿ ಸುಜುಕಿಯ ಹೊಸ ಸೆಲೆರಿಯೊ ಮಾರುಕಟ್ಟೆಗೆ ಬಿಡುಗಡೆ, ಬೆಲೆ ರೂ. 4.99 ಲಕ್ಷ   \n",
       "193                                               ಟಾಟಾ 'ಪಂಚ್‌' ಸಣ್ಣ ಎಸ್‌ಯುವಿ ಬುಕಿಂಗ್‌ ಆರಂಭ, ಕಾರಿನ ವಿಶೇಷತೆಗಳ ಮಾಹಿತಿ ಇಲ್ಲಿದೆ   \n",
       "194                                                                   ದಿಸ್‏ವಿನ್ - ಭಾರತದಲ್ಲಿ ಲೈವ್ ಕ್ರೀಡೆಗಳ ಇತ್ತೀಚಿನ ಟ್ರೆಂಡ್   \n",
       "195              ಗುಣಮಟ್ಟಕ್ಕೆ ಹೆಸರುವಾಸಿಯಾದ ಗೋಲ್ಡ್ ವಿನ್ನರ್ ಈಗ ಎಲ್ಡಿಯಾ ಶುದ್ಧ ಕೊಬ್ಬರಿ ಎಣ್ಣೆಯನ್ನು ತನ್ನ ಸಮೂಹಕ್ಕೆ ಸ್ವಾಗತಿಸುತ್ತಿದೆ   \n",
       "196                                            ಉತ್ತಮ ನಿದ್ರೆಯ ಪ್ರಾಮುಖ್ಯತೆ ಸಾರಲು ರೆಸ್‏ಮೆಡ್ ನಿಂದ #WakeUpToGoodSleep ಕ್ಯಾಂಪೇನ್   \n",
       "197                                                                  ಅಮೆರಿಕದ ಐಷಾರಾಮಿ ಹೋಟೆಲ್ ಖರೀದಿಸಿದ ಉದ್ಯಮಿ ಮುಖೇಶ್ ಅಂಬಾನಿ!   \n",
       "198                        ನೋ ಬಾಲ್ ಅಲ್ಲ.. ವೈಡ್ ಬಾಲ್ ಅಲ್ವೇ ಅಲ್ಲ; ಫೀಲ್ಡರ್ ಗಳ ಎಡವಟ್ಟಿಗೆ 7 ರನ್ ಚಚ್ಚಿಸಿಕೊಂಡ ಬೌಲರ್; ವಿಡಿಯೋ ವೈರಲ್   \n",
       "199                                                     ಟೆಸ್ಟ್ ನಲ್ಲಿ ವಿಶ್ವ ದಾಖಲೆ ನಿರ್ಮಿಸಿದ ನ್ಯೂಜಿಲೆಂಡ್ ಆಟಗಾರ ಡೆವೂನ್ ಕಾನ್ವೇ   \n",
       "200                                                  ವಿಟ್ಲ: ಕೊರಗಜ್ಜನ ವೇಷ ಧರಿಸಿ ಕುಣಿದ ಮುಸ್ಲಿಂ ಮದುಮಗ; ಪೊಲೀಸರಿಂದ ಪ್ರಕರಣ ದಾಖಲು   \n",
       "201  ಭೀಕರ ವಿಡಿಯೋ: ಜಾಲಿ ಮೂಡ್ ನಲ್ಲಿ ಬೋಟಿಂಗ್ ಮಾಡುತ್ತಿದ್ದ ಬೋಟ್ ಗಳ ಮೇಲೆ ಬಿದ್ದ ಬೃಹತ್ ಬಂಡೆ, 7 ಸಾವು, 20 ಮಂದಿ ನಾಪತ್ತೆ; ವಿಡಿಯೋ ವೈರಲ್   \n",
       "\n",
       "    real/fake  \n",
       "192      Real  \n",
       "193      Real  \n",
       "194      Real  \n",
       "195      Real  \n",
       "196      Real  \n",
       "197      Real  \n",
       "198      Real  \n",
       "199      Real  \n",
       "200      Real  \n",
       "201      Real  "
      ]
     },
     "execution_count": 79,
     "metadata": {},
     "output_type": "execute_result"
    }
   ],
   "source": [
    "df_merge_true.tail(10)"
   ]
  },
  {
   "cell_type": "code",
   "execution_count": 80,
   "metadata": {},
   "outputs": [
    {
     "data": {
      "text/plain": [
       "(202, 2)"
      ]
     },
     "execution_count": 80,
     "metadata": {},
     "output_type": "execute_result"
    }
   ],
   "source": [
    "df_merge_true.shape"
   ]
  },
  {
   "cell_type": "code",
   "execution_count": 81,
   "metadata": {},
   "outputs": [],
   "source": [
    "df_fake = pd.read_csv(\"E:\\\\isfcr project\\\\fake_kannada.csv\")\n",
    "df_fake1 = pd.read_csv(\"E:\\\\isfcr project\\\\fake1_kannada.csv\")\n",
    "df_fake2 = pd.read_csv(\"E:\\\\isfcr project\\\\fake2_kannada.csv\")\n",
    "df_fake3 = pd.read_csv(\"E:\\\\isfcr project\\\\fake3_kannada.csv\")\n",
    "df_fake4 = pd.read_csv(\"E:\\\\isfcr project\\\\fake4_kannada.csv\")\n",
    "df_fake5 = pd.read_csv(\"E:\\\\isfcr project\\\\fake5_kannada.csv\")\n",
    "df_fake6 = pd.read_csv(\"E:\\\\isfcr project\\\\fake6_kannada.csv\")\n",
    "df_fake7 = pd.read_csv(\"E:\\\\isfcr project\\\\fake7_kannada.csv\")\n",
    "df_fake8 = pd.read_csv(\"E:\\\\isfcr project\\\\fake8_kannada.csv\")"
   ]
  },
  {
   "cell_type": "code",
   "execution_count": 82,
   "metadata": {},
   "outputs": [],
   "source": [
    "df_fake1 = df_fake1.drop(['text_url'], axis = 1)\n",
    "df_fake2 = df_fake2.drop(['text_url'], axis = 1)\n",
    "df_fake3 = df_fake3.drop(['text_url'], axis = 1)\n",
    "df_fake4 = df_fake4.drop(['text_url'], axis = 1)\n",
    "df_fake5 = df_fake5.drop(['text_url'], axis = 1)\n",
    "df_fake6 = df_fake6.drop(['text_url'], axis = 1)\n",
    "df_fake7 = df_fake7.drop(['text_url'], axis = 1)\n",
    "df_fake8 = df_fake8.drop(['text_url'], axis = 1)"
   ]
  },
  {
   "cell_type": "code",
   "execution_count": 83,
   "metadata": {},
   "outputs": [],
   "source": [
    "df_fake.drop(['Unnamed: 0'], axis=1, inplace=True)"
   ]
  },
  {
   "cell_type": "code",
   "execution_count": 84,
   "metadata": {},
   "outputs": [
    {
     "data": {
      "text/html": [
       "<div>\n",
       "<style scoped>\n",
       "    .dataframe tbody tr th:only-of-type {\n",
       "        vertical-align: middle;\n",
       "    }\n",
       "\n",
       "    .dataframe tbody tr th {\n",
       "        vertical-align: top;\n",
       "    }\n",
       "\n",
       "    .dataframe thead th {\n",
       "        text-align: right;\n",
       "    }\n",
       "</style>\n",
       "<table border=\"1\" class=\"dataframe\">\n",
       "  <thead>\n",
       "    <tr style=\"text-align: right;\">\n",
       "      <th></th>\n",
       "      <th>text_name</th>\n",
       "    </tr>\n",
       "  </thead>\n",
       "  <tbody>\n",
       "    <tr>\n",
       "      <th>0</th>\n",
       "      <td>Review: Why is the assurance on ‘Pre-Nuptial Agreements’ dropped?</td>\n",
       "    </tr>\n",
       "    <tr>\n",
       "      <th>1</th>\n",
       "      <td>ಕುದುರೆ ಕೂದಲು ಹುಳುವಿನ ವೀಡಿಯೋವನ್ನು ಶಿವ ನಾಗ ಮರದ ಬೇರು ಎಂದು ತಪ್ಪಾಗಿ ಹಂಚಿಕೊಳ್ಳಲಾಗಿದೆ</td>\n",
       "    </tr>\n",
       "    <tr>\n",
       "      <th>2</th>\n",
       "      <td>ನಿಮ್ಮ ಫೋನ್ ಅನ್ನು ಚಾರ್ಜ್ ಮಾಡುತ್ತಿರುವಾಗ ಮಾತನಾಡಿದರೆ ಸ್ಪೋಟಗೊಳ್ಳುತ್ತದೆ ಎಂಬುದು ನಿಜವಾಗಿ ನಡೆದ ಘಟನೆ ಅಲ್ಲ</td>\n",
       "    </tr>\n",
       "    <tr>\n",
       "      <th>3</th>\n",
       "      <td>ಬಿಜೆಪಿ ಶಾಸಕ ರಾಜಾಸಿಂಗ್‌ರವರನ್ನು ಪೊಲೀಸರು ಬಂಧಿಸಿದ ಹಳೆಯ ವಿಡಿಯೋವನ್ನು ಇತ್ತೀಚಿಗಿನ ಪ್ರಕರಣ ಎಂದು ತಪ್ಪುದಾರಿಗೆಳೆಯುತ್ತಿದ್ದಾರೆ</td>\n",
       "    </tr>\n",
       "    <tr>\n",
       "      <th>4</th>\n",
       "      <td>ಶಿವಲಿಂಗಕ್ಕೆ ಹಾಲು ಹಾಕುವುದನ್ನು ನಿಲ್ಲಿಸಬೇಕು ಎಂಬ ಅಮೀರ್ ಖಾನ್ ಹೇಳಿಕೆಗೆ ಪ್ರತಿಯಾಗಿ ಮುಸ್ಲಿಮರು ಗೋರಿಗಳ ಮೇಲೆ ಚಾದರ್ ಹಾಕುವುದನ್ನು ನಿಲ್ಲಿಸಬೇಕು ಎಂದು ಪಾಯಲ್ ರೋಹಟ್ಗಿ ಹೇಳಿಕೆ ನೀಡಿಲ್ಲ</td>\n",
       "    </tr>\n",
       "    <tr>\n",
       "      <th>5</th>\n",
       "      <td>ಕಳ್ಳತನಕ್ಕೆ ಸಂಬಂಧಿಸಿದ ವೀಡಿಯೊವನ್ನು ತಿರುಪತಿ ದೇವಸ್ಥಾನ ಸಮಿತಿ ಸದಸ್ಯನ (TTD) ಮನೆಗೆ IT ದಾಳಿ ಎಂದು ತಪ್ಪಾಗಿ ಹಂಚಿಕೊಳ್ಳಲಾಗುತ್ತಿದೆ</td>\n",
       "    </tr>\n",
       "    <tr>\n",
       "      <th>6</th>\n",
       "      <td>ವಿಮಾನ ನಿಲ್ದಾಣದಲ್ಲಿ ಸಾರ್ವಜನಿಕವಾಗಿ ಮೂತ್ರ ವಿಸರ್ಜನೆ ಮಾಡಿದ್ದಕ್ಕಾಗಿ ಬಂಧಿಸಿದ್ದು ಆರ್ಯನ್ ಖಾನ್‌ರನ್ನು ಅಲ್ಲ, ಬದಲಿಗೆ ಟ್ವಿಲೈಟ್ ನಟ ಬ್ರಾನ್ಸನ್ ಪೆಲ್ಲೆಟಿಯರ್ ರನ್ನು</td>\n",
       "    </tr>\n",
       "    <tr>\n",
       "      <th>7</th>\n",
       "      <td>ಹಳೆದ ಸಂಬಂಧವಿಲ್ಲದ ಫೋಟೊವನ್ನು ತಪ್ಪಾಗಿ ಕರ್ನಾಲ್ ವೈದ್ಯ ಸಗಣಿ ತಿಂದಿದ್ದಕ್ಕೆ ಆಸ್ಪತ್ರೆಗೆ ದಾಖಲಾಗಿದ್ದಾರೆ ಎಂದು  ಹಂಚಿಕೊಳ್ಳಲಾಗಿದೆ</td>\n",
       "    </tr>\n",
       "    <tr>\n",
       "      <th>8</th>\n",
       "      <td>ರಾಜ್ಯದಲ್ಲಿ ರಸ್ತೆ ಅಗಲೀಕರಣದ ಸಮಯದಲ್ಲಿ ಕೆಡವಿದ ಮಸೀದಿಯ ಕೆಳಗೆ ಹಿಂದೂ ದೇವಾಲಯ ಸಿಕ್ಕಿರಲಿಲ್ಲ</td>\n",
       "    </tr>\n",
       "    <tr>\n",
       "      <th>9</th>\n",
       "      <td>ಟಿ.ವಿ. ವಾಹಿನಿ ಸಂಪಾದಕ ಮಾತನಾಡಿದ್ದನ್ನು ಕಾಂಗ್ರೆಸ್ ವಕ್ತಾರ ಮೋದಿ ಹೊಗಳಿದ್ದಾರೆಂದು ತಪ್ಪಾಗಿ ಹಂಚಿಕೊಳ್ಳಲಾಗಿದೆ</td>\n",
       "    </tr>\n",
       "  </tbody>\n",
       "</table>\n",
       "</div>"
      ],
      "text/plain": [
       "                                                                                                                                                          text_name\n",
       "0                                                                                                 Review: Why is the assurance on ‘Pre-Nuptial Agreements’ dropped?\n",
       "1                                                                                    ಕುದುರೆ ಕೂದಲು ಹುಳುವಿನ ವೀಡಿಯೋವನ್ನು ಶಿವ ನಾಗ ಮರದ ಬೇರು ಎಂದು ತಪ್ಪಾಗಿ ಹಂಚಿಕೊಳ್ಳಲಾಗಿದೆ\n",
       "2                                                                   ನಿಮ್ಮ ಫೋನ್ ಅನ್ನು ಚಾರ್ಜ್ ಮಾಡುತ್ತಿರುವಾಗ ಮಾತನಾಡಿದರೆ ಸ್ಪೋಟಗೊಳ್ಳುತ್ತದೆ ಎಂಬುದು ನಿಜವಾಗಿ ನಡೆದ ಘಟನೆ ಅಲ್ಲ\n",
       "3                                                   ಬಿಜೆಪಿ ಶಾಸಕ ರಾಜಾಸಿಂಗ್‌ರವರನ್ನು ಪೊಲೀಸರು ಬಂಧಿಸಿದ ಹಳೆಯ ವಿಡಿಯೋವನ್ನು ಇತ್ತೀಚಿಗಿನ ಪ್ರಕರಣ ಎಂದು ತಪ್ಪುದಾರಿಗೆಳೆಯುತ್ತಿದ್ದಾರೆ\n",
       "4  ಶಿವಲಿಂಗಕ್ಕೆ ಹಾಲು ಹಾಕುವುದನ್ನು ನಿಲ್ಲಿಸಬೇಕು ಎಂಬ ಅಮೀರ್ ಖಾನ್ ಹೇಳಿಕೆಗೆ ಪ್ರತಿಯಾಗಿ ಮುಸ್ಲಿಮರು ಗೋರಿಗಳ ಮೇಲೆ ಚಾದರ್ ಹಾಕುವುದನ್ನು ನಿಲ್ಲಿಸಬೇಕು ಎಂದು ಪಾಯಲ್ ರೋಹಟ್ಗಿ ಹೇಳಿಕೆ ನೀಡಿಲ್ಲ\n",
       "5                                               ಕಳ್ಳತನಕ್ಕೆ ಸಂಬಂಧಿಸಿದ ವೀಡಿಯೊವನ್ನು ತಿರುಪತಿ ದೇವಸ್ಥಾನ ಸಮಿತಿ ಸದಸ್ಯನ (TTD) ಮನೆಗೆ IT ದಾಳಿ ಎಂದು ತಪ್ಪಾಗಿ ಹಂಚಿಕೊಳ್ಳಲಾಗುತ್ತಿದೆ\n",
       "6                   ವಿಮಾನ ನಿಲ್ದಾಣದಲ್ಲಿ ಸಾರ್ವಜನಿಕವಾಗಿ ಮೂತ್ರ ವಿಸರ್ಜನೆ ಮಾಡಿದ್ದಕ್ಕಾಗಿ ಬಂಧಿಸಿದ್ದು ಆರ್ಯನ್ ಖಾನ್‌ರನ್ನು ಅಲ್ಲ, ಬದಲಿಗೆ ಟ್ವಿಲೈಟ್ ನಟ ಬ್ರಾನ್ಸನ್ ಪೆಲ್ಲೆಟಿಯರ್ ರನ್ನು\n",
       "7                                                 ಹಳೆದ ಸಂಬಂಧವಿಲ್ಲದ ಫೋಟೊವನ್ನು ತಪ್ಪಾಗಿ ಕರ್ನಾಲ್ ವೈದ್ಯ ಸಗಣಿ ತಿಂದಿದ್ದಕ್ಕೆ ಆಸ್ಪತ್ರೆಗೆ ದಾಖಲಾಗಿದ್ದಾರೆ ಎಂದು  ಹಂಚಿಕೊಳ್ಳಲಾಗಿದೆ\n",
       "8                                                                                  ರಾಜ್ಯದಲ್ಲಿ ರಸ್ತೆ ಅಗಲೀಕರಣದ ಸಮಯದಲ್ಲಿ ಕೆಡವಿದ ಮಸೀದಿಯ ಕೆಳಗೆ ಹಿಂದೂ ದೇವಾಲಯ ಸಿಕ್ಕಿರಲಿಲ್ಲ\n",
       "9                                                                  ಟಿ.ವಿ. ವಾಹಿನಿ ಸಂಪಾದಕ ಮಾತನಾಡಿದ್ದನ್ನು ಕಾಂಗ್ರೆಸ್ ವಕ್ತಾರ ಮೋದಿ ಹೊಗಳಿದ್ದಾರೆಂದು ತಪ್ಪಾಗಿ ಹಂಚಿಕೊಳ್ಳಲಾಗಿದೆ"
      ]
     },
     "execution_count": 84,
     "metadata": {},
     "output_type": "execute_result"
    }
   ],
   "source": [
    "df_fake.head(10)"
   ]
  },
  {
   "cell_type": "code",
   "execution_count": 85,
   "metadata": {},
   "outputs": [
    {
     "data": {
      "text/html": [
       "<div>\n",
       "<style scoped>\n",
       "    .dataframe tbody tr th:only-of-type {\n",
       "        vertical-align: middle;\n",
       "    }\n",
       "\n",
       "    .dataframe tbody tr th {\n",
       "        vertical-align: top;\n",
       "    }\n",
       "\n",
       "    .dataframe thead th {\n",
       "        text-align: right;\n",
       "    }\n",
       "</style>\n",
       "<table border=\"1\" class=\"dataframe\">\n",
       "  <thead>\n",
       "    <tr style=\"text-align: right;\">\n",
       "      <th></th>\n",
       "      <th>text_name</th>\n",
       "    </tr>\n",
       "  </thead>\n",
       "  <tbody>\n",
       "    <tr>\n",
       "      <th>0</th>\n",
       "      <td>ಕುದುರೆ ಕೂದಲು ಹುಳುವಿನ ವೀಡಿಯೋವನ್ನು ಶಿವ ನಾಗ ಮರದ ಬೇರು ಎಂದು ತಪ್ಪಾಗಿ ಹಂಚಿಕೊಳ್ಳಲಾಗಿದೆ</td>\n",
       "    </tr>\n",
       "    <tr>\n",
       "      <th>1</th>\n",
       "      <td>ನಿಮ್ಮ ಫೋನ್ ಅನ್ನು ಚಾರ್ಜ್ ಮಾಡುತ್ತಿರುವಾಗ ಮಾತನಾಡಿದರೆ ಸ್ಪೋಟಗೊಳ್ಳುತ್ತದೆ ಎಂಬುದು ನಿಜವಾಗಿ ನಡೆದ ಘಟನೆ ಅಲ್ಲ</td>\n",
       "    </tr>\n",
       "    <tr>\n",
       "      <th>2</th>\n",
       "      <td>ಬಿಜೆಪಿ ಶಾಸಕ ರಾಜಾಸಿಂಗ್‌ರವರನ್ನು ಪೊಲೀಸರು ಬಂಧಿಸಿದ ಹಳೆಯ ವಿಡಿಯೋವನ್ನು ಇತ್ತೀಚಿಗಿನ ಪ್ರಕರಣ ಎಂದು ತಪ್ಪುದಾರಿಗೆಳೆಯುತ್ತಿದ್ದಾರೆ</td>\n",
       "    </tr>\n",
       "    <tr>\n",
       "      <th>3</th>\n",
       "      <td>ಶಿವಲಿಂಗಕ್ಕೆ ಹಾಲು ಹಾಕುವುದನ್ನು ನಿಲ್ಲಿಸಬೇಕು ಎಂಬ ಅಮೀರ್ ಖಾನ್ ಹೇಳಿಕೆಗೆ ಪ್ರತಿಯಾಗಿ ಮುಸ್ಲಿಮರು ಗೋರಿಗಳ ಮೇಲೆ ಚಾದರ್ ಹಾಕುವುದನ್ನು ನಿಲ್ಲಿಸಬೇಕು ಎಂದು ಪಾಯಲ್ ರೋಹಟ್ಗಿ ಹೇಳಿಕೆ ನೀಡಿಲ್ಲ</td>\n",
       "    </tr>\n",
       "    <tr>\n",
       "      <th>4</th>\n",
       "      <td>ಕಳ್ಳತನಕ್ಕೆ ಸಂಬಂಧಿಸಿದ ವೀಡಿಯೊವನ್ನು ತಿರುಪತಿ ದೇವಸ್ಥಾನ ಸಮಿತಿ ಸದಸ್ಯನ (TTD) ಮನೆಗೆ IT ದಾಳಿ ಎಂದು ತಪ್ಪಾಗಿ ಹಂಚಿಕೊಳ್ಳಲಾಗುತ್ತಿದೆ</td>\n",
       "    </tr>\n",
       "    <tr>\n",
       "      <th>5</th>\n",
       "      <td>ವಿಮಾನ ನಿಲ್ದಾಣದಲ್ಲಿ ಸಾರ್ವಜನಿಕವಾಗಿ ಮೂತ್ರ ವಿಸರ್ಜನೆ ಮಾಡಿದ್ದಕ್ಕಾಗಿ ಬಂಧಿಸಿದ್ದು ಆರ್ಯನ್ ಖಾನ್‌ರನ್ನು ಅಲ್ಲ, ಬದಲಿಗೆ ಟ್ವಿಲೈಟ್ ನಟ ಬ್ರಾನ್ಸನ್ ಪೆಲ್ಲೆಟಿಯರ್ ರನ್ನು</td>\n",
       "    </tr>\n",
       "    <tr>\n",
       "      <th>6</th>\n",
       "      <td>ಹಳೆದ ಸಂಬಂಧವಿಲ್ಲದ ಫೋಟೊವನ್ನು ತಪ್ಪಾಗಿ ಕರ್ನಾಲ್ ವೈದ್ಯ ಸಗಣಿ ತಿಂದಿದ್ದಕ್ಕೆ ಆಸ್ಪತ್ರೆಗೆ ದಾಖಲಾಗಿದ್ದಾರೆ ಎಂದು ಹಂಚಿಕೊಳ್ಳಲಾಗಿದೆ</td>\n",
       "    </tr>\n",
       "    <tr>\n",
       "      <th>7</th>\n",
       "      <td>ರಾಜ್ಯದಲ್ಲಿ ರಸ್ತೆ ಅಗಲೀಕರಣದ ಸಮಯದಲ್ಲಿ ಕೆಡವಿದ ಮಸೀದಿಯ ಕೆಳಗೆ ಹಿಂದೂ ದೇವಾಲಯ ಸಿಕ್ಕಿರಲಿಲ್ಲ</td>\n",
       "    </tr>\n",
       "    <tr>\n",
       "      <th>8</th>\n",
       "      <td>ಟಿ.ವಿ. ವಾಹಿನಿ ಸಂಪಾದಕ ಮಾತನಾಡಿದ್ದನ್ನು ಕಾಂಗ್ರೆಸ್ ವಕ್ತಾರ ಮೋದಿ ಹೊಗಳಿದ್ದಾರೆಂದು ತಪ್ಪಾಗಿ ಹಂಚಿಕೊಳ್ಳಲಾಗಿದೆ</td>\n",
       "    </tr>\n",
       "    <tr>\n",
       "      <th>9</th>\n",
       "      <td>ಗರ್ಭಿಣಿ ಮಹಿಳೆಗೆ ಸೈನಿಕರು ಸಹಾಯ ಮಾಡುತ್ತಿರುವ ವಿಡಿಯೋ ನೈಜ ಘಟನೆಯಲ್ಲ</td>\n",
       "    </tr>\n",
       "  </tbody>\n",
       "</table>\n",
       "</div>"
      ],
      "text/plain": [
       "                                                                                                                                                          text_name\n",
       "0                                                                                    ಕುದುರೆ ಕೂದಲು ಹುಳುವಿನ ವೀಡಿಯೋವನ್ನು ಶಿವ ನಾಗ ಮರದ ಬೇರು ಎಂದು ತಪ್ಪಾಗಿ ಹಂಚಿಕೊಳ್ಳಲಾಗಿದೆ\n",
       "1                                                                   ನಿಮ್ಮ ಫೋನ್ ಅನ್ನು ಚಾರ್ಜ್ ಮಾಡುತ್ತಿರುವಾಗ ಮಾತನಾಡಿದರೆ ಸ್ಪೋಟಗೊಳ್ಳುತ್ತದೆ ಎಂಬುದು ನಿಜವಾಗಿ ನಡೆದ ಘಟನೆ ಅಲ್ಲ\n",
       "2                                                   ಬಿಜೆಪಿ ಶಾಸಕ ರಾಜಾಸಿಂಗ್‌ರವರನ್ನು ಪೊಲೀಸರು ಬಂಧಿಸಿದ ಹಳೆಯ ವಿಡಿಯೋವನ್ನು ಇತ್ತೀಚಿಗಿನ ಪ್ರಕರಣ ಎಂದು ತಪ್ಪುದಾರಿಗೆಳೆಯುತ್ತಿದ್ದಾರೆ\n",
       "3  ಶಿವಲಿಂಗಕ್ಕೆ ಹಾಲು ಹಾಕುವುದನ್ನು ನಿಲ್ಲಿಸಬೇಕು ಎಂಬ ಅಮೀರ್ ಖಾನ್ ಹೇಳಿಕೆಗೆ ಪ್ರತಿಯಾಗಿ ಮುಸ್ಲಿಮರು ಗೋರಿಗಳ ಮೇಲೆ ಚಾದರ್ ಹಾಕುವುದನ್ನು ನಿಲ್ಲಿಸಬೇಕು ಎಂದು ಪಾಯಲ್ ರೋಹಟ್ಗಿ ಹೇಳಿಕೆ ನೀಡಿಲ್ಲ\n",
       "4                                               ಕಳ್ಳತನಕ್ಕೆ ಸಂಬಂಧಿಸಿದ ವೀಡಿಯೊವನ್ನು ತಿರುಪತಿ ದೇವಸ್ಥಾನ ಸಮಿತಿ ಸದಸ್ಯನ (TTD) ಮನೆಗೆ IT ದಾಳಿ ಎಂದು ತಪ್ಪಾಗಿ ಹಂಚಿಕೊಳ್ಳಲಾಗುತ್ತಿದೆ\n",
       "5                   ವಿಮಾನ ನಿಲ್ದಾಣದಲ್ಲಿ ಸಾರ್ವಜನಿಕವಾಗಿ ಮೂತ್ರ ವಿಸರ್ಜನೆ ಮಾಡಿದ್ದಕ್ಕಾಗಿ ಬಂಧಿಸಿದ್ದು ಆರ್ಯನ್ ಖಾನ್‌ರನ್ನು ಅಲ್ಲ, ಬದಲಿಗೆ ಟ್ವಿಲೈಟ್ ನಟ ಬ್ರಾನ್ಸನ್ ಪೆಲ್ಲೆಟಿಯರ್ ರನ್ನು\n",
       "6                                                  ಹಳೆದ ಸಂಬಂಧವಿಲ್ಲದ ಫೋಟೊವನ್ನು ತಪ್ಪಾಗಿ ಕರ್ನಾಲ್ ವೈದ್ಯ ಸಗಣಿ ತಿಂದಿದ್ದಕ್ಕೆ ಆಸ್ಪತ್ರೆಗೆ ದಾಖಲಾಗಿದ್ದಾರೆ ಎಂದು ಹಂಚಿಕೊಳ್ಳಲಾಗಿದೆ\n",
       "7                                                                                  ರಾಜ್ಯದಲ್ಲಿ ರಸ್ತೆ ಅಗಲೀಕರಣದ ಸಮಯದಲ್ಲಿ ಕೆಡವಿದ ಮಸೀದಿಯ ಕೆಳಗೆ ಹಿಂದೂ ದೇವಾಲಯ ಸಿಕ್ಕಿರಲಿಲ್ಲ\n",
       "8                                                                  ಟಿ.ವಿ. ವಾಹಿನಿ ಸಂಪಾದಕ ಮಾತನಾಡಿದ್ದನ್ನು ಕಾಂಗ್ರೆಸ್ ವಕ್ತಾರ ಮೋದಿ ಹೊಗಳಿದ್ದಾರೆಂದು ತಪ್ಪಾಗಿ ಹಂಚಿಕೊಳ್ಳಲಾಗಿದೆ\n",
       "9                                                                                                      ಗರ್ಭಿಣಿ ಮಹಿಳೆಗೆ ಸೈನಿಕರು ಸಹಾಯ ಮಾಡುತ್ತಿರುವ ವಿಡಿಯೋ ನೈಜ ಘಟನೆಯಲ್ಲ"
      ]
     },
     "execution_count": 85,
     "metadata": {},
     "output_type": "execute_result"
    }
   ],
   "source": [
    "df_fake1.head(10)"
   ]
  },
  {
   "cell_type": "code",
   "execution_count": 86,
   "metadata": {},
   "outputs": [
    {
     "data": {
      "text/html": [
       "<div>\n",
       "<style scoped>\n",
       "    .dataframe tbody tr th:only-of-type {\n",
       "        vertical-align: middle;\n",
       "    }\n",
       "\n",
       "    .dataframe tbody tr th {\n",
       "        vertical-align: top;\n",
       "    }\n",
       "\n",
       "    .dataframe thead th {\n",
       "        text-align: right;\n",
       "    }\n",
       "</style>\n",
       "<table border=\"1\" class=\"dataframe\">\n",
       "  <thead>\n",
       "    <tr style=\"text-align: right;\">\n",
       "      <th></th>\n",
       "      <th>text_name</th>\n",
       "    </tr>\n",
       "  </thead>\n",
       "  <tbody>\n",
       "    <tr>\n",
       "      <th>14</th>\n",
       "      <td>Covid-19: ಕೋವಿಡ್ ಕುರಿತಾದ ಫೇಕ್​ ನ್ಯೂಸ್​ ಹಂಚಿಕೆಯಲ್ಲಿ ಭಾರತದ್ದೇ ಮೇಲುಗೈ; ಅಧ್ಯಯನ</td>\n",
       "    </tr>\n",
       "    <tr>\n",
       "      <th>15</th>\n",
       "      <td>ಮುಸ್ಲಿಂ ಯುವಕರು ಹಿಂದೂ ಹುಡುಗನ ತಲೆ ಕಡಿದಿದ್ದು ನಿಜವೇ? ಶುದ್ಧ ಸುಳ್ಳು ಎನ್ನುತ್ತಿವೆ ಸಾಕ್ಷಿ</td>\n",
       "    </tr>\n",
       "    <tr>\n",
       "      <th>16</th>\n",
       "      <td>Adhar Card: ನಿಮ್ಮ ಆಧಾರ್ ಕಾರ್ಡ್ ಅಸಲಿಯೋ, ನಕಲಿಯೋ ತಿಳಿಯುವುದು ಹೇಗೆ? ಇಲ್ಲಿದೆ ವಿವರ..</td>\n",
       "    </tr>\n",
       "    <tr>\n",
       "      <th>17</th>\n",
       "      <td>ಎಲ್​ಎಲ್​ಬಿ ಪದವಿ ಇಲ್ಲದೆ ಬಾರ್​ ಕೌನ್ಸಿಲ್​ ಚುನಾವಣೆ ಗೆದ್ದ ಮಹಿಳೆ: ಸತ್ಯ ತಿಳಿಯುತ್ತಿದ್ದಂತೆ ನಾಪತ್ತೆ</td>\n",
       "    </tr>\n",
       "    <tr>\n",
       "      <th>18</th>\n",
       "      <td>ಪಿಎಂ ಕಿಸಾನ್ ಯೋಜನೆ: 42 ಲಕ್ಷ ಅನರ್ಹ ರೈತರ ಖಾತೆಗೆ ಹೋಗಿದೆ 3 ಸಾವಿರ ಕೋಟಿ ಹಣ​</td>\n",
       "    </tr>\n",
       "    <tr>\n",
       "      <th>19</th>\n",
       "      <td>Kodagu: ಮಾಂತ್ರಿಕರ ಮಾತು ಕೇಳಿ ನಿಧಿಗಾಗಿ ಮನೆಯನ್ನೆಲ್ಲಾ ಅಗೆದ ಯುವಕ.. ಆದರೆ ಸಿಕ್ಕಿದ್ದು ಇದೇ ನೋಡಿ..</td>\n",
       "    </tr>\n",
       "    <tr>\n",
       "      <th>20</th>\n",
       "      <td>4000 ಕಮ್ಯುನಿಟಿ ಹೆಲ್ತ್​ ಆಫೀಸರ್ ಹುದ್ದೆಗಳಿಗೆ ಅರ್ಜಿ ಆಹ್ವಾನ, ಮಾಸಿಕ ವೇತನ ₹ 35,000</td>\n",
       "    </tr>\n",
       "    <tr>\n",
       "      <th>21</th>\n",
       "      <td>Relationship Tips: ನಿಮ್ಮ ಕ್ರಶ್ ಹೀಗೆ ಮೆಸೇಜ್ ಮಾಡ್ತಿದ್ರೆ ಅವರಿಂದ ದೂರ ಇರೋದು ಬೆಸ್ಟ್</td>\n",
       "    </tr>\n",
       "    <tr>\n",
       "      <th>22</th>\n",
       "      <td>Evening Digest: ಪೂಜೆ ವೇಳೆ ಆಯ ತಪ್ಪಿದ ಡಿಕೆಶಿ; ಪತ್ನಿಯರನ್ನು ಹಂಚಿಕೊಳ್ಳುತ್ತಿದ್ದ ಜಾಲ ಬಯಲು</td>\n",
       "    </tr>\n",
       "    <tr>\n",
       "      <th>23</th>\n",
       "      <td>ಊಫ್​​... ಇಷ್ಟು ಹಾಟ್​ ಫೋಟೋ ನೋಡಿದ್ರೆ ಅಷ್ಟೇ... ದಿಶಾ ಸಾಕು ಈ ಆಟ ಅಂತಿದ್ದಾರೆ ಫ್ಯಾನ್ಸ್​!</td>\n",
       "    </tr>\n",
       "  </tbody>\n",
       "</table>\n",
       "</div>"
      ],
      "text/plain": [
       "                                                                                    text_name\n",
       "14                 Covid-19: ಕೋವಿಡ್ ಕುರಿತಾದ ಫೇಕ್​ ನ್ಯೂಸ್​ ಹಂಚಿಕೆಯಲ್ಲಿ ಭಾರತದ್ದೇ ಮೇಲುಗೈ; ಅಧ್ಯಯನ\n",
       "15           ಮುಸ್ಲಿಂ ಯುವಕರು ಹಿಂದೂ ಹುಡುಗನ ತಲೆ ಕಡಿದಿದ್ದು ನಿಜವೇ? ಶುದ್ಧ ಸುಳ್ಳು ಎನ್ನುತ್ತಿವೆ ಸಾಕ್ಷಿ\n",
       "16              Adhar Card: ನಿಮ್ಮ ಆಧಾರ್ ಕಾರ್ಡ್ ಅಸಲಿಯೋ, ನಕಲಿಯೋ ತಿಳಿಯುವುದು ಹೇಗೆ? ಇಲ್ಲಿದೆ ವಿವರ..\n",
       "17  ಎಲ್​ಎಲ್​ಬಿ ಪದವಿ ಇಲ್ಲದೆ ಬಾರ್​ ಕೌನ್ಸಿಲ್​ ಚುನಾವಣೆ ಗೆದ್ದ ಮಹಿಳೆ: ಸತ್ಯ ತಿಳಿಯುತ್ತಿದ್ದಂತೆ ನಾಪತ್ತೆ\n",
       "18                       ಪಿಎಂ ಕಿಸಾನ್ ಯೋಜನೆ: 42 ಲಕ್ಷ ಅನರ್ಹ ರೈತರ ಖಾತೆಗೆ ಹೋಗಿದೆ 3 ಸಾವಿರ ಕೋಟಿ ಹಣ​\n",
       "19   Kodagu: ಮಾಂತ್ರಿಕರ ಮಾತು ಕೇಳಿ ನಿಧಿಗಾಗಿ ಮನೆಯನ್ನೆಲ್ಲಾ ಅಗೆದ ಯುವಕ.. ಆದರೆ ಸಿಕ್ಕಿದ್ದು ಇದೇ ನೋಡಿ..\n",
       "20                4000 ಕಮ್ಯುನಿಟಿ ಹೆಲ್ತ್​ ಆಫೀಸರ್ ಹುದ್ದೆಗಳಿಗೆ ಅರ್ಜಿ ಆಹ್ವಾನ, ಮಾಸಿಕ ವೇತನ ₹ 35,000\n",
       "21              Relationship Tips: ನಿಮ್ಮ ಕ್ರಶ್ ಹೀಗೆ ಮೆಸೇಜ್ ಮಾಡ್ತಿದ್ರೆ ಅವರಿಂದ ದೂರ ಇರೋದು ಬೆಸ್ಟ್\n",
       "22         Evening Digest: ಪೂಜೆ ವೇಳೆ ಆಯ ತಪ್ಪಿದ ಡಿಕೆಶಿ; ಪತ್ನಿಯರನ್ನು ಹಂಚಿಕೊಳ್ಳುತ್ತಿದ್ದ ಜಾಲ ಬಯಲು\n",
       "23           ಊಫ್​​... ಇಷ್ಟು ಹಾಟ್​ ಫೋಟೋ ನೋಡಿದ್ರೆ ಅಷ್ಟೇ... ದಿಶಾ ಸಾಕು ಈ ಆಟ ಅಂತಿದ್ದಾರೆ ಫ್ಯಾನ್ಸ್​!"
      ]
     },
     "execution_count": 86,
     "metadata": {},
     "output_type": "execute_result"
    }
   ],
   "source": [
    "df_fake2.tail(10)"
   ]
  },
  {
   "cell_type": "code",
   "execution_count": 87,
   "metadata": {},
   "outputs": [
    {
     "data": {
      "text/html": [
       "<div>\n",
       "<style scoped>\n",
       "    .dataframe tbody tr th:only-of-type {\n",
       "        vertical-align: middle;\n",
       "    }\n",
       "\n",
       "    .dataframe tbody tr th {\n",
       "        vertical-align: top;\n",
       "    }\n",
       "\n",
       "    .dataframe thead th {\n",
       "        text-align: right;\n",
       "    }\n",
       "</style>\n",
       "<table border=\"1\" class=\"dataframe\">\n",
       "  <thead>\n",
       "    <tr style=\"text-align: right;\">\n",
       "      <th></th>\n",
       "      <th>text_name</th>\n",
       "    </tr>\n",
       "  </thead>\n",
       "  <tbody>\n",
       "    <tr>\n",
       "      <th>0</th>\n",
       "      <td>ಲಸಿಕೆ ಹಾಕಿದ ಜಾಂಬಿ, ಲೈಂಗಿಕ ವಿರೋಧಿ ಬೆಡ್‌!, ಇಲ್ಲಿದೆ 2021 ರ ಸುಳ್ಳು ಸುದ್ದಿಗಳು</td>\n",
       "    </tr>\n",
       "    <tr>\n",
       "      <th>1</th>\n",
       "      <td>ಸಾಮಾಜಿಕ ಜಾಲತಾಣದಲ್ಲಿ ಹರಿದಾಡುತ್ತಿರುವ ವೇಳಾಪಟ್ಟಿ ನಕಲಿ: ಸಿಬಿಎಸ್‌ಇ ಸ್ಪಷ್ಟನೆ</td>\n",
       "    </tr>\n",
       "    <tr>\n",
       "      <th>2</th>\n",
       "      <td>Breaking News: ಕಾಶ್ಮೀರದಲ್ಲಿ ವಲಸೆ ಕಾರ್ಮಿಕರನ್ನು ಸೇನಾ ಶಿಬಿರಕ್ಕೆ ಸ್ಥಳಾಂತರಿಸುವ ಆದೇಶ ನಕಲಿ</td>\n",
       "    </tr>\n",
       "    <tr>\n",
       "      <th>3</th>\n",
       "      <td>Fact Check: 'ಈಶ್ವರ ಅಲ್ಲಾಹ್‌ ತೆರೋ ನಾಮ್‌' ಬದಲಿಗೆ 'ಜೈ ಶ್ರೀರಾಮ್‌'?, ವಿಡಿಯೋ ಹಿಂದಿನ ಸತ್ಯ</td>\n",
       "    </tr>\n",
       "    <tr>\n",
       "      <th>4</th>\n",
       "      <td>ಸುಳ್ಳುಗಳನ್ನು ಬಹಿರಂಗ ಪಡಿಸುವುದು 'ಬುದ್ಧಿ ಜೀವಿ' ಗಳ ಕರ್ತವ್ಯ: ಸುಪ್ರೀಂ ನ್ಯಾಯಮೂರ್ತಿ</td>\n",
       "    </tr>\n",
       "    <tr>\n",
       "      <th>5</th>\n",
       "      <td>Fact Check: ಭಾರತೀಯ ರೈಲ್ವೆ 10 ಹೊಸ ನಿಯಮ ಜಾರಿ ಮಾಡಿದೆಯೇ?</td>\n",
       "    </tr>\n",
       "    <tr>\n",
       "      <th>6</th>\n",
       "      <td>ದ್ವಿತೀಯ ಪಿಯುಸಿ ಪರೀಕ್ಷೆ ಬಗ್ಗೆ ಸಂದೇಶ ವೈರಲ್‌- ಡಿಸಿಎಂ ಅಶ್ವತ್ಥನಾರಾಯಣ ಸ್ಪಷ್ಟನೆ</td>\n",
       "    </tr>\n",
       "    <tr>\n",
       "      <th>7</th>\n",
       "      <td>Fact Check: ನೀಟ್-ಸ್ನಾತಕೋತ್ತರ ಪರೀಕ್ಷೆ ಮುಂದೂಡಿಕೆ?</td>\n",
       "    </tr>\n",
       "    <tr>\n",
       "      <th>8</th>\n",
       "      <td>ಖಾಸಗಿ ಆಸ್ಪತ್ರೆಗಳಲ್ಲಿ ಕೋವಿಡ್ ಲಸಿಕೆಗೆ ದರ ಎಷ್ಟು? ತಪ್ಪು ಮಾಹಿತಿ ಬಗ್ಗೆ ಸರ್ಕಾರದ ಸ್ಪಷ್ಟನೆ</td>\n",
       "    </tr>\n",
       "    <tr>\n",
       "      <th>9</th>\n",
       "      <td>ಸಾಮಾಜಿಕ ಜಾಲತಾಣ ನಿಯಂತ್ರಣಕ್ಕೆ ಕೇಂದ್ರದ ಹೊಸ ಮಾರ್ಗಸೂಚಿ</td>\n",
       "    </tr>\n",
       "  </tbody>\n",
       "</table>\n",
       "</div>"
      ],
      "text/plain": [
       "                                                                             text_name\n",
       "0             ಲಸಿಕೆ ಹಾಕಿದ ಜಾಂಬಿ, ಲೈಂಗಿಕ ವಿರೋಧಿ ಬೆಡ್‌!, ಇಲ್ಲಿದೆ 2021 ರ ಸುಳ್ಳು ಸುದ್ದಿಗಳು\n",
       "1                ಸಾಮಾಜಿಕ ಜಾಲತಾಣದಲ್ಲಿ ಹರಿದಾಡುತ್ತಿರುವ ವೇಳಾಪಟ್ಟಿ ನಕಲಿ: ಸಿಬಿಎಸ್‌ಇ ಸ್ಪಷ್ಟನೆ\n",
       "2  Breaking News: ಕಾಶ್ಮೀರದಲ್ಲಿ ವಲಸೆ ಕಾರ್ಮಿಕರನ್ನು ಸೇನಾ ಶಿಬಿರಕ್ಕೆ ಸ್ಥಳಾಂತರಿಸುವ ಆದೇಶ ನಕಲಿ\n",
       "3   Fact Check: 'ಈಶ್ವರ ಅಲ್ಲಾಹ್‌ ತೆರೋ ನಾಮ್‌' ಬದಲಿಗೆ 'ಜೈ ಶ್ರೀರಾಮ್‌'?, ವಿಡಿಯೋ ಹಿಂದಿನ ಸತ್ಯ\n",
       "4          ಸುಳ್ಳುಗಳನ್ನು ಬಹಿರಂಗ ಪಡಿಸುವುದು 'ಬುದ್ಧಿ ಜೀವಿ' ಗಳ ಕರ್ತವ್ಯ: ಸುಪ್ರೀಂ ನ್ಯಾಯಮೂರ್ತಿ\n",
       "5                                 Fact Check: ಭಾರತೀಯ ರೈಲ್ವೆ 10 ಹೊಸ ನಿಯಮ ಜಾರಿ ಮಾಡಿದೆಯೇ?\n",
       "6             ದ್ವಿತೀಯ ಪಿಯುಸಿ ಪರೀಕ್ಷೆ ಬಗ್ಗೆ ಸಂದೇಶ ವೈರಲ್‌- ಡಿಸಿಎಂ ಅಶ್ವತ್ಥನಾರಾಯಣ ಸ್ಪಷ್ಟನೆ\n",
       "7                                      Fact Check: ನೀಟ್-ಸ್ನಾತಕೋತ್ತರ ಪರೀಕ್ಷೆ ಮುಂದೂಡಿಕೆ?\n",
       "8    ಖಾಸಗಿ ಆಸ್ಪತ್ರೆಗಳಲ್ಲಿ ಕೋವಿಡ್ ಲಸಿಕೆಗೆ ದರ ಎಷ್ಟು? ತಪ್ಪು ಮಾಹಿತಿ ಬಗ್ಗೆ ಸರ್ಕಾರದ ಸ್ಪಷ್ಟನೆ\n",
       "9                                    ಸಾಮಾಜಿಕ ಜಾಲತಾಣ ನಿಯಂತ್ರಣಕ್ಕೆ ಕೇಂದ್ರದ ಹೊಸ ಮಾರ್ಗಸೂಚಿ"
      ]
     },
     "execution_count": 87,
     "metadata": {},
     "output_type": "execute_result"
    }
   ],
   "source": [
    "df_fake3.head(10)"
   ]
  },
  {
   "cell_type": "code",
   "execution_count": 88,
   "metadata": {},
   "outputs": [
    {
     "data": {
      "text/html": [
       "<div>\n",
       "<style scoped>\n",
       "    .dataframe tbody tr th:only-of-type {\n",
       "        vertical-align: middle;\n",
       "    }\n",
       "\n",
       "    .dataframe tbody tr th {\n",
       "        vertical-align: top;\n",
       "    }\n",
       "\n",
       "    .dataframe thead th {\n",
       "        text-align: right;\n",
       "    }\n",
       "</style>\n",
       "<table border=\"1\" class=\"dataframe\">\n",
       "  <thead>\n",
       "    <tr style=\"text-align: right;\">\n",
       "      <th></th>\n",
       "      <th>text_name</th>\n",
       "    </tr>\n",
       "  </thead>\n",
       "  <tbody>\n",
       "    <tr>\n",
       "      <th>0</th>\n",
       "      <td>ಎಲ್ಲ</td>\n",
       "    </tr>\n",
       "    <tr>\n",
       "      <th>1</th>\n",
       "      <td>ನ್ಯೂಸ್</td>\n",
       "    </tr>\n",
       "    <tr>\n",
       "      <th>2</th>\n",
       "      <td>ಫೋಟೋ</td>\n",
       "    </tr>\n",
       "    <tr>\n",
       "      <th>3</th>\n",
       "      <td>ವಿಡಿಯೋ</td>\n",
       "    </tr>\n",
       "    <tr>\n",
       "      <th>4</th>\n",
       "      <td>ನನ್ನ ತಟ್ಟೆಯಲ್ಲಿರುವ ಅನ್ನವನ್ನು ಒದೆಯುವ ಕೆಲಸ ಮಾಡಬೇಡಿ: ವಿನೋದ್ ಪ್ರಭಾಕರ್ ನೋವಿನ ಮಾತು</td>\n",
       "    </tr>\n",
       "    <tr>\n",
       "      <th>5</th>\n",
       "      <td>FACT CHECK: ಪರೀಕ್ಷೆ ಮುಂದೂಡದ್ದಕ್ಕೆ ತೆಲಂಗಾಣ ಬಾಲಕಿ ಆತ್ಮಹತ್ಯೆ ಸುದ್ದಿ – ಇದರ ಅಸಲಿಯತ್ತೇನು?</td>\n",
       "    </tr>\n",
       "    <tr>\n",
       "      <th>6</th>\n",
       "      <td>Fact check: ಜಿಂಕೆ ಎಂದುಕೊಂಡು ವ್ಯಕ್ತಿಗೆ ತಗುಲಿದ ಗುರಿ? ಇಲ್ಲಿದೆ ಸತ್ಯಾಸತ್ಯತೆ!</td>\n",
       "    </tr>\n",
       "    <tr>\n",
       "      <th>7</th>\n",
       "      <td>Fake News: ಆಫ್ರಿಕಾದ ಮಹಿಳೆ ಏಕಕಾಲಕ್ಕೆ 10 ಮಕ್ಕಳಿಗೆ ಜನ್ಮ ನೀಡಿದ್ದು ಸುಳ್ಳು ಸುದ್ದಿ: ತನಿಖೆಯಿಂದ ಬಯಲ</td>\n",
       "    </tr>\n",
       "    <tr>\n",
       "      <th>8</th>\n",
       "      <td>ಗೆಳತಿ ಬಾರ್ಬರಾಗೆ ನಕಲಿ ವಜ್ರದುಂಗುರ ತೊಡಿಸಿದ್ದನಂತೆ ಚೋಕ್ಸಿ, ಏನೇನು ಹೇಳಿ ಯಾಮಾರಿಸಿದ್ದ ಗೊತ್ತಾ?</td>\n",
       "    </tr>\n",
       "    <tr>\n",
       "      <th>9</th>\n",
       "      <td>Facebook fake account: 5 ನಿಮಿಷದಲ್ಲಿ ಫೇಸ್​ಬುಕ್ ನಕಲಿ ಖಾತೆಯನ್ನು ಡಿಲೀಟ್ ಮಾಡಿಸಲು ಹೀಗೆ ಮಾಡಿ!</td>\n",
       "    </tr>\n",
       "  </tbody>\n",
       "</table>\n",
       "</div>"
      ],
      "text/plain": [
       "                                                                                    text_name\n",
       "0                                                                                        ಎಲ್ಲ\n",
       "1                                                                                      ನ್ಯೂಸ್\n",
       "2                                                                                        ಫೋಟೋ\n",
       "3                                                                                      ವಿಡಿಯೋ\n",
       "4                ನನ್ನ ತಟ್ಟೆಯಲ್ಲಿರುವ ಅನ್ನವನ್ನು ಒದೆಯುವ ಕೆಲಸ ಮಾಡಬೇಡಿ: ವಿನೋದ್ ಪ್ರಭಾಕರ್ ನೋವಿನ ಮಾತು\n",
       "5         FACT CHECK: ಪರೀಕ್ಷೆ ಮುಂದೂಡದ್ದಕ್ಕೆ ತೆಲಂಗಾಣ ಬಾಲಕಿ ಆತ್ಮಹತ್ಯೆ ಸುದ್ದಿ – ಇದರ ಅಸಲಿಯತ್ತೇನು?\n",
       "6                     Fact check: ಜಿಂಕೆ ಎಂದುಕೊಂಡು ವ್ಯಕ್ತಿಗೆ ತಗುಲಿದ ಗುರಿ? ಇಲ್ಲಿದೆ ಸತ್ಯಾಸತ್ಯತೆ!\n",
       "7  Fake News: ಆಫ್ರಿಕಾದ ಮಹಿಳೆ ಏಕಕಾಲಕ್ಕೆ 10 ಮಕ್ಕಳಿಗೆ ಜನ್ಮ ನೀಡಿದ್ದು ಸುಳ್ಳು ಸುದ್ದಿ: ತನಿಖೆಯಿಂದ ಬಯಲ\n",
       "8        ಗೆಳತಿ ಬಾರ್ಬರಾಗೆ ನಕಲಿ ವಜ್ರದುಂಗುರ ತೊಡಿಸಿದ್ದನಂತೆ ಚೋಕ್ಸಿ, ಏನೇನು ಹೇಳಿ ಯಾಮಾರಿಸಿದ್ದ ಗೊತ್ತಾ?\n",
       "9      Facebook fake account: 5 ನಿಮಿಷದಲ್ಲಿ ಫೇಸ್​ಬುಕ್ ನಕಲಿ ಖಾತೆಯನ್ನು ಡಿಲೀಟ್ ಮಾಡಿಸಲು ಹೀಗೆ ಮಾಡಿ!"
      ]
     },
     "execution_count": 88,
     "metadata": {},
     "output_type": "execute_result"
    }
   ],
   "source": [
    "df_fake4.head(10)"
   ]
  },
  {
   "cell_type": "code",
   "execution_count": 89,
   "metadata": {},
   "outputs": [
    {
     "data": {
      "text/html": [
       "<div>\n",
       "<style scoped>\n",
       "    .dataframe tbody tr th:only-of-type {\n",
       "        vertical-align: middle;\n",
       "    }\n",
       "\n",
       "    .dataframe tbody tr th {\n",
       "        vertical-align: top;\n",
       "    }\n",
       "\n",
       "    .dataframe thead th {\n",
       "        text-align: right;\n",
       "    }\n",
       "</style>\n",
       "<table border=\"1\" class=\"dataframe\">\n",
       "  <thead>\n",
       "    <tr style=\"text-align: right;\">\n",
       "      <th></th>\n",
       "      <th>text_name</th>\n",
       "    </tr>\n",
       "  </thead>\n",
       "  <tbody>\n",
       "    <tr>\n",
       "      <th>0</th>\n",
       "      <td>ಎಲ್ಲ</td>\n",
       "    </tr>\n",
       "    <tr>\n",
       "      <th>1</th>\n",
       "      <td>ನ್ಯೂಸ್</td>\n",
       "    </tr>\n",
       "    <tr>\n",
       "      <th>2</th>\n",
       "      <td>ಫೋಟೋ</td>\n",
       "    </tr>\n",
       "    <tr>\n",
       "      <th>3</th>\n",
       "      <td>ವಿಡಿಯೋ</td>\n",
       "    </tr>\n",
       "    <tr>\n",
       "      <th>4</th>\n",
       "      <td>ಇಶ್ರತ್​ ಜಹಾನ್​ ನಕಲಿ ಎನ್​ಕೌಂಟರ್​ ಪ್ರಕರಣ; ಮೂವರು ಪೊಲೀಸರನ್ನು ಬಿಡುಗಡೆಗೊಳಿಸಿದ ಸಿಬಿಐ ಕೋರ್ಟ್​</td>\n",
       "    </tr>\n",
       "    <tr>\n",
       "      <th>5</th>\n",
       "      <td>ಸಾಮಾಜಿಕ ಜಾಲತಾಣಗಳಲ್ಲಿ ಫೇಕ್‌ ನ್ಯೂಸ್‌ ತಡೆಯುವುದು ಹೇಗೆ?</td>\n",
       "    </tr>\n",
       "    <tr>\n",
       "      <th>6</th>\n",
       "      <td>ಕೊರೋನಾ ಲಸಿಕೆ ಬಗ್ಗೆ ಸುಳ್ಳುಸುದ್ದಿ ಹಬ್ಬಿಸಿದವರ ವಿರುದ್ಧ ಕಠಿಣ ಕಾನೂನು ಕ್ರಮಕ್ಕೆ ಕೇಂದ್ರ ಸೂಚನೆ</td>\n",
       "    </tr>\n",
       "    <tr>\n",
       "      <th>7</th>\n",
       "      <td>ವೈದ್ಯರಿಗೆ ಬ್ಲಾಕ್​ಮೇಲ್; ಪತ್ರಕರ್ತೆಯರು ಎಂದು ಹೇಳಿಕೊಂಡಿದ್ದ ಮೂವರು ಯುವತಿಯರ ಬಂಧನ</td>\n",
       "    </tr>\n",
       "    <tr>\n",
       "      <th>8</th>\n",
       "      <td>ನಕಲಿ ನೋಟು ಜಾಲ ಬಗೆದಷ್ಟು ಆಳ: ಮನೆಯಲ್ಲೇ ನಕಲಿ ನೋಟು ತಯಾರಿಸುತ್ತಿದ್ದ ಆರೋಪಿಗಳು ಅಂದರ್</td>\n",
       "    </tr>\n",
       "    <tr>\n",
       "      <th>9</th>\n",
       "      <td>3 ವರ್ಷದಿಂದ ಸಗಣಿ ಎತ್ತಿಕೊಂಡು ಜೀವನ ಮಾಡುತ್ತಿದ್ದೇನೆ, ಸುಳ್ಳುಸುದ್ದಿ ಹಬ್ಬಿಸಬೇಡಿ; ವರ್ತೂರು ಪ್ರಕಾಶ್</td>\n",
       "    </tr>\n",
       "  </tbody>\n",
       "</table>\n",
       "</div>"
      ],
      "text/plain": [
       "                                                                                  text_name\n",
       "0                                                                                      ಎಲ್ಲ\n",
       "1                                                                                    ನ್ಯೂಸ್\n",
       "2                                                                                      ಫೋಟೋ\n",
       "3                                                                                    ವಿಡಿಯೋ\n",
       "4     ಇಶ್ರತ್​ ಜಹಾನ್​ ನಕಲಿ ಎನ್​ಕೌಂಟರ್​ ಪ್ರಕರಣ; ಮೂವರು ಪೊಲೀಸರನ್ನು ಬಿಡುಗಡೆಗೊಳಿಸಿದ ಸಿಬಿಐ ಕೋರ್ಟ್​\n",
       "5                                        ಸಾಮಾಜಿಕ ಜಾಲತಾಣಗಳಲ್ಲಿ ಫೇಕ್‌ ನ್ಯೂಸ್‌ ತಡೆಯುವುದು ಹೇಗೆ?\n",
       "6      ಕೊರೋನಾ ಲಸಿಕೆ ಬಗ್ಗೆ ಸುಳ್ಳುಸುದ್ದಿ ಹಬ್ಬಿಸಿದವರ ವಿರುದ್ಧ ಕಠಿಣ ಕಾನೂನು ಕ್ರಮಕ್ಕೆ ಕೇಂದ್ರ ಸೂಚನೆ\n",
       "7                  ವೈದ್ಯರಿಗೆ ಬ್ಲಾಕ್​ಮೇಲ್; ಪತ್ರಕರ್ತೆಯರು ಎಂದು ಹೇಳಿಕೊಂಡಿದ್ದ ಮೂವರು ಯುವತಿಯರ ಬಂಧನ\n",
       "8               ನಕಲಿ ನೋಟು ಜಾಲ ಬಗೆದಷ್ಟು ಆಳ: ಮನೆಯಲ್ಲೇ ನಕಲಿ ನೋಟು ತಯಾರಿಸುತ್ತಿದ್ದ ಆರೋಪಿಗಳು ಅಂದರ್\n",
       "9  3 ವರ್ಷದಿಂದ ಸಗಣಿ ಎತ್ತಿಕೊಂಡು ಜೀವನ ಮಾಡುತ್ತಿದ್ದೇನೆ, ಸುಳ್ಳುಸುದ್ದಿ ಹಬ್ಬಿಸಬೇಡಿ; ವರ್ತೂರು ಪ್ರಕಾಶ್"
      ]
     },
     "execution_count": 89,
     "metadata": {},
     "output_type": "execute_result"
    }
   ],
   "source": [
    "df_fake5.head(10)"
   ]
  },
  {
   "cell_type": "code",
   "execution_count": 90,
   "metadata": {},
   "outputs": [
    {
     "data": {
      "text/html": [
       "<div>\n",
       "<style scoped>\n",
       "    .dataframe tbody tr th:only-of-type {\n",
       "        vertical-align: middle;\n",
       "    }\n",
       "\n",
       "    .dataframe tbody tr th {\n",
       "        vertical-align: top;\n",
       "    }\n",
       "\n",
       "    .dataframe thead th {\n",
       "        text-align: right;\n",
       "    }\n",
       "</style>\n",
       "<table border=\"1\" class=\"dataframe\">\n",
       "  <thead>\n",
       "    <tr style=\"text-align: right;\">\n",
       "      <th></th>\n",
       "      <th>text_name</th>\n",
       "    </tr>\n",
       "  </thead>\n",
       "  <tbody>\n",
       "    <tr>\n",
       "      <th>0</th>\n",
       "      <td>ಎಲ್ಲ</td>\n",
       "    </tr>\n",
       "    <tr>\n",
       "      <th>1</th>\n",
       "      <td>ನ್ಯೂಸ್</td>\n",
       "    </tr>\n",
       "    <tr>\n",
       "      <th>2</th>\n",
       "      <td>ಫೋಟೋ</td>\n",
       "    </tr>\n",
       "    <tr>\n",
       "      <th>3</th>\n",
       "      <td>ವಿಡಿಯೋ</td>\n",
       "    </tr>\n",
       "    <tr>\n",
       "      <th>4</th>\n",
       "      <td>ಬದುಕಿದ್ದಾಗಲೇ ತನ್ನ ಸಾವಿನ ಸುದ್ದಿ ಓದಿದ ಸ್ಯಾಂಡಲ್​ವುಡ್ ನಟಿ ಗರಂ</td>\n",
       "    </tr>\n",
       "    <tr>\n",
       "      <th>5</th>\n",
       "      <td>Fact Check | ಜೂನ್ 15ರಿಂದ ದೇಶಾದ್ಯಂತ ಮತ್ತೆ ಕಟ್ಟುನಿಟ್ಟಿನ ಲಾಕ್​ಡೌನ್ ಜಾರಿ ಸುದ್ದಿ ನಿಜವೇ?</td>\n",
       "    </tr>\n",
       "    <tr>\n",
       "      <th>6</th>\n",
       "      <td>ಹಾಸನದಲ್ಲಿ ಸೆಂಚುರಿ ದಾಟಿದ ಕೊರೋನಾ ಸುಳ್ಳು ಸುದ್ದಿ ಹಬ್ಬಿಸಿದವರ ವಿರುದ್ದ ಕೇಸ್ ದಾಖಲು</td>\n",
       "    </tr>\n",
       "    <tr>\n",
       "      <th>7</th>\n",
       "      <td>FAKE – ಕಾರ್ಮಿಕರಿಗೆ ಸರ್ಕಾರದಿಂದ 1.2 ಲಕ್ಷ ಸಿಗುತ್ತೆ ಎಂಬ ಮೆಸೇಜ್ ಬಂದ್ರೆ ಹುಷಾರ್</td>\n",
       "    </tr>\n",
       "    <tr>\n",
       "      <th>8</th>\n",
       "      <td>Fake: ಜೂಮ್​ ಆ್ಯಪ್​ಗೆ​ ಪರ್ಯಾಯವಾಗಿ ಸರ್ಕಾರ ಅಭಿವೃದ್ಧಿ ಪಡಿಸಿದ ಸ್ವದೇಶಿ ಆ್ಯಪ್​​ ಇದೇನಾ?</td>\n",
       "    </tr>\n",
       "    <tr>\n",
       "      <th>9</th>\n",
       "      <td>ಒಂದೇ ಸಮುದಾಯ ಟಾರ್ಗೆಟ್ - ಸುಳ್ಳು ಸುದ್ದಿ ಹಬ್ಬಿಸುವವರ ವಿರುದ್ಧ ಕೇಸ್ ಹಾಕಿ ; ಸಿ.ಎಂ.ಇಬ್ರಾಹಿಂ</td>\n",
       "    </tr>\n",
       "  </tbody>\n",
       "</table>\n",
       "</div>"
      ],
      "text/plain": [
       "                                                                            text_name\n",
       "0                                                                                ಎಲ್ಲ\n",
       "1                                                                              ನ್ಯೂಸ್\n",
       "2                                                                                ಫೋಟೋ\n",
       "3                                                                              ವಿಡಿಯೋ\n",
       "4                           ಬದುಕಿದ್ದಾಗಲೇ ತನ್ನ ಸಾವಿನ ಸುದ್ದಿ ಓದಿದ ಸ್ಯಾಂಡಲ್​ವುಡ್ ನಟಿ ಗರಂ\n",
       "5  Fact Check | ಜೂನ್ 15ರಿಂದ ದೇಶಾದ್ಯಂತ ಮತ್ತೆ ಕಟ್ಟುನಿಟ್ಟಿನ ಲಾಕ್​ಡೌನ್ ಜಾರಿ ಸುದ್ದಿ ನಿಜವೇ?\n",
       "6          ಹಾಸನದಲ್ಲಿ ಸೆಂಚುರಿ ದಾಟಿದ ಕೊರೋನಾ ಸುಳ್ಳು ಸುದ್ದಿ ಹಬ್ಬಿಸಿದವರ ವಿರುದ್ದ ಕೇಸ್ ದಾಖಲು\n",
       "7            FAKE – ಕಾರ್ಮಿಕರಿಗೆ ಸರ್ಕಾರದಿಂದ 1.2 ಲಕ್ಷ ಸಿಗುತ್ತೆ ಎಂಬ ಮೆಸೇಜ್ ಬಂದ್ರೆ ಹುಷಾರ್\n",
       "8     Fake: ಜೂಮ್​ ಆ್ಯಪ್​ಗೆ​ ಪರ್ಯಾಯವಾಗಿ ಸರ್ಕಾರ ಅಭಿವೃದ್ಧಿ ಪಡಿಸಿದ ಸ್ವದೇಶಿ ಆ್ಯಪ್​​ ಇದೇನಾ?\n",
       "9  ಒಂದೇ ಸಮುದಾಯ ಟಾರ್ಗೆಟ್ - ಸುಳ್ಳು ಸುದ್ದಿ ಹಬ್ಬಿಸುವವರ ವಿರುದ್ಧ ಕೇಸ್ ಹಾಕಿ ; ಸಿ.ಎಂ.ಇಬ್ರಾಹಿಂ"
      ]
     },
     "execution_count": 90,
     "metadata": {},
     "output_type": "execute_result"
    }
   ],
   "source": [
    "df_fake6.head(10)"
   ]
  },
  {
   "cell_type": "code",
   "execution_count": 91,
   "metadata": {},
   "outputs": [
    {
     "data": {
      "text/html": [
       "<div>\n",
       "<style scoped>\n",
       "    .dataframe tbody tr th:only-of-type {\n",
       "        vertical-align: middle;\n",
       "    }\n",
       "\n",
       "    .dataframe tbody tr th {\n",
       "        vertical-align: top;\n",
       "    }\n",
       "\n",
       "    .dataframe thead th {\n",
       "        text-align: right;\n",
       "    }\n",
       "</style>\n",
       "<table border=\"1\" class=\"dataframe\">\n",
       "  <thead>\n",
       "    <tr style=\"text-align: right;\">\n",
       "      <th></th>\n",
       "      <th>text_name</th>\n",
       "    </tr>\n",
       "  </thead>\n",
       "  <tbody>\n",
       "    <tr>\n",
       "      <th>0</th>\n",
       "      <td>ಎಲ್ಲ</td>\n",
       "    </tr>\n",
       "    <tr>\n",
       "      <th>1</th>\n",
       "      <td>ನ್ಯೂಸ್</td>\n",
       "    </tr>\n",
       "    <tr>\n",
       "      <th>2</th>\n",
       "      <td>ಫೋಟೋ</td>\n",
       "    </tr>\n",
       "    <tr>\n",
       "      <th>3</th>\n",
       "      <td>ವಿಡಿಯೋ</td>\n",
       "    </tr>\n",
       "    <tr>\n",
       "      <th>4</th>\n",
       "      <td>ಶಾಸಕರ ಹೆಸರಲ್ಲಿ ಮಸೀದಿಗಳನ್ನು ತಲುಪುತ್ತಿವೆ ನಕಲಿ ಪತ್ರಗಳು; ಪೊಲೀಸರಿಂದ ತನಿಖೆ</td>\n",
       "    </tr>\n",
       "    <tr>\n",
       "      <th>5</th>\n",
       "      <td>ಈ ವರ್ಷ ಭಾರೀ ಸದ್ದು ಮಾಡಿತ್ತು ಟೀಂ ಇಂಡಿಯಾ ಸ್ಟಾರ್ ಕ್ರಿಕೆಟಿಗನ ಸಾವಿನ ಸುದ್ದಿ!</td>\n",
       "    </tr>\n",
       "    <tr>\n",
       "      <th>6</th>\n",
       "      <td>ಮತ್ತೆ ಗೋವಾದಲ್ಲಿ ಶುಭಮನ್​ ಗಿಲ್​-ಸಾರಾ ತೆಂಡೂಲ್ಕರ್​ ಡೇಟಿಂಗ್​?​​ ಫೋಟೋಗಳು ಸಿಕ್ಕಾಪಟ್ಟೆ ವೈರಲ್​!​</td>\n",
       "    </tr>\n",
       "    <tr>\n",
       "      <th>7</th>\n",
       "      <td>Relationship Tips: ನಿಮ್ಮ ಕ್ರಶ್ ಹೀಗೆ ಮೆಸೇಜ್ ಮಾಡ್ತಿದ್ರೆ ಅವರಿಂದ ದೂರ ಇರೋದು ಬೆಸ್ಟ್</td>\n",
       "    </tr>\n",
       "    <tr>\n",
       "      <th>8</th>\n",
       "      <td>ಊಫ್​​... ಇಷ್ಟು ಹಾಟ್​ ಫೋಟೋ ನೋಡಿದ್ರೆ ಅಷ್ಟೇ... ದಿಶಾ ಸಾಕು ಈ ಆಟ ಅಂತಿದ್ದಾರೆ ಫ್ಯಾನ್ಸ್​!</td>\n",
       "    </tr>\n",
       "    <tr>\n",
       "      <th>9</th>\n",
       "      <td>ಮತ್ತೆ ಗೋವಾದಲ್ಲಿ ಶುಭಮನ್​ ಗಿಲ್​-ಸಾರಾ ತೆಂಡೂಲ್ಕರ್​ ಡೇಟಿಂಗ್​?​​ ಫೋಟೋಗಳು ಸಿಕ್ಕಾಪಟ್ಟೆ ವೈರಲ್​!​</td>\n",
       "    </tr>\n",
       "  </tbody>\n",
       "</table>\n",
       "</div>"
      ],
      "text/plain": [
       "                                                                                 text_name\n",
       "0                                                                                     ಎಲ್ಲ\n",
       "1                                                                                   ನ್ಯೂಸ್\n",
       "2                                                                                     ಫೋಟೋ\n",
       "3                                                                                   ವಿಡಿಯೋ\n",
       "4                     ಶಾಸಕರ ಹೆಸರಲ್ಲಿ ಮಸೀದಿಗಳನ್ನು ತಲುಪುತ್ತಿವೆ ನಕಲಿ ಪತ್ರಗಳು; ಪೊಲೀಸರಿಂದ ತನಿಖೆ\n",
       "5                    ಈ ವರ್ಷ ಭಾರೀ ಸದ್ದು ಮಾಡಿತ್ತು ಟೀಂ ಇಂಡಿಯಾ ಸ್ಟಾರ್ ಕ್ರಿಕೆಟಿಗನ ಸಾವಿನ ಸುದ್ದಿ!\n",
       "6  ಮತ್ತೆ ಗೋವಾದಲ್ಲಿ ಶುಭಮನ್​ ಗಿಲ್​-ಸಾರಾ ತೆಂಡೂಲ್ಕರ್​ ಡೇಟಿಂಗ್​?​​ ಫೋಟೋಗಳು ಸಿಕ್ಕಾಪಟ್ಟೆ ವೈರಲ್​!​\n",
       "7            Relationship Tips: ನಿಮ್ಮ ಕ್ರಶ್ ಹೀಗೆ ಮೆಸೇಜ್ ಮಾಡ್ತಿದ್ರೆ ಅವರಿಂದ ದೂರ ಇರೋದು ಬೆಸ್ಟ್\n",
       "8         ಊಫ್​​... ಇಷ್ಟು ಹಾಟ್​ ಫೋಟೋ ನೋಡಿದ್ರೆ ಅಷ್ಟೇ... ದಿಶಾ ಸಾಕು ಈ ಆಟ ಅಂತಿದ್ದಾರೆ ಫ್ಯಾನ್ಸ್​!\n",
       "9  ಮತ್ತೆ ಗೋವಾದಲ್ಲಿ ಶುಭಮನ್​ ಗಿಲ್​-ಸಾರಾ ತೆಂಡೂಲ್ಕರ್​ ಡೇಟಿಂಗ್​?​​ ಫೋಟೋಗಳು ಸಿಕ್ಕಾಪಟ್ಟೆ ವೈರಲ್​!​"
      ]
     },
     "execution_count": 91,
     "metadata": {},
     "output_type": "execute_result"
    }
   ],
   "source": [
    "df_fake7.head(10)"
   ]
  },
  {
   "cell_type": "code",
   "execution_count": 92,
   "metadata": {},
   "outputs": [
    {
     "data": {
      "text/html": [
       "<div>\n",
       "<style scoped>\n",
       "    .dataframe tbody tr th:only-of-type {\n",
       "        vertical-align: middle;\n",
       "    }\n",
       "\n",
       "    .dataframe tbody tr th {\n",
       "        vertical-align: top;\n",
       "    }\n",
       "\n",
       "    .dataframe thead th {\n",
       "        text-align: right;\n",
       "    }\n",
       "</style>\n",
       "<table border=\"1\" class=\"dataframe\">\n",
       "  <thead>\n",
       "    <tr style=\"text-align: right;\">\n",
       "      <th></th>\n",
       "      <th>text_name</th>\n",
       "    </tr>\n",
       "  </thead>\n",
       "  <tbody>\n",
       "    <tr>\n",
       "      <th>0</th>\n",
       "      <td>Fact ಚೆಕ್: ನಟಿ ಸನಾ ಖಾನ್ ಹನಿಮೂನ್ ಫೋಟೋ ಹರಿಬಿಟ್ಟರಾ ಆಕೆಯ ಮೌಲ್ವಿ ಪತಿ..?</td>\n",
       "    </tr>\n",
       "    <tr>\n",
       "      <th>1</th>\n",
       "      <td>Fact ಚೆಕ್: ಕೃಷಿ ಕಾಯ್ದೆ ಹಾಗೂ ಪ್ರಧಾನಿ ಮೋದಿಗೆ ಸಿಖ್ ಕುಟುಂಬದ ಬೆಂಬಲ..?</td>\n",
       "    </tr>\n",
       "    <tr>\n",
       "      <th>2</th>\n",
       "      <td>ರೈತ ಪ್ರತಿಭಟನೆ ಬೆನ್ನಲ್ಲೇ ಮುಖೇಶ್ ಅಂಬಾನಿ ಜೊತೆ ಪಂಜಾಬ್ ಸಿಎಂ ಮಾತುಕತೆ..?</td>\n",
       "    </tr>\n",
       "    <tr>\n",
       "      <th>3</th>\n",
       "      <td>ಮೋದಿ ಜೊತೆ ಹಸ್ತಲಾಘವ ಮಾಡಿದ್ದಕ್ಕೆ ನಾಚಿಕೆಯಾಗ್ತಿದೆ ಎಂದಿದ್ದರಾ ಒಬಾಮಾ..?!</td>\n",
       "    </tr>\n",
       "    <tr>\n",
       "      <th>4</th>\n",
       "      <td>ಕೃಷಿ ಕಾಯ್ದೆ ವಿರೋಧಿಸಿ ಸಿಖ್‌ ರೈತರ ಜೊತೆ ಪ್ರತಿಭಟನೆ ಕುಳಿತಿದ್ರಾ ಕೆನಡಾ ಪ್ರಧಾನಿ..?</td>\n",
       "    </tr>\n",
       "    <tr>\n",
       "      <th>5</th>\n",
       "      <td>ಭಾರತದ ಬಡತನ ಬಿಂಬಿಸಲು ಬಾಂಗ್ಲಾ ದೇಶದ ಫೋಟೋ ಬಳಸಿದ್ದ ಕಾಂಗ್ರೆಸ್..!</td>\n",
       "    </tr>\n",
       "    <tr>\n",
       "      <th>6</th>\n",
       "      <td>ದಿಲ್ಲಿ ರೈತ ಪ್ರತಿಭಟನೆಗೆ ಸಾಥ್ ನೀಡಲು ಸಾವಿರಾರು ಸಿಖ್ಖರು ಕುದುರೆ ಏರಿ ಬಂದರಾ..?</td>\n",
       "    </tr>\n",
       "    <tr>\n",
       "      <th>7</th>\n",
       "      <td>FactCheck: ಪ್ರತಿಭಟಿಸುತ್ತಿರುವ ರೈತರಿಗೆ ಬೆಂಬಲಿಸಿ ಕೇಂದ್ರ ಸರಕಾರದ ವಿರುದ್ಧ ಕಿಡಿಕಾರಿ ಟ್ವೀಟ್‌ ಮಾಡಿದ್ರಾ ಕಮಲಾ ಹ್ಯಾರಿಸ್‌?</td>\n",
       "    </tr>\n",
       "    <tr>\n",
       "      <th>8</th>\n",
       "      <td>ಸರಕಾರ ಅನ್ನದಾತನಿಗೆ ಹೊಡೆಸುತ್ತಿದೆ ಎಂದ ಕಾಂಗ್ರೆಸ್‌ ನಾಯಕರು, ಫೋಟೊ ಹಿಂದಿನ ಅಸಲಿ ಸತ್ಯವೇನು? ಪೆಟ್ಟು ಬಿದ್ದಿಲ್ಲ!</td>\n",
       "    </tr>\n",
       "    <tr>\n",
       "      <th>9</th>\n",
       "      <td>Fact Check: ಹೈದರಾಬಾದ್ ಚುನಾವಣೆಯಲ್ಲಿ ಬಿಜೆಪಿ ಜೊತೆ ಓವೈಸಿ ಪಕ್ಷ ರಹಸ್ಯ ಮೈತ್ರಿ..?</td>\n",
       "    </tr>\n",
       "  </tbody>\n",
       "</table>\n",
       "</div>"
      ],
      "text/plain": [
       "                                                                                                       text_name\n",
       "0                                             Fact ಚೆಕ್: ನಟಿ ಸನಾ ಖಾನ್ ಹನಿಮೂನ್ ಫೋಟೋ ಹರಿಬಿಟ್ಟರಾ ಆಕೆಯ ಮೌಲ್ವಿ ಪತಿ..?\n",
       "1                                               Fact ಚೆಕ್: ಕೃಷಿ ಕಾಯ್ದೆ ಹಾಗೂ ಪ್ರಧಾನಿ ಮೋದಿಗೆ ಸಿಖ್ ಕುಟುಂಬದ ಬೆಂಬಲ..?\n",
       "2                                              ರೈತ ಪ್ರತಿಭಟನೆ ಬೆನ್ನಲ್ಲೇ ಮುಖೇಶ್ ಅಂಬಾನಿ ಜೊತೆ ಪಂಜಾಬ್ ಸಿಎಂ ಮಾತುಕತೆ..?\n",
       "3                                              ಮೋದಿ ಜೊತೆ ಹಸ್ತಲಾಘವ ಮಾಡಿದ್ದಕ್ಕೆ ನಾಚಿಕೆಯಾಗ್ತಿದೆ ಎಂದಿದ್ದರಾ ಒಬಾಮಾ..?!\n",
       "4                                     ಕೃಷಿ ಕಾಯ್ದೆ ವಿರೋಧಿಸಿ ಸಿಖ್‌ ರೈತರ ಜೊತೆ ಪ್ರತಿಭಟನೆ ಕುಳಿತಿದ್ರಾ ಕೆನಡಾ ಪ್ರಧಾನಿ..?\n",
       "5                                                     ಭಾರತದ ಬಡತನ ಬಿಂಬಿಸಲು ಬಾಂಗ್ಲಾ ದೇಶದ ಫೋಟೋ ಬಳಸಿದ್ದ ಕಾಂಗ್ರೆಸ್..!\n",
       "6                                         ದಿಲ್ಲಿ ರೈತ ಪ್ರತಿಭಟನೆಗೆ ಸಾಥ್ ನೀಡಲು ಸಾವಿರಾರು ಸಿಖ್ಖರು ಕುದುರೆ ಏರಿ ಬಂದರಾ..?\n",
       "7  FactCheck: ಪ್ರತಿಭಟಿಸುತ್ತಿರುವ ರೈತರಿಗೆ ಬೆಂಬಲಿಸಿ ಕೇಂದ್ರ ಸರಕಾರದ ವಿರುದ್ಧ ಕಿಡಿಕಾರಿ ಟ್ವೀಟ್‌ ಮಾಡಿದ್ರಾ ಕಮಲಾ ಹ್ಯಾರಿಸ್‌?\n",
       "8             ಸರಕಾರ ಅನ್ನದಾತನಿಗೆ ಹೊಡೆಸುತ್ತಿದೆ ಎಂದ ಕಾಂಗ್ರೆಸ್‌ ನಾಯಕರು, ಫೋಟೊ ಹಿಂದಿನ ಅಸಲಿ ಸತ್ಯವೇನು? ಪೆಟ್ಟು ಬಿದ್ದಿಲ್ಲ!\n",
       "9                                      Fact Check: ಹೈದರಾಬಾದ್ ಚುನಾವಣೆಯಲ್ಲಿ ಬಿಜೆಪಿ ಜೊತೆ ಓವೈಸಿ ಪಕ್ಷ ರಹಸ್ಯ ಮೈತ್ರಿ..?"
      ]
     },
     "execution_count": 92,
     "metadata": {},
     "output_type": "execute_result"
    }
   ],
   "source": [
    "df_fake8.head(10)"
   ]
  },
  {
   "cell_type": "code",
   "execution_count": 93,
   "metadata": {},
   "outputs": [
    {
     "data": {
      "text/plain": [
       "((341, 1),\n",
       " (10, 1),\n",
       " (24, 1),\n",
       " (20, 1),\n",
       " (35, 1),\n",
       " (35, 1),\n",
       " (35, 1),\n",
       " (14, 1),\n",
       " (12, 1))"
      ]
     },
     "execution_count": 93,
     "metadata": {},
     "output_type": "execute_result"
    }
   ],
   "source": [
    "df_fake.shape, df_fake1.shape, df_fake2.shape, df_fake3.shape, df_fake4.shape, df_fake5.shape, df_fake6.shape, df_fake7.shape, df_fake8.shape"
   ]
  },
  {
   "cell_type": "code",
   "execution_count": 94,
   "metadata": {},
   "outputs": [],
   "source": [
    "df_fake = df_fake.drop_duplicates(subset = ['text_name'], keep = 'last').reset_index(drop = True)\n",
    "df_fake1 = df_fake1.drop_duplicates(subset = ['text_name'], keep = 'last').reset_index(drop = True)\n",
    "df_fake2 = df_fake2.drop_duplicates(subset = ['text_name'], keep = 'last').reset_index(drop = True)\n",
    "df_fake3 = df_fake3.drop_duplicates(subset = ['text_name'], keep = 'last').reset_index(drop = True)\n",
    "df_fake4 = df_fake4.drop_duplicates(subset = ['text_name'], keep = 'last').reset_index(drop = True)\n",
    "df_fake5 = df_fake5.drop_duplicates(subset = ['text_name'], keep = 'last').reset_index(drop = True)\n",
    "df_fake6 = df_fake6.drop_duplicates(subset = ['text_name'], keep = 'last').reset_index(drop = True)\n",
    "df_fake7 = df_fake7.drop_duplicates(subset = ['text_name'], keep = 'last').reset_index(drop = True)\n",
    "df_fake8 = df_fake8.drop_duplicates(subset = ['text_name'], keep = 'last').reset_index(drop = True)"
   ]
  },
  {
   "cell_type": "code",
   "execution_count": 95,
   "metadata": {},
   "outputs": [
    {
     "data": {
      "text/plain": [
       "((11, 1),\n",
       " (10, 1),\n",
       " (24, 1),\n",
       " (20, 1),\n",
       " (31, 1),\n",
       " (31, 1),\n",
       " (31, 1),\n",
       " (12, 1),\n",
       " (12, 1))"
      ]
     },
     "execution_count": 95,
     "metadata": {},
     "output_type": "execute_result"
    }
   ],
   "source": [
    "df_fake.shape, df_fake1.shape, df_fake2.shape, df_fake3.shape, df_fake4.shape, df_fake5.shape, df_fake6.shape, df_fake7.shape, df_fake8.shape"
   ]
  },
  {
   "cell_type": "code",
   "execution_count": 96,
   "metadata": {},
   "outputs": [],
   "source": [
    "df_merge_fake = pd.concat([df_fake, df_fake1, df_fake2, df_fake3, df_fake4, df_fake5, df_fake6, df_fake7, df_fake8], axis = 0)"
   ]
  },
  {
   "cell_type": "code",
   "execution_count": 97,
   "metadata": {},
   "outputs": [],
   "source": [
    "df_merge_fake[\"real/fake\"] = \"Fake\""
   ]
  },
  {
   "cell_type": "code",
   "execution_count": 98,
   "metadata": {},
   "outputs": [
    {
     "data": {
      "text/plain": [
       "(182, 2)"
      ]
     },
     "execution_count": 98,
     "metadata": {},
     "output_type": "execute_result"
    }
   ],
   "source": [
    "df_merge_fake.shape"
   ]
  },
  {
   "cell_type": "code",
   "execution_count": 99,
   "metadata": {},
   "outputs": [],
   "source": [
    "df_merge_fake = df_merge_fake.drop_duplicates(subset = ['text_name'], keep = 'last').reset_index(drop = True)"
   ]
  },
  {
   "cell_type": "code",
   "execution_count": 100,
   "metadata": {},
   "outputs": [
    {
     "data": {
      "text/html": [
       "<div>\n",
       "<style scoped>\n",
       "    .dataframe tbody tr th:only-of-type {\n",
       "        vertical-align: middle;\n",
       "    }\n",
       "\n",
       "    .dataframe tbody tr th {\n",
       "        vertical-align: top;\n",
       "    }\n",
       "\n",
       "    .dataframe thead th {\n",
       "        text-align: right;\n",
       "    }\n",
       "</style>\n",
       "<table border=\"1\" class=\"dataframe\">\n",
       "  <thead>\n",
       "    <tr style=\"text-align: right;\">\n",
       "      <th></th>\n",
       "      <th>text_name</th>\n",
       "      <th>real/fake</th>\n",
       "    </tr>\n",
       "  </thead>\n",
       "  <tbody>\n",
       "    <tr>\n",
       "      <th>115</th>\n",
       "      <td>ರೈತ ಪ್ರತಿಭಟನೆ ಬೆನ್ನಲ್ಲೇ ಮುಖೇಶ್ ಅಂಬಾನಿ ಜೊತೆ ಪಂಜಾಬ್ ಸಿಎಂ ಮಾತುಕತೆ..?</td>\n",
       "      <td>Fake</td>\n",
       "    </tr>\n",
       "    <tr>\n",
       "      <th>116</th>\n",
       "      <td>ಮೋದಿ ಜೊತೆ ಹಸ್ತಲಾಘವ ಮಾಡಿದ್ದಕ್ಕೆ ನಾಚಿಕೆಯಾಗ್ತಿದೆ ಎಂದಿದ್ದರಾ ಒಬಾಮಾ..?!</td>\n",
       "      <td>Fake</td>\n",
       "    </tr>\n",
       "    <tr>\n",
       "      <th>117</th>\n",
       "      <td>ಕೃಷಿ ಕಾಯ್ದೆ ವಿರೋಧಿಸಿ ಸಿಖ್‌ ರೈತರ ಜೊತೆ ಪ್ರತಿಭಟನೆ ಕುಳಿತಿದ್ರಾ ಕೆನಡಾ ಪ್ರಧಾನಿ..?</td>\n",
       "      <td>Fake</td>\n",
       "    </tr>\n",
       "    <tr>\n",
       "      <th>118</th>\n",
       "      <td>ಭಾರತದ ಬಡತನ ಬಿಂಬಿಸಲು ಬಾಂಗ್ಲಾ ದೇಶದ ಫೋಟೋ ಬಳಸಿದ್ದ ಕಾಂಗ್ರೆಸ್..!</td>\n",
       "      <td>Fake</td>\n",
       "    </tr>\n",
       "    <tr>\n",
       "      <th>119</th>\n",
       "      <td>ದಿಲ್ಲಿ ರೈತ ಪ್ರತಿಭಟನೆಗೆ ಸಾಥ್ ನೀಡಲು ಸಾವಿರಾರು ಸಿಖ್ಖರು ಕುದುರೆ ಏರಿ ಬಂದರಾ..?</td>\n",
       "      <td>Fake</td>\n",
       "    </tr>\n",
       "    <tr>\n",
       "      <th>120</th>\n",
       "      <td>FactCheck: ಪ್ರತಿಭಟಿಸುತ್ತಿರುವ ರೈತರಿಗೆ ಬೆಂಬಲಿಸಿ ಕೇಂದ್ರ ಸರಕಾರದ ವಿರುದ್ಧ ಕಿಡಿಕಾರಿ ಟ್ವೀಟ್‌ ಮಾಡಿದ್ರಾ ಕಮಲಾ ಹ್ಯಾರಿಸ್‌?</td>\n",
       "      <td>Fake</td>\n",
       "    </tr>\n",
       "    <tr>\n",
       "      <th>121</th>\n",
       "      <td>ಸರಕಾರ ಅನ್ನದಾತನಿಗೆ ಹೊಡೆಸುತ್ತಿದೆ ಎಂದ ಕಾಂಗ್ರೆಸ್‌ ನಾಯಕರು, ಫೋಟೊ ಹಿಂದಿನ ಅಸಲಿ ಸತ್ಯವೇನು? ಪೆಟ್ಟು ಬಿದ್ದಿಲ್ಲ!</td>\n",
       "      <td>Fake</td>\n",
       "    </tr>\n",
       "    <tr>\n",
       "      <th>122</th>\n",
       "      <td>Fact Check: ಹೈದರಾಬಾದ್ ಚುನಾವಣೆಯಲ್ಲಿ ಬಿಜೆಪಿ ಜೊತೆ ಓವೈಸಿ ಪಕ್ಷ ರಹಸ್ಯ ಮೈತ್ರಿ..?</td>\n",
       "      <td>Fake</td>\n",
       "    </tr>\n",
       "    <tr>\n",
       "      <th>123</th>\n",
       "      <td>ಜನಾಂಗೀಯ ದ್ವೇಷಕ್ಕೆ ಬಲಿಯಾದ ವ್ಯಕ್ತಿಯ ಮಗಳೆದುರು ಮಂಡಿಯೂರಿ ಕ್ಷಮೆ ಕೇಳಿದ್ರಾ ಜೋ ಬಿಡೆನ್..?</td>\n",
       "      <td>Fake</td>\n",
       "    </tr>\n",
       "    <tr>\n",
       "      <th>124</th>\n",
       "      <td>ಹಳೆಯ ಫೋಟೋ ಬಳಸಿಕೊಂಡು ದಿಲ್ಲಿಯಲ್ಲಿ ರೈತ ಪ್ರತಿಭಟನೆ ಎಂದು ಬಿಂಬಿಸಿದ ಕಾಂಗ್ರೆಸ್..!</td>\n",
       "      <td>Fake</td>\n",
       "    </tr>\n",
       "  </tbody>\n",
       "</table>\n",
       "</div>"
      ],
      "text/plain": [
       "                                                                                                         text_name  \\\n",
       "115                                              ರೈತ ಪ್ರತಿಭಟನೆ ಬೆನ್ನಲ್ಲೇ ಮುಖೇಶ್ ಅಂಬಾನಿ ಜೊತೆ ಪಂಜಾಬ್ ಸಿಎಂ ಮಾತುಕತೆ..?   \n",
       "116                                              ಮೋದಿ ಜೊತೆ ಹಸ್ತಲಾಘವ ಮಾಡಿದ್ದಕ್ಕೆ ನಾಚಿಕೆಯಾಗ್ತಿದೆ ಎಂದಿದ್ದರಾ ಒಬಾಮಾ..?!   \n",
       "117                                     ಕೃಷಿ ಕಾಯ್ದೆ ವಿರೋಧಿಸಿ ಸಿಖ್‌ ರೈತರ ಜೊತೆ ಪ್ರತಿಭಟನೆ ಕುಳಿತಿದ್ರಾ ಕೆನಡಾ ಪ್ರಧಾನಿ..?   \n",
       "118                                                     ಭಾರತದ ಬಡತನ ಬಿಂಬಿಸಲು ಬಾಂಗ್ಲಾ ದೇಶದ ಫೋಟೋ ಬಳಸಿದ್ದ ಕಾಂಗ್ರೆಸ್..!   \n",
       "119                                         ದಿಲ್ಲಿ ರೈತ ಪ್ರತಿಭಟನೆಗೆ ಸಾಥ್ ನೀಡಲು ಸಾವಿರಾರು ಸಿಖ್ಖರು ಕುದುರೆ ಏರಿ ಬಂದರಾ..?   \n",
       "120  FactCheck: ಪ್ರತಿಭಟಿಸುತ್ತಿರುವ ರೈತರಿಗೆ ಬೆಂಬಲಿಸಿ ಕೇಂದ್ರ ಸರಕಾರದ ವಿರುದ್ಧ ಕಿಡಿಕಾರಿ ಟ್ವೀಟ್‌ ಮಾಡಿದ್ರಾ ಕಮಲಾ ಹ್ಯಾರಿಸ್‌?   \n",
       "121             ಸರಕಾರ ಅನ್ನದಾತನಿಗೆ ಹೊಡೆಸುತ್ತಿದೆ ಎಂದ ಕಾಂಗ್ರೆಸ್‌ ನಾಯಕರು, ಫೋಟೊ ಹಿಂದಿನ ಅಸಲಿ ಸತ್ಯವೇನು? ಪೆಟ್ಟು ಬಿದ್ದಿಲ್ಲ!   \n",
       "122                                      Fact Check: ಹೈದರಾಬಾದ್ ಚುನಾವಣೆಯಲ್ಲಿ ಬಿಜೆಪಿ ಜೊತೆ ಓವೈಸಿ ಪಕ್ಷ ರಹಸ್ಯ ಮೈತ್ರಿ..?   \n",
       "123                                ಜನಾಂಗೀಯ ದ್ವೇಷಕ್ಕೆ ಬಲಿಯಾದ ವ್ಯಕ್ತಿಯ ಮಗಳೆದುರು ಮಂಡಿಯೂರಿ ಕ್ಷಮೆ ಕೇಳಿದ್ರಾ ಜೋ ಬಿಡೆನ್..?   \n",
       "124                                       ಹಳೆಯ ಫೋಟೋ ಬಳಸಿಕೊಂಡು ದಿಲ್ಲಿಯಲ್ಲಿ ರೈತ ಪ್ರತಿಭಟನೆ ಎಂದು ಬಿಂಬಿಸಿದ ಕಾಂಗ್ರೆಸ್..!   \n",
       "\n",
       "    real/fake  \n",
       "115      Fake  \n",
       "116      Fake  \n",
       "117      Fake  \n",
       "118      Fake  \n",
       "119      Fake  \n",
       "120      Fake  \n",
       "121      Fake  \n",
       "122      Fake  \n",
       "123      Fake  \n",
       "124      Fake  "
      ]
     },
     "execution_count": 100,
     "metadata": {},
     "output_type": "execute_result"
    }
   ],
   "source": [
    "df_merge_fake.tail(10)"
   ]
  },
  {
   "cell_type": "code",
   "execution_count": 101,
   "metadata": {},
   "outputs": [],
   "source": [
    "df_merge = pd.concat([df_merge_fake, df_merge_true], axis = 0)"
   ]
  },
  {
   "cell_type": "code",
   "execution_count": 102,
   "metadata": {},
   "outputs": [],
   "source": [
    "df = df_merge.sample(frac = 1)"
   ]
  },
  {
   "cell_type": "code",
   "execution_count": 103,
   "metadata": {},
   "outputs": [
    {
     "data": {
      "text/html": [
       "<div>\n",
       "<style scoped>\n",
       "    .dataframe tbody tr th:only-of-type {\n",
       "        vertical-align: middle;\n",
       "    }\n",
       "\n",
       "    .dataframe tbody tr th {\n",
       "        vertical-align: top;\n",
       "    }\n",
       "\n",
       "    .dataframe thead th {\n",
       "        text-align: right;\n",
       "    }\n",
       "</style>\n",
       "<table border=\"1\" class=\"dataframe\">\n",
       "  <thead>\n",
       "    <tr style=\"text-align: right;\">\n",
       "      <th></th>\n",
       "      <th>text_name</th>\n",
       "      <th>real/fake</th>\n",
       "    </tr>\n",
       "  </thead>\n",
       "  <tbody>\n",
       "    <tr>\n",
       "      <th>79</th>\n",
       "      <td>Fact Check | ಜೂನ್ 15ರಿಂದ ದೇಶಾದ್ಯಂತ ಮತ್ತೆ ಕಟ್ಟುನಿಟ್ಟಿನ ಲಾಕ್​ಡೌನ್ ಜಾರಿ ಸುದ್ದಿ ನಿಜವೇ?</td>\n",
       "      <td>Fake</td>\n",
       "    </tr>\n",
       "    <tr>\n",
       "      <th>174</th>\n",
       "      <td>6.6 ಕೋಟಿ ವರ್ಷ ಹಳೆಯ ಡೈನೋಸಾರ್ ಭ್ರೂಣ ಸಂರಕ್ಷಿತ ಸ್ಥಿತಿಯಲ್ಲಿ ಪತ್ತೆ</td>\n",
       "      <td>Real</td>\n",
       "    </tr>\n",
       "    <tr>\n",
       "      <th>44</th>\n",
       "      <td>Fact check: ಸಿಬಿಎಸ್‌ಇ ಪರೀಕ್ಷೆ ವೇಳಾಪಟ್ಟಿ ಬಿಡುಗಡೆ?</td>\n",
       "      <td>Fake</td>\n",
       "    </tr>\n",
       "    <tr>\n",
       "      <th>89</th>\n",
       "      <td>15-18 ವರ್ಷದೊಳಗಿನ 2 ಕೋಟಿ ಮಕ್ಕಳಿಗೆ ಕೋವಿಡ್-19 ಮೊದಲ ಡೋಸ್ ಲಸಿಕೆ ನೀಡಿಕೆ: ಮಾಂಡವೀಯಾ</td>\n",
       "      <td>Real</td>\n",
       "    </tr>\n",
       "    <tr>\n",
       "      <th>87</th>\n",
       "      <td>ಬೆಂಗಳೂರಲ್ಲಿ ನಕಲಿ ದಾಖಲೆ ಸೃಷ್ಟಿಸಿ ಸೈಟ್‌ ಮಾರುತ್ತಿದ್ದ ಜಾಲ ಪತ್ತೆ</td>\n",
       "      <td>Fake</td>\n",
       "    </tr>\n",
       "    <tr>\n",
       "      <th>175</th>\n",
       "      <td>ಮೇಕೆದಾಟು ಪಾದಯಾತ್ರೆಗೆ ಚಾಲನೆಗೂ ಮುನ್ನ ಕಾವೇರಿ ನದಿಗೆ ಪೂಜೆ ಸಲ್ಲಿಸಿದ ಡಿ.ಕೆ ಶಿವಕುಮಾರ್</td>\n",
       "      <td>Real</td>\n",
       "    </tr>\n",
       "    <tr>\n",
       "      <th>1</th>\n",
       "      <td>ಕ್ರೀಡಾಪಟುಗಳಿಗೆ ವೈಜ್ಞಾನಿಕವಾಗಿ ತರಬೇತಿ ಅಗತ್ಯವಿದೆ: ಸಿಎಂ ಬಸವರಾಜ ಬೊಮ್ಮಾಯಿ</td>\n",
       "      <td>Real</td>\n",
       "    </tr>\n",
       "    <tr>\n",
       "      <th>103</th>\n",
       "      <td>ಫೋಟೋ</td>\n",
       "      <td>Fake</td>\n",
       "    </tr>\n",
       "    <tr>\n",
       "      <th>129</th>\n",
       "      <td>ಟೀಮ್ ಮ್ಯಾನೇಜ್ ಮೆಂಟ್ ಯಾವಾಗಲೂ ಬೆಂಬಲ ನೀಡುತ್ತಿದೆ; ಟೀಕೆಗಳ ಬಗ್ಗೆ ತಲೆಕೆಡಿಸಿಕೊಳ್ಳುವುದಿಲ್ಲ: ಪೂಜಾರ</td>\n",
       "      <td>Real</td>\n",
       "    </tr>\n",
       "    <tr>\n",
       "      <th>108</th>\n",
       "      <td>ಮತ್ತೆ ಗೋವಾದಲ್ಲಿ ಶುಭಮನ್​ ಗಿಲ್​-ಸಾರಾ ತೆಂಡೂಲ್ಕರ್​ ಡೇಟಿಂಗ್​?​​ ಫೋಟೋಗಳು ಸಿಕ್ಕಾಪಟ್ಟೆ ವೈರಲ್​!​</td>\n",
       "      <td>Fake</td>\n",
       "    </tr>\n",
       "  </tbody>\n",
       "</table>\n",
       "</div>"
      ],
      "text/plain": [
       "                                                                                    text_name  \\\n",
       "79         Fact Check | ಜೂನ್ 15ರಿಂದ ದೇಶಾದ್ಯಂತ ಮತ್ತೆ ಕಟ್ಟುನಿಟ್ಟಿನ ಲಾಕ್​ಡೌನ್ ಜಾರಿ ಸುದ್ದಿ ನಿಜವೇ?   \n",
       "174                              6.6 ಕೋಟಿ ವರ್ಷ ಹಳೆಯ ಡೈನೋಸಾರ್ ಭ್ರೂಣ ಸಂರಕ್ಷಿತ ಸ್ಥಿತಿಯಲ್ಲಿ ಪತ್ತೆ   \n",
       "44                                           Fact check: ಸಿಬಿಎಸ್‌ಇ ಪರೀಕ್ಷೆ ವೇಳಾಪಟ್ಟಿ ಬಿಡುಗಡೆ?   \n",
       "89                15-18 ವರ್ಷದೊಳಗಿನ 2 ಕೋಟಿ ಮಕ್ಕಳಿಗೆ ಕೋವಿಡ್-19 ಮೊದಲ ಡೋಸ್ ಲಸಿಕೆ ನೀಡಿಕೆ: ಮಾಂಡವೀಯಾ   \n",
       "87                                ಬೆಂಗಳೂರಲ್ಲಿ ನಕಲಿ ದಾಖಲೆ ಸೃಷ್ಟಿಸಿ ಸೈಟ್‌ ಮಾರುತ್ತಿದ್ದ ಜಾಲ ಪತ್ತೆ   \n",
       "175             ಮೇಕೆದಾಟು ಪಾದಯಾತ್ರೆಗೆ ಚಾಲನೆಗೂ ಮುನ್ನ ಕಾವೇರಿ ನದಿಗೆ ಪೂಜೆ ಸಲ್ಲಿಸಿದ ಡಿ.ಕೆ ಶಿವಕುಮಾರ್   \n",
       "1                         ಕ್ರೀಡಾಪಟುಗಳಿಗೆ ವೈಜ್ಞಾನಿಕವಾಗಿ ತರಬೇತಿ ಅಗತ್ಯವಿದೆ: ಸಿಎಂ ಬಸವರಾಜ ಬೊಮ್ಮಾಯಿ   \n",
       "103                                                                                      ಫೋಟೋ   \n",
       "129  ಟೀಮ್ ಮ್ಯಾನೇಜ್ ಮೆಂಟ್ ಯಾವಾಗಲೂ ಬೆಂಬಲ ನೀಡುತ್ತಿದೆ; ಟೀಕೆಗಳ ಬಗ್ಗೆ ತಲೆಕೆಡಿಸಿಕೊಳ್ಳುವುದಿಲ್ಲ: ಪೂಜಾರ   \n",
       "108   ಮತ್ತೆ ಗೋವಾದಲ್ಲಿ ಶುಭಮನ್​ ಗಿಲ್​-ಸಾರಾ ತೆಂಡೂಲ್ಕರ್​ ಡೇಟಿಂಗ್​?​​ ಫೋಟೋಗಳು ಸಿಕ್ಕಾಪಟ್ಟೆ ವೈರಲ್​!​   \n",
       "\n",
       "    real/fake  \n",
       "79       Fake  \n",
       "174      Real  \n",
       "44       Fake  \n",
       "89       Real  \n",
       "87       Fake  \n",
       "175      Real  \n",
       "1        Real  \n",
       "103      Fake  \n",
       "129      Real  \n",
       "108      Fake  "
      ]
     },
     "execution_count": 103,
     "metadata": {},
     "output_type": "execute_result"
    }
   ],
   "source": [
    "df.head(10)"
   ]
  },
  {
   "cell_type": "code",
   "execution_count": 104,
   "metadata": {},
   "outputs": [],
   "source": [
    "final_df_kannada = df.to_csv(\"E:\\\\isfcr project\\\\final_df_kannada.csv\")"
   ]
  },
  {
   "cell_type": "code",
   "execution_count": 105,
   "metadata": {},
   "outputs": [
    {
     "data": {
      "text/plain": [
       "(327, 2)"
      ]
     },
     "execution_count": 105,
     "metadata": {},
     "output_type": "execute_result"
    }
   ],
   "source": [
    "df.shape"
   ]
  },
  {
   "cell_type": "code",
   "execution_count": 106,
   "metadata": {},
   "outputs": [],
   "source": [
    "STOPS_LIST = ['ಈ','ಆದರೆ','ಎಂದು','ಅವರ','ಮತ್ತು','ಎಂಬ','ಅವರು','ಬಗ್ಗೆ','ಆ','ಇದೆ','ಇದು','ನಾನು','ನನ್ನ','ಅದು','ಮೇಲೆ','ಈಗ','ಹಾಗೂ','ಇಲ್ಲ',\n",
    "'ನನಗೆ','ಅವರಿಗೆ','ತಮ್ಮ','ಮಾಡಿ','ನಮ್ಮ','ಮಾತ್ರ','ದೊಡ್ಡ','ಅದೇ','ಯಾವ','ಆಗ','ತುಂಬಾ','ನಾವು','ದಿನ','ಬೇರೆ','ಅವರನ್ನು','ಎಲ್ಲಾ','ನೀವು',\n",
    "'ಹೊಸ','ಮುಂದೆ','ಹೇಗೆ','ನಂತರ','ಇಲ್ಲಿ','ಅಲ್ಲ','ಬಳಿಕ','ಹಾಗಾಗಿ','ಒಂದೇ','ಅದನ್ನು','ಬಂದ','ನಿಮ್ಮ','ಇತ್ತು','ಹೇಳಿ','ಮಾಡಿದ','ಅದಕ್ಕೆ','ಆಗಿ',\n",
    "'ಎಂಬುದು','ಅಂತ','ಕೆಲವು','ಮೊದಲು','ಬಂದು','ಇದೇ','ನೋಡಿ','ಕೇವಲ','ಎರಡು','ಇನ್ನು','ಅಷ್ಟೇ','ಎಷ್ಟು','ಚಿತ್ರದ','ಮಾಡಬೇಕು','ಹೀಗೆ','ಕುರಿತು',\n",
    "'ಉತ್ತರ','ಎಂದರೆ','ಇನ್ನೂ','ಮತ್ತೆ','ಏನು','ಪಾತ್ರ','ಮುಂದಿನ','ಸಂದರ್ಭದಲ್ಲಿ','ಮಾಡುವ','ವೇಳೆ','ನನ್ನನ್ನು','ಅಥವಾ','ಜೊತೆಗೆ','ಹೆಸರು']\n"
   ]
  },
  {
   "cell_type": "code",
   "execution_count": 107,
   "metadata": {},
   "outputs": [],
   "source": [
    "x = df[\"text_name\"]\n",
    "y = df[\"real/fake\"]"
   ]
  },
  {
   "cell_type": "code",
   "execution_count": 108,
   "metadata": {},
   "outputs": [],
   "source": [
    "from sklearn.model_selection import train_test_split\n",
    "from sklearn.metrics import classification_report, confusion_matrix, accuracy_score"
   ]
  },
  {
   "cell_type": "code",
   "execution_count": 109,
   "metadata": {},
   "outputs": [],
   "source": [
    "x_train, x_test, y_train, y_test = train_test_split(x, y, test_size=0.2,random_state=0)"
   ]
  },
  {
   "cell_type": "code",
   "execution_count": 110,
   "metadata": {},
   "outputs": [
    {
     "data": {
      "text/plain": [
       "pandas.core.series.Series"
      ]
     },
     "execution_count": 110,
     "metadata": {},
     "output_type": "execute_result"
    }
   ],
   "source": [
    "type(x_train)"
   ]
  },
  {
   "cell_type": "code",
   "execution_count": 111,
   "metadata": {},
   "outputs": [
    {
     "name": "stdout",
     "output_type": "stream",
     "text": [
      "['6.6', 'ಕೋಟಿ', 'ವರ್ಷ', 'ಹಳೆಯ', 'ಡೈನೋಸಾರ್', 'ಭ್ರೂಣ', 'ಸಂರಕ್ಷಿತ', 'ಸ್ಥಿತಿಯಲ್ಲಿ', 'ಪತ್ತೆ']\n",
      "['ಪಾಕಿಸ್ತಾನ', ':', 'ಸುಪ್ರೀಂ', 'ಕೋರ್ಟ್', 'ನ', 'ಮೊಟ್ಟ', 'ಮೊದಲ', 'ಮಹಿಳಾ', 'ನ್ಯಾಯಾಧೀಶೆಯಾಗಿ', 'ಆಯೇಷಾ', 'ಮಲಿಕ್', 'ನೇಮಕ']\n",
      "['ಟೀಮ್', 'ಮ್ಯಾನೇಜ್', 'ಮೆಂಟ್', 'ಯಾವಾಗಲೂ', 'ಬೆಂಬಲ', 'ನೀಡುತ್ತಿದೆ', ';', 'ಟೀಕೆಗಳ', 'ತಲೆಕೆಡಿಸಿಕೊಳ್ಳುವುದಿಲ್ಲ', ':', 'ಪೂಜಾರ']\n",
      "['ಹಿಲಕ್ಸ್', 'ಲೈಫ್\\u200cಸ್ಟೈಲ್', 'ಪಿಕ್ಅಪ್', 'ಖರೀದಿಗಾಗಿ', 'ಅಧಿಕೃತ', 'ಬುಕ್ಕಿಂಗ್', 'ಆರಂಭಿಸಿದ', 'ಟೊಯೊಟಾ']\n",
      "['ಟಿ20', 'ಪಂದ್ಯಗಳ', 'ನಿಯಮಗಳಲ್ಲಿ', 'ಐಸಿಸಿ', 'ಮಹತ್ವದ', 'ಬದಲಾವಣೆ', ':', 'ವಿವರ', 'ಹೀಗಿದೆ', '...']\n",
      "['ಗುಜರಾತ್\\u200c', ':', 'ಕೊರೋನಾ', 'ನಿಯಮ', 'ಉಲ್ಲಂಘಿಸಿ', 'ನಾಯಿ', 'ಹುಟ್ಟುಹಬ್ಬಕ್ಕೆ', '7', 'ಲಕ್ಷ', 'ರೂ', '.', 'ಖರ್ಚು', 'ವ್ಯಕ್ತಿಯ', 'ಬಂಧನ']\n",
      "['ಬಿಜೆಪಿ', 'ಶಾಸಕ', 'ರಾಜಾಸಿಂಗ್\\u200cರವರನ್ನು', 'ಪೊಲೀಸರು', 'ಬಂಧಿಸಿದ', 'ಹಳೆಯ', 'ವಿಡಿಯೋವನ್ನು', 'ಇತ್ತೀಚಿಗಿನ', 'ಪ್ರಕರಣ', 'ತಪ್ಪುದಾರಿಗೆಳೆಯುತ್ತಿದ್ದಾರೆ']\n",
      "['ದೆಹಲಿಯಲ್ಲಿ', 'ಇಂದು', '20,181', 'ಕೊರೋನಾ', 'ಪಾಸಿಟಿವ್', 'ಪ್ರಕರಣಗಳು', ',', 'ಏಳು', 'ಮಂದಿ', 'ಸಾವು']\n",
      "[\"'ಓಮಿಕ್ರಾನ್\", \"'\", 'ಗೆ', 'ಮೊನೊಕ್ಲೋನಲ್', 'ಅ್ಯಂಟಿಬಾಡಿ', 'ಥೆರಪಿ', ':', 'ಏನಿದು', 'ಚಿಕಿತ್ಸೆ', ',', 'ಪರಿಣಾಮಕಾರಿ', '?', 'ತಿಳಿದುಕೊಳ್ಳಬೇಕಾದ', 'ಅಂಶಗಳು', '!']\n",
      "['ಮೇಕೆದಾಟು', 'ಪಾದಯಾತ್ರೆಗೆ', 'ಚಾಲನೆಗೂ', 'ಮುನ್ನ', 'ಕಾವೇರಿ', 'ನದಿಗೆ', 'ಪೂಜೆ', 'ಸಲ್ಲಿಸಿದ', 'ಡಿ.ಕೆ', 'ಶಿವಕುಮಾರ್']\n",
      "['-19', ':', 'ಕೋವಿಡ್', 'ಕುರಿತಾದ', 'ಫೇಕ್\\u200b', 'ನ್ಯೂಸ್\\u200b', 'ಹಂಚಿಕೆಯಲ್ಲಿ', 'ಭಾರತದ್ದೇ', 'ಮೇಲುಗೈ', ';', 'ಅಧ್ಯಯನ']\n",
      "[':', 'ಪರೀಕ್ಷೆ', 'ಮುಂದೂಡದ್ದಕ್ಕೆ', 'ತೆಲಂಗಾಣ', 'ಬಾಲಕಿ', 'ಆತ್ಮಹತ್ಯೆ', 'ಸುದ್ದಿ', '–', 'ಇದರ', 'ಅಸಲಿಯತ್ತೇನು', '?']\n",
      "['ಕೊರೋನಾ', 'ಪಾಸಿಟಿವ್', '24', 'ಗಂಟೆಗಳಲ್ಲೇ', 'ಬೆಲ್\\u200dಗ್ರೇಡ್\\u200d', 'ಕಾರ್ಯಕ್ರಮದಲ್ಲಿ', 'ನೊವಾಕ್', 'ಜೊಕೊವಿಕ್', 'ಭಾಗಿ']\n",
      "['ಜಿಯೋಫೋನ್', 'ನೆಕ್ಸ್ಟ್', ':', 'ಫೋನಿನಲ್ಲಿ', 'ಏನೆಲ್ಲ', '?', 'ಬೆಲೆ', '?', 'ವಿವರ', 'ಹೀಗಿದೆ', '...']\n",
      "[':', 'ಪಂಚರಾಜ್ಯಗಳಿಗೆ', 'ಏಳು', 'ಹಂತಗಳಲ್ಲಿ', 'ಚುನಾವಣೆ']\n",
      "['ಹಿರಿಯ', 'ನಾಗರಿಕರಿಗೆ', 'ಸುರಕ್ಷಿತ', 'ಹೂಡಿಕೆಗಳು', 'ಇಲ್ಲಿವೆ', '!', '(', 'ಹಣಕ್ಲಾಸು', ')']\n",
      "['“', 'ಕಟ್ಟಪ್ಪ', '”', 'ಸತ್ಯರಾಜ್', \"'\", 'ಗೆ', 'ಕೊರೋನಾ', 'ಪಾಸಿಟಿವ್', ':', 'ಆಸ್ಪತ್ರೆಗೆ', 'ದಾಖಲು']\n",
      "['ಕೋವಿಡ್', 'ಲಸಿಕೆ', 'ಪ್ರಮಾಣ', 'ಪತ್ರ', 'ಬೇಕೆ', '?', ':', 'ಒಂದು', 'ಮೆಸೆಜ್', 'ಸಾಕು']\n",
      "['4000', 'ಕಮ್ಯುನಿಟಿ', 'ಹೆಲ್ತ್\\u200b', 'ಆಫೀಸರ್', 'ಹುದ್ದೆಗಳಿಗೆ', 'ಅರ್ಜಿ', 'ಆಹ್ವಾನ', ',', 'ಮಾಸಿಕ', 'ವೇತನ', '₹', '35,000']\n",
      "[':', 'ಕ್ರಶ್', 'ಮೆಸೇಜ್', 'ಮಾಡ್ತಿದ್ರೆ', 'ಅವರಿಂದ', 'ದೂರ', 'ಇರೋದು', 'ಬೆಸ್ಟ್']\n",
      "['ಜನಾಂಗೀಯ', 'ದ್ವೇಷಕ್ಕೆ', 'ಬಲಿಯಾದ', 'ವ್ಯಕ್ತಿಯ', 'ಮಗಳೆದುರು', 'ಮಂಡಿಯೂರಿ', 'ಕ್ಷಮೆ', 'ಕೇಳಿದ್ರಾ', 'ಜೋ', 'ಬಿಡೆನ್', '..', '?']\n",
      "[':', 'ಅಂದ', 'ಹಾಗೆ', 'ಹೊಸವರ್ಷಕ್ಕೆ', 'ಸಂಕಲ್ಪಗಳೇನು', '?']\n",
      "[':', 'ಸಿಎಎ', 'ವಿರೋಧಿ', 'ಹೋರಾಟಕ್ಕೆ', 'ಮಸಿ', 'ಬಳಿಯುವ', 'ಸಲುವಾಗಿ', 'ಬಿಜೆಪಿ', 'ಐಟಿ', 'ಸೆಲ್', 'ಹೀಗಾ', 'ಮಾಡೋದು', '?']\n",
      "['ಗೋವಾ', 'ಚುನಾವಣೆಯಲ್ಲಿ', 'ಟಿಎಂಸಿ', 'ಸ್ಪರ್ಧೆಯಿಂದ', 'ಬಿಜೆಪಿಗೆ', 'ಅನುಕೂಲ-', 'ಸಂಜಯ್', 'ರಾವತ್']\n",
      "['ಭಿಕ್ಷೆ', 'ಬೇಡಿ', 'ದತ್ತು', 'ಮಗಳ', 'ಕನಸಿಗೆ', 'ಆಸರೆಯಾಗಿ', 'ನಿಂತ', 'ಮಂಗಳಮುಖಿ']\n",
      "['2022', ':', 'ಜ.14-', 'ಮಾ.10', 'ಚುನಾವಣೆ']\n",
      "['ಮೊಬೈಲ್', ',', 'ಲ್ಯಾಪ್\\u200cಟಾಪ್', 'ಇಲ್ಲದ', 'ಮಕ್ಕಳು', 'ಶಾಲೆಯಲ್ಲಿ', 'ಕಲಿಕೆಗೆ', 'ಅವಕಾಶ']\n",
      "[]\n",
      "['-', 'ಗಾಂಧಿ', 'ಫೋಟೋ', 'ಬಳಿ', 'ಹಸಿರು', 'ಗೆರೆ', 'ಇರುವ', 'ನೋಟು', 'ನಕಲಿಯಾ', '?', 'ಸರ್ಕಾರದ', 'ಸ್ಪಷ್ಟನೆ']\n",
      "['ವರ್ಷಕ್ಕೆ', 'ಪ್ಲ್ಯಾನ್\\u200c', 'ರೀಚಾರ್ಜ್', ',', 'ವರ್ಷಪೂರ್ತಿ', 'ರೀಚಾರ್ಜ್', 'ಇರಲ್ಲ', '!']\n",
      "['ಸಂಗೀತ', 'ಚಿಕಿತ್ಸೆ', ':', 'ಪರಿಣಾಮಕಾರಿ', '..', '?', '(', 'ಚಿತ್ತ', 'ಮಂದಿರ', ')']\n",
      "[':', 'ಬಿಜೆಪಿಗೆ', '35', 'ಕೋಟಿ', 'ರೂ', 'ಚೆಕ್', 'ನೀಡಿದ', 'ವಿಜಯ್', 'ಮಲ್ಯ']\n",
      "['ಭೀಕರ', 'ವಿಡಿಯೋ', ':', 'ಜಾಲಿ', 'ಮೂಡ್', 'ನಲ್ಲಿ', 'ಬೋಟಿಂಗ್', 'ಮಾಡುತ್ತಿದ್ದ', 'ಬೋಟ್', 'ಗಳ', 'ಬಿದ್ದ', 'ಬೃಹತ್', 'ಬಂಡೆ', ',', '7', 'ಸಾವು', ',', '20', 'ಮಂದಿ', 'ನಾಪತ್ತೆ', ';', 'ವಿಡಿಯೋ', 'ವೈರಲ್']\n",
      "['ಓಮಿಕ್ರಾನ್', 'ತಡೆಗೆ', 'ವೀಕೆಂಡ್', 'ಲಾಕ್ಡೌನ್', 'ಜಾರಿ', ',', 'ಪಂಚರಾಜ್ಯಗಳಚುನಾವಣೆ', 'ವೇಳಾಪಟ್ಟಿ', 'ಘೋಷಣೆ']\n",
      "['ಕೇರಳದ', 'ಹಿಂದೂ', 'ಯುವತಿಯ', 'ಲೈಂಗಿಕ', 'ದೌರ್ಜನ್ಯವೆಸಗಲಾಯಿತೇ', '?', 'ವೈರಲ್', 'ವಿಡಿಯೋ', 'ಅಸಲಿಯತ್ತೇನು', '?']\n",
      "['ತಿಳಿದುಕೊಳ್ಳಬೇಕಾದ', 'ಸೈಂಧವ', 'ಉಪ್ಪಿನ', 'ಬಳಕೆ', 'ಪ್ರಯೋಜನಗಳು', '!']\n",
      "['ಭಾರತದಲ್ಲಿ', 'ಓಮಿಕ್ರಾನ್', 'ಸೋಂಕಿತರ', 'ಸಂಖ್ಯೆ', '3,071ಕ್ಕೆ', 'ಏರಿಕೆ']\n",
      "['ಟೆನಿಸ್', 'ಆಟಗಾರ', 'ಜೊಕೊವಿಚ್\\u200c', 'ವೀಸಾ', 'ರದ್ದು', ':', 'ಸಂಚಲನ', 'ಮೂಡಿಸಿದ', 'ಆಸ್ಟ್ರೇಲಿಯ', 'ಸರ್ಕಾರದ', 'ನಿರ್ಧಾರ']\n",
      "['3']\n",
      "['ಉದ್ರೇಕದ', 'ಮನ', 'ಸ್ಥಿತಿ', 'ಇದ್ದಾಗ', 'ಆಲೋಚಿಸುವ', 'ಶಕ್ತಿ', 'ಕುಸಿಯುವುದೇ', '?', ';', 'ಮನೋವಿಜ್ಞಾನದ', 'ಅಧ್ಯಯನಗಳು', 'ಹೇಳುವುದೇನು', '?']\n",
      "['ಟಿ.ವಿ', '.', 'ವಾಹಿನಿ', 'ಸಂಪಾದಕ', 'ಮಾತನಾಡಿದ್ದನ್ನು', 'ಕಾಂಗ್ರೆಸ್', 'ವಕ್ತಾರ', 'ಮೋದಿ', 'ಹೊಗಳಿದ್ದಾರೆಂದು', 'ತಪ್ಪಾಗಿ', 'ಹಂಚಿಕೊಳ್ಳಲಾಗಿದೆ']\n",
      "['ಫೋಟೋಗಳು', ':', 'ಓಮಿಕ್ರಾನ್', 'ನಡುವೆ', 'ಪಾಟ್ನಾ', 'ರೈಲು', 'ನಿಲ್ದಾಣದಲ್ಲಿ', 'ಜನ', 'ನಿರ್ಲಕ್ಷ್ಯ', ',', 'ನಿಲ್ದಾಣದಲ್ಲಿ', 'ಮಾಸ್ಕ್', 'ಧರಿಸದ', 'ಪ್ರಯಾಣಿಕರು', '.']\n",
      "['ವಾರಾಂತ್ಯ', 'ಕರ್ಫ್ಯೂ', ',', 'ಹೊರಗೆ', 'ಓಡಾಡುವಂತಿಲ್ಲ', ',', 'ನಗರ', 'ವಾಸಿಗಳು', 'ಮಾಡಬಹುದು', '?']\n",
      "['3ನೇ', 'ಬಾರಿ', 'ಆದ್ರೆ', 'ಕಸುಬನ್ನೇ', 'ಬಿಟ್ಟು', 'ಬಿಡ್ತೀವಿ', '..', 'ಮೀನುಗಾರರ', 'ನೋವಿನ', 'ನುಡಿ', '..', '!']\n",
      "['ಭಾರತದ', 'ಬಡತನ', 'ಬಿಂಬಿಸಲು', 'ಬಾಂಗ್ಲಾ', 'ದೇಶದ', 'ಫೋಟೋ', 'ಬಳಸಿದ್ದ', 'ಕಾಂಗ್ರೆಸ್', '..', '!']\n",
      "['2022', ':', 'ಕೋವಿಡ್', 'ಕಾರಣಕ್ಕೆ', 'ಭಾರತದಲ್ಲಿ', 'ಐಪಿಎಲ್', 'ಅಸಾಧ್ಯವಾದಲ್ಲಿ', 'ಬಿಸಿಸಿಐ', 'ಬಳಿ', 'ಪ್ಲಾನ್', 'ಬಿ']\n",
      "['ಇನ್ಮುಂದೆ', 'ಟಿವಿಯ', 'ಪರದೆಯ', 'ಮೇಲೂ', 'ರುಚಿ', 'ನೋಡಬಹುದು', ';', 'ಜಪಾನ್', 'ನ', 'ಟೇಸ್ಟ್', 'ಟಿವಿ', 'ವಿಶೇಷತೆ', 'ಹೀಗಿವೆ', '...']\n",
      "[\"'\", 'ಗೋಲ್ಡನ್', 'ಗ್ಯಾಂಗ್', \"'\", 'ಜೊತೆ', 'ಪ್ರೇಕ್ಷಕರನ್ನು', 'ರಂಜಿಸಲು', 'ಬರ್ತಿದ್ದಾರೆ', 'ಗೋಲ್ಡನ್', 'ಸ್ಟಾರ್', 'ಗಣೇಶ್']\n",
      "['ಯುಪಿ', 'ಚುನಾವಣೆ', ':', 'ಬಿಜೆಪಿ', ',', 'ಎಸ್\\u200cಪಿ', 'ಇಬ್ಬರಿಂದಲೂ', 'ಸರ್ಕಾರ', 'ರಚಿಸುವ', 'ವಿಶ್ವಾಸ', ',', 'ಇಸಿ', 'ಮಾರ್ಗಸೂಚಿ', 'ಪಾಲಿಸುವ', 'ಭರವಸೆ']\n",
      "['ಪೊಲೀಸರು', 'ಹೊಡೆಯುವ', 'ಮುಂಬೈ', 'ವಿಡಿಯೋವನ್ನು', 'ರಾಜ್ಯದ್ದು', 'ಹರಿಬಿಟ್ಟ', 'ಕಾಂಗ್ರೆಸ್', 'ಕಾರ್ಯಕರ್ತೆ', 'ಅರೆಸ್ಟ್']\n",
      "['ತೆಂಗಿನಕಾಯಿ', 'ದೋಸೆ']\n",
      "['ಕೇರಳ', 'ಮೂಲದ', 'ಟ್ಯಾಕ್ಸಿ', 'ಚಾಲಕನಿಗೆ', '50', 'ಕೋಟಿ', 'ರೂ', '.', 'ಅಬು', 'ಧಾಬಿ', 'ಬಂಪರ್', 'ಲಾಟರಿ']\n",
      "['ಆ್ಯಪಲ್', 'ಸಂಸ್ಥೆಯ', 'ಬಹುನಿರೀಕ್ಷಿತ', 'ಐಫೋನ್-13', 'ಪ್ರೊ', 'ಸೀರೀಸ್', 'ಬಿಡುಗಡೆ', ';', 'ದರ', ',', 'ಇತರೆ', 'ಮಾಹಿತಿ', 'ಇಲ್ಲಿದೆ', '!']\n",
      "[':', 'ಆಫ್ರಿಕಾದ', 'ಮಹಿಳೆ', 'ಏಕಕಾಲಕ್ಕೆ', '10', 'ಮಕ್ಕಳಿಗೆ', 'ಜನ್ಮ', 'ನೀಡಿದ್ದು', 'ಸುಳ್ಳು', 'ಸುದ್ದಿ', ':', 'ತನಿಖೆಯಿಂದ', 'ಬಯಲ']\n",
      "[':', 'ರೈತ', 'ತಂದೆಯ', 'ಭೇಟಿಗಾಗಿ', 'ದೆಹಲಿ', 'ಗಡಿಗೆ', 'ಯೋಧ', 'ಧಾವಿಸಿದ್ದು', 'ನಿಜವೇ', '?']\n",
      "['ಕಾಂಗ್ರೆಸ್\\u200c', 'ನಡಿಗೆ', ',', 'ಕೃಷ್ಣೆಯ', 'ಕಡೆಗೆ', 'ಪಾದಯಾತ್ರೆಗೆ', '9', 'ವರ್ಷ', ':', 'ಕೊಟ್ಟ', 'ಮಾತು', 'ಉಳಿಸಿಕೊಂಡಿದೆಯಾ', '?']\n",
      "['ವಿಡಿಯೋ']\n",
      "['ಉಲ್ಲಂಘಿಸೋ', 'ಭಂಡತನಕ್ಕೆಲ್ಲಾ', 'ಬೀಳಲ್ಲ', ':', 'ಕಾಂಗ್ರೆಸ್ಸಿಗರ', 'ಪಾದಯಾತ್ರೆ', 'ಶೆಟ್ಟರ್', 'ಲೇವಡಿ']\n",
      "['ಕಿಸ್ಸಿಂಗ್\\u200b', 'ಫೋಟೋ', 'ಮನವಿ', 'ನಟಿ', '..', 'ಪ್ಲೀಸ್\\u200b', 'ಪೋಸ್ಟ್\\u200b\\u200b', 'ಮಾಡ್ಬೇಡಿ', 'ಅಂದಿದ್ಯಾಕೆ', 'ಜಾಕಲಿನ್\\u200b', '?']\n",
      "['ಅನರ್ಹ', 'ಶಾಸಕ', 'ಮುನಿರತ್ನಗೆ', 'ಸಂಕಷ್ಟ', ';', 'ನಕಲಿ', 'ಮತದಾರರ', 'ಗುರುತಿನ', 'ಚೀಟಿ', 'ಪತ್ತೆ', 'ಪ್ರಕರಣ', 'ರಿ', 'ಓಪನ್']\n",
      "['ರಾಜ್ಯದ', 'ಕೋವಿಡ್', 'ವಾರ್', 'ರೂಮ್\\u200cಗೆ', 'ರಾಷ್ಟ್ರ', 'ಪ್ರಶಸ್ತಿ', '!']\n",
      "['.']\n",
      "['ಮಡಿಕೇರಿಯ', 'ಥನಲ್', 'ಆಶ್ರಮದ', 'ಪ್ರಯತ್ನ', ':', 'ಏಳು', 'ವರ್ಷಗಳ', 'ಕುಟುಂಬ', 'ಸೇರಿದ', 'ತಮಿಳುನಾಡಿನ', 'ಮಹಿಳೆ']\n",
      "['ಸಮುದಾಯ', 'ಟಾರ್ಗೆಟ್', '-', 'ಸುಳ್ಳು', 'ಸುದ್ದಿ', 'ಹಬ್ಬಿಸುವವರ', 'ವಿರುದ್ಧ', 'ಕೇಸ್', 'ಹಾಕಿ', ';', 'ಸಿ.ಎಂ.ಇಬ್ರಾಹಿಂ']\n",
      "['ಹೋರಾಟ', 'ಕಾವೇರಿ', 'ನೀರಿಗಾಗಿ', ',', 'ಜನರ', 'ಉಳಿವಿಗಾಗಿ', ':', 'ಡಿ', 'ಕೆ', 'ಶಿವಕುಮಾರ್']\n",
      "[':', 'ಜಿಂಕೆ', 'ಎಂದುಕೊಂಡು', 'ವ್ಯಕ್ತಿಗೆ', 'ತಗುಲಿದ', 'ಗುರಿ', '?', 'ಇಲ್ಲಿದೆ', 'ಸತ್ಯಾಸತ್ಯತೆ', '!']\n",
      "['ಮುಸ್ಲಿಂ', 'ಯುವಕರು', 'ಹಿಂದೂ', 'ಹುಡುಗನ', 'ತಲೆ', 'ಕಡಿದಿದ್ದು', 'ನಿಜವೇ', '?', 'ಶುದ್ಧ', 'ಸುಳ್ಳು', 'ಎನ್ನುತ್ತಿವೆ', 'ಸಾಕ್ಷಿ']\n",
      "['ಅಯೋಧ್ಯ-ಕಾಶಿ', 'ಜಾರಿ', 'ಹೈ', ',', 'ಮಥುರಾ', 'ಕಿ', 'ತಯಾರಿ', 'ಹೈ', ':', 'ಯು.ಪಿ', 'ಚುನಾವಣೆಗೆ', 'ಬಿಜೆಪಿ', ',', 'ಯೋಗಿಯ', 'ಮಂತ್ರ', '!', '(', 'ಅಂತಃಪುರದ', 'ಸುದ್ದಿಗಳು', ')']\n",
      "['ಕೊಡಿಸುವುದಾಗಿ', 'ಕರೆಯುತ್ತಾರೆ', ';', 'ನಕಲಿ', 'ಪೊಲೀಸರನ್ನು', 'ಬಿಟ್ಟು', 'ಲಕ್ಷ', 'ಲಕ್ಷ', 'ದೋಚುತ್ತಾರೆ', 'ಎಚ್ಚರ', '!']\n",
      "['ಕೌಟುಂಬಿಕ', 'ಮನರಂಜನಾ', 'ಚಿತ್ರದಲ್ಲಿ', 'ಅನೀಶ್', 'ತೇಜೇಶ್ವರ್']\n",
      "['ದಾನವ', 'ಶಕ್ತಿಯ', 'ಅಳಿವು', ',', 'ದೈವ', 'ಶಕ್ತಿಯ', 'ಗೆಲುವು', ',', 'ದೀಪಾವಳಿಯ', 'ಬಲವು']\n",
      "[]\n",
      "['ಜನವರಿ', '15ರವರೆಗೂ', 'ರಾಜಕೀಯ', 'ಸಭೆ', ',', 'ಸಮಾರಂಭ', ',', 'ಮೆರವಣಿಗೆಗೆ', 'ನಿರ್ಬಂಧ']\n",
      "['ಹಳೆದ', 'ಸಂಬಂಧವಿಲ್ಲದ', 'ಫೋಟೊವನ್ನು', 'ತಪ್ಪಾಗಿ', 'ಕರ್ನಾಲ್', 'ವೈದ್ಯ', 'ಸಗಣಿ', 'ತಿಂದಿದ್ದಕ್ಕೆ', 'ಆಸ್ಪತ್ರೆಗೆ', 'ದಾಖಲಾಗಿದ್ದಾರೆ', 'ಹಂಚಿಕೊಳ್ಳಲಾಗಿದೆ']\n",
      "['ಸೀರೆಯಲ್ಲಿ', 'ಸೊಬಗು', 'ತೋರುತ್ತಿರುವ', 'ನಂದಿತಾ', 'ಶ್ವೇತಾ', 'ಬೋಲ್ಡ್', 'ಚಿತ್ರಗಳು']\n",
      "['3', 'ವರ್ಷದಿಂದ', 'ಸಗಣಿ', 'ಎತ್ತಿಕೊಂಡು', 'ಜೀವನ', 'ಮಾಡುತ್ತಿದ್ದೇನೆ', ',', 'ಸುಳ್ಳುಸುದ್ದಿ', 'ಹಬ್ಬಿಸಬೇಡಿ', ';', 'ವರ್ತೂರು', 'ಪ್ರಕಾಶ್']\n",
      "['ದೇಶದಲ್ಲಿ', '1,59,632', 'ಕೊರೊನಾ', 'ಕೇಸ್']\n",
      "[]\n",
      "[':', 'ಫೇಕ್', 'ವೆಬ್\\u200bಸೈಟ್', 'ತಿಳಿಯೋದು', '?', 'ಮಾಹಿತಿ', 'ಇಲ್ಲಿದೆ']\n",
      "[':', 'ಕಾಲೇಜುಗಳಲ್ಲಿ', 'ವಿದ್ಯಾರ್ಥಿನಿಯರಿಗೆ', 'ಬಾಯ್\\u200cಫ್ರೆಂಡ್', 'ಕಡ್ಡಾಯ', '!']\n",
      "['-19', 'ಲಸಿಕೆ', 'ಪ್ರಮಾಣ', 'ಪತ್ರ', 'ಅಸಲಿಯೋ', ',', 'ನಕಲಿಯೋ', 'ತಿಳಿಯುವುದು', '?']\n",
      "[\"'\", 'ಮೇಕೆ', \"'\", 'ದಾಟಲು', 'ಕ್ಷಣಗಣನೆ', ',', 'ಕಾಂಗ್ರೆಸ್', 'ನಾಯಕರ', 'ಪಣ', ',', 'ಸಂಗಮದಲ್ಲಿ', 'ಡಿ', 'ಕೆ', 'ಶಿವಕುಮಾರ್', 'ಪೂಜೆ', 'ಸಲ್ಲಿಕೆ']\n",
      "['1']\n",
      "['ಎಲ್\\u200bಎಲ್\\u200bಬಿ', 'ಪದವಿ', 'ಇಲ್ಲದೆ', 'ಬಾರ್\\u200b', 'ಕೌನ್ಸಿಲ್\\u200b', 'ಚುನಾವಣೆ', 'ಗೆದ್ದ', 'ಮಹಿಳೆ', ':', 'ಸತ್ಯ', 'ತಿಳಿಯುತ್ತಿದ್ದಂತೆ', 'ನಾಪತ್ತೆ']\n",
      "['ಆಸ್ಪತ್ರೆಯಲ್ಲಿ', 'ಫಾರ್ಮಸಿಸ್ಟ್', ',', 'ಮನೆಯಲ್ಲಿ', 'ಡಾಕ್ಟರ್', '...', 'ರೋಗಿಗಳ', 'ಜೀವ', 'ಹಿಂಡಿದ', 'ನಕಲಿ', 'ವೈದ್ಯ', 'ಅರೆಸ್ಟ್', '!']\n",
      "['ಜನವರಿ', '09', ',', 'ಭಾನುವಾರದ', 'ದ್ವಾದಶ', 'ರಾಶಿಗಳ', 'ಭವಿಷ್ಯ']\n",
      "['ಸಾಮಾಜಿಕ', 'ಜಾಲತಾಣದಲ್ಲಿ', 'ಹರಿದಾಡುತ್ತಿರುವ', 'ವೇಳಾಪಟ್ಟಿ', 'ನಕಲಿ', ':', 'ಸಿಬಿಎಸ್\\u200cಇ', 'ಸ್ಪಷ್ಟನೆ']\n",
      "['ಪಕ್ಷಿಗಳ', 'ಮೇಲಿನ', 'ಪ್ರೀತಿಗೆ', 'ಲಕ್ಷಾಂತರ', 'ರೂ', 'ವೆಚ್ಚದಲ್ಲಿ', 'ಬಂಗ್ಲೆಯನ್ನೇ', 'ನಿರ್ಮಿಸಿದ', 'ಗುಜರಾತಿನ', 'ವ್ಯಕ್ತಿ', '!']\n",
      "['ಐದು', 'ರಾಜ್ಯಗಳ', 'ಚುನಾವಣೆ', ':', '‘', 'ಕ್ರಿಮಿನಲ್', '’', 'ಅಭ್ಯರ್ಥಿಗಳನ್ನು', 'ಕಣಕ್ಕಿಳಿಸಲು', 'ಕಾರಣ', 'ಕೇಳಿದ', 'ಚುನಾವಣಾ', 'ಆಯೋಗ']\n",
      "['2ನೇ', 'ಟೆಸ್ಟ್', ':', 'ಟೀಂ', 'ಇಂಡಿಯಾ', 'ವಿರುದ್ಧ', 'ದಕ್ಷಿಣ', 'ಆಫ್ರಿಕಕ್ಕೆ', '7', 'ವಿಕೆಟ್', 'ಗಳ', 'ಭರ್ಜರಿ', 'ಜಯ']\n",
      "['ಫೋನ್', 'ಅನ್ನು', 'ಚಾರ್ಜ್', 'ಮಾಡುತ್ತಿರುವಾಗ', 'ಮಾತನಾಡಿದರೆ', 'ಸ್ಪೋಟಗೊಳ್ಳುತ್ತದೆ', 'ನಿಜವಾಗಿ', 'ನಡೆದ', 'ಘಟನೆ']\n",
      "['ನಕಲಿ', 'ನೋಟು', 'ಜಾಲ', 'ಬಗೆದಷ್ಟು', 'ಆಳ', ':', 'ಮನೆಯಲ್ಲೇ', 'ನಕಲಿ', 'ನೋಟು', 'ತಯಾರಿಸುತ್ತಿದ್ದ', 'ಆರೋಪಿಗಳು', 'ಅಂದರ್']\n",
      "['ಐದು', 'ರಾಜ್ಯ', 'ಚುನಾವಣೆ', ':', '7', 'ಹಂತಗಳಲ್ಲಿ', 'ಹೇಗಿರಲಿದೆ', 'ಪ್ರಕ್ರಿಯೆ', '?']\n",
      "['ಕೊರೋನಾ', 'ಸುಳ್ಳು', 'ಸುದ್ದಿ', 'ಹರಡಿದ', 'ಆರೋಪದ', 'ಬಿಬಿಎಂಪಿ', 'ಸದಸ್ಯೆಯ', 'ಗಂಡನ', 'ಬಂಧನ']\n",
      "['ಪಂಚರಾಜ್ಯಗಳ', 'ಚುನಾವಣೆಗೆ', 'ಕಾಂಗ್ರೆಸ್', 'ಪಕ್ಷ', 'ಸಂಪೂರ್ಣ', 'ಸಜ್ಜು', ':', 'ಕೆಸಿ', 'ವೇಣುಗೋಪಾಲ್']\n",
      "['ಪಿಎಂ', 'ಕಿಸಾನ್', 'ಯೋಜನೆ', ':', '42', 'ಲಕ್ಷ', 'ಅನರ್ಹ', 'ರೈತರ', 'ಖಾತೆಗೆ', 'ಹೋಗಿದೆ', '3', 'ಸಾವಿರ', 'ಕೋಟಿ', 'ಹಣ\\u200b']\n",
      "['ಬುಲ್ಲಿ', 'ಬಾಯಿ', ':', 'ನೀರಜ್', 'ಬಿಷ್ಣೋಯ್', 'ಆತ್ಮಹತ್ಯೆಗೆ', 'ಯತ್ನ']\n",
      "['ಬೆಂಗಳೂರಲ್ಲಿ', 'ನಕಲಿ', 'ದಾಖಲೆ', 'ಸೃಷ್ಟಿಸಿ', 'ಸೈಟ್\\u200c', 'ಮಾರುತ್ತಿದ್ದ', 'ಜಾಲ', 'ಪತ್ತೆ']\n",
      "['ಮಕ್ಕಳಲ್ಲಿ', 'ಪೊಲೀಸರ', 'ಭಯ', 'ಹೋಗಲಾಡಿಸುವ', 'ಐಪಿಎಸ್', 'ಅಧಿಕಾರಿ', 'ವಿನೂತನ', 'ಶಾಲಾ', 'ಕಾರ್ಯಕ್ರಮ', ':', 'ಎಳವೆಯಲ್ಲಿಯೇ', 'ಕಾನೂನು', 'ತಿಳಿವಳಿಕೆಗೆ', 'ಕ್ರಮ']\n",
      "['ಕುದುರೆ', 'ಕೂದಲು', 'ಹುಳುವಿನ', 'ವೀಡಿಯೋವನ್ನು', 'ಶಿವ', 'ನಾಗ', 'ಮರದ', 'ಬೇರು', 'ತಪ್ಪಾಗಿ', 'ಹಂಚಿಕೊಳ್ಳಲಾಗಿದೆ']\n",
      "['ಭಾರತದಿಂದ', 'ಅಮೆರಿಕಾಗೆ', 'ತಿಂಗಳಿನಿಂದ', 'ಮಾವು', ',', 'ದಾಳಿಂಬೆ', 'ರಫ್ತು', 'ಪ್ರಾರಂಭ']\n",
      "[\"'ಕಡಿಮೆ\", 'ತೀವ್ರತೆಯ', 'ಓಮಿಕ್ರಾನ್', \"'\", 'ತಪ್ಪು', ';', 'ರೂಪಾಂತರಿ', 'ಹೆಚ್ಚು', 'ಮಾರಣಾಂತಿಕವಾಗಿರಬಹುದು', ':', 'ಭಾರತ', 'ಮೂಲದ', 'ಬ್ರಿಟನ್', 'ತಜ್ಞ']\n",
      "['ಸಾಮಾಜಿಕ', 'ಜಾಲತಾಣ', 'ನಿಯಂತ್ರಣಕ್ಕೆ', 'ಕೇಂದ್ರದ', 'ಮಾರ್ಗಸೂಚಿ']\n",
      "['ಕೃಷಿ', 'ಕಾಯ್ದೆ', 'ವಿರೋಧಿಸಿ', 'ಸಿಖ್\\u200c', 'ರೈತರ', 'ಜೊತೆ', 'ಪ್ರತಿಭಟನೆ', 'ಕುಳಿತಿದ್ರಾ', 'ಕೆನಡಾ', 'ಪ್ರಧಾನಿ', '..', '?']\n",
      "[':', 'ಸೆಲ್ಫಿ', 'ಹುಚ್ಚಿಗೆ', 'ನರ್ಮದಾ', 'ನದಿಯ', 'ಪಾಲಾದ', 'ಅತ್ತೆ-ಸೊಸೆ']\n",
      "[':', \"'ಈಶ್ವರ\", 'ಅಲ್ಲಾಹ್\\u200c', 'ತೆರೋ', 'ನಾಮ್\\u200c', \"'\", 'ಬದಲಿಗೆ', \"'\", 'ಜೈ', 'ಶ್ರೀರಾಮ್\\u200c', \"'\", '?', ',', 'ವಿಡಿಯೋ', 'ಹಿಂದಿನ', 'ಸತ್ಯ']\n",
      "['ಹಳೆಯ', 'ಸ್ಮಾರ್ಟ್', 'ಫೋನ್', 'ಗಳಲ್ಲಿ', 'ನ.1ರಿಂದ', 'ವಾಟ್ಸಪ್', 'ಸೇವೆ', 'ಸ್ಥಗಿತ', ',', 'ಸಂಪೂರ್ಣ', 'ಪಟ್ಟಿ', 'ಇಲ್ಲಿದೆ', '..', 'ಪರಿಶೀಲಿಸಿ']\n",
      "['ಅಮೆರಿಕದ', 'ಐಷಾರಾಮಿ', 'ಹೋಟೆಲ್', 'ಖರೀದಿಸಿದ', 'ಉದ್ಯಮಿ', 'ಮುಖೇಶ್', 'ಅಂಬಾನಿ', '!']\n",
      "['ರಾಜ್ಯದಲ್ಲಿ', 'ಸಂಪೂರ್ಣ', 'ಲಾಕ್\\u200cಡೌನ್\\u200c', '.', 'ವೀಕೆಂಡ್', 'ಕರ್ಫ್ಯೂನಲ್ಲಿ', 'ಮದ್ಯ', 'ಮಾರಾಟ', 'ಸಂಪೂರ್ಣ', 'ನಿಷೇಧ', ',', 'ವ್ಯಸನಿಗಳಿಗೆ', 'ಸಂಕಷ್ಟ', '!']\n",
      "['ದೇಹದ', 'ಅತಿ', 'ಹೆಚ್ಚು', 'ಅಂಗಗಳನ್ನು', 'ದಾನ', 'ದಾಖಲೆ', ':', 'ಕೇರಳ', 'ಕುಟುಂಬಕ್ಕೆ', 'ಪ್ರಶಂಸೆಯ', 'ಮಹಾಪೂರ']\n",
      "[':', 'ಪೂಜೆ', 'ಆಯ', 'ತಪ್ಪಿದ', 'ಡಿಕೆಶಿ', ';', 'ಪತ್ನಿಯರನ್ನು', 'ಹಂಚಿಕೊಳ್ಳುತ್ತಿದ್ದ', 'ಜಾಲ', 'ಬಯಲು']\n",
      "['ಕೊರೋನಾ', 'ಲಸಿಕೆ', 'ಸುಳ್ಳುಸುದ್ದಿ', 'ಹಬ್ಬಿಸಿದವರ', 'ವಿರುದ್ಧ', 'ಕಠಿಣ', 'ಕಾನೂನು', 'ಕ್ರಮಕ್ಕೆ', 'ಕೇಂದ್ರ', 'ಸೂಚನೆ']\n",
      "['15-18', 'ವರ್ಷದೊಳಗಿನ', '2', 'ಕೋಟಿ', 'ಮಕ್ಕಳಿಗೆ', 'ಕೋವಿಡ್-19', 'ಮೊದಲ', 'ಡೋಸ್', 'ಲಸಿಕೆ', 'ನೀಡಿಕೆ', ':', 'ಮಾಂಡವೀಯಾ']\n",
      "['ಶಿವಮೊಗ್ಗ', ';', 'ಮೀನಿನ', 'ಗಾಳಕ್ಕೆ', 'ಸಿಕ್ಕಿಬಿತ್ತು', 'ಮೊಸಳೆ', 'ಮರಿ', '!']\n",
      "[':', 'ಮೊಡವೆಗಳಿಂದ', 'ಮುಕ್ತಿ', 'ಪಡೆಯಲು', 'ಅಜ್ಜಿಯ', 'ಮಾತು', 'ಕೇಳಿ']\n",
      "['ಮಂಡ್ಯದಲ್ಲಿ', 'ಖೋಟಾನೋಟು', 'ದಂಧೆ', ':', 'ಕುರಿಗಾಹಿಗೆ', '10', 'ನಕಲಿ', 'ನೋಟು', 'ಕೊಟ್ಟು', 'ಕುರಿ', 'ಹೊತ್ತೊಯ್ದ', 'ವಂಚಕರು']\n",
      "['ಮಾರುತಿ', 'ಸುಜುಕಿಯ', 'ಸೆಲೆರಿಯೊ', 'ಮಾರುಕಟ್ಟೆಗೆ', 'ಬಿಡುಗಡೆ', ',', 'ಬೆಲೆ', 'ರೂ', '.', '4.99', 'ಲಕ್ಷ']\n",
      "['ಓಮಿಕ್ರಾನ್', 'ಸಹಿತ', 'ರೂಪಾಂತರಿಗಳನ್ನೂ', 'ತಟಸ್ಥಗೊಳಿಸುವ', 'ಪ್ರತಿಕಾಯಗಳ', 'ಗುರುತು', 'ಪತ್ತೆ', '!']\n",
      "[':', 'ಭಾರತೀಯ', 'ಪಾಸ್\\u200cಪೋರ್ಟ್\\u200cಗಳಿಂದ', 'ರಾಷ್ಟ್ರೀಯತೆಯ', 'ಹಕ್ಕನ್ನು', 'ತೆಗೆದುಹಾಕಿಲ್ಲ']\n",
      "['ಬೌನ್ಸ್', 'ನಿಂದ', 'ಕಡಿಮೆ', 'ದರದ', 'ಇ-ಬೈಕ್', 'ಬಿಡುಗಡೆ', ':', 'ಬೆಲೆ', '45099', 'ರೂ', '.', 'ನಿಂದ', 'ಪ್ರಾರಂಭ']\n",
      "['ಪೊಲೀಸ್', 'ಅಧಿಕಾರಿ', 'ಹೆಸರಿನಲ್ಲಿ', 'ಫೇಸ್\\u200b\\u200bಬುಕ್\\u200b\\u200b', 'ಮೂಲಕ', 'ವಂಚನೆ', ':', 'ಸೈಬರ್', 'ಕ್ರೈಂ', 'ಪೊಲೀಸ್', 'ಠಾಣೆಗೆ', 'ದೂರು']\n",
      "['ರಾಜ್ಯದ', '77', 'ಅಧಿಕಾರಿಗಳಿಗೆ', 'ಸಚಿವ', 'ಸಂಪುಟದ', 'ಒಪ್ಪಿಗೆ', 'ಇಲ್ಲದೇ', 'ಬಡ್ತಿ', '!']\n",
      "[':', 'ಮಾಂತ್ರಿಕರ', 'ಮಾತು', 'ಕೇಳಿ', 'ನಿಧಿಗಾಗಿ', 'ಮನೆಯನ್ನೆಲ್ಲಾ', 'ಅಗೆದ', 'ಯುವಕ', '..', 'ಸಿಕ್ಕಿದ್ದು', 'ನೋಡಿ', '..']\n",
      "[':', 'ಸಿಖ್ಖರಿಗೆ', 'ಮೋದಿ', 'ಸರ್ಕಾರದ', 'ಸಂಬಂಧ', 'ನೆನಪಿಸಿದ', 'ಐಆರ್\\u200cಸಿಟಿಸಿ']\n",
      "[':', 'ಕರ್ನಾಟಕದಲ್ಲಿ', 'ದಿನ', '8,906', 'ಮಂದಿಗೆ', 'ಕೊರೊನಾವೈರಸ್', '!']\n",
      "['ಊಫ್\\u200b\\u200b', '...', 'ಇಷ್ಟು', 'ಹಾಟ್\\u200b', 'ಫೋಟೋ', 'ನೋಡಿದ್ರೆ', '...', 'ದಿಶಾ', 'ಸಾಕು', 'ಆಟ', 'ಅಂತಿದ್ದಾರೆ', 'ಫ್ಯಾನ್ಸ್\\u200b', '!']\n",
      "['‘', 'ಸಂಕಷ್ಟದಲ್ಲಿದ್ದೇವೆ', 'ಸಹಾಯ', '...', '’', ':', 'ಕೊನೆಗೂ', 'ವಿಶ್ವದ', 'ಅಂಗಲಾಚಿದ', 'ತಾಲಿಬಾನಿ', 'ನಾಯಕರು']\n",
      "['ಟಾಲಿವುಡ್', 'ನಟ', 'ಮಹೇಶ್\\u200c', 'ಬಾಬು', 'ಸಹೋದರ', 'ರಮೇಶ್\\u200c', 'ಬಾಬು', 'ನಿಧನ']\n",
      "[':', 'ಸಿಬಿಎಸ್\\u200cಇ', 'ಪರೀಕ್ಷೆ', 'ವೇಳಾಪಟ್ಟಿ', 'ಬಿಡುಗಡೆ', '?']\n",
      "['ಕನ್ನಡ', ';', 'ಶಿರಸಿ', 'ಮಾರಿಕಾಂಬ', 'ಜಾತ್ರೆಗೆ', 'ದಿನಾಂಕ', 'ನಿಗದಿ']\n",
      "[\"'ಮತ್ತೆ\", 'ಸೇವೆಗೆ', 'ಹಾಜರ್\\u200c', \"'\", 'ಎಂದ', 'ಸಿಎಂ', 'ಕೇಜ್ರಿವಾಲ್']\n",
      "[]\n",
      "['ಫಿನ್\\u200cಟೆಕ್', 'ಯುನಿಕಾರ್ನ್', 'ಗ್ರೋವ್\\u200cನಲ್ಲಿ', 'ಮೈಕ್ರೋಸಾಫ್ಟ್', 'ಸಿಇಒ', 'ಸತ್ಯ', 'ನಾಡೆಲ್ಲಾ', 'ಹೂಡಿಕೆ', '!']\n",
      "['ಕೊರೋನಾ', 'ಅಬ್ಬರ', ':', 'ಮಹಾರಾಷ್ಟ್ರದಲ್ಲಿ', 'ನೈಟ್', 'ಕರ್ಫ್ಯೂ', 'ಜಾರಿ', ',', 'ಮದುವೆಗೆ', '50', 'ಮಂದಿಗೆ', 'ಅವಕಾಶ']\n",
      "[':', 'ಜೂಮ್\\u200b', 'ಆ್ಯಪ್\\u200bಗೆ\\u200b', 'ಪರ್ಯಾಯವಾಗಿ', 'ಸರ್ಕಾರ', 'ಅಭಿವೃದ್ಧಿ', 'ಪಡಿಸಿದ', 'ಸ್ವದೇಶಿ', 'ಆ್ಯಪ್\\u200b\\u200b', 'ಇದೇನಾ', '?']\n",
      "['ದಿಲ್ಲಿ', 'ರೈತ', 'ಪ್ರತಿಭಟನೆಗೆ', 'ಸಾಥ್', 'ನೀಡಲು', 'ಸಾವಿರಾರು', 'ಸಿಖ್ಖರು', 'ಕುದುರೆ', 'ಏರಿ', 'ಬಂದರಾ', '..', '?']\n",
      "['12', 'ಕೋಟಿ', 'ವೆಚ್ಚದಲ್ಲಿ', 'ಅಂಬರೀಶ್', 'ಸ್ಮಾರಕ', '.', 'ಹೋಟೆಲ್ಗೆ', 'ಕರೆದೊಯ್ದದ್ದಕ್ಕೆ', 'ಮಕ್ಕಳಿಗೆ', 'ಬೆಂಕಿ', 'ಹಚ್ಚಿ', 'ಮಹಿಳೆ', 'ಸೂಸೈಡ್']\n",
      "[':', 'ಕರ್ನಾಟಕದ', 'ಶಿವಕಾಶಿ', 'ನದಿಯಲ್ಲಿ', 'ಒಂದು', 'ಲಕ್ಷ', 'ಶಿವಲಿಂಗಗಳು', 'ಪತ್ತೆಯಾದ', 'ಸುದ್ದಿ', 'ನಿಜವೇ', '?']\n",
      "['ಬೆಂಗಳೂರನ್ನು', 'ಕೋವಿಡ್', 'ಪ್ರಕರಣಗಳ', 'ಕೇಂದ್ರಬಿಂದುವಾಗಿ', 'ಪರಿವರ್ತಿಸಿದ', '10', 'ವಾರ್ಡ್', 'ಗಳು', '!']\n",
      "['ಭಾರತದಲ್ಲಿ', 'ಹೆಚ್ಚಿದ', 'ಕೋವಿಡ್', 'ಸೋಂಕು', ':', 'ಇಂದು', 'ಸಂಜೆ', '4.30ಕ್ಕೆ', 'ಉನ್ನತ', 'ಮಟ್ಟದ', 'ಸಭೆ', 'ಕರೆದ', 'ಪ್ರಧಾನಿ', 'ಮೋದಿ']\n",
      "['ಪಂಚರಾಜ್ಯ', 'ಚುನಾವಣೆ', ':', 'ಸೋಲು-ಗೆಲುವಿನ', 'ಹಿಂದೆ', 'ಆರು', 'ಲೆಕ್ಕಾಚಾರ', '!']\n",
      "['ಫೆಬ್ರವರಿ', 'ಮಧ್ಯದ', 'ವೇಳೆಗೆ', 'ರಾಜ್ಯದಲ್ಲಿ', 'ಕೊರೋನಾ', '3ನೇ', 'ಅಲೆ', 'ಉತ್ತುಂಗಕ್ಕೇರಲಿದೆ', ':', 'ಆರೋಗ್ಯ', 'ಸಚಿವ', 'ಡಾ.ಕೆ.ಸುಧಾಕರ್']\n",
      "['ವಿಟ್ಲ', ':', 'ಕೊರಗಜ್ಜನ', 'ವೇಷ', 'ಧರಿಸಿ', 'ಕುಣಿದ', 'ಮುಸ್ಲಿಂ', 'ಮದುಮಗ', ';', 'ಪೊಲೀಸರಿಂದ', 'ಪ್ರಕರಣ', 'ದಾಖಲು']\n",
      "['ಬದುಕಿದ್ದಾಗಲೇ', 'ತನ್ನ', 'ಸಾವಿನ', 'ಸುದ್ದಿ', 'ಓದಿದ', 'ಸ್ಯಾಂಡಲ್\\u200bವುಡ್', 'ನಟಿ', 'ಗರಂ']\n",
      "[':', 'ಕಳೆದ', 'ವರ್ಷ', 'ಭಾರೀ', 'ಸುದ್ದಿ', 'ಮಾಡಿದ್ದ', 'ವಿಚಾರಗಳೆಲ್ಲಾ', 'ಸುಳ್ಳು', '!', 'ನೀವೂ', 'ನಂಬಿದ್ರಾ', '?']\n",
      "['ಮೇಕೆದಾಟು', 'ಪಾದಯಾತ್ರೆ', ':', 'ಜವಾಬ್ದಾರಿಯುತವಾಗಿ', 'ನಡೆದುಕೊಳ್ಳಿ-', 'ಕಾಂಗ್ರೆಸ್', 'ನಾಯಕರಿಗೆ', 'ರಾಜ್ಯದ', 'ಸಚಿವರು']\n",
      "['&', 'ಫ್ಯಾಮಿಲಿ', 'ಭಾರತ', 'ಬಿಟ್ಟು', 'ಹೋಗಲ್ಲ', ':', 'ವದಂತಿಗಳಿಗೆ', 'ಫುಲ್', 'ಸ್ಟಾಪ್\\u200b', 'ಇಟ್ಟ', 'ರಿಲಯನ್ಸ್\\u200b']\n",
      "['ಹಳೆದ', 'ಸಂಬಂಧವಿಲ್ಲದ', 'ಫೋಟೊವನ್ನು', 'ತಪ್ಪಾಗಿ', 'ಕರ್ನಾಲ್', 'ವೈದ್ಯ', 'ಸಗಣಿ', 'ತಿಂದಿದ್ದಕ್ಕೆ', 'ಆಸ್ಪತ್ರೆಗೆ', 'ದಾಖಲಾಗಿದ್ದಾರೆ', 'ಹಂಚಿಕೊಳ್ಳಲಾಗಿದೆ']\n",
      "['ಸುಪ್ರೀಂಕೋರ್ಟ್\\u200cನ', 'ನಾಲ್ವರು', 'ನ್ಯಾಯಮೂರ್ತಿಗಳಿಗೆ', 'ಕೋವಿಡ್\\u200c']\n",
      "['ಆರೋಪಿ', 'ಜೊತೆ', 'ಲವ್', 'ಬೈಟ್', 'ಫೋಟೋ', 'ವೈರಲ್', ';', 'ಬಾಲಿವುಡ್', 'ನಟಿ', 'ಜಾಕ್ವೆಲಿನ್', 'ಫರ್ನಾಂಡಿಸ್', 'ಹೇಳಿದ್ದೇನು', '?']\n",
      "['ಜ.9ರಿಂದ', 'ಜ.14ರ', 'ವಾರ', 'ಭವಿಷ್ಯ-', 'ಯಾರಿಗೆಲ್ಲಾ', 'ಅದೃಷ್ಟ', ',', 'ರಾಶಿಫಲದಲ್ಲಿ', 'ಏನೆಲ್ಲಾ', 'ಬದಲಾವಣೆ', '?']\n",
      "['ಇನ್ಮುಂದೆ', 'ರಶ್ಮಿಕಾ', 'ರಶ್ಮಿಕಾ', 'ಮಂದಣ್ಣ', 'ಅಲ್ವಂತೆ', '!']\n",
      "['ಪಾಠ', 'ಮಾಡಬೇಕಾದ', 'ಶಿಕ್ಷಕನಿಂದ', 'ಜಿಲ್ಲಾ', 'ರಾಜ್ಯೋತ್ಸವ', 'ಪ್ರಶಸ್ತಿ', 'ಪತ್ರದ', 'ನಕಲು']\n",
      "['ಉ.ಪ್ರ', 'ಚುನಾವಣೆ', ':', 'ಬಿಜೆಪಿ', 'ಟಿಕೆಟ್', 'ನಿಂದ', 'ಸ್ಪರ್ಧಿಸುವ', 'ವದಂತಿಯ', 'ನಡುವೆ', 'ನಿವೃತ್ತಿ', 'ಬಯಸಿದ', 'ಹಿರಿಯ', 'ಐಪಿಎಸ್', 'ಅಧಿಕಾರಿ']\n",
      "['ಕಳ್ಳತನಕ್ಕೆ', 'ಸಂಬಂಧಿಸಿದ', 'ವೀಡಿಯೊವನ್ನು', 'ತಿರುಪತಿ', 'ದೇವಸ್ಥಾನ', 'ಸಮಿತಿ', 'ಸದಸ್ಯನ', '(', ')', 'ಮನೆಗೆ', 'ದಾಳಿ', 'ತಪ್ಪಾಗಿ', 'ಹಂಚಿಕೊಳ್ಳಲಾಗುತ್ತಿದೆ']\n",
      "[]\n",
      "['ನಕಲಿ', 'ಸುದ್ದಿ', 'ಪತ್ತೆಗೆ', 'ಆ್ಯಪ್\\u200b', 'ಆವಿಷ್ಕಾರಿಸಿದ', 'ಧಾರವಾಡ', 'ಐಐಟಿ', 'ವಿದ್ಯಾರ್ಥಿಗಳು']\n",
      "['ಗೆಳತಿ', 'ಬಾರ್ಬರಾಗೆ', 'ನಕಲಿ', 'ವಜ್ರದುಂಗುರ', 'ತೊಡಿಸಿದ್ದನಂತೆ', 'ಚೋಕ್ಸಿ', ',', 'ಏನೇನು', 'ಯಾಮಾರಿಸಿದ್ದ', 'ಗೊತ್ತಾ', '?']\n",
      "['ಮದರ್', 'ತೆರೆಸಾ', 'ಚಾರಿಟಿ', 'ಎಫ್', 'ಸಿಆರ್', 'ಎ', 'ಪರವಾನಗಿ', 'ನವೀಕರಣ', ';', 'ವಿದೇಶಿ', 'ದೇಣಿಗೆ', 'ಸ್ವೀಕಾರಕ್ಕೆ', 'ನೆರವು']\n",
      "['ಗುಣಮಟ್ಟಕ್ಕೆ', 'ಹೆಸರುವಾಸಿಯಾದ', 'ಗೋಲ್ಡ್', 'ವಿನ್ನರ್', 'ಎಲ್ಡಿಯಾ', 'ಶುದ್ಧ', 'ಕೊಬ್ಬರಿ', 'ಎಣ್ಣೆಯನ್ನು', 'ತನ್ನ', 'ಸಮೂಹಕ್ಕೆ', 'ಸ್ವಾಗತಿಸುತ್ತಿದೆ']\n",
      "[':', 'ಭಯಾನಕ', 'ವಿಡಿಯೋ', 'ಶಿವಮೊಗ್ಗದ', 'ಸ್ಫೋಟದ್ದಲ್ಲ']\n",
      "['ಹಳೆಯ', 'ಫೋಟೋ', 'ಬಳಸಿಕೊಂಡು', 'ದಿಲ್ಲಿಯಲ್ಲಿ', 'ರೈತ', 'ಪ್ರತಿಭಟನೆ', 'ಬಿಂಬಿಸಿದ', 'ಕಾಂಗ್ರೆಸ್', '..', '!']\n",
      "['ಕೊರೋನಾ', 'ಸುಳ್ಳು', 'ಸುದ್ದಿ', 'ಕಣ್ಣಿಗೆ', 'ಬಿದ್ದರೆ', 'ಟ್ಯಾಗ್', ':', 'ಹಿರಿಯ', 'ಅಧಿಕಾರಿ', 'ಅತೀಕ್', 'ಬಿಗಿಕ್ರಮ']\n",
      "['ರಾಕಿಂಗ್', 'ಸ್ಟಾರ್', 'ಯಶ್', 'ಜನ್ಮದಿನ', ':', 'ಕೆಜಿಎಫ್', '2', 'ಡೆಡ್ಲಿ', 'ಲುಕ್', 'ಪೋಸ್ಟರ್', 'ಬಿಡುಗಡೆ']\n",
      "['4']\n",
      "['ಮೈಸೂರಿನಲ್ಲಿ', 'ನಕಲಿ', 'ವೈದ್ಯರ', 'ಹಾವಳಿ', ';', '8ನೇ', 'ತರಗತಿ', 'ಓದಿದ್ರೆ', 'ಸಾಕು', 'ಡಾಕ್ಟರ್\\u200b', 'ಆಗಬಹುದು']\n",
      "['ವಸತಿ', 'ಶಾಲೆಯಲ್ಲಿ', '37', 'ವಿದ್ಯಾರ್ಥಿಗಳಿಗೆ', 'ಸೋಂಕು', 'ದೃಢ']\n",
      "['ಭಾರತದಲ್ಲಿ', 'ಮುಂದುವರೆದ', 'ಕೊರೋನಾ', 'ಆರ್ಭಟ', ':', 'ದೇಶದಲ್ಲಿ', 'ದಿನ', '1.59', 'ಲಕ್ಷ', 'ಕೇಸ್', 'ಪತ್ತೆ', ',', '327', 'ಮಂದಿ', 'ಸಾವು']\n",
      "[]\n",
      "['ಒಡಿಶಾ', 'ನ್ಯಾಷನಲ್', 'ಪಾರ್ಕಿನಲ್ಲಿ', 'ಬಿಳಿ', 'ಮೊಸಳೆ', 'ಮರಿ', 'ಪತ್ತೆ', ':', 'ಶ್ವೇತಾ', 'ನಾಮಕರಣ']\n",
      "['ಜ.8', ':', 'ಜಗತ್ತಿನ', 'ರಾಷ್ಟ್ರದಲ್ಲಿ', 'ಕೊರೊನಾ', 'ರೋಗಿಗಳು', 'ಗುಣಮುಖ', '?']\n",
      "['ಕಣ್ಣಿನ', 'ಕೆಳಗಿನ', 'ಊತ', ':', 'ಕಾರಣ', 'ಚಿಕಿತ್ಸೆ', '(', 'ಕುಶಲವೇ', 'ಕ್ಷೇಮವೇ', ')']\n",
      "['ಮೋದಿ', 'ಜೊತೆ', 'ಹಸ್ತಲಾಘವ', 'ಮಾಡಿದ್ದಕ್ಕೆ', 'ನಾಚಿಕೆಯಾಗ್ತಿದೆ', 'ಎಂದಿದ್ದರಾ', 'ಒಬಾಮಾ', '..', '?', '!']\n",
      "['|', 'ಜೂನ್', '15ರಿಂದ', 'ದೇಶಾದ್ಯಂತ', 'ಕಟ್ಟುನಿಟ್ಟಿನ', 'ಲಾಕ್\\u200bಡೌನ್', 'ಜಾರಿ', 'ಸುದ್ದಿ', 'ನಿಜವೇ', '?']\n",
      "['ಟೆಸ್ಟ್', 'ನಲ್ಲಿ', 'ವಿಶ್ವ', 'ದಾಖಲೆ', 'ನಿರ್ಮಿಸಿದ', 'ನ್ಯೂಜಿಲೆಂಡ್', 'ಆಟಗಾರ', 'ಡೆವೂನ್', 'ಕಾನ್ವೇ']\n",
      "['ಭಾರತ', 'ಔಟ್', 'ಮಾಡಬೇಕಾದ್ರೆ', ',', 'ನಂದು', 'ಯಾವುದಾದ್ರೂ', 'ಮೂಳೆ', 'ಮುರೀಬೇಕು', '!']\n",
      "['ಉರಗ', 'ರಕ್ಷಕ', ',', 'ಅರಣ್ಯ', 'ಅಧಿಕಾರಿ', 'ಗೋಪಾಲ್', 'ನಾಯಕ್', 'ಕುರಿತ', 'ಪರಿಚಯ']\n",
      "['ಜನತಾ', 'ಕರ್ಫ್ಯೂ', 'ಹೊಡೆದ', 'ಚಪ್ಪಾಳೆಯಿಂದ', 'ಕೊರೋನಾ\\u200b', 'ವೈರಸ್\\u200b', 'ಮಾಯ', ':', 'ವಾಟ್ಸ್\\u200b\\u200bಆ್ಯಪ್\\u200b\\u200b', 'ಸಂದೇಶ', 'ಸತ್ಯ', '?']\n",
      "['ರಾತ್ರಿ', 'ತಡವಾಗಿ', 'ಆಹಾರ', 'ಸೇವನೆ', ',', 'ಅನಿಯಮಿತ', 'ಆಹಾರ', 'ಕ್ರಮದಿಂದ', 'ಆರೋಗ್ಯದ', 'ಏನು', 'ತೊಂದರೆ', '?']\n",
      "[':', 'ನೀಟ್-ಸ್ನಾತಕೋತ್ತರ', 'ಪರೀಕ್ಷೆ', 'ಮುಂದೂಡಿಕೆ', '?']\n",
      "['ಸರಕಾರ', 'ಅನ್ನದಾತನಿಗೆ', 'ಹೊಡೆಸುತ್ತಿದೆ', 'ಎಂದ', 'ಕಾಂಗ್ರೆಸ್\\u200c', 'ನಾಯಕರು', ',', 'ಫೋಟೊ', 'ಹಿಂದಿನ', 'ಅಸಲಿ', 'ಸತ್ಯವೇನು', '?', 'ಪೆಟ್ಟು', 'ಬಿದ್ದಿಲ್ಲ', '!']\n",
      "['ಸಚಿವ', 'ಮಗನಿಗೆ', 'ನಕಲಿ', 'ವಿಡಿಯೋ', 'ತೋರಿಸಿ', ':', 'ಖ್ಯಾತ', 'ಜ್ಯೋತಿಷಿ', 'ಪುತ್ರನ', 'ಬಂಧನ']\n",
      "['ಇತ್ತೀಚಿಗೆ', 'ಬಿಜೆಪಿಗೆ', 'ಸೇರ್ಪಡೆಯಾದ', 'ಪಂಜಾಬಿನ', 'ಶಾಸಕನಿಗೆ', 'ಕೇಂದ್ರದಿಂದ', 'ವೈ+', 'ಭದ್ರತೆ']\n",
      "['ಅಡಿಲೇಡ್', 'ಟೆನ್ನಿಸ್', 'ಪಂದ್ಯಾವಳಿ', ':', 'ರೋಹನ್', 'ಬೋಪಣ್ಣ-', 'ರಾಮ್', 'ಕುಮಾರ್', 'ಜೋಡಿ', 'ಸೆಮಿಫೈನಲ್ಸ್', 'ಪ್ರವೇಶ']\n",
      "['2021', ':', 'ನಿಜವಾಗ್ಲೂ', 'ವರ್ಷದ', 'ಸುಳ್ಳು', 'ಸುದ್ದಿ', 'ಅಂದ್ರೆ', '!', 'ಜನರು', 'ಹುಡಕಾಡಿದ್ದು', 'ಇದನ್ನೇ', '!']\n",
      "[':', '‘', '-', '’', '?']\n",
      "['ಮಿಸೆಸ್', 'ವರ್ಲ್ಡ್\\u200c', 'ಸ್ಪರ್ಧೆ', ':', 'ಬ್ರಿಟನ್', 'ಬ್ಯುಟಿಗೆ', 'ಸಿಗಲಿಲ್ಲ', 'ಅಮೆರಿಕದ', 'ವೀಸಾ', '!', 'ಯಾಕೆ', 'ಗೊತ್ತಾ', '?']\n",
      "['ಕನಕಪುರ', 'ಸಂಗಮದಲ್ಲಿ', 'ಮೇಕೆದಾಟು', 'ಯೋಜನೆ', 'ಪಾದಯಾತ್ರೆಗೆ', 'ಚಾಲನೆ', ':', 'ಸರ್ವಧರ್ಮ', 'ಗುರುಗಳು', 'ಭಾಗಿ', ',', 'ಆರಂಭದಲ್ಲಿಯೇ', 'ಕೋವಿಡ್', 'ನಿಯಮ', 'ಉಲ್ಲಂಘನೆ', '!']\n",
      "['ಸುಳ್ಳು', 'ಜಾಹೀರಾತು', 'ನೀಡುವ', 'ಮೂಲಕ', 'ಸರ್ಕಾರ', 'ಜನರಿಗೆ', 'ಮೇಕೆದಾಟು', 'ಯೋಜನೆ', 'ವಿಚಾರದಲ್ಲಿ', 'ತಪ್ಪು', 'ಮಾಹಿತಿ', 'ನೀಡುತ್ತಿದೆ', ':', 'ಸಿದ್ದರಾಮಯ್ಯ', 'ಆಕ್ರೋಶ']\n",
      "['ಖಾಸಗಿ', 'ಆಸ್ಪತ್ರೆಗಳಲ್ಲಿ', 'ಕೋವಿಡ್', 'ಲಸಿಕೆಗೆ', 'ದರ', '?', 'ತಪ್ಪು', 'ಮಾಹಿತಿ', 'ಸರ್ಕಾರದ', 'ಸ್ಪಷ್ಟನೆ']\n",
      "['ರಾಜ್ಯದಲ್ಲಿ', 'ರಸ್ತೆ', 'ಅಗಲೀಕರಣದ', 'ಸಮಯದಲ್ಲಿ', 'ಕೆಡವಿದ', 'ಮಸೀದಿಯ', 'ಕೆಳಗೆ', 'ಹಿಂದೂ', 'ದೇವಾಲಯ', 'ಸಿಕ್ಕಿರಲಿಲ್ಲ']\n",
      "['ಸಾಮಾಜಿಕ', 'ಜಾಲತಾಣಗಳಲ್ಲಿ', 'ಫೇಕ್\\u200c', 'ನ್ಯೂಸ್\\u200c', 'ತಡೆಯುವುದು', '?']\n",
      "['ಉಡುಪಿ', ':', 'ಜಿಲ್ಲೆಯಲ್ಲಿ', 'ಒಟ್ಟು', '1293', 'ಮಂದಿ', 'ಮಕ್ಕಳು', ',', 'ವಿದ್ಯಾರ್ಥಿಗಳಿಗೆ', 'ಕೊರೊನಾ', 'ಸೋಂಕು', '!']\n",
      "['ದಾಂಡೇಲಿಯಲ್ಲಿ', 'ಭಾರೀ', 'ಖೋಟಾ', 'ನೋಟು', 'ದಂಧೆ', ';', '72', 'ಲಕ್ಷ', 'ನಕಲಿ', 'ನೋಟು', 'ವಶಕ್ಕೆ', 'ಪಡೆದ', 'ಪೊಲೀಸರು', '!']\n",
      "['ದಕ್ಷಿಣ', 'ಕನ್ನಡ', ',', 'ಉಡುಪಿ', 'ಹೈನುಗಾರರ', 'ಜಾನುವಾರುಗಳಿಗೆ', 'ಮೇವಿನ', 'ತೀವ್ರ', 'ಕೊರತೆ']\n",
      "[':', 'ಜನವರಿ', '8ರಂದು', 'ಜಿಲ್ಲೆಯಲ್ಲಿ', 'ಇಂಧನ', 'ದರ', 'ಎಷ್ಟಿದೆ', '?']\n",
      "['ಜನವರಿ', '15', 'ರವರೆಗೆ', 'ಚುನಾವಣಾ', 'ರೋಡ್', 'ಶೋಗಳಿಗೆ', 'ನಿಷೇಧ']\n",
      "['ಸಚಿವ', 'ಎಸ್', '.', 'ಟಿ', '.', 'ಸೋಮಶೇಖರ್', 'ಪುತ್ರನಿಗೆ', 'ಬ್ಲಾಕ್', 'ಮೇಲ್', ':', 'ಇಬ್ಬರು', 'ಆರೋಪಿಗಳ', 'ಬಂಧನ']\n",
      "[':', 'ದೇವರ', 'ಮೂರ್ತಿಯನ್ನು', 'ತಪಾಸಣೆಗೆ', 'ತರುವಂತೆ', 'ಆದೇಶಿಸಿದ್ದ', 'ನ್ಯಾಯಾಲಯ', '!', '?']\n",
      "['ಎಲ್ಲ']\n",
      "['ಧಾರವಾಡ', 'ಮೂಲದ', 'ಹಿರಿಯ', 'ಜನಪದ', 'ಕಲಾವಿದ', 'ಬಸವಲಿಂಗಯ್ಯ', 'ಹಿರೇಮಠ', 'ನಿಧನ']\n",
      "['ಚೆಕ್', ':', 'ನಟಿ', 'ಸನಾ', 'ಖಾನ್', 'ಹನಿಮೂನ್', 'ಫೋಟೋ', 'ಹರಿಬಿಟ್ಟರಾ', 'ಆಕೆಯ', 'ಮೌಲ್ವಿ', 'ಪತಿ', '..', '?']\n",
      "['ಟಾಟಾ', \"'\", 'ಪಂಚ್\\u200c', \"'\", 'ಸಣ್ಣ', 'ಎಸ್\\u200cಯುವಿ', 'ಬುಕಿಂಗ್\\u200c', 'ಆರಂಭ', ',', 'ಕಾರಿನ', 'ವಿಶೇಷತೆಗಳ', 'ಮಾಹಿತಿ', 'ಇಲ್ಲಿದೆ']\n",
      "['ಖ್ಯಾತ', 'ಜ್ಯೋತಿಷಿಯ', 'ಪುತ್ರ', 'ರಾಹುಲ್', 'ಭಟ್', 'ಬಂಧನ', ':', 'ಇಬ್ಬರ', 'ವಿಚಾರಣೆ']\n",
      "[':', 'ಅದಾನಿಗೆ', 'ಸರ್ಕಾರ', 'ರೈಲ್ವೇಸ್\\u200cಅನ್ನು', 'ಮಾರಾಟ', 'ಮಾಡಿಲ್ಲ']\n",
      "['ಅಡುಗೆ', 'ಅರಮನೆ', ':', 'ಸಿಂಪಲ್ಲಾಗೊಂದ್', 'ಅವರೆಕಾಯಿ', 'ಸಾಂಬಾರು']\n",
      "['ಬುಲ್ಲಿ', 'ಬಾಯ್', 'ಆಪ್', ',', 'ಸುಲ್ಲಿ', 'ಡೀಲ್ಸ್', 'ಆಪ್', 'ಸೃಷ್ಟಿಕರ್ತನ', 'ಬಂಧನ']\n",
      "['ಕಾಂಗ್ರೆಸ್\\u200b\\u200bನ', 'ಮೇಕೆದಾಟು', 'ಪಾದಯಾತ್ರೆ', 'ಚಾಲನೆಗೆ', 'ಕ್ಷಣಗಣನೆ', ';', 'ನಟ', 'ಶಿವರಾಜ್', 'ಕುಮಾರ್\\u200c', 'ಭಾಗಿ', 'ಸಾಧ್ಯತೆ']\n",
      "['2021', 'ರಲ್ಲಿ', 'ಭಾರತದಲ್ಲಿ', 'ಗೂಗಲ್', 'ನಲ್ಲಿ', 'ಅತಿ', 'ಹೆಚ್ಚು', 'ಹುಡುಕಾಡಿದ', 'ಚಲನಚಿತ್ರಗಳು']\n",
      "['ಭಾರತದಲ್ಲಿ', 'ಹೆಚ್ಚಿದ', 'ಕೊರೋನಾ', 'ಆರ್ಭಟ', ':', 'ದೇಶದಲ್ಲಿಂದು', '1.41', 'ಲಕ್ಷ', 'ಕೇಸ್', 'ಪತ್ತೆ', ',', '285', 'ಮಂದಿ', 'ಸಾವು']\n",
      "[':', 'ರಾಜ್ಯದ', 'ಇತರೆ', 'ಜಿಲ್ಲೆಗಳಲ್ಲಿ', 'ವಾರಾಂತ್ಯ', 'ಕರ್ಫ್ಯೂ', 'ಹೇಗಿತ್ತು']\n",
      "['ಮೇಕೆದಾಟು', 'ಪಾದಯಾತ್ರೆಯನ್ನು', 'ಮೊಟಕುಗೊಳಿಸಿ', 'ಬೆಂಗಳೂರಿಗೆ', 'ವಾಪಸ್ಸಾದ', 'ಸಿದ್ದರಾಮಯ್ಯ']\n",
      "[':', 'ಕ್ರಶ್', 'ಮೆಸೇಜ್', 'ಮಾಡ್ತಿದ್ರೆ', 'ಅವರಿಂದ', 'ದೂರ', 'ಇರೋದು', 'ಬೆಸ್ಟ್']\n",
      "['ಡಿಕೆ', 'ದಾಟಲಿಲ್ಲ', ',', 'ಮೇಕೆಯಾದರೂ', 'ದಾಟಲಿ', '!', ':', 'ಕನಕಪುರ', 'ಸಂಗಮದಲ್ಲಿ', 'ನದಿಗೆ', 'ಇಳಿಯುವಾಗ', 'ಜಾರಿದ', 'ಡಿ', 'ಕೆ', 'ಶಿವಕುಮಾರ್', 'ಟ್ರೋಲ್', 'ಬಿಜೆಪಿ']\n",
      "['–', 'ಕಾರ್ಮಿಕರಿಗೆ', 'ಸರ್ಕಾರದಿಂದ', '1.2', 'ಲಕ್ಷ', 'ಸಿಗುತ್ತೆ', 'ಮೆಸೇಜ್', 'ಬಂದ್ರೆ', 'ಹುಷಾರ್']\n",
      "[':', 'ಮಾಂತ್ರಿಕರ', 'ಮಾತು', 'ಕೇಳಿ', 'ನಿಧಿಗಾಗಿ', 'ಮನೆಯನ್ನೆಲ್ಲಾ', 'ಅಗೆದ', 'ಯುವಕ', '..', 'ಸಿಕ್ಕಿದ್ದು', 'ನೋಡಿ', '..']\n",
      "[':', 'ಮಹಿಳೆಯ', 'ಜನನ', 'ಪ್ರಮಾಣಪತ್ರ', 'ಉದ್ದವೆಷ್ಟು', 'ಗೊತ್ತೇ', '?', 'ಶಾಕ್\\u200c', 'ಆಗ್ತೀರಾ', '..']\n",
      "[':', 'ಕೋವಿಡ್', 'ಲಸಿಕೆ', 'ಪಡೆಯದಂತೆ', 'ಆಫ್ರಿಕನ್ನರಿಗೆ', 'ಒಬಾಮ', 'ಮನವಿ']\n",
      "[':', 'ಕೇರಳದಲ್ಲಿ', 'ರಿಲಯನ್ಸ್', 'ಜಿಯೋ', 'ಇಂಟರ್\\u200cನೆಟ್', 'ನಿಷೇಧ']\n",
      "['ಇಂದು', 'ಉತ್ಥಾನ', 'ದ್ವಾದಶಿ', ',', 'ತುಳಸಿ', 'ಪೂಜೆಯ', 'ಮಹತ್ವ', ',', 'ಪುರಾಣ', 'ಕಥೆ', ',', 'ಆಚರಣೆ']\n",
      "['ಕಾಂಗ್ರೆಸ್', 'ನ', 'ಮೇಕೆದಾಟು', 'ಯಾತ್ರೆ', 'ಕೋವಿಡ್', 'ನಿಯಮ', 'ಮೀರಿದರೆ', 'ಕಾನೂನು', 'ಕ್ರಮ', ',', 'ಅನುಮತಿಯ', 'ಪ್ರಶ್ನೆಯೇ', ':', 'ಗೃಹ', 'ಸಚಿವ', 'ಆರಗ', 'ಜ್ಞಾನೇಂದ್ರ']\n",
      "['ಮನೆಯಲ್ಲಿ', 'ರಾಜಕೀಯದ', 'ಚರ್ಚಿಸುತ್ತೇನೆ', ':', 'ಡ್ಯಾನಿಶ್', 'ಸೇಟ್', 'ಸಂದರ್ಶನ']\n",
      "['ಹೂಸನ್ನೂ', 'ಮಾರಾಟ', 'ವಾರಕ್ಕೆ', '38', 'ಲಕ್ಷ', 'ರೂ', '.', 'ಗಳಿಸುತ್ತಿದ್ದ', 'ಸೆಲೆಬ್ರಿಟಿ', 'ಆಸ್ಪತ್ರೆ', 'ಸೇರಬೇಕಾಯ್ತು', '!', 'ಯಾಕೆ', 'ಅಂತೀರಾ', '?']\n",
      "['ಬೆಕ್ಕಿಗೆ', 'ಸೀಮಂತ', ':', 'ಬಟ್ಟೆ', ',', 'ಕಾಲ್ಗಳಿಗೆ', 'ಬಳೆ', ':', 'ಕೊಯಮತ್ತೂರಿನಲ್ಲಿ', 'ನಡೆದ', 'ಅಚ್ಚರಿಯ', 'ಘಟನೆ']\n",
      "['ಸಚಿನ್', 'ಮಗಳು', 'ಸಾರಾ', 'ಶುಭ್ಮನ್', 'ನೆಟಿಜನ್', 'ಕೈಗೆ', 'ಸಿಕ್ಕಿಬಿದ್ರು', '!']\n",
      "['2']\n",
      "[\"'\", 'ಕಾಂಗ್ರೆಸ್', '5', 'ವರ್ಷ', 'ಅಧಿಕಾರದಲ್ಲಿದ್ದರೂ', 'ಡಿಪಿಆರ್', 'ನ್ನು', 'ಸಲ್ಲಿಸಲಾಗಿಲ್ಲ', ',', 'ಮೇಕೆದಾಟು', 'ಪಾದಯಾತ್ರೆ', 'ರಾಜಕೀಯ', 'ಪ್ರೇರಿತ', ':', 'ಸಿಎಂ', 'ಬೊಮ್ಮಾಯಿ']\n",
      "['ಲೆಜೆಂಡ್ಸ್\\u200c', 'ಲೀಗ್\\u200cನಲ್ಲಿ', 'ಸಚಿನ್', 'ಆಡ್ತಿಲ್ಲ', ':', 'ಸುಳ್ಳು', 'ಮಾಹಿತಿ', 'ಹರಡದಿರಿ', '!']\n",
      "['ಪಂತ್', 'ಬಾಯಲ್ಲಿ', 'ಬ್ಯಾಟ್', 'ಬೀಸೋದನ್ನು', 'ಬಿಡ್ಬೇಕು', '!', '!', '!', 'ಬೇಕಿತ್ತಾ', 'ಪಂತ್', '...']\n",
      "['ಮೇಕೆದಾಟು', 'ಪಾದಯಾತ್ರೆ', 'ಆರಂಭ', ';', 'ಕೋವಿಡ್', 'ನಿಯಮಗಳು', 'ಗಾಳಿಗೆ']\n",
      "['ನ್ಯೂಸ್']\n",
      "['ಕೊಳಚೆ', 'ನೀರು', 'ನುಗ್ಗುವುದು', 'ತಡೆಯಲು', 'ಮನೆ', '3', 'ಅಡಿ', 'ಮೇಲೆತ್ತಿದ', 'ಮಾಲೀಕ', '!']\n",
      "['80', 'ವರ್ಷ', 'ಮೇಲ್ಪಟ್ಟವರಿಗೆ', 'ಅಂಚೆ', 'ಮತದಾನಕ್ಕೆ', 'ಅವಕಾಶ']\n",
      "['ಮಸಾಲೆ', 'ಚಟ್ನಿ']\n",
      "['ದ್ವಿತೀಯ', 'ಪಿಯುಸಿ', 'ಪರೀಕ್ಷೆ', 'ಸಂದೇಶ', 'ವೈರಲ್\\u200c-', 'ಡಿಸಿಎಂ', 'ಅಶ್ವತ್ಥನಾರಾಯಣ', 'ಸ್ಪಷ್ಟನೆ']\n",
      "['ಊಫ್\\u200b\\u200b', '...', 'ಇಷ್ಟು', 'ಹಾಟ್\\u200b', 'ಫೋಟೋ', 'ನೋಡಿದ್ರೆ', '...', 'ದಿಶಾ', 'ಸಾಕು', 'ಆಟ', 'ಅಂತಿದ್ದಾರೆ', 'ಫ್ಯಾನ್ಸ್\\u200b', '!']\n",
      "['ಬ್ಲ್ಯಾಕ್', 'ಫಂಗಸ್', 'ಈರುಳ್ಳಿ', ',', 'ಫ್ರಿಡ್ಜ್\\u200b\\u200b\\u200bನಲ್ಲಿ', 'ಬೆಳೆಯುತ್ತದೆಯೇ', '..', '?', 'ತಜ್ಞರು', 'ಬಗ್ಗೆ', 'ಏನಂತಾರೆ', '?']\n",
      "['ಮೋತಿಚೂರ್\\u200c', 'ಲಡ್ಡು']\n",
      "['ಇಶ್ರತ್\\u200b', 'ಜಹಾನ್\\u200b', 'ನಕಲಿ', 'ಎನ್\\u200bಕೌಂಟರ್\\u200b', 'ಪ್ರಕರಣ', ';', 'ಮೂವರು', 'ಪೊಲೀಸರನ್ನು', 'ಬಿಡುಗಡೆಗೊಳಿಸಿದ', 'ಸಿಬಿಐ', 'ಕೋರ್ಟ್\\u200b']\n",
      "['ಮಲ್ಲೇಶ್ವರಂನಲ್ಲಿ', \"'\", 'ಡೋರ್', 'ಸ್ಟೆಪ್', 'ಸ್ವ್ಯಾಬ್', 'ಸಂಗ್ರಹಣಾ', 'ವ್ಯವಸ್ಥೆ', \"'\", 'ಜಾರಿಗೆ', 'ತರಲು', 'ಸರ್ಕಾರ', 'ಮುಂದು', '!']\n",
      "['ಸಾವಿನ', 'ರಸ್ತೆ', 'ಕುಖ್ಯಾತಿಯ', 'ಹುಬ್ಬಳ್ಳಿ-ಧಾರವಾಡ', 'ಬೈಪಸ್', 'ಅಗಲೀಕರಣ']\n",
      "[':', 'ರಕುಲ್\\u200b', 'ಪ್ರೀತ್\\u200b', 'ಸಿಂಗ್\\u200b', 'ಮದುವೆ', 'ಫಿಕ್ಸ್\\u200b', '..', 'ಹುಡುಗ', 'ಯಾರ್\\u200b', 'ಗೊತ್ತಾ', '?', 'ನೀವೇ']\n",
      "[',']\n",
      "['ಕರ್ನಾಟಕ', 'ಬ್ಯಾಂಕ್', 'ನೇಮಕಾತಿ', ';', 'ಮಂಗಳೂರಿನಲ್ಲಿ', 'ಮ್ಯಾನೇಜರ್', 'ಹುದ್ದೆ']\n",
      "['5']\n",
      "['ಲಸಿಕೆ', 'ಹಾಕಿದ', 'ಜಾಂಬಿ', ',', 'ಲೈಂಗಿಕ', 'ವಿರೋಧಿ', 'ಬೆಡ್\\u200c', '!', ',', 'ಇಲ್ಲಿದೆ', '2021', 'ರ', 'ಸುಳ್ಳು', 'ಸುದ್ದಿಗಳು']\n",
      "[':', 'ಭಾರತೀಯ', 'ರೈಲ್ವೆ', '10', 'ನಿಯಮ', 'ಜಾರಿ', 'ಮಾಡಿದೆಯೇ', '?']\n",
      "['``', 'ಸುಲ್ಲಿ', 'ಡೀಲ್ಸ್', \"''\", 'ಆ್ಯಪ್', 'ಸೃಷ್ಟಿಕರ್ತ', 'ಓಂಕಾರೇಶ್ವರ್', 'ಠಾಕೂರ್', 'ಬಂಧನ']\n",
      "['ಭಾರತದಲ್ಲಿ', 'ಓಮಿಕ್ರಾನ್', 'ಸೋಂಕಿತರ', 'ಸಂಖ್ಯೆ', '3,623ಕ್ಕೆ', 'ಏರಿಕೆ']\n",
      "[':', 'ಆಧಾರ್', 'ಕಾರ್ಡ್', 'ಅಸಲಿಯೋ', ',', 'ನಕಲಿಯೋ', 'ತಿಳಿಯುವುದು', '?', 'ಇಲ್ಲಿದೆ', 'ವಿವರ', '..']\n",
      "['ಅಗ್ಗದ', 'ದರದಲ್ಲಿ', '7000ಎಂಎಹೆಚ್', 'ಬ್ಯಾಟರಿ', 'ಸಾಮರ್ಥ್ಯದ', 'ಮೊಬೈಲ್', 'ಬಿಡುಗಡೆ', 'ಟೆಕ್ನೋ']\n",
      "['ದಿಸ್\\u200fವಿನ್', '-', 'ಭಾರತದಲ್ಲಿ', 'ಲೈವ್', 'ಕ್ರೀಡೆಗಳ', 'ಇತ್ತೀಚಿನ', 'ಟ್ರೆಂಡ್']\n",
      "['ಭಿಕ್ಷೆ', 'ಬೇಡಿ', 'ಮೊಮ್ಮಗಳನ್ನು', 'ಕಿಕ್', 'ಬಾಕ್ಸರ್', 'ಮಂಗಳಮುಖಿ', '!']\n",
      "['ಕಾಂಗ್ರೆಸ್', 'ಮೇಕೆದಾಟು', 'ಪಾದಯಾತ್ರೆಗೆ', '`', 'ತಾರಾಬಲ', '’', ':', 'ದುನಿಯಾ', 'ವಿಜಯ್\\u200b', ',', 'ಸಾಧುಕೋಕಿಲ', 'ಸಾಥ್\\u200b', '!']\n",
      "['ಗೋವಾದಲ್ಲಿ', 'ಶುಭಮನ್\\u200b', 'ಗಿಲ್\\u200b-ಸಾರಾ', 'ತೆಂಡೂಲ್ಕರ್\\u200b', 'ಡೇಟಿಂಗ್\\u200b', '?', '\\u200b\\u200b', 'ಫೋಟೋಗಳು', 'ಸಿಕ್ಕಾಪಟ್ಟೆ', 'ವೈರಲ್\\u200b', '!', '\\u200b']\n",
      "['ಯಾವುದೇ', 'ಆರೋಗ್ಯ', 'ವಿಮೆ', 'ಖರೀದಿಸುವ', 'ಮುನ್ನ', 'ಅಂಶಗಳನ್ನ', 'ತಿಳಿಯಿರಿ']\n",
      "['ವೈದ್ಯರಿಗೆ', 'ಬ್ಲಾಕ್\\u200bಮೇಲ್', ';', 'ಪತ್ರಕರ್ತೆಯರು', 'ಹೇಳಿಕೊಂಡಿದ್ದ', 'ಮೂವರು', 'ಯುವತಿಯರ', 'ಬಂಧನ']\n",
      "['ಜೈಲಿಂದ', 'ಹೊರ', 'ಬಂದವನಿಗೆ', 'ಜೀವನೋಪಾಯಕ್ಕೆ', 'ಕಂಡಿದ್ದು']\n",
      "['ನಕಲಿ', 'ಬಿಪಿಎಲ್', 'ಕಾರ್ಡ್', 'ಹಿಂದಿರುಗಿಸಲು', 'ಒಂದು', 'ತಿಂಗಳ', 'ಕಾಲಾವಕಾಶ', ':', 'ಸಚಿವ', 'ಗೋಪಾಲಯ್ಯ']\n",
      "['ಪ್ರಸಿದ್ಧ', 'ಪ್ರವಾಸಿ', 'ತಾಣ', 'ಮುರ್ರೆಯಲ್ಲಿ', 'ಹಿಮಪಾತದಲ್ಲಿ', 'ಸಿಲುಕಿದ', 'ವಾಹನಗಳು', ';', '20', 'ಮಂದಿ', 'ಸಾವು', '!']\n",
      "['ಜ.12ರಿಂದ', 'ನೀಟ್-ಪಿಜಿ', '(', '-', ')', 'ಕೌನ್ಸೆಲಿಂಗ್', 'ಆರಂಭ', ':', 'ಕೇಂದ್ರ', 'ಆರೋಗ್ಯ', 'ಸಚಿವ', 'ಮನ್ಸುಖ್', 'ಮಾಂಡವೀಯ']\n"
     ]
    },
    {
     "data": {
      "text/plain": [
       "'from inltk.inltk import tokenize\\n\\nhindi_text = \"\"\"ರೈತ ಪ್ರತಿಭಟನೆ ಬೆನ್ನಲ್ಲೇ ಮುಖೇಶ್ ಅಂಬಾನಿ ಜೊತೆ ಪಂಜಾಬ್ ಸಿಎಂ ಮಾತುಕತೆ..?\"\"\"\\n\\n# tokenize(input text, language code)\\ntokenize(hindi_text, \"kn\")'"
      ]
     },
     "execution_count": 111,
     "metadata": {},
     "output_type": "execute_result"
    }
   ],
   "source": [
    "from nltk.tokenize import word_tokenize\n",
    "\n",
    "word_tokens={}\n",
    "filtered_sentence = []\n",
    "\n",
    "for x in x_train:\n",
    "    x=re.sub(\"[a-zA-Z]\",\" \",str(x))\n",
    "    word_tokens[x] = word_tokenize(x)\n",
    "    #print(word_tokens[x])\n",
    "    for i in word_tokens[x]:\n",
    "        if i in STOPS_LIST:\n",
    "            word_tokens[x].remove(i)\n",
    "    print(word_tokens[x])\n",
    "    \n",
    "'''from inltk.inltk import tokenize\n",
    "\n",
    "hindi_text = \"\"\"ರೈತ ಪ್ರತಿಭಟನೆ ಬೆನ್ನಲ್ಲೇ ಮುಖೇಶ್ ಅಂಬಾನಿ ಜೊತೆ ಪಂಜಾಬ್ ಸಿಎಂ ಮಾತುಕತೆ..?\"\"\"\n",
    "\n",
    "# tokenize(input text, language code)\n",
    "tokenize(hindi_text, \"kn\")'''"
   ]
  },
  {
   "cell_type": "code",
   "execution_count": 112,
   "metadata": {},
   "outputs": [
    {
     "data": {
      "text/plain": [
       "dict"
      ]
     },
     "execution_count": 112,
     "metadata": {},
     "output_type": "execute_result"
    }
   ],
   "source": [
    "type(word_tokens)"
   ]
  },
  {
   "cell_type": "code",
   "execution_count": 113,
   "metadata": {},
   "outputs": [],
   "source": [
    "from sklearn.feature_extraction.text import TfidfVectorizer"
   ]
  },
  {
   "cell_type": "code",
   "execution_count": 114,
   "metadata": {},
   "outputs": [],
   "source": [
    "word_tokens = pd.Series(word_tokens)"
   ]
  },
  {
   "cell_type": "code",
   "execution_count": 115,
   "metadata": {},
   "outputs": [
    {
     "data": {
      "text/plain": [
       "pandas.core.series.Series"
      ]
     },
     "execution_count": 115,
     "metadata": {},
     "output_type": "execute_result"
    }
   ],
   "source": [
    "type(word_tokens)"
   ]
  },
  {
   "cell_type": "code",
   "execution_count": 116,
   "metadata": {},
   "outputs": [],
   "source": [
    "tfvect = TfidfVectorizer()\n",
    "tfid_x_train = tfvect.fit_transform(x_train.values.astype('U'))\n",
    "tfid_x_test = tfvect.transform(x_test.values.astype('U'))"
   ]
  },
  {
   "cell_type": "code",
   "execution_count": 117,
   "metadata": {},
   "outputs": [],
   "source": [
    "from sklearn.linear_model import PassiveAggressiveClassifier"
   ]
  },
  {
   "cell_type": "code",
   "execution_count": 118,
   "metadata": {},
   "outputs": [
    {
     "data": {
      "text/plain": [
       "PassiveAggressiveClassifier(max_iter=50)"
      ]
     },
     "execution_count": 118,
     "metadata": {},
     "output_type": "execute_result"
    }
   ],
   "source": [
    "#this model remains passive for normal inputs(true) and turns aggressive on different input(fake)\n",
    "classifier = PassiveAggressiveClassifier(max_iter=50)\n",
    "#max_iter=maximum number of passes over the training data\n",
    "classifier.fit(tfid_x_train,y_train)\n",
    "#fit-taining part of the modelling process"
   ]
  },
  {
   "cell_type": "code",
   "execution_count": 119,
   "metadata": {},
   "outputs": [
    {
     "name": "stdout",
     "output_type": "stream",
     "text": [
      "Accuracy: 66.67%\n"
     ]
    }
   ],
   "source": [
    "y_pred = classifier.predict(tfid_x_test)\n",
    "#accuracy_score -> sklearn\n",
    "score = accuracy_score(y_test,y_pred)\n",
    "#accuracy between the predicted and actual values\n",
    "print(f'Accuracy: {round(score*100,2)}%')"
   ]
  },
  {
   "cell_type": "code",
   "execution_count": 120,
   "metadata": {},
   "outputs": [
    {
     "name": "stdout",
     "output_type": "stream",
     "text": [
      "[[13 12]\n",
      " [10 31]]\n"
     ]
    }
   ],
   "source": [
    "cf = confusion_matrix(y_test,y_pred, labels=['Fake','Real'])\n",
    "print(cf)"
   ]
  },
  {
   "cell_type": "code",
   "execution_count": 121,
   "metadata": {},
   "outputs": [],
   "source": [
    "import pickle\n",
    "\n",
    "#pickle.dump(pac,open('model_1.pkl', 'wb'))-direct method\n",
    "with open('model_kannada_pac.pkl','wb') as handle:\n",
    "    pickle.dump(classifier,handle,protocol=pickle.HIGHEST_PROTOCOL)\n",
    "#handle-file object returned after opening the model\n",
    "#pickle.HIGHEST_PROTOCOL indicates the highest version of pickle"
   ]
  },
  {
   "cell_type": "code",
   "execution_count": 122,
   "metadata": {},
   "outputs": [],
   "source": [
    "#Manual Testing\n",
    "def output_lable(n):\n",
    "    if n == \"Fake\":\n",
    "        return \"Fake News\"\n",
    "    elif n == \"Real\":\n",
    "        return \"Real News\"\n",
    "    \n",
    "def manual_testing(news):\n",
    "    testing_news = {\"text\":[news]}\n",
    "    new_def_test = pd.DataFrame(testing_news)\n",
    "    #creates a dataframe\n",
    "    new_def_test[\"text\"] = new_def_test[\"text\"]\n",
    "    new_x_test = new_def_test[\"text\"]\n",
    "    new_xv_test = tfvect.transform(new_x_test)\n",
    "\n",
    "    pred_pac = classifier.predict(new_xv_test)\n",
    "    return print(\"\\n\\nPAC Prediction:  \", output_lable(pred_pac[0]))"
   ]
  },
  {
   "cell_type": "code",
   "execution_count": 123,
   "metadata": {},
   "outputs": [
    {
     "name": "stdout",
     "output_type": "stream",
     "text": [
      "ಮೋದಿ ಜೊತೆ ಹಸ್ತಲಾಘವ ಮಾಡಿದ್ದಕ್ಕೆ ನಾಚಿಕೆಯಾಗ್ತಿದೆ ಎಂದಿದ್ದರಾ ಒಬಾಮಾ..?!\t\n",
      "\n",
      "\n",
      "PAC Prediction:   Fake News\n"
     ]
    }
   ],
   "source": [
    "news = str(input())\n",
    "manual_testing(news)"
   ]
  },
  {
   "cell_type": "code",
   "execution_count": null,
   "metadata": {},
   "outputs": [],
   "source": []
  }
 ],
 "metadata": {
  "kernelspec": {
   "display_name": "virtual_env",
   "language": "python",
   "name": "virtual_env"
  },
  "language_info": {
   "codemirror_mode": {
    "name": "ipython",
    "version": 3
   },
   "file_extension": ".py",
   "mimetype": "text/x-python",
   "name": "python",
   "nbconvert_exporter": "python",
   "pygments_lexer": "ipython3",
   "version": "3.10.1"
  }
 },
 "nbformat": 4,
 "nbformat_minor": 4
}
