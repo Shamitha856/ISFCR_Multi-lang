{
 "cells": [
  {
   "cell_type": "markdown",
   "metadata": {},
   "source": [
    "# Fake News Detection"
   ]
  },
  {
   "cell_type": "code",
   "execution_count": 1,
   "metadata": {},
   "outputs": [
    {
     "data": {
      "text/plain": [
       "'C:\\\\Users\\\\Shamitha'"
      ]
     },
     "execution_count": 1,
     "metadata": {},
     "output_type": "execute_result"
    }
   ],
   "source": [
    "pwd"
   ]
  },
  {
   "cell_type": "code",
   "execution_count": 2,
   "metadata": {},
   "outputs": [],
   "source": [
    "import pandas as pd\n",
    "import numpy as np\n",
    "from sklearn.model_selection import train_test_split\n",
    "from sklearn.metrics import classification_report, confusion_matrix, accuracy_score\n",
    "from sklearn.pipeline import Pipeline\n",
    "from sklearn.linear_model import PassiveAggressiveClassifier\n",
    "from sklearn.naive_bayes import MultinomialNB\n",
    "import re\n",
    "import string\n",
    "import pickle"
   ]
  },
  {
   "cell_type": "code",
   "execution_count": 3,
   "metadata": {},
   "outputs": [],
   "source": [
    "df_fake = pd.read_csv(\"E:\\\\isfcr project\\\\Fake.csv\")\n",
    "df_true = pd.read_csv(\"E:\\\\isfcr project\\\\True.csv\")"
   ]
  },
  {
   "cell_type": "code",
   "execution_count": 4,
   "metadata": {},
   "outputs": [
    {
     "data": {
      "text/html": [
       "<div>\n",
       "<style scoped>\n",
       "    .dataframe tbody tr th:only-of-type {\n",
       "        vertical-align: middle;\n",
       "    }\n",
       "\n",
       "    .dataframe tbody tr th {\n",
       "        vertical-align: top;\n",
       "    }\n",
       "\n",
       "    .dataframe thead th {\n",
       "        text-align: right;\n",
       "    }\n",
       "</style>\n",
       "<table border=\"1\" class=\"dataframe\">\n",
       "  <thead>\n",
       "    <tr style=\"text-align: right;\">\n",
       "      <th></th>\n",
       "      <th>title</th>\n",
       "      <th>text</th>\n",
       "      <th>subject</th>\n",
       "      <th>date</th>\n",
       "    </tr>\n",
       "  </thead>\n",
       "  <tbody>\n",
       "    <tr>\n",
       "      <th>0</th>\n",
       "      <td>Donald Trump Sends Out Embarrassing New Year’...</td>\n",
       "      <td>Donald Trump just couldn t wish all Americans ...</td>\n",
       "      <td>News</td>\n",
       "      <td>December 31, 2017</td>\n",
       "    </tr>\n",
       "    <tr>\n",
       "      <th>1</th>\n",
       "      <td>Drunk Bragging Trump Staffer Started Russian ...</td>\n",
       "      <td>House Intelligence Committee Chairman Devin Nu...</td>\n",
       "      <td>News</td>\n",
       "      <td>December 31, 2017</td>\n",
       "    </tr>\n",
       "    <tr>\n",
       "      <th>2</th>\n",
       "      <td>Sheriff David Clarke Becomes An Internet Joke...</td>\n",
       "      <td>On Friday, it was revealed that former Milwauk...</td>\n",
       "      <td>News</td>\n",
       "      <td>December 30, 2017</td>\n",
       "    </tr>\n",
       "    <tr>\n",
       "      <th>3</th>\n",
       "      <td>Trump Is So Obsessed He Even Has Obama’s Name...</td>\n",
       "      <td>On Christmas day, Donald Trump announced that ...</td>\n",
       "      <td>News</td>\n",
       "      <td>December 29, 2017</td>\n",
       "    </tr>\n",
       "    <tr>\n",
       "      <th>4</th>\n",
       "      <td>Pope Francis Just Called Out Donald Trump Dur...</td>\n",
       "      <td>Pope Francis used his annual Christmas Day mes...</td>\n",
       "      <td>News</td>\n",
       "      <td>December 25, 2017</td>\n",
       "    </tr>\n",
       "    <tr>\n",
       "      <th>...</th>\n",
       "      <td>...</td>\n",
       "      <td>...</td>\n",
       "      <td>...</td>\n",
       "      <td>...</td>\n",
       "    </tr>\n",
       "    <tr>\n",
       "      <th>23444</th>\n",
       "      <td>McPain: John McCain Furious That Iran Treated ...</td>\n",
       "      <td>21st Century Wire says As 21WIRE reported earl...</td>\n",
       "      <td>Middle-east</td>\n",
       "      <td>January 16, 2016</td>\n",
       "    </tr>\n",
       "    <tr>\n",
       "      <th>23445</th>\n",
       "      <td>JUSTICE? Yahoo Settles E-mail Privacy Class-ac...</td>\n",
       "      <td>21st Century Wire says It s a familiar theme. ...</td>\n",
       "      <td>Middle-east</td>\n",
       "      <td>January 16, 2016</td>\n",
       "    </tr>\n",
       "    <tr>\n",
       "      <th>23446</th>\n",
       "      <td>Sunnistan: US and Allied ‘Safe Zone’ Plan to T...</td>\n",
       "      <td>Patrick Henningsen  21st Century WireRemember ...</td>\n",
       "      <td>Middle-east</td>\n",
       "      <td>January 15, 2016</td>\n",
       "    </tr>\n",
       "    <tr>\n",
       "      <th>23447</th>\n",
       "      <td>How to Blow $700 Million: Al Jazeera America F...</td>\n",
       "      <td>21st Century Wire says Al Jazeera America will...</td>\n",
       "      <td>Middle-east</td>\n",
       "      <td>January 14, 2016</td>\n",
       "    </tr>\n",
       "    <tr>\n",
       "      <th>23448</th>\n",
       "      <td>10 U.S. Navy Sailors Held by Iranian Military ...</td>\n",
       "      <td>21st Century Wire says As 21WIRE predicted in ...</td>\n",
       "      <td>Middle-east</td>\n",
       "      <td>January 12, 2016</td>\n",
       "    </tr>\n",
       "  </tbody>\n",
       "</table>\n",
       "<p>23449 rows × 4 columns</p>\n",
       "</div>"
      ],
      "text/plain": [
       "                                                   title  \\\n",
       "0       Donald Trump Sends Out Embarrassing New Year’...   \n",
       "1       Drunk Bragging Trump Staffer Started Russian ...   \n",
       "2       Sheriff David Clarke Becomes An Internet Joke...   \n",
       "3       Trump Is So Obsessed He Even Has Obama’s Name...   \n",
       "4       Pope Francis Just Called Out Donald Trump Dur...   \n",
       "...                                                  ...   \n",
       "23444  McPain: John McCain Furious That Iran Treated ...   \n",
       "23445  JUSTICE? Yahoo Settles E-mail Privacy Class-ac...   \n",
       "23446  Sunnistan: US and Allied ‘Safe Zone’ Plan to T...   \n",
       "23447  How to Blow $700 Million: Al Jazeera America F...   \n",
       "23448  10 U.S. Navy Sailors Held by Iranian Military ...   \n",
       "\n",
       "                                                    text      subject  \\\n",
       "0      Donald Trump just couldn t wish all Americans ...         News   \n",
       "1      House Intelligence Committee Chairman Devin Nu...         News   \n",
       "2      On Friday, it was revealed that former Milwauk...         News   \n",
       "3      On Christmas day, Donald Trump announced that ...         News   \n",
       "4      Pope Francis used his annual Christmas Day mes...         News   \n",
       "...                                                  ...          ...   \n",
       "23444  21st Century Wire says As 21WIRE reported earl...  Middle-east   \n",
       "23445  21st Century Wire says It s a familiar theme. ...  Middle-east   \n",
       "23446  Patrick Henningsen  21st Century WireRemember ...  Middle-east   \n",
       "23447  21st Century Wire says Al Jazeera America will...  Middle-east   \n",
       "23448  21st Century Wire says As 21WIRE predicted in ...  Middle-east   \n",
       "\n",
       "                    date  \n",
       "0      December 31, 2017  \n",
       "1      December 31, 2017  \n",
       "2      December 30, 2017  \n",
       "3      December 29, 2017  \n",
       "4      December 25, 2017  \n",
       "...                  ...  \n",
       "23444   January 16, 2016  \n",
       "23445   January 16, 2016  \n",
       "23446   January 15, 2016  \n",
       "23447   January 14, 2016  \n",
       "23448   January 12, 2016  \n",
       "\n",
       "[23449 rows x 4 columns]"
      ]
     },
     "execution_count": 4,
     "metadata": {},
     "output_type": "execute_result"
    }
   ],
   "source": [
    "df_fake"
   ]
  },
  {
   "cell_type": "code",
   "execution_count": 5,
   "metadata": {},
   "outputs": [
    {
     "data": {
      "text/html": [
       "<div>\n",
       "<style scoped>\n",
       "    .dataframe tbody tr th:only-of-type {\n",
       "        vertical-align: middle;\n",
       "    }\n",
       "\n",
       "    .dataframe tbody tr th {\n",
       "        vertical-align: top;\n",
       "    }\n",
       "\n",
       "    .dataframe thead th {\n",
       "        text-align: right;\n",
       "    }\n",
       "</style>\n",
       "<table border=\"1\" class=\"dataframe\">\n",
       "  <thead>\n",
       "    <tr style=\"text-align: right;\">\n",
       "      <th></th>\n",
       "      <th>title</th>\n",
       "      <th>text</th>\n",
       "      <th>subject</th>\n",
       "      <th>date</th>\n",
       "    </tr>\n",
       "  </thead>\n",
       "  <tbody>\n",
       "    <tr>\n",
       "      <th>0</th>\n",
       "      <td>As U.S. budget fight looms, Republicans flip t...</td>\n",
       "      <td>WASHINGTON (Reuters) - The head of a conservat...</td>\n",
       "      <td>politicsNews</td>\n",
       "      <td>December 31, 2017</td>\n",
       "    </tr>\n",
       "    <tr>\n",
       "      <th>1</th>\n",
       "      <td>U.S. military to accept transgender recruits o...</td>\n",
       "      <td>WASHINGTON (Reuters) - Transgender people will...</td>\n",
       "      <td>politicsNews</td>\n",
       "      <td>December 29, 2017</td>\n",
       "    </tr>\n",
       "    <tr>\n",
       "      <th>2</th>\n",
       "      <td>Senior U.S. Republican senator: 'Let Mr. Muell...</td>\n",
       "      <td>WASHINGTON (Reuters) - The special counsel inv...</td>\n",
       "      <td>politicsNews</td>\n",
       "      <td>December 31, 2017</td>\n",
       "    </tr>\n",
       "    <tr>\n",
       "      <th>3</th>\n",
       "      <td>FBI Russia probe helped by Australian diplomat...</td>\n",
       "      <td>WASHINGTON (Reuters) - Trump campaign adviser ...</td>\n",
       "      <td>politicsNews</td>\n",
       "      <td>December 30, 2017</td>\n",
       "    </tr>\n",
       "    <tr>\n",
       "      <th>4</th>\n",
       "      <td>Trump wants Postal Service to charge 'much mor...</td>\n",
       "      <td>SEATTLE/WASHINGTON (Reuters) - President Donal...</td>\n",
       "      <td>politicsNews</td>\n",
       "      <td>December 29, 2017</td>\n",
       "    </tr>\n",
       "    <tr>\n",
       "      <th>...</th>\n",
       "      <td>...</td>\n",
       "      <td>...</td>\n",
       "      <td>...</td>\n",
       "      <td>...</td>\n",
       "    </tr>\n",
       "    <tr>\n",
       "      <th>21412</th>\n",
       "      <td>'Fully committed' NATO backs new U.S. approach...</td>\n",
       "      <td>BRUSSELS (Reuters) - NATO allies on Tuesday we...</td>\n",
       "      <td>worldnews</td>\n",
       "      <td>August 22, 2017</td>\n",
       "    </tr>\n",
       "    <tr>\n",
       "      <th>21413</th>\n",
       "      <td>LexisNexis withdrew two products from Chinese ...</td>\n",
       "      <td>LONDON (Reuters) - LexisNexis, a provider of l...</td>\n",
       "      <td>worldnews</td>\n",
       "      <td>August 22, 2017</td>\n",
       "    </tr>\n",
       "    <tr>\n",
       "      <th>21414</th>\n",
       "      <td>Minsk cultural hub becomes haven from authorities</td>\n",
       "      <td>MINSK (Reuters) - In the shadow of disused Sov...</td>\n",
       "      <td>worldnews</td>\n",
       "      <td>August 22, 2017</td>\n",
       "    </tr>\n",
       "    <tr>\n",
       "      <th>21415</th>\n",
       "      <td>Vatican upbeat on possibility of Pope Francis ...</td>\n",
       "      <td>MOSCOW (Reuters) - Vatican Secretary of State ...</td>\n",
       "      <td>worldnews</td>\n",
       "      <td>August 22, 2017</td>\n",
       "    </tr>\n",
       "    <tr>\n",
       "      <th>21416</th>\n",
       "      <td>Indonesia to buy $1.14 billion worth of Russia...</td>\n",
       "      <td>JAKARTA (Reuters) - Indonesia will buy 11 Sukh...</td>\n",
       "      <td>worldnews</td>\n",
       "      <td>August 22, 2017</td>\n",
       "    </tr>\n",
       "  </tbody>\n",
       "</table>\n",
       "<p>21417 rows × 4 columns</p>\n",
       "</div>"
      ],
      "text/plain": [
       "                                                   title  \\\n",
       "0      As U.S. budget fight looms, Republicans flip t...   \n",
       "1      U.S. military to accept transgender recruits o...   \n",
       "2      Senior U.S. Republican senator: 'Let Mr. Muell...   \n",
       "3      FBI Russia probe helped by Australian diplomat...   \n",
       "4      Trump wants Postal Service to charge 'much mor...   \n",
       "...                                                  ...   \n",
       "21412  'Fully committed' NATO backs new U.S. approach...   \n",
       "21413  LexisNexis withdrew two products from Chinese ...   \n",
       "21414  Minsk cultural hub becomes haven from authorities   \n",
       "21415  Vatican upbeat on possibility of Pope Francis ...   \n",
       "21416  Indonesia to buy $1.14 billion worth of Russia...   \n",
       "\n",
       "                                                    text       subject  \\\n",
       "0      WASHINGTON (Reuters) - The head of a conservat...  politicsNews   \n",
       "1      WASHINGTON (Reuters) - Transgender people will...  politicsNews   \n",
       "2      WASHINGTON (Reuters) - The special counsel inv...  politicsNews   \n",
       "3      WASHINGTON (Reuters) - Trump campaign adviser ...  politicsNews   \n",
       "4      SEATTLE/WASHINGTON (Reuters) - President Donal...  politicsNews   \n",
       "...                                                  ...           ...   \n",
       "21412  BRUSSELS (Reuters) - NATO allies on Tuesday we...     worldnews   \n",
       "21413  LONDON (Reuters) - LexisNexis, a provider of l...     worldnews   \n",
       "21414  MINSK (Reuters) - In the shadow of disused Sov...     worldnews   \n",
       "21415  MOSCOW (Reuters) - Vatican Secretary of State ...     worldnews   \n",
       "21416  JAKARTA (Reuters) - Indonesia will buy 11 Sukh...     worldnews   \n",
       "\n",
       "                     date  \n",
       "0      December 31, 2017   \n",
       "1      December 29, 2017   \n",
       "2      December 31, 2017   \n",
       "3      December 30, 2017   \n",
       "4      December 29, 2017   \n",
       "...                   ...  \n",
       "21412    August 22, 2017   \n",
       "21413    August 22, 2017   \n",
       "21414    August 22, 2017   \n",
       "21415    August 22, 2017   \n",
       "21416    August 22, 2017   \n",
       "\n",
       "[21417 rows x 4 columns]"
      ]
     },
     "execution_count": 5,
     "metadata": {},
     "output_type": "execute_result"
    }
   ],
   "source": [
    "df_true"
   ]
  },
  {
   "cell_type": "code",
   "execution_count": 6,
   "metadata": {},
   "outputs": [
    {
     "data": {
      "text/html": [
       "<div>\n",
       "<style scoped>\n",
       "    .dataframe tbody tr th:only-of-type {\n",
       "        vertical-align: middle;\n",
       "    }\n",
       "\n",
       "    .dataframe tbody tr th {\n",
       "        vertical-align: top;\n",
       "    }\n",
       "\n",
       "    .dataframe thead th {\n",
       "        text-align: right;\n",
       "    }\n",
       "</style>\n",
       "<table border=\"1\" class=\"dataframe\">\n",
       "  <thead>\n",
       "    <tr style=\"text-align: right;\">\n",
       "      <th></th>\n",
       "      <th>title</th>\n",
       "      <th>text</th>\n",
       "      <th>subject</th>\n",
       "      <th>date</th>\n",
       "    </tr>\n",
       "  </thead>\n",
       "  <tbody>\n",
       "    <tr>\n",
       "      <th>0</th>\n",
       "      <td>Donald Trump Sends Out Embarrassing New Year’...</td>\n",
       "      <td>Donald Trump just couldn t wish all Americans ...</td>\n",
       "      <td>News</td>\n",
       "      <td>December 31, 2017</td>\n",
       "    </tr>\n",
       "    <tr>\n",
       "      <th>1</th>\n",
       "      <td>Drunk Bragging Trump Staffer Started Russian ...</td>\n",
       "      <td>House Intelligence Committee Chairman Devin Nu...</td>\n",
       "      <td>News</td>\n",
       "      <td>December 31, 2017</td>\n",
       "    </tr>\n",
       "    <tr>\n",
       "      <th>2</th>\n",
       "      <td>Sheriff David Clarke Becomes An Internet Joke...</td>\n",
       "      <td>On Friday, it was revealed that former Milwauk...</td>\n",
       "      <td>News</td>\n",
       "      <td>December 30, 2017</td>\n",
       "    </tr>\n",
       "    <tr>\n",
       "      <th>3</th>\n",
       "      <td>Trump Is So Obsessed He Even Has Obama’s Name...</td>\n",
       "      <td>On Christmas day, Donald Trump announced that ...</td>\n",
       "      <td>News</td>\n",
       "      <td>December 29, 2017</td>\n",
       "    </tr>\n",
       "    <tr>\n",
       "      <th>4</th>\n",
       "      <td>Pope Francis Just Called Out Donald Trump Dur...</td>\n",
       "      <td>Pope Francis used his annual Christmas Day mes...</td>\n",
       "      <td>News</td>\n",
       "      <td>December 25, 2017</td>\n",
       "    </tr>\n",
       "    <tr>\n",
       "      <th>5</th>\n",
       "      <td>Racist Alabama Cops Brutalize Black Boy While...</td>\n",
       "      <td>The number of cases of cops brutalizing and ki...</td>\n",
       "      <td>News</td>\n",
       "      <td>December 25, 2017</td>\n",
       "    </tr>\n",
       "    <tr>\n",
       "      <th>6</th>\n",
       "      <td>Fresh Off The Golf Course, Trump Lashes Out A...</td>\n",
       "      <td>Donald Trump spent a good portion of his day a...</td>\n",
       "      <td>News</td>\n",
       "      <td>December 23, 2017</td>\n",
       "    </tr>\n",
       "    <tr>\n",
       "      <th>7</th>\n",
       "      <td>Trump Said Some INSANELY Racist Stuff Inside ...</td>\n",
       "      <td>In the wake of yet another court decision that...</td>\n",
       "      <td>News</td>\n",
       "      <td>December 23, 2017</td>\n",
       "    </tr>\n",
       "    <tr>\n",
       "      <th>8</th>\n",
       "      <td>Former CIA Director Slams Trump Over UN Bully...</td>\n",
       "      <td>Many people have raised the alarm regarding th...</td>\n",
       "      <td>News</td>\n",
       "      <td>December 22, 2017</td>\n",
       "    </tr>\n",
       "    <tr>\n",
       "      <th>9</th>\n",
       "      <td>WATCH: Brand-New Pro-Trump Ad Features So Muc...</td>\n",
       "      <td>Just when you might have thought we d get a br...</td>\n",
       "      <td>News</td>\n",
       "      <td>December 21, 2017</td>\n",
       "    </tr>\n",
       "  </tbody>\n",
       "</table>\n",
       "</div>"
      ],
      "text/plain": [
       "                                               title  \\\n",
       "0   Donald Trump Sends Out Embarrassing New Year’...   \n",
       "1   Drunk Bragging Trump Staffer Started Russian ...   \n",
       "2   Sheriff David Clarke Becomes An Internet Joke...   \n",
       "3   Trump Is So Obsessed He Even Has Obama’s Name...   \n",
       "4   Pope Francis Just Called Out Donald Trump Dur...   \n",
       "5   Racist Alabama Cops Brutalize Black Boy While...   \n",
       "6   Fresh Off The Golf Course, Trump Lashes Out A...   \n",
       "7   Trump Said Some INSANELY Racist Stuff Inside ...   \n",
       "8   Former CIA Director Slams Trump Over UN Bully...   \n",
       "9   WATCH: Brand-New Pro-Trump Ad Features So Muc...   \n",
       "\n",
       "                                                text subject  \\\n",
       "0  Donald Trump just couldn t wish all Americans ...    News   \n",
       "1  House Intelligence Committee Chairman Devin Nu...    News   \n",
       "2  On Friday, it was revealed that former Milwauk...    News   \n",
       "3  On Christmas day, Donald Trump announced that ...    News   \n",
       "4  Pope Francis used his annual Christmas Day mes...    News   \n",
       "5  The number of cases of cops brutalizing and ki...    News   \n",
       "6  Donald Trump spent a good portion of his day a...    News   \n",
       "7  In the wake of yet another court decision that...    News   \n",
       "8  Many people have raised the alarm regarding th...    News   \n",
       "9  Just when you might have thought we d get a br...    News   \n",
       "\n",
       "                date  \n",
       "0  December 31, 2017  \n",
       "1  December 31, 2017  \n",
       "2  December 30, 2017  \n",
       "3  December 29, 2017  \n",
       "4  December 25, 2017  \n",
       "5  December 25, 2017  \n",
       "6  December 23, 2017  \n",
       "7  December 23, 2017  \n",
       "8  December 22, 2017  \n",
       "9  December 21, 2017  "
      ]
     },
     "execution_count": 6,
     "metadata": {},
     "output_type": "execute_result"
    }
   ],
   "source": [
    "df_fake.head(10)"
   ]
  },
  {
   "cell_type": "code",
   "execution_count": 7,
   "metadata": {},
   "outputs": [
    {
     "data": {
      "text/html": [
       "<div>\n",
       "<style scoped>\n",
       "    .dataframe tbody tr th:only-of-type {\n",
       "        vertical-align: middle;\n",
       "    }\n",
       "\n",
       "    .dataframe tbody tr th {\n",
       "        vertical-align: top;\n",
       "    }\n",
       "\n",
       "    .dataframe thead th {\n",
       "        text-align: right;\n",
       "    }\n",
       "</style>\n",
       "<table border=\"1\" class=\"dataframe\">\n",
       "  <thead>\n",
       "    <tr style=\"text-align: right;\">\n",
       "      <th></th>\n",
       "      <th>title</th>\n",
       "      <th>text</th>\n",
       "      <th>subject</th>\n",
       "      <th>date</th>\n",
       "    </tr>\n",
       "  </thead>\n",
       "  <tbody>\n",
       "    <tr>\n",
       "      <th>0</th>\n",
       "      <td>As U.S. budget fight looms, Republicans flip t...</td>\n",
       "      <td>WASHINGTON (Reuters) - The head of a conservat...</td>\n",
       "      <td>politicsNews</td>\n",
       "      <td>December 31, 2017</td>\n",
       "    </tr>\n",
       "    <tr>\n",
       "      <th>1</th>\n",
       "      <td>U.S. military to accept transgender recruits o...</td>\n",
       "      <td>WASHINGTON (Reuters) - Transgender people will...</td>\n",
       "      <td>politicsNews</td>\n",
       "      <td>December 29, 2017</td>\n",
       "    </tr>\n",
       "    <tr>\n",
       "      <th>2</th>\n",
       "      <td>Senior U.S. Republican senator: 'Let Mr. Muell...</td>\n",
       "      <td>WASHINGTON (Reuters) - The special counsel inv...</td>\n",
       "      <td>politicsNews</td>\n",
       "      <td>December 31, 2017</td>\n",
       "    </tr>\n",
       "    <tr>\n",
       "      <th>3</th>\n",
       "      <td>FBI Russia probe helped by Australian diplomat...</td>\n",
       "      <td>WASHINGTON (Reuters) - Trump campaign adviser ...</td>\n",
       "      <td>politicsNews</td>\n",
       "      <td>December 30, 2017</td>\n",
       "    </tr>\n",
       "    <tr>\n",
       "      <th>4</th>\n",
       "      <td>Trump wants Postal Service to charge 'much mor...</td>\n",
       "      <td>SEATTLE/WASHINGTON (Reuters) - President Donal...</td>\n",
       "      <td>politicsNews</td>\n",
       "      <td>December 29, 2017</td>\n",
       "    </tr>\n",
       "    <tr>\n",
       "      <th>5</th>\n",
       "      <td>White House, Congress prepare for talks on spe...</td>\n",
       "      <td>WEST PALM BEACH, Fla./WASHINGTON (Reuters) - T...</td>\n",
       "      <td>politicsNews</td>\n",
       "      <td>December 29, 2017</td>\n",
       "    </tr>\n",
       "    <tr>\n",
       "      <th>6</th>\n",
       "      <td>Trump says Russia probe will be fair, but time...</td>\n",
       "      <td>WEST PALM BEACH, Fla (Reuters) - President Don...</td>\n",
       "      <td>politicsNews</td>\n",
       "      <td>December 29, 2017</td>\n",
       "    </tr>\n",
       "    <tr>\n",
       "      <th>7</th>\n",
       "      <td>Factbox: Trump on Twitter (Dec 29) - Approval ...</td>\n",
       "      <td>The following statements were posted to the ve...</td>\n",
       "      <td>politicsNews</td>\n",
       "      <td>December 29, 2017</td>\n",
       "    </tr>\n",
       "    <tr>\n",
       "      <th>8</th>\n",
       "      <td>Trump on Twitter (Dec 28) - Global Warming</td>\n",
       "      <td>The following statements were posted to the ve...</td>\n",
       "      <td>politicsNews</td>\n",
       "      <td>December 29, 2017</td>\n",
       "    </tr>\n",
       "    <tr>\n",
       "      <th>9</th>\n",
       "      <td>Alabama official to certify Senator-elect Jone...</td>\n",
       "      <td>WASHINGTON (Reuters) - Alabama Secretary of St...</td>\n",
       "      <td>politicsNews</td>\n",
       "      <td>December 28, 2017</td>\n",
       "    </tr>\n",
       "  </tbody>\n",
       "</table>\n",
       "</div>"
      ],
      "text/plain": [
       "                                               title  \\\n",
       "0  As U.S. budget fight looms, Republicans flip t...   \n",
       "1  U.S. military to accept transgender recruits o...   \n",
       "2  Senior U.S. Republican senator: 'Let Mr. Muell...   \n",
       "3  FBI Russia probe helped by Australian diplomat...   \n",
       "4  Trump wants Postal Service to charge 'much mor...   \n",
       "5  White House, Congress prepare for talks on spe...   \n",
       "6  Trump says Russia probe will be fair, but time...   \n",
       "7  Factbox: Trump on Twitter (Dec 29) - Approval ...   \n",
       "8         Trump on Twitter (Dec 28) - Global Warming   \n",
       "9  Alabama official to certify Senator-elect Jone...   \n",
       "\n",
       "                                                text       subject  \\\n",
       "0  WASHINGTON (Reuters) - The head of a conservat...  politicsNews   \n",
       "1  WASHINGTON (Reuters) - Transgender people will...  politicsNews   \n",
       "2  WASHINGTON (Reuters) - The special counsel inv...  politicsNews   \n",
       "3  WASHINGTON (Reuters) - Trump campaign adviser ...  politicsNews   \n",
       "4  SEATTLE/WASHINGTON (Reuters) - President Donal...  politicsNews   \n",
       "5  WEST PALM BEACH, Fla./WASHINGTON (Reuters) - T...  politicsNews   \n",
       "6  WEST PALM BEACH, Fla (Reuters) - President Don...  politicsNews   \n",
       "7  The following statements were posted to the ve...  politicsNews   \n",
       "8  The following statements were posted to the ve...  politicsNews   \n",
       "9  WASHINGTON (Reuters) - Alabama Secretary of St...  politicsNews   \n",
       "\n",
       "                 date  \n",
       "0  December 31, 2017   \n",
       "1  December 29, 2017   \n",
       "2  December 31, 2017   \n",
       "3  December 30, 2017   \n",
       "4  December 29, 2017   \n",
       "5  December 29, 2017   \n",
       "6  December 29, 2017   \n",
       "7  December 29, 2017   \n",
       "8  December 29, 2017   \n",
       "9  December 28, 2017   "
      ]
     },
     "execution_count": 7,
     "metadata": {},
     "output_type": "execute_result"
    }
   ],
   "source": [
    "df_true.head(10)"
   ]
  },
  {
   "cell_type": "code",
   "execution_count": 8,
   "metadata": {},
   "outputs": [],
   "source": [
    "df_fake[\"real/fake\"] = \"Fake\"\n",
    "df_true[\"real/fake\"] = \"Real\""
   ]
  },
  {
   "cell_type": "code",
   "execution_count": 9,
   "metadata": {},
   "outputs": [
    {
     "data": {
      "text/plain": [
       "((23449, 5), (21417, 5))"
      ]
     },
     "execution_count": 9,
     "metadata": {},
     "output_type": "execute_result"
    }
   ],
   "source": [
    "df_fake.shape, df_true.shape"
   ]
  },
  {
   "cell_type": "code",
   "execution_count": 10,
   "metadata": {},
   "outputs": [],
   "source": [
    "df_fake_manual_testing = df_fake.tail(10)\n",
    "for i in range(23448, 23438, -1):\n",
    "    df_fake.drop([i], axis = 0, inplace = True)\n",
    "df_true_manual_testing = df_true.tail(10)\n",
    "for i in range(21416, 21406, -1):\n",
    "    df_true.drop([i], axis = 0, inplace = True)\n",
    "df_true_manual_testing = df_true.tail(10)\n",
    "#inplace=true coz v do not want another dataset to be returned, axis=0=>along a row"
   ]
  },
  {
   "cell_type": "code",
   "execution_count": 11,
   "metadata": {},
   "outputs": [
    {
     "data": {
      "text/plain": [
       "((23439, 5), (21407, 5))"
      ]
     },
     "execution_count": 11,
     "metadata": {},
     "output_type": "execute_result"
    }
   ],
   "source": [
    "df_fake.shape, df_true.shape"
   ]
  },
  {
   "cell_type": "code",
   "execution_count": 12,
   "metadata": {},
   "outputs": [],
   "source": [
    "df_manual_testing = pd.concat([df_fake_manual_testing, df_true_manual_testing], axis = 0)\n",
    "df_manual_testing.to_csv(\"E:\\\\isfcr project\\\\manual_testing.csv\")\n",
    "#axis=0 indicates concatenation along series or rows"
   ]
  },
  {
   "cell_type": "code",
   "execution_count": 13,
   "metadata": {},
   "outputs": [
    {
     "data": {
      "text/html": [
       "<div>\n",
       "<style scoped>\n",
       "    .dataframe tbody tr th:only-of-type {\n",
       "        vertical-align: middle;\n",
       "    }\n",
       "\n",
       "    .dataframe tbody tr th {\n",
       "        vertical-align: top;\n",
       "    }\n",
       "\n",
       "    .dataframe thead th {\n",
       "        text-align: right;\n",
       "    }\n",
       "</style>\n",
       "<table border=\"1\" class=\"dataframe\">\n",
       "  <thead>\n",
       "    <tr style=\"text-align: right;\">\n",
       "      <th></th>\n",
       "      <th>title</th>\n",
       "      <th>text</th>\n",
       "      <th>subject</th>\n",
       "      <th>date</th>\n",
       "      <th>real/fake</th>\n",
       "    </tr>\n",
       "  </thead>\n",
       "  <tbody>\n",
       "    <tr>\n",
       "      <th>0</th>\n",
       "      <td>Donald Trump Sends Out Embarrassing New Year’...</td>\n",
       "      <td>Donald Trump just couldn t wish all Americans ...</td>\n",
       "      <td>News</td>\n",
       "      <td>December 31, 2017</td>\n",
       "      <td>Fake</td>\n",
       "    </tr>\n",
       "    <tr>\n",
       "      <th>1</th>\n",
       "      <td>Drunk Bragging Trump Staffer Started Russian ...</td>\n",
       "      <td>House Intelligence Committee Chairman Devin Nu...</td>\n",
       "      <td>News</td>\n",
       "      <td>December 31, 2017</td>\n",
       "      <td>Fake</td>\n",
       "    </tr>\n",
       "    <tr>\n",
       "      <th>2</th>\n",
       "      <td>Sheriff David Clarke Becomes An Internet Joke...</td>\n",
       "      <td>On Friday, it was revealed that former Milwauk...</td>\n",
       "      <td>News</td>\n",
       "      <td>December 30, 2017</td>\n",
       "      <td>Fake</td>\n",
       "    </tr>\n",
       "    <tr>\n",
       "      <th>3</th>\n",
       "      <td>Trump Is So Obsessed He Even Has Obama’s Name...</td>\n",
       "      <td>On Christmas day, Donald Trump announced that ...</td>\n",
       "      <td>News</td>\n",
       "      <td>December 29, 2017</td>\n",
       "      <td>Fake</td>\n",
       "    </tr>\n",
       "    <tr>\n",
       "      <th>4</th>\n",
       "      <td>Pope Francis Just Called Out Donald Trump Dur...</td>\n",
       "      <td>Pope Francis used his annual Christmas Day mes...</td>\n",
       "      <td>News</td>\n",
       "      <td>December 25, 2017</td>\n",
       "      <td>Fake</td>\n",
       "    </tr>\n",
       "    <tr>\n",
       "      <th>5</th>\n",
       "      <td>Racist Alabama Cops Brutalize Black Boy While...</td>\n",
       "      <td>The number of cases of cops brutalizing and ki...</td>\n",
       "      <td>News</td>\n",
       "      <td>December 25, 2017</td>\n",
       "      <td>Fake</td>\n",
       "    </tr>\n",
       "    <tr>\n",
       "      <th>6</th>\n",
       "      <td>Fresh Off The Golf Course, Trump Lashes Out A...</td>\n",
       "      <td>Donald Trump spent a good portion of his day a...</td>\n",
       "      <td>News</td>\n",
       "      <td>December 23, 2017</td>\n",
       "      <td>Fake</td>\n",
       "    </tr>\n",
       "    <tr>\n",
       "      <th>7</th>\n",
       "      <td>Trump Said Some INSANELY Racist Stuff Inside ...</td>\n",
       "      <td>In the wake of yet another court decision that...</td>\n",
       "      <td>News</td>\n",
       "      <td>December 23, 2017</td>\n",
       "      <td>Fake</td>\n",
       "    </tr>\n",
       "    <tr>\n",
       "      <th>8</th>\n",
       "      <td>Former CIA Director Slams Trump Over UN Bully...</td>\n",
       "      <td>Many people have raised the alarm regarding th...</td>\n",
       "      <td>News</td>\n",
       "      <td>December 22, 2017</td>\n",
       "      <td>Fake</td>\n",
       "    </tr>\n",
       "    <tr>\n",
       "      <th>9</th>\n",
       "      <td>WATCH: Brand-New Pro-Trump Ad Features So Muc...</td>\n",
       "      <td>Just when you might have thought we d get a br...</td>\n",
       "      <td>News</td>\n",
       "      <td>December 21, 2017</td>\n",
       "      <td>Fake</td>\n",
       "    </tr>\n",
       "  </tbody>\n",
       "</table>\n",
       "</div>"
      ],
      "text/plain": [
       "                                               title  \\\n",
       "0   Donald Trump Sends Out Embarrassing New Year’...   \n",
       "1   Drunk Bragging Trump Staffer Started Russian ...   \n",
       "2   Sheriff David Clarke Becomes An Internet Joke...   \n",
       "3   Trump Is So Obsessed He Even Has Obama’s Name...   \n",
       "4   Pope Francis Just Called Out Donald Trump Dur...   \n",
       "5   Racist Alabama Cops Brutalize Black Boy While...   \n",
       "6   Fresh Off The Golf Course, Trump Lashes Out A...   \n",
       "7   Trump Said Some INSANELY Racist Stuff Inside ...   \n",
       "8   Former CIA Director Slams Trump Over UN Bully...   \n",
       "9   WATCH: Brand-New Pro-Trump Ad Features So Muc...   \n",
       "\n",
       "                                                text subject  \\\n",
       "0  Donald Trump just couldn t wish all Americans ...    News   \n",
       "1  House Intelligence Committee Chairman Devin Nu...    News   \n",
       "2  On Friday, it was revealed that former Milwauk...    News   \n",
       "3  On Christmas day, Donald Trump announced that ...    News   \n",
       "4  Pope Francis used his annual Christmas Day mes...    News   \n",
       "5  The number of cases of cops brutalizing and ki...    News   \n",
       "6  Donald Trump spent a good portion of his day a...    News   \n",
       "7  In the wake of yet another court decision that...    News   \n",
       "8  Many people have raised the alarm regarding th...    News   \n",
       "9  Just when you might have thought we d get a br...    News   \n",
       "\n",
       "                date real/fake  \n",
       "0  December 31, 2017      Fake  \n",
       "1  December 31, 2017      Fake  \n",
       "2  December 30, 2017      Fake  \n",
       "3  December 29, 2017      Fake  \n",
       "4  December 25, 2017      Fake  \n",
       "5  December 25, 2017      Fake  \n",
       "6  December 23, 2017      Fake  \n",
       "7  December 23, 2017      Fake  \n",
       "8  December 22, 2017      Fake  \n",
       "9  December 21, 2017      Fake  "
      ]
     },
     "execution_count": 13,
     "metadata": {},
     "output_type": "execute_result"
    }
   ],
   "source": [
    "df_merge = pd.concat([df_fake, df_true], axis = 0)\n",
    "df_merge.head(10)"
   ]
  },
  {
   "cell_type": "code",
   "execution_count": 14,
   "metadata": {},
   "outputs": [],
   "source": [
    "df = df_merge.sample(frac = 1)\n",
    "#sample() is a function from pandas, used to generate sample random row or column from the function(to shuffle)\n",
    "#frac indicates the length of dataframe values to be returned , 1 indicates to return all values"
   ]
  },
  {
   "cell_type": "code",
   "execution_count": 15,
   "metadata": {},
   "outputs": [
    {
     "data": {
      "text/html": [
       "<div>\n",
       "<style scoped>\n",
       "    .dataframe tbody tr th:only-of-type {\n",
       "        vertical-align: middle;\n",
       "    }\n",
       "\n",
       "    .dataframe tbody tr th {\n",
       "        vertical-align: top;\n",
       "    }\n",
       "\n",
       "    .dataframe thead th {\n",
       "        text-align: right;\n",
       "    }\n",
       "</style>\n",
       "<table border=\"1\" class=\"dataframe\">\n",
       "  <thead>\n",
       "    <tr style=\"text-align: right;\">\n",
       "      <th></th>\n",
       "      <th>title</th>\n",
       "      <th>text</th>\n",
       "      <th>subject</th>\n",
       "      <th>date</th>\n",
       "      <th>real/fake</th>\n",
       "    </tr>\n",
       "  </thead>\n",
       "  <tbody>\n",
       "    <tr>\n",
       "      <th>15708</th>\n",
       "      <td>U.S. monitoring sanctions regime in response t...</td>\n",
       "      <td>DHAKA (Reuters) - The U.S. government will con...</td>\n",
       "      <td>worldnews</td>\n",
       "      <td>November 4, 2017</td>\n",
       "      <td>Real</td>\n",
       "    </tr>\n",
       "    <tr>\n",
       "      <th>1453</th>\n",
       "      <td>WATCH: Morning Joe RIPS Trump For Leaking Cla...</td>\n",
       "      <td>Joe Scarborough is furious about Donald Trump ...</td>\n",
       "      <td>News</td>\n",
       "      <td>May 16, 2017</td>\n",
       "      <td>Fake</td>\n",
       "    </tr>\n",
       "    <tr>\n",
       "      <th>4236</th>\n",
       "      <td>China reiterates opposition to South Korea's T...</td>\n",
       "      <td>BEIJING (Reuters) - China reiterated on Monday...</td>\n",
       "      <td>politicsNews</td>\n",
       "      <td>April 17, 2017</td>\n",
       "      <td>Real</td>\n",
       "    </tr>\n",
       "    <tr>\n",
       "      <th>20456</th>\n",
       "      <td>U.N. to vote on new North Korea sanctions on M...</td>\n",
       "      <td>UNITED NATIONS (Reuters) - The U.N. Security C...</td>\n",
       "      <td>worldnews</td>\n",
       "      <td>September 11, 2017</td>\n",
       "      <td>Real</td>\n",
       "    </tr>\n",
       "    <tr>\n",
       "      <th>4836</th>\n",
       "      <td>Republicans revamp U.S. health bill, boost ben...</td>\n",
       "      <td>WASHINGTON (Reuters) - U.S. House Republicans ...</td>\n",
       "      <td>politicsNews</td>\n",
       "      <td>March 19, 2017</td>\n",
       "      <td>Real</td>\n",
       "    </tr>\n",
       "    <tr>\n",
       "      <th>7108</th>\n",
       "      <td>Trump’s foundation says it violated 'self-deal...</td>\n",
       "      <td>(Reuters) - U.S. Republican President-elect Do...</td>\n",
       "      <td>politicsNews</td>\n",
       "      <td>November 22, 2016</td>\n",
       "      <td>Real</td>\n",
       "    </tr>\n",
       "    <tr>\n",
       "      <th>1329</th>\n",
       "      <td>Trump Has Finally Commented On Portland Train...</td>\n",
       "      <td>Donald Trump doesn t particularly have a filte...</td>\n",
       "      <td>News</td>\n",
       "      <td>May 30, 2017</td>\n",
       "      <td>Fake</td>\n",
       "    </tr>\n",
       "    <tr>\n",
       "      <th>11783</th>\n",
       "      <td>EMBARRASSING! NYC MAYOR DE BLASIO Can’t Tell T...</td>\n",
       "      <td>CNN s Jake Tapper raised the point that Obama ...</td>\n",
       "      <td>politics</td>\n",
       "      <td>Jan 29, 2017</td>\n",
       "      <td>Fake</td>\n",
       "    </tr>\n",
       "    <tr>\n",
       "      <th>8025</th>\n",
       "      <td>Americans Tell Senate GOP To Let President Ob...</td>\n",
       "      <td>Sorry, Republicans. The American people have s...</td>\n",
       "      <td>News</td>\n",
       "      <td>February 18, 2016</td>\n",
       "      <td>Fake</td>\n",
       "    </tr>\n",
       "    <tr>\n",
       "      <th>11648</th>\n",
       "      <td>CLASS ACT! WATCH THE TODAY SHOW’S MATT LAUER G...</td>\n",
       "      <td></td>\n",
       "      <td>politics</td>\n",
       "      <td>Feb 15, 2017</td>\n",
       "      <td>Fake</td>\n",
       "    </tr>\n",
       "  </tbody>\n",
       "</table>\n",
       "</div>"
      ],
      "text/plain": [
       "                                                   title  \\\n",
       "15708  U.S. monitoring sanctions regime in response t...   \n",
       "1453    WATCH: Morning Joe RIPS Trump For Leaking Cla...   \n",
       "4236   China reiterates opposition to South Korea's T...   \n",
       "20456  U.N. to vote on new North Korea sanctions on M...   \n",
       "4836   Republicans revamp U.S. health bill, boost ben...   \n",
       "7108   Trump’s foundation says it violated 'self-deal...   \n",
       "1329    Trump Has Finally Commented On Portland Train...   \n",
       "11783  EMBARRASSING! NYC MAYOR DE BLASIO Can’t Tell T...   \n",
       "8025    Americans Tell Senate GOP To Let President Ob...   \n",
       "11648  CLASS ACT! WATCH THE TODAY SHOW’S MATT LAUER G...   \n",
       "\n",
       "                                                    text       subject  \\\n",
       "15708  DHAKA (Reuters) - The U.S. government will con...     worldnews   \n",
       "1453   Joe Scarborough is furious about Donald Trump ...          News   \n",
       "4236   BEIJING (Reuters) - China reiterated on Monday...  politicsNews   \n",
       "20456  UNITED NATIONS (Reuters) - The U.N. Security C...     worldnews   \n",
       "4836   WASHINGTON (Reuters) - U.S. House Republicans ...  politicsNews   \n",
       "7108   (Reuters) - U.S. Republican President-elect Do...  politicsNews   \n",
       "1329   Donald Trump doesn t particularly have a filte...          News   \n",
       "11783  CNN s Jake Tapper raised the point that Obama ...      politics   \n",
       "8025   Sorry, Republicans. The American people have s...          News   \n",
       "11648                                                         politics   \n",
       "\n",
       "                      date real/fake  \n",
       "15708    November 4, 2017       Real  \n",
       "1453          May 16, 2017      Fake  \n",
       "4236       April 17, 2017       Real  \n",
       "20456  September 11, 2017       Real  \n",
       "4836       March 19, 2017       Real  \n",
       "7108    November 22, 2016       Real  \n",
       "1329          May 30, 2017      Fake  \n",
       "11783         Jan 29, 2017      Fake  \n",
       "8025     February 18, 2016      Fake  \n",
       "11648         Feb 15, 2017      Fake  "
      ]
     },
     "execution_count": 15,
     "metadata": {},
     "output_type": "execute_result"
    }
   ],
   "source": [
    "df.head(10)"
   ]
  },
  {
   "cell_type": "code",
   "execution_count": 16,
   "metadata": {},
   "outputs": [
    {
     "data": {
      "text/html": [
       "<div>\n",
       "<style scoped>\n",
       "    .dataframe tbody tr th:only-of-type {\n",
       "        vertical-align: middle;\n",
       "    }\n",
       "\n",
       "    .dataframe tbody tr th {\n",
       "        vertical-align: top;\n",
       "    }\n",
       "\n",
       "    .dataframe thead th {\n",
       "        text-align: right;\n",
       "    }\n",
       "</style>\n",
       "<table border=\"1\" class=\"dataframe\">\n",
       "  <thead>\n",
       "    <tr style=\"text-align: right;\">\n",
       "      <th></th>\n",
       "      <th>title</th>\n",
       "      <th>text</th>\n",
       "      <th>subject</th>\n",
       "      <th>date</th>\n",
       "      <th>real/fake</th>\n",
       "    </tr>\n",
       "  </thead>\n",
       "  <tbody>\n",
       "    <tr>\n",
       "      <th>15708</th>\n",
       "      <td>U.S. monitoring sanctions regime in response t...</td>\n",
       "      <td>DHAKA (Reuters) - The U.S. government will con...</td>\n",
       "      <td>worldnews</td>\n",
       "      <td>November 4, 2017</td>\n",
       "      <td>Real</td>\n",
       "    </tr>\n",
       "    <tr>\n",
       "      <th>1453</th>\n",
       "      <td>WATCH: Morning Joe RIPS Trump For Leaking Cla...</td>\n",
       "      <td>Joe Scarborough is furious about Donald Trump ...</td>\n",
       "      <td>News</td>\n",
       "      <td>May 16, 2017</td>\n",
       "      <td>Fake</td>\n",
       "    </tr>\n",
       "    <tr>\n",
       "      <th>4236</th>\n",
       "      <td>China reiterates opposition to South Korea's T...</td>\n",
       "      <td>BEIJING (Reuters) - China reiterated on Monday...</td>\n",
       "      <td>politicsNews</td>\n",
       "      <td>April 17, 2017</td>\n",
       "      <td>Real</td>\n",
       "    </tr>\n",
       "    <tr>\n",
       "      <th>20456</th>\n",
       "      <td>U.N. to vote on new North Korea sanctions on M...</td>\n",
       "      <td>UNITED NATIONS (Reuters) - The U.N. Security C...</td>\n",
       "      <td>worldnews</td>\n",
       "      <td>September 11, 2017</td>\n",
       "      <td>Real</td>\n",
       "    </tr>\n",
       "    <tr>\n",
       "      <th>4836</th>\n",
       "      <td>Republicans revamp U.S. health bill, boost ben...</td>\n",
       "      <td>WASHINGTON (Reuters) - U.S. House Republicans ...</td>\n",
       "      <td>politicsNews</td>\n",
       "      <td>March 19, 2017</td>\n",
       "      <td>Real</td>\n",
       "    </tr>\n",
       "    <tr>\n",
       "      <th>...</th>\n",
       "      <td>...</td>\n",
       "      <td>...</td>\n",
       "      <td>...</td>\n",
       "      <td>...</td>\n",
       "      <td>...</td>\n",
       "    </tr>\n",
       "    <tr>\n",
       "      <th>13154</th>\n",
       "      <td>THIS WOMAN IS A HERO: Trump Surrogate Leads Fa...</td>\n",
       "      <td>Get to know this woman! Maria Espinoza founded...</td>\n",
       "      <td>politics</td>\n",
       "      <td>Aug 27, 2016</td>\n",
       "      <td>Fake</td>\n",
       "    </tr>\n",
       "    <tr>\n",
       "      <th>17864</th>\n",
       "      <td>FRANCE’S INTERIOR MINISTER Makes INSANE Statem...</td>\n",
       "      <td>A man shouting  Allahu Akbar  has stabbed two ...</td>\n",
       "      <td>left-news</td>\n",
       "      <td>Oct 1, 2017</td>\n",
       "      <td>Fake</td>\n",
       "    </tr>\n",
       "    <tr>\n",
       "      <th>17692</th>\n",
       "      <td>LOL! IVANKA TRUMP Has All-Female Security Deta...</td>\n",
       "      <td>When the daughter of President Trump visited J...</td>\n",
       "      <td>left-news</td>\n",
       "      <td>Nov 4, 2017</td>\n",
       "      <td>Fake</td>\n",
       "    </tr>\n",
       "    <tr>\n",
       "      <th>874</th>\n",
       "      <td>Eric Trump Gives DUMBEST Defense For His Brot...</td>\n",
       "      <td>The White House is getting really nervous toda...</td>\n",
       "      <td>News</td>\n",
       "      <td>July 11, 2017</td>\n",
       "      <td>Fake</td>\n",
       "    </tr>\n",
       "    <tr>\n",
       "      <th>22623</th>\n",
       "      <td>US Delta Force Begins Targeting ISIS in Iraq, ...</td>\n",
       "      <td>21st Century Wire says While you were watching...</td>\n",
       "      <td>US_News</td>\n",
       "      <td>March 3, 2016</td>\n",
       "      <td>Fake</td>\n",
       "    </tr>\n",
       "  </tbody>\n",
       "</table>\n",
       "<p>44846 rows × 5 columns</p>\n",
       "</div>"
      ],
      "text/plain": [
       "                                                   title  \\\n",
       "15708  U.S. monitoring sanctions regime in response t...   \n",
       "1453    WATCH: Morning Joe RIPS Trump For Leaking Cla...   \n",
       "4236   China reiterates opposition to South Korea's T...   \n",
       "20456  U.N. to vote on new North Korea sanctions on M...   \n",
       "4836   Republicans revamp U.S. health bill, boost ben...   \n",
       "...                                                  ...   \n",
       "13154  THIS WOMAN IS A HERO: Trump Surrogate Leads Fa...   \n",
       "17864  FRANCE’S INTERIOR MINISTER Makes INSANE Statem...   \n",
       "17692  LOL! IVANKA TRUMP Has All-Female Security Deta...   \n",
       "874     Eric Trump Gives DUMBEST Defense For His Brot...   \n",
       "22623  US Delta Force Begins Targeting ISIS in Iraq, ...   \n",
       "\n",
       "                                                    text       subject  \\\n",
       "15708  DHAKA (Reuters) - The U.S. government will con...     worldnews   \n",
       "1453   Joe Scarborough is furious about Donald Trump ...          News   \n",
       "4236   BEIJING (Reuters) - China reiterated on Monday...  politicsNews   \n",
       "20456  UNITED NATIONS (Reuters) - The U.N. Security C...     worldnews   \n",
       "4836   WASHINGTON (Reuters) - U.S. House Republicans ...  politicsNews   \n",
       "...                                                  ...           ...   \n",
       "13154  Get to know this woman! Maria Espinoza founded...      politics   \n",
       "17864  A man shouting  Allahu Akbar  has stabbed two ...     left-news   \n",
       "17692  When the daughter of President Trump visited J...     left-news   \n",
       "874    The White House is getting really nervous toda...          News   \n",
       "22623  21st Century Wire says While you were watching...       US_News   \n",
       "\n",
       "                      date real/fake  \n",
       "15708    November 4, 2017       Real  \n",
       "1453          May 16, 2017      Fake  \n",
       "4236       April 17, 2017       Real  \n",
       "20456  September 11, 2017       Real  \n",
       "4836       March 19, 2017       Real  \n",
       "...                    ...       ...  \n",
       "13154         Aug 27, 2016      Fake  \n",
       "17864          Oct 1, 2017      Fake  \n",
       "17692          Nov 4, 2017      Fake  \n",
       "874          July 11, 2017      Fake  \n",
       "22623        March 3, 2016      Fake  \n",
       "\n",
       "[44846 rows x 5 columns]"
      ]
     },
     "execution_count": 16,
     "metadata": {},
     "output_type": "execute_result"
    }
   ],
   "source": [
    "df"
   ]
  },
  {
   "cell_type": "code",
   "execution_count": 17,
   "metadata": {},
   "outputs": [
    {
     "data": {
      "text/plain": [
       "(44846, 5)"
      ]
     },
     "execution_count": 17,
     "metadata": {},
     "output_type": "execute_result"
    }
   ],
   "source": [
    "df.shape"
   ]
  },
  {
   "cell_type": "code",
   "execution_count": 18,
   "metadata": {},
   "outputs": [
    {
     "data": {
      "text/plain": [
       "title        0\n",
       "text         0\n",
       "subject      0\n",
       "date         0\n",
       "real/fake    0\n",
       "dtype: int64"
      ]
     },
     "execution_count": 18,
     "metadata": {},
     "output_type": "execute_result"
    }
   ],
   "source": [
    "df.isnull().sum()"
   ]
  },
  {
   "cell_type": "code",
   "execution_count": 19,
   "metadata": {},
   "outputs": [],
   "source": [
    "def word_drop(text):\n",
    "    text = text.lower()\n",
    "    text = re.sub('\\[.*?\\]', '', text)\n",
    "    text = re.sub(\"\\\\W\",\" \",text) \n",
    "    text = re.sub('https?://\\S+|www\\.\\S+', '', text)\n",
    "    text = re.sub('<.*?>+', '', text)\n",
    "    text = re.sub('[%s]' % re.escape(string.punctuation), '', text)\n",
    "    text = re.sub('\\n', '', text)\n",
    "    text = re.sub('\\w*\\d\\w*', '', text)    \n",
    "    return text\n",
    "#to remove unusual and irregular expressions in the text column\n",
    "#sub is an built-in library to replace substring with another substring"
   ]
  },
  {
   "cell_type": "code",
   "execution_count": 20,
   "metadata": {},
   "outputs": [],
   "source": [
    "df[\"text\"] = df[\"text\"].apply(word_drop)"
   ]
  },
  {
   "cell_type": "code",
   "execution_count": 21,
   "metadata": {},
   "outputs": [
    {
     "data": {
      "text/html": [
       "<div>\n",
       "<style scoped>\n",
       "    .dataframe tbody tr th:only-of-type {\n",
       "        vertical-align: middle;\n",
       "    }\n",
       "\n",
       "    .dataframe tbody tr th {\n",
       "        vertical-align: top;\n",
       "    }\n",
       "\n",
       "    .dataframe thead th {\n",
       "        text-align: right;\n",
       "    }\n",
       "</style>\n",
       "<table border=\"1\" class=\"dataframe\">\n",
       "  <thead>\n",
       "    <tr style=\"text-align: right;\">\n",
       "      <th></th>\n",
       "      <th>title</th>\n",
       "      <th>text</th>\n",
       "      <th>subject</th>\n",
       "      <th>date</th>\n",
       "      <th>real/fake</th>\n",
       "    </tr>\n",
       "  </thead>\n",
       "  <tbody>\n",
       "    <tr>\n",
       "      <th>15708</th>\n",
       "      <td>U.S. monitoring sanctions regime in response t...</td>\n",
       "      <td>dhaka  reuters    the u s  government will con...</td>\n",
       "      <td>worldnews</td>\n",
       "      <td>November 4, 2017</td>\n",
       "      <td>Real</td>\n",
       "    </tr>\n",
       "    <tr>\n",
       "      <th>1453</th>\n",
       "      <td>WATCH: Morning Joe RIPS Trump For Leaking Cla...</td>\n",
       "      <td>joe scarborough is furious about donald trump ...</td>\n",
       "      <td>News</td>\n",
       "      <td>May 16, 2017</td>\n",
       "      <td>Fake</td>\n",
       "    </tr>\n",
       "    <tr>\n",
       "      <th>4236</th>\n",
       "      <td>China reiterates opposition to South Korea's T...</td>\n",
       "      <td>beijing  reuters    china reiterated on monday...</td>\n",
       "      <td>politicsNews</td>\n",
       "      <td>April 17, 2017</td>\n",
       "      <td>Real</td>\n",
       "    </tr>\n",
       "    <tr>\n",
       "      <th>20456</th>\n",
       "      <td>U.N. to vote on new North Korea sanctions on M...</td>\n",
       "      <td>united nations  reuters    the u n  security c...</td>\n",
       "      <td>worldnews</td>\n",
       "      <td>September 11, 2017</td>\n",
       "      <td>Real</td>\n",
       "    </tr>\n",
       "    <tr>\n",
       "      <th>4836</th>\n",
       "      <td>Republicans revamp U.S. health bill, boost ben...</td>\n",
       "      <td>washington  reuters    u s  house republicans ...</td>\n",
       "      <td>politicsNews</td>\n",
       "      <td>March 19, 2017</td>\n",
       "      <td>Real</td>\n",
       "    </tr>\n",
       "    <tr>\n",
       "      <th>...</th>\n",
       "      <td>...</td>\n",
       "      <td>...</td>\n",
       "      <td>...</td>\n",
       "      <td>...</td>\n",
       "      <td>...</td>\n",
       "    </tr>\n",
       "    <tr>\n",
       "      <th>11069</th>\n",
       "      <td>Sentencing of ex-House speaker Hastert delayed...</td>\n",
       "      <td>chicago  reuters    a federal judge on thursda...</td>\n",
       "      <td>politicsNews</td>\n",
       "      <td>January 28, 2016</td>\n",
       "      <td>Real</td>\n",
       "    </tr>\n",
       "    <tr>\n",
       "      <th>6297</th>\n",
       "      <td>Woman Who Worked For Trump Warns “He HAS To B...</td>\n",
       "      <td>barbara res worked for seven years as the head...</td>\n",
       "      <td>News</td>\n",
       "      <td>May 18, 2016</td>\n",
       "      <td>Fake</td>\n",
       "    </tr>\n",
       "    <tr>\n",
       "      <th>14750</th>\n",
       "      <td>French Journalist Hit With Huge Fine For “Inci...</td>\n",
       "      <td>americans should pay close attention to this s...</td>\n",
       "      <td>politics</td>\n",
       "      <td>Dec 23, 2015</td>\n",
       "      <td>Fake</td>\n",
       "    </tr>\n",
       "    <tr>\n",
       "      <th>18985</th>\n",
       "      <td>Two worlds of Labour, Britain's opposition par...</td>\n",
       "      <td>brighton  england  reuters    a baby gurgles i...</td>\n",
       "      <td>worldnews</td>\n",
       "      <td>September 26, 2017</td>\n",
       "      <td>Real</td>\n",
       "    </tr>\n",
       "    <tr>\n",
       "      <th>15813</th>\n",
       "      <td>STEVE JOBS’ WIDOW ANNOUNCES SUPPORT FOR “Revol...</td>\n",
       "      <td>you d think she d know a thing or two about em...</td>\n",
       "      <td>politics</td>\n",
       "      <td>Apr 16, 2015</td>\n",
       "      <td>Fake</td>\n",
       "    </tr>\n",
       "  </tbody>\n",
       "</table>\n",
       "<p>100 rows × 5 columns</p>\n",
       "</div>"
      ],
      "text/plain": [
       "                                                   title  \\\n",
       "15708  U.S. monitoring sanctions regime in response t...   \n",
       "1453    WATCH: Morning Joe RIPS Trump For Leaking Cla...   \n",
       "4236   China reiterates opposition to South Korea's T...   \n",
       "20456  U.N. to vote on new North Korea sanctions on M...   \n",
       "4836   Republicans revamp U.S. health bill, boost ben...   \n",
       "...                                                  ...   \n",
       "11069  Sentencing of ex-House speaker Hastert delayed...   \n",
       "6297    Woman Who Worked For Trump Warns “He HAS To B...   \n",
       "14750  French Journalist Hit With Huge Fine For “Inci...   \n",
       "18985  Two worlds of Labour, Britain's opposition par...   \n",
       "15813  STEVE JOBS’ WIDOW ANNOUNCES SUPPORT FOR “Revol...   \n",
       "\n",
       "                                                    text       subject  \\\n",
       "15708  dhaka  reuters    the u s  government will con...     worldnews   \n",
       "1453   joe scarborough is furious about donald trump ...          News   \n",
       "4236   beijing  reuters    china reiterated on monday...  politicsNews   \n",
       "20456  united nations  reuters    the u n  security c...     worldnews   \n",
       "4836   washington  reuters    u s  house republicans ...  politicsNews   \n",
       "...                                                  ...           ...   \n",
       "11069  chicago  reuters    a federal judge on thursda...  politicsNews   \n",
       "6297   barbara res worked for seven years as the head...          News   \n",
       "14750  americans should pay close attention to this s...      politics   \n",
       "18985  brighton  england  reuters    a baby gurgles i...     worldnews   \n",
       "15813  you d think she d know a thing or two about em...      politics   \n",
       "\n",
       "                      date real/fake  \n",
       "15708    November 4, 2017       Real  \n",
       "1453          May 16, 2017      Fake  \n",
       "4236       April 17, 2017       Real  \n",
       "20456  September 11, 2017       Real  \n",
       "4836       March 19, 2017       Real  \n",
       "...                    ...       ...  \n",
       "11069    January 28, 2016       Real  \n",
       "6297          May 18, 2016      Fake  \n",
       "14750         Dec 23, 2015      Fake  \n",
       "18985  September 26, 2017       Real  \n",
       "15813         Apr 16, 2015      Fake  \n",
       "\n",
       "[100 rows x 5 columns]"
      ]
     },
     "execution_count": 21,
     "metadata": {},
     "output_type": "execute_result"
    }
   ],
   "source": [
    "df.head(100)"
   ]
  },
  {
   "cell_type": "code",
   "execution_count": 22,
   "metadata": {},
   "outputs": [
    {
     "data": {
      "text/plain": [
       "(44846, 5)"
      ]
     },
     "execution_count": 22,
     "metadata": {},
     "output_type": "execute_result"
    }
   ],
   "source": [
    "df.shape"
   ]
  },
  {
   "cell_type": "code",
   "execution_count": 23,
   "metadata": {},
   "outputs": [],
   "source": [
    "def word(subject):\n",
    "    subject = subject.lower()\n",
    "    return subject\n",
    "#converts all data in column subject to lowercase"
   ]
  },
  {
   "cell_type": "code",
   "execution_count": 24,
   "metadata": {},
   "outputs": [],
   "source": [
    "df[\"subject\"] = df[\"subject\"].apply(word)"
   ]
  },
  {
   "cell_type": "code",
   "execution_count": 25,
   "metadata": {},
   "outputs": [
    {
     "data": {
      "text/html": [
       "<div>\n",
       "<style scoped>\n",
       "    .dataframe tbody tr th:only-of-type {\n",
       "        vertical-align: middle;\n",
       "    }\n",
       "\n",
       "    .dataframe tbody tr th {\n",
       "        vertical-align: top;\n",
       "    }\n",
       "\n",
       "    .dataframe thead th {\n",
       "        text-align: right;\n",
       "    }\n",
       "</style>\n",
       "<table border=\"1\" class=\"dataframe\">\n",
       "  <thead>\n",
       "    <tr style=\"text-align: right;\">\n",
       "      <th></th>\n",
       "      <th>title</th>\n",
       "      <th>text</th>\n",
       "      <th>subject</th>\n",
       "      <th>date</th>\n",
       "      <th>real/fake</th>\n",
       "    </tr>\n",
       "  </thead>\n",
       "  <tbody>\n",
       "    <tr>\n",
       "      <th>15708</th>\n",
       "      <td>U.S. monitoring sanctions regime in response t...</td>\n",
       "      <td>dhaka  reuters    the u s  government will con...</td>\n",
       "      <td>worldnews</td>\n",
       "      <td>November 4, 2017</td>\n",
       "      <td>Real</td>\n",
       "    </tr>\n",
       "    <tr>\n",
       "      <th>1453</th>\n",
       "      <td>WATCH: Morning Joe RIPS Trump For Leaking Cla...</td>\n",
       "      <td>joe scarborough is furious about donald trump ...</td>\n",
       "      <td>news</td>\n",
       "      <td>May 16, 2017</td>\n",
       "      <td>Fake</td>\n",
       "    </tr>\n",
       "    <tr>\n",
       "      <th>4236</th>\n",
       "      <td>China reiterates opposition to South Korea's T...</td>\n",
       "      <td>beijing  reuters    china reiterated on monday...</td>\n",
       "      <td>politicsnews</td>\n",
       "      <td>April 17, 2017</td>\n",
       "      <td>Real</td>\n",
       "    </tr>\n",
       "    <tr>\n",
       "      <th>20456</th>\n",
       "      <td>U.N. to vote on new North Korea sanctions on M...</td>\n",
       "      <td>united nations  reuters    the u n  security c...</td>\n",
       "      <td>worldnews</td>\n",
       "      <td>September 11, 2017</td>\n",
       "      <td>Real</td>\n",
       "    </tr>\n",
       "    <tr>\n",
       "      <th>4836</th>\n",
       "      <td>Republicans revamp U.S. health bill, boost ben...</td>\n",
       "      <td>washington  reuters    u s  house republicans ...</td>\n",
       "      <td>politicsnews</td>\n",
       "      <td>March 19, 2017</td>\n",
       "      <td>Real</td>\n",
       "    </tr>\n",
       "    <tr>\n",
       "      <th>7108</th>\n",
       "      <td>Trump’s foundation says it violated 'self-deal...</td>\n",
       "      <td>reuters    u s  republican president elect do...</td>\n",
       "      <td>politicsnews</td>\n",
       "      <td>November 22, 2016</td>\n",
       "      <td>Real</td>\n",
       "    </tr>\n",
       "    <tr>\n",
       "      <th>1329</th>\n",
       "      <td>Trump Has Finally Commented On Portland Train...</td>\n",
       "      <td>donald trump doesn t particularly have a filte...</td>\n",
       "      <td>news</td>\n",
       "      <td>May 30, 2017</td>\n",
       "      <td>Fake</td>\n",
       "    </tr>\n",
       "    <tr>\n",
       "      <th>11783</th>\n",
       "      <td>EMBARRASSING! NYC MAYOR DE BLASIO Can’t Tell T...</td>\n",
       "      <td>cnn s jake tapper raised the point that obama ...</td>\n",
       "      <td>politics</td>\n",
       "      <td>Jan 29, 2017</td>\n",
       "      <td>Fake</td>\n",
       "    </tr>\n",
       "    <tr>\n",
       "      <th>8025</th>\n",
       "      <td>Americans Tell Senate GOP To Let President Ob...</td>\n",
       "      <td>sorry  republicans  the american people have s...</td>\n",
       "      <td>news</td>\n",
       "      <td>February 18, 2016</td>\n",
       "      <td>Fake</td>\n",
       "    </tr>\n",
       "    <tr>\n",
       "      <th>11648</th>\n",
       "      <td>CLASS ACT! WATCH THE TODAY SHOW’S MATT LAUER G...</td>\n",
       "      <td></td>\n",
       "      <td>politics</td>\n",
       "      <td>Feb 15, 2017</td>\n",
       "      <td>Fake</td>\n",
       "    </tr>\n",
       "  </tbody>\n",
       "</table>\n",
       "</div>"
      ],
      "text/plain": [
       "                                                   title  \\\n",
       "15708  U.S. monitoring sanctions regime in response t...   \n",
       "1453    WATCH: Morning Joe RIPS Trump For Leaking Cla...   \n",
       "4236   China reiterates opposition to South Korea's T...   \n",
       "20456  U.N. to vote on new North Korea sanctions on M...   \n",
       "4836   Republicans revamp U.S. health bill, boost ben...   \n",
       "7108   Trump’s foundation says it violated 'self-deal...   \n",
       "1329    Trump Has Finally Commented On Portland Train...   \n",
       "11783  EMBARRASSING! NYC MAYOR DE BLASIO Can’t Tell T...   \n",
       "8025    Americans Tell Senate GOP To Let President Ob...   \n",
       "11648  CLASS ACT! WATCH THE TODAY SHOW’S MATT LAUER G...   \n",
       "\n",
       "                                                    text       subject  \\\n",
       "15708  dhaka  reuters    the u s  government will con...     worldnews   \n",
       "1453   joe scarborough is furious about donald trump ...          news   \n",
       "4236   beijing  reuters    china reiterated on monday...  politicsnews   \n",
       "20456  united nations  reuters    the u n  security c...     worldnews   \n",
       "4836   washington  reuters    u s  house republicans ...  politicsnews   \n",
       "7108    reuters    u s  republican president elect do...  politicsnews   \n",
       "1329   donald trump doesn t particularly have a filte...          news   \n",
       "11783  cnn s jake tapper raised the point that obama ...      politics   \n",
       "8025   sorry  republicans  the american people have s...          news   \n",
       "11648                                                         politics   \n",
       "\n",
       "                      date real/fake  \n",
       "15708    November 4, 2017       Real  \n",
       "1453          May 16, 2017      Fake  \n",
       "4236       April 17, 2017       Real  \n",
       "20456  September 11, 2017       Real  \n",
       "4836       March 19, 2017       Real  \n",
       "7108    November 22, 2016       Real  \n",
       "1329          May 30, 2017      Fake  \n",
       "11783         Jan 29, 2017      Fake  \n",
       "8025     February 18, 2016      Fake  \n",
       "11648         Feb 15, 2017      Fake  "
      ]
     },
     "execution_count": 25,
     "metadata": {},
     "output_type": "execute_result"
    }
   ],
   "source": [
    "df.head(10)"
   ]
  },
  {
   "cell_type": "code",
   "execution_count": 26,
   "metadata": {},
   "outputs": [
    {
     "data": {
      "text/plain": [
       "(44846, 5)"
      ]
     },
     "execution_count": 26,
     "metadata": {},
     "output_type": "execute_result"
    }
   ],
   "source": [
    "df.shape"
   ]
  },
  {
   "cell_type": "code",
   "execution_count": 27,
   "metadata": {},
   "outputs": [
    {
     "data": {
      "text/plain": [
       "title        0\n",
       "text         0\n",
       "subject      0\n",
       "date         0\n",
       "real/fake    0\n",
       "dtype: int64"
      ]
     },
     "execution_count": 27,
     "metadata": {},
     "output_type": "execute_result"
    }
   ],
   "source": [
    "df.isnull().sum()"
   ]
  },
  {
   "cell_type": "code",
   "execution_count": 28,
   "metadata": {},
   "outputs": [],
   "source": [
    "df = df.drop_duplicates(subset = ['text','title','date'], keep = 'last').reset_index(drop = True)\n",
    "#when drop=false(default value) a new dataframe is returned\n",
    "#keep=last indicates that while dropping the duplicates last one is kept\n",
    "#function of pandas"
   ]
  },
  {
   "cell_type": "code",
   "execution_count": 29,
   "metadata": {},
   "outputs": [
    {
     "data": {
      "text/html": [
       "<div>\n",
       "<style scoped>\n",
       "    .dataframe tbody tr th:only-of-type {\n",
       "        vertical-align: middle;\n",
       "    }\n",
       "\n",
       "    .dataframe tbody tr th {\n",
       "        vertical-align: top;\n",
       "    }\n",
       "\n",
       "    .dataframe thead th {\n",
       "        text-align: right;\n",
       "    }\n",
       "</style>\n",
       "<table border=\"1\" class=\"dataframe\">\n",
       "  <thead>\n",
       "    <tr style=\"text-align: right;\">\n",
       "      <th></th>\n",
       "      <th>title</th>\n",
       "      <th>text</th>\n",
       "      <th>subject</th>\n",
       "      <th>date</th>\n",
       "      <th>real/fake</th>\n",
       "    </tr>\n",
       "  </thead>\n",
       "  <tbody>\n",
       "    <tr>\n",
       "      <th>0</th>\n",
       "      <td>U.S. monitoring sanctions regime in response t...</td>\n",
       "      <td>dhaka  reuters    the u s  government will con...</td>\n",
       "      <td>worldnews</td>\n",
       "      <td>November 4, 2017</td>\n",
       "      <td>Real</td>\n",
       "    </tr>\n",
       "    <tr>\n",
       "      <th>1</th>\n",
       "      <td>WATCH: Morning Joe RIPS Trump For Leaking Cla...</td>\n",
       "      <td>joe scarborough is furious about donald trump ...</td>\n",
       "      <td>news</td>\n",
       "      <td>May 16, 2017</td>\n",
       "      <td>Fake</td>\n",
       "    </tr>\n",
       "    <tr>\n",
       "      <th>2</th>\n",
       "      <td>China reiterates opposition to South Korea's T...</td>\n",
       "      <td>beijing  reuters    china reiterated on monday...</td>\n",
       "      <td>politicsnews</td>\n",
       "      <td>April 17, 2017</td>\n",
       "      <td>Real</td>\n",
       "    </tr>\n",
       "    <tr>\n",
       "      <th>3</th>\n",
       "      <td>U.N. to vote on new North Korea sanctions on M...</td>\n",
       "      <td>united nations  reuters    the u n  security c...</td>\n",
       "      <td>worldnews</td>\n",
       "      <td>September 11, 2017</td>\n",
       "      <td>Real</td>\n",
       "    </tr>\n",
       "    <tr>\n",
       "      <th>4</th>\n",
       "      <td>Republicans revamp U.S. health bill, boost ben...</td>\n",
       "      <td>washington  reuters    u s  house republicans ...</td>\n",
       "      <td>politicsnews</td>\n",
       "      <td>March 19, 2017</td>\n",
       "      <td>Real</td>\n",
       "    </tr>\n",
       "    <tr>\n",
       "      <th>...</th>\n",
       "      <td>...</td>\n",
       "      <td>...</td>\n",
       "      <td>...</td>\n",
       "      <td>...</td>\n",
       "      <td>...</td>\n",
       "    </tr>\n",
       "    <tr>\n",
       "      <th>38824</th>\n",
       "      <td>THIS WOMAN IS A HERO: Trump Surrogate Leads Fa...</td>\n",
       "      <td>get to know this woman  maria espinoza founded...</td>\n",
       "      <td>politics</td>\n",
       "      <td>Aug 27, 2016</td>\n",
       "      <td>Fake</td>\n",
       "    </tr>\n",
       "    <tr>\n",
       "      <th>38825</th>\n",
       "      <td>FRANCE’S INTERIOR MINISTER Makes INSANE Statem...</td>\n",
       "      <td>a man shouting  allahu akbar  has stabbed two ...</td>\n",
       "      <td>left-news</td>\n",
       "      <td>Oct 1, 2017</td>\n",
       "      <td>Fake</td>\n",
       "    </tr>\n",
       "    <tr>\n",
       "      <th>38826</th>\n",
       "      <td>LOL! IVANKA TRUMP Has All-Female Security Deta...</td>\n",
       "      <td>when the daughter of president trump visited j...</td>\n",
       "      <td>left-news</td>\n",
       "      <td>Nov 4, 2017</td>\n",
       "      <td>Fake</td>\n",
       "    </tr>\n",
       "    <tr>\n",
       "      <th>38827</th>\n",
       "      <td>Eric Trump Gives DUMBEST Defense For His Brot...</td>\n",
       "      <td>the white house is getting really nervous toda...</td>\n",
       "      <td>news</td>\n",
       "      <td>July 11, 2017</td>\n",
       "      <td>Fake</td>\n",
       "    </tr>\n",
       "    <tr>\n",
       "      <th>38828</th>\n",
       "      <td>US Delta Force Begins Targeting ISIS in Iraq, ...</td>\n",
       "      <td>century wire says while you were watching the...</td>\n",
       "      <td>us_news</td>\n",
       "      <td>March 3, 2016</td>\n",
       "      <td>Fake</td>\n",
       "    </tr>\n",
       "  </tbody>\n",
       "</table>\n",
       "<p>38829 rows × 5 columns</p>\n",
       "</div>"
      ],
      "text/plain": [
       "                                                   title  \\\n",
       "0      U.S. monitoring sanctions regime in response t...   \n",
       "1       WATCH: Morning Joe RIPS Trump For Leaking Cla...   \n",
       "2      China reiterates opposition to South Korea's T...   \n",
       "3      U.N. to vote on new North Korea sanctions on M...   \n",
       "4      Republicans revamp U.S. health bill, boost ben...   \n",
       "...                                                  ...   \n",
       "38824  THIS WOMAN IS A HERO: Trump Surrogate Leads Fa...   \n",
       "38825  FRANCE’S INTERIOR MINISTER Makes INSANE Statem...   \n",
       "38826  LOL! IVANKA TRUMP Has All-Female Security Deta...   \n",
       "38827   Eric Trump Gives DUMBEST Defense For His Brot...   \n",
       "38828  US Delta Force Begins Targeting ISIS in Iraq, ...   \n",
       "\n",
       "                                                    text       subject  \\\n",
       "0      dhaka  reuters    the u s  government will con...     worldnews   \n",
       "1      joe scarborough is furious about donald trump ...          news   \n",
       "2      beijing  reuters    china reiterated on monday...  politicsnews   \n",
       "3      united nations  reuters    the u n  security c...     worldnews   \n",
       "4      washington  reuters    u s  house republicans ...  politicsnews   \n",
       "...                                                  ...           ...   \n",
       "38824  get to know this woman  maria espinoza founded...      politics   \n",
       "38825  a man shouting  allahu akbar  has stabbed two ...     left-news   \n",
       "38826  when the daughter of president trump visited j...     left-news   \n",
       "38827  the white house is getting really nervous toda...          news   \n",
       "38828   century wire says while you were watching the...       us_news   \n",
       "\n",
       "                      date real/fake  \n",
       "0        November 4, 2017       Real  \n",
       "1             May 16, 2017      Fake  \n",
       "2          April 17, 2017       Real  \n",
       "3      September 11, 2017       Real  \n",
       "4          March 19, 2017       Real  \n",
       "...                    ...       ...  \n",
       "38824         Aug 27, 2016      Fake  \n",
       "38825          Oct 1, 2017      Fake  \n",
       "38826          Nov 4, 2017      Fake  \n",
       "38827        July 11, 2017      Fake  \n",
       "38828        March 3, 2016      Fake  \n",
       "\n",
       "[38829 rows x 5 columns]"
      ]
     },
     "execution_count": 29,
     "metadata": {},
     "output_type": "execute_result"
    }
   ],
   "source": [
    "df"
   ]
  },
  {
   "cell_type": "code",
   "execution_count": 30,
   "metadata": {},
   "outputs": [
    {
     "data": {
      "text/plain": [
       "(38829, 5)"
      ]
     },
     "execution_count": 30,
     "metadata": {},
     "output_type": "execute_result"
    }
   ],
   "source": [
    "df.shape"
   ]
  },
  {
   "cell_type": "code",
   "execution_count": 31,
   "metadata": {},
   "outputs": [],
   "source": [
    "df[\"date\"]=df.date.str.replace(' ','-')"
   ]
  },
  {
   "cell_type": "code",
   "execution_count": 32,
   "metadata": {},
   "outputs": [
    {
     "data": {
      "text/html": [
       "<div>\n",
       "<style scoped>\n",
       "    .dataframe tbody tr th:only-of-type {\n",
       "        vertical-align: middle;\n",
       "    }\n",
       "\n",
       "    .dataframe tbody tr th {\n",
       "        vertical-align: top;\n",
       "    }\n",
       "\n",
       "    .dataframe thead th {\n",
       "        text-align: right;\n",
       "    }\n",
       "</style>\n",
       "<table border=\"1\" class=\"dataframe\">\n",
       "  <thead>\n",
       "    <tr style=\"text-align: right;\">\n",
       "      <th></th>\n",
       "      <th>title</th>\n",
       "      <th>text</th>\n",
       "      <th>subject</th>\n",
       "      <th>date</th>\n",
       "      <th>real/fake</th>\n",
       "    </tr>\n",
       "  </thead>\n",
       "  <tbody>\n",
       "    <tr>\n",
       "      <th>0</th>\n",
       "      <td>U.S. monitoring sanctions regime in response t...</td>\n",
       "      <td>dhaka  reuters    the u s  government will con...</td>\n",
       "      <td>worldnews</td>\n",
       "      <td>November-4,-2017-</td>\n",
       "      <td>Real</td>\n",
       "    </tr>\n",
       "    <tr>\n",
       "      <th>1</th>\n",
       "      <td>WATCH: Morning Joe RIPS Trump For Leaking Cla...</td>\n",
       "      <td>joe scarborough is furious about donald trump ...</td>\n",
       "      <td>news</td>\n",
       "      <td>May-16,-2017</td>\n",
       "      <td>Fake</td>\n",
       "    </tr>\n",
       "    <tr>\n",
       "      <th>2</th>\n",
       "      <td>China reiterates opposition to South Korea's T...</td>\n",
       "      <td>beijing  reuters    china reiterated on monday...</td>\n",
       "      <td>politicsnews</td>\n",
       "      <td>April-17,-2017-</td>\n",
       "      <td>Real</td>\n",
       "    </tr>\n",
       "    <tr>\n",
       "      <th>3</th>\n",
       "      <td>U.N. to vote on new North Korea sanctions on M...</td>\n",
       "      <td>united nations  reuters    the u n  security c...</td>\n",
       "      <td>worldnews</td>\n",
       "      <td>September-11,-2017-</td>\n",
       "      <td>Real</td>\n",
       "    </tr>\n",
       "    <tr>\n",
       "      <th>4</th>\n",
       "      <td>Republicans revamp U.S. health bill, boost ben...</td>\n",
       "      <td>washington  reuters    u s  house republicans ...</td>\n",
       "      <td>politicsnews</td>\n",
       "      <td>March-19,-2017-</td>\n",
       "      <td>Real</td>\n",
       "    </tr>\n",
       "    <tr>\n",
       "      <th>5</th>\n",
       "      <td>Trump’s foundation says it violated 'self-deal...</td>\n",
       "      <td>reuters    u s  republican president elect do...</td>\n",
       "      <td>politicsnews</td>\n",
       "      <td>November-22,-2016-</td>\n",
       "      <td>Real</td>\n",
       "    </tr>\n",
       "    <tr>\n",
       "      <th>6</th>\n",
       "      <td>Trump Has Finally Commented On Portland Train...</td>\n",
       "      <td>donald trump doesn t particularly have a filte...</td>\n",
       "      <td>news</td>\n",
       "      <td>May-30,-2017</td>\n",
       "      <td>Fake</td>\n",
       "    </tr>\n",
       "    <tr>\n",
       "      <th>7</th>\n",
       "      <td>EMBARRASSING! NYC MAYOR DE BLASIO Can’t Tell T...</td>\n",
       "      <td>cnn s jake tapper raised the point that obama ...</td>\n",
       "      <td>politics</td>\n",
       "      <td>Jan-29,-2017</td>\n",
       "      <td>Fake</td>\n",
       "    </tr>\n",
       "    <tr>\n",
       "      <th>8</th>\n",
       "      <td>Americans Tell Senate GOP To Let President Ob...</td>\n",
       "      <td>sorry  republicans  the american people have s...</td>\n",
       "      <td>news</td>\n",
       "      <td>February-18,-2016</td>\n",
       "      <td>Fake</td>\n",
       "    </tr>\n",
       "    <tr>\n",
       "      <th>9</th>\n",
       "      <td>Obama pick to lead U.S. military in Africa fav...</td>\n",
       "      <td>washington  reuters    president barack obama ...</td>\n",
       "      <td>politicsnews</td>\n",
       "      <td>June-21,-2016-</td>\n",
       "      <td>Real</td>\n",
       "    </tr>\n",
       "  </tbody>\n",
       "</table>\n",
       "</div>"
      ],
      "text/plain": [
       "                                               title  \\\n",
       "0  U.S. monitoring sanctions regime in response t...   \n",
       "1   WATCH: Morning Joe RIPS Trump For Leaking Cla...   \n",
       "2  China reiterates opposition to South Korea's T...   \n",
       "3  U.N. to vote on new North Korea sanctions on M...   \n",
       "4  Republicans revamp U.S. health bill, boost ben...   \n",
       "5  Trump’s foundation says it violated 'self-deal...   \n",
       "6   Trump Has Finally Commented On Portland Train...   \n",
       "7  EMBARRASSING! NYC MAYOR DE BLASIO Can’t Tell T...   \n",
       "8   Americans Tell Senate GOP To Let President Ob...   \n",
       "9  Obama pick to lead U.S. military in Africa fav...   \n",
       "\n",
       "                                                text       subject  \\\n",
       "0  dhaka  reuters    the u s  government will con...     worldnews   \n",
       "1  joe scarborough is furious about donald trump ...          news   \n",
       "2  beijing  reuters    china reiterated on monday...  politicsnews   \n",
       "3  united nations  reuters    the u n  security c...     worldnews   \n",
       "4  washington  reuters    u s  house republicans ...  politicsnews   \n",
       "5   reuters    u s  republican president elect do...  politicsnews   \n",
       "6  donald trump doesn t particularly have a filte...          news   \n",
       "7  cnn s jake tapper raised the point that obama ...      politics   \n",
       "8  sorry  republicans  the american people have s...          news   \n",
       "9  washington  reuters    president barack obama ...  politicsnews   \n",
       "\n",
       "                  date real/fake  \n",
       "0    November-4,-2017-      Real  \n",
       "1         May-16,-2017      Fake  \n",
       "2      April-17,-2017-      Real  \n",
       "3  September-11,-2017-      Real  \n",
       "4      March-19,-2017-      Real  \n",
       "5   November-22,-2016-      Real  \n",
       "6         May-30,-2017      Fake  \n",
       "7         Jan-29,-2017      Fake  \n",
       "8    February-18,-2016      Fake  \n",
       "9       June-21,-2016-      Real  "
      ]
     },
     "execution_count": 32,
     "metadata": {},
     "output_type": "execute_result"
    }
   ],
   "source": [
    "df.head(10)"
   ]
  },
  {
   "cell_type": "code",
   "execution_count": 33,
   "metadata": {},
   "outputs": [],
   "source": [
    "df[\"date\"]=df.date.str.replace(',','')"
   ]
  },
  {
   "cell_type": "code",
   "execution_count": 34,
   "metadata": {},
   "outputs": [
    {
     "data": {
      "text/html": [
       "<div>\n",
       "<style scoped>\n",
       "    .dataframe tbody tr th:only-of-type {\n",
       "        vertical-align: middle;\n",
       "    }\n",
       "\n",
       "    .dataframe tbody tr th {\n",
       "        vertical-align: top;\n",
       "    }\n",
       "\n",
       "    .dataframe thead th {\n",
       "        text-align: right;\n",
       "    }\n",
       "</style>\n",
       "<table border=\"1\" class=\"dataframe\">\n",
       "  <thead>\n",
       "    <tr style=\"text-align: right;\">\n",
       "      <th></th>\n",
       "      <th>title</th>\n",
       "      <th>text</th>\n",
       "      <th>subject</th>\n",
       "      <th>date</th>\n",
       "      <th>real/fake</th>\n",
       "    </tr>\n",
       "  </thead>\n",
       "  <tbody>\n",
       "    <tr>\n",
       "      <th>0</th>\n",
       "      <td>U.S. monitoring sanctions regime in response t...</td>\n",
       "      <td>dhaka  reuters    the u s  government will con...</td>\n",
       "      <td>worldnews</td>\n",
       "      <td>November-4-2017-</td>\n",
       "      <td>Real</td>\n",
       "    </tr>\n",
       "    <tr>\n",
       "      <th>1</th>\n",
       "      <td>WATCH: Morning Joe RIPS Trump For Leaking Cla...</td>\n",
       "      <td>joe scarborough is furious about donald trump ...</td>\n",
       "      <td>news</td>\n",
       "      <td>May-16-2017</td>\n",
       "      <td>Fake</td>\n",
       "    </tr>\n",
       "    <tr>\n",
       "      <th>2</th>\n",
       "      <td>China reiterates opposition to South Korea's T...</td>\n",
       "      <td>beijing  reuters    china reiterated on monday...</td>\n",
       "      <td>politicsnews</td>\n",
       "      <td>April-17-2017-</td>\n",
       "      <td>Real</td>\n",
       "    </tr>\n",
       "    <tr>\n",
       "      <th>3</th>\n",
       "      <td>U.N. to vote on new North Korea sanctions on M...</td>\n",
       "      <td>united nations  reuters    the u n  security c...</td>\n",
       "      <td>worldnews</td>\n",
       "      <td>September-11-2017-</td>\n",
       "      <td>Real</td>\n",
       "    </tr>\n",
       "    <tr>\n",
       "      <th>4</th>\n",
       "      <td>Republicans revamp U.S. health bill, boost ben...</td>\n",
       "      <td>washington  reuters    u s  house republicans ...</td>\n",
       "      <td>politicsnews</td>\n",
       "      <td>March-19-2017-</td>\n",
       "      <td>Real</td>\n",
       "    </tr>\n",
       "    <tr>\n",
       "      <th>...</th>\n",
       "      <td>...</td>\n",
       "      <td>...</td>\n",
       "      <td>...</td>\n",
       "      <td>...</td>\n",
       "      <td>...</td>\n",
       "    </tr>\n",
       "    <tr>\n",
       "      <th>95</th>\n",
       "      <td>White House says government shutdown always a ...</td>\n",
       "      <td>washington  reuters    as the u s  congress wo...</td>\n",
       "      <td>politicsnews</td>\n",
       "      <td>December-5-2017-</td>\n",
       "      <td>Real</td>\n",
       "    </tr>\n",
       "    <tr>\n",
       "      <th>96</th>\n",
       "      <td>Trump’s Biggest, Most Pansy-A** Apologist Now...</td>\n",
       "      <td>very few of donald trump s fans are more blind...</td>\n",
       "      <td>news</td>\n",
       "      <td>August-3-2016</td>\n",
       "      <td>Fake</td>\n",
       "    </tr>\n",
       "    <tr>\n",
       "      <th>97</th>\n",
       "      <td>Macedonia's pro-Western Social Democrats claim...</td>\n",
       "      <td>skopje  reuters    macedonia s ruling social d...</td>\n",
       "      <td>worldnews</td>\n",
       "      <td>October-15-2017-</td>\n",
       "      <td>Real</td>\n",
       "    </tr>\n",
       "    <tr>\n",
       "      <th>98</th>\n",
       "      <td>China urges Thailand to find Muslim Uighurs qu...</td>\n",
       "      <td>beijing  reuters    china said on tuesday it h...</td>\n",
       "      <td>worldnews</td>\n",
       "      <td>November-21-2017-</td>\n",
       "      <td>Real</td>\n",
       "    </tr>\n",
       "    <tr>\n",
       "      <th>99</th>\n",
       "      <td>Ivanka’s Rabbi Breaks Ranks, Roundly Condemns...</td>\n",
       "      <td>donald trump expects unwavering loyalty from e...</td>\n",
       "      <td>news</td>\n",
       "      <td>August-17-2017</td>\n",
       "      <td>Fake</td>\n",
       "    </tr>\n",
       "  </tbody>\n",
       "</table>\n",
       "<p>100 rows × 5 columns</p>\n",
       "</div>"
      ],
      "text/plain": [
       "                                                title  \\\n",
       "0   U.S. monitoring sanctions regime in response t...   \n",
       "1    WATCH: Morning Joe RIPS Trump For Leaking Cla...   \n",
       "2   China reiterates opposition to South Korea's T...   \n",
       "3   U.N. to vote on new North Korea sanctions on M...   \n",
       "4   Republicans revamp U.S. health bill, boost ben...   \n",
       "..                                                ...   \n",
       "95  White House says government shutdown always a ...   \n",
       "96   Trump’s Biggest, Most Pansy-A** Apologist Now...   \n",
       "97  Macedonia's pro-Western Social Democrats claim...   \n",
       "98  China urges Thailand to find Muslim Uighurs qu...   \n",
       "99   Ivanka’s Rabbi Breaks Ranks, Roundly Condemns...   \n",
       "\n",
       "                                                 text       subject  \\\n",
       "0   dhaka  reuters    the u s  government will con...     worldnews   \n",
       "1   joe scarborough is furious about donald trump ...          news   \n",
       "2   beijing  reuters    china reiterated on monday...  politicsnews   \n",
       "3   united nations  reuters    the u n  security c...     worldnews   \n",
       "4   washington  reuters    u s  house republicans ...  politicsnews   \n",
       "..                                                ...           ...   \n",
       "95  washington  reuters    as the u s  congress wo...  politicsnews   \n",
       "96  very few of donald trump s fans are more blind...          news   \n",
       "97  skopje  reuters    macedonia s ruling social d...     worldnews   \n",
       "98  beijing  reuters    china said on tuesday it h...     worldnews   \n",
       "99  donald trump expects unwavering loyalty from e...          news   \n",
       "\n",
       "                  date real/fake  \n",
       "0     November-4-2017-      Real  \n",
       "1          May-16-2017      Fake  \n",
       "2       April-17-2017-      Real  \n",
       "3   September-11-2017-      Real  \n",
       "4       March-19-2017-      Real  \n",
       "..                 ...       ...  \n",
       "95    December-5-2017-      Real  \n",
       "96       August-3-2016      Fake  \n",
       "97    October-15-2017-      Real  \n",
       "98   November-21-2017-      Real  \n",
       "99      August-17-2017      Fake  \n",
       "\n",
       "[100 rows x 5 columns]"
      ]
     },
     "execution_count": 34,
     "metadata": {},
     "output_type": "execute_result"
    }
   ],
   "source": [
    "df.head(100)"
   ]
  },
  {
   "cell_type": "code",
   "execution_count": 35,
   "metadata": {},
   "outputs": [],
   "source": [
    "df[\"date\"]=df.date.str.replace(r'[-]$','', regex=True)\n",
    "#regex=true indicates to replace for all regular expressions"
   ]
  },
  {
   "cell_type": "code",
   "execution_count": 36,
   "metadata": {},
   "outputs": [
    {
     "data": {
      "text/html": [
       "<div>\n",
       "<style scoped>\n",
       "    .dataframe tbody tr th:only-of-type {\n",
       "        vertical-align: middle;\n",
       "    }\n",
       "\n",
       "    .dataframe tbody tr th {\n",
       "        vertical-align: top;\n",
       "    }\n",
       "\n",
       "    .dataframe thead th {\n",
       "        text-align: right;\n",
       "    }\n",
       "</style>\n",
       "<table border=\"1\" class=\"dataframe\">\n",
       "  <thead>\n",
       "    <tr style=\"text-align: right;\">\n",
       "      <th></th>\n",
       "      <th>title</th>\n",
       "      <th>text</th>\n",
       "      <th>subject</th>\n",
       "      <th>date</th>\n",
       "      <th>real/fake</th>\n",
       "    </tr>\n",
       "  </thead>\n",
       "  <tbody>\n",
       "    <tr>\n",
       "      <th>0</th>\n",
       "      <td>U.S. monitoring sanctions regime in response t...</td>\n",
       "      <td>dhaka  reuters    the u s  government will con...</td>\n",
       "      <td>worldnews</td>\n",
       "      <td>November-4-2017</td>\n",
       "      <td>Real</td>\n",
       "    </tr>\n",
       "    <tr>\n",
       "      <th>1</th>\n",
       "      <td>WATCH: Morning Joe RIPS Trump For Leaking Cla...</td>\n",
       "      <td>joe scarborough is furious about donald trump ...</td>\n",
       "      <td>news</td>\n",
       "      <td>May-16-2017</td>\n",
       "      <td>Fake</td>\n",
       "    </tr>\n",
       "    <tr>\n",
       "      <th>2</th>\n",
       "      <td>China reiterates opposition to South Korea's T...</td>\n",
       "      <td>beijing  reuters    china reiterated on monday...</td>\n",
       "      <td>politicsnews</td>\n",
       "      <td>April-17-2017</td>\n",
       "      <td>Real</td>\n",
       "    </tr>\n",
       "    <tr>\n",
       "      <th>3</th>\n",
       "      <td>U.N. to vote on new North Korea sanctions on M...</td>\n",
       "      <td>united nations  reuters    the u n  security c...</td>\n",
       "      <td>worldnews</td>\n",
       "      <td>September-11-2017</td>\n",
       "      <td>Real</td>\n",
       "    </tr>\n",
       "    <tr>\n",
       "      <th>4</th>\n",
       "      <td>Republicans revamp U.S. health bill, boost ben...</td>\n",
       "      <td>washington  reuters    u s  house republicans ...</td>\n",
       "      <td>politicsnews</td>\n",
       "      <td>March-19-2017</td>\n",
       "      <td>Real</td>\n",
       "    </tr>\n",
       "    <tr>\n",
       "      <th>5</th>\n",
       "      <td>Trump’s foundation says it violated 'self-deal...</td>\n",
       "      <td>reuters    u s  republican president elect do...</td>\n",
       "      <td>politicsnews</td>\n",
       "      <td>November-22-2016</td>\n",
       "      <td>Real</td>\n",
       "    </tr>\n",
       "    <tr>\n",
       "      <th>6</th>\n",
       "      <td>Trump Has Finally Commented On Portland Train...</td>\n",
       "      <td>donald trump doesn t particularly have a filte...</td>\n",
       "      <td>news</td>\n",
       "      <td>May-30-2017</td>\n",
       "      <td>Fake</td>\n",
       "    </tr>\n",
       "    <tr>\n",
       "      <th>7</th>\n",
       "      <td>EMBARRASSING! NYC MAYOR DE BLASIO Can’t Tell T...</td>\n",
       "      <td>cnn s jake tapper raised the point that obama ...</td>\n",
       "      <td>politics</td>\n",
       "      <td>Jan-29-2017</td>\n",
       "      <td>Fake</td>\n",
       "    </tr>\n",
       "    <tr>\n",
       "      <th>8</th>\n",
       "      <td>Americans Tell Senate GOP To Let President Ob...</td>\n",
       "      <td>sorry  republicans  the american people have s...</td>\n",
       "      <td>news</td>\n",
       "      <td>February-18-2016</td>\n",
       "      <td>Fake</td>\n",
       "    </tr>\n",
       "    <tr>\n",
       "      <th>9</th>\n",
       "      <td>Obama pick to lead U.S. military in Africa fav...</td>\n",
       "      <td>washington  reuters    president barack obama ...</td>\n",
       "      <td>politicsnews</td>\n",
       "      <td>June-21-2016</td>\n",
       "      <td>Real</td>\n",
       "    </tr>\n",
       "  </tbody>\n",
       "</table>\n",
       "</div>"
      ],
      "text/plain": [
       "                                               title  \\\n",
       "0  U.S. monitoring sanctions regime in response t...   \n",
       "1   WATCH: Morning Joe RIPS Trump For Leaking Cla...   \n",
       "2  China reiterates opposition to South Korea's T...   \n",
       "3  U.N. to vote on new North Korea sanctions on M...   \n",
       "4  Republicans revamp U.S. health bill, boost ben...   \n",
       "5  Trump’s foundation says it violated 'self-deal...   \n",
       "6   Trump Has Finally Commented On Portland Train...   \n",
       "7  EMBARRASSING! NYC MAYOR DE BLASIO Can’t Tell T...   \n",
       "8   Americans Tell Senate GOP To Let President Ob...   \n",
       "9  Obama pick to lead U.S. military in Africa fav...   \n",
       "\n",
       "                                                text       subject  \\\n",
       "0  dhaka  reuters    the u s  government will con...     worldnews   \n",
       "1  joe scarborough is furious about donald trump ...          news   \n",
       "2  beijing  reuters    china reiterated on monday...  politicsnews   \n",
       "3  united nations  reuters    the u n  security c...     worldnews   \n",
       "4  washington  reuters    u s  house republicans ...  politicsnews   \n",
       "5   reuters    u s  republican president elect do...  politicsnews   \n",
       "6  donald trump doesn t particularly have a filte...          news   \n",
       "7  cnn s jake tapper raised the point that obama ...      politics   \n",
       "8  sorry  republicans  the american people have s...          news   \n",
       "9  washington  reuters    president barack obama ...  politicsnews   \n",
       "\n",
       "                date real/fake  \n",
       "0    November-4-2017      Real  \n",
       "1        May-16-2017      Fake  \n",
       "2      April-17-2017      Real  \n",
       "3  September-11-2017      Real  \n",
       "4      March-19-2017      Real  \n",
       "5   November-22-2016      Real  \n",
       "6        May-30-2017      Fake  \n",
       "7        Jan-29-2017      Fake  \n",
       "8   February-18-2016      Fake  \n",
       "9       June-21-2016      Real  "
      ]
     },
     "execution_count": 36,
     "metadata": {},
     "output_type": "execute_result"
    }
   ],
   "source": [
    "df.head(10)"
   ]
  },
  {
   "cell_type": "code",
   "execution_count": 37,
   "metadata": {},
   "outputs": [],
   "source": [
    "df[\"date\"]=df.date.str.replace(\"January\",'1')\n",
    "df[\"date\"]=df.date.str.replace(\"February\",'2')\n",
    "df[\"date\"]=df.date.str.replace(\"Febraury\",'2')\n",
    "df[\"date\"]=df.date.str.replace(\"March\",'3')\n",
    "df[\"date\"]=df.date.str.replace(\"April\",'4')\n",
    "df[\"date\"]=df.date.str.replace(\"May\",'5')\n",
    "df[\"date\"]=df.date.str.replace(\"June\",'6')\n",
    "df[\"date\"]=df.date.str.replace(\"July\",'7')\n",
    "df[\"date\"]=df.date.str.replace(\"August\",'8')\n",
    "df[\"date\"]=df.date.str.replace(\"September\",'9')\n",
    "df[\"date\"]=df.date.str.replace(\"October\",'10')\n",
    "df[\"date\"]=df.date.str.replace(\"November\",'11')\n",
    "df[\"date\"]=df.date.str.replace(\"December\",'12')"
   ]
  },
  {
   "cell_type": "code",
   "execution_count": 38,
   "metadata": {},
   "outputs": [
    {
     "data": {
      "text/html": [
       "<div>\n",
       "<style scoped>\n",
       "    .dataframe tbody tr th:only-of-type {\n",
       "        vertical-align: middle;\n",
       "    }\n",
       "\n",
       "    .dataframe tbody tr th {\n",
       "        vertical-align: top;\n",
       "    }\n",
       "\n",
       "    .dataframe thead th {\n",
       "        text-align: right;\n",
       "    }\n",
       "</style>\n",
       "<table border=\"1\" class=\"dataframe\">\n",
       "  <thead>\n",
       "    <tr style=\"text-align: right;\">\n",
       "      <th></th>\n",
       "      <th>title</th>\n",
       "      <th>text</th>\n",
       "      <th>subject</th>\n",
       "      <th>date</th>\n",
       "      <th>real/fake</th>\n",
       "    </tr>\n",
       "  </thead>\n",
       "  <tbody>\n",
       "    <tr>\n",
       "      <th>0</th>\n",
       "      <td>U.S. monitoring sanctions regime in response t...</td>\n",
       "      <td>dhaka  reuters    the u s  government will con...</td>\n",
       "      <td>worldnews</td>\n",
       "      <td>11-4-2017</td>\n",
       "      <td>Real</td>\n",
       "    </tr>\n",
       "    <tr>\n",
       "      <th>1</th>\n",
       "      <td>WATCH: Morning Joe RIPS Trump For Leaking Cla...</td>\n",
       "      <td>joe scarborough is furious about donald trump ...</td>\n",
       "      <td>news</td>\n",
       "      <td>5-16-2017</td>\n",
       "      <td>Fake</td>\n",
       "    </tr>\n",
       "    <tr>\n",
       "      <th>2</th>\n",
       "      <td>China reiterates opposition to South Korea's T...</td>\n",
       "      <td>beijing  reuters    china reiterated on monday...</td>\n",
       "      <td>politicsnews</td>\n",
       "      <td>4-17-2017</td>\n",
       "      <td>Real</td>\n",
       "    </tr>\n",
       "    <tr>\n",
       "      <th>3</th>\n",
       "      <td>U.N. to vote on new North Korea sanctions on M...</td>\n",
       "      <td>united nations  reuters    the u n  security c...</td>\n",
       "      <td>worldnews</td>\n",
       "      <td>9-11-2017</td>\n",
       "      <td>Real</td>\n",
       "    </tr>\n",
       "    <tr>\n",
       "      <th>4</th>\n",
       "      <td>Republicans revamp U.S. health bill, boost ben...</td>\n",
       "      <td>washington  reuters    u s  house republicans ...</td>\n",
       "      <td>politicsnews</td>\n",
       "      <td>3-19-2017</td>\n",
       "      <td>Real</td>\n",
       "    </tr>\n",
       "    <tr>\n",
       "      <th>...</th>\n",
       "      <td>...</td>\n",
       "      <td>...</td>\n",
       "      <td>...</td>\n",
       "      <td>...</td>\n",
       "      <td>...</td>\n",
       "    </tr>\n",
       "    <tr>\n",
       "      <th>995</th>\n",
       "      <td>ANTIFA MANUAL FOUND On Evergreen College Campu...</td>\n",
       "      <td>this copy of the antifa manual  that is used b...</td>\n",
       "      <td>left-news</td>\n",
       "      <td>Aug-19-2017</td>\n",
       "      <td>Fake</td>\n",
       "    </tr>\n",
       "    <tr>\n",
       "      <th>996</th>\n",
       "      <td>'Big Bang Theory' trumps TV audience for lates...</td>\n",
       "      <td>new york  reuters    some   million americans ...</td>\n",
       "      <td>politicsnews</td>\n",
       "      <td>3-11-2016</td>\n",
       "      <td>Real</td>\n",
       "    </tr>\n",
       "    <tr>\n",
       "      <th>997</th>\n",
       "      <td>Texas Pastor Explains How She Can ‘Move Cloud...</td>\n",
       "      <td>texas christian pastor cindy jacobs stood in f...</td>\n",
       "      <td>news</td>\n",
       "      <td>1-14-2016</td>\n",
       "      <td>Fake</td>\n",
       "    </tr>\n",
       "    <tr>\n",
       "      <th>998</th>\n",
       "      <td>Unhinged Trump Supporter Holds Children AT GU...</td>\n",
       "      <td>if you had wanted to give trump supporters the...</td>\n",
       "      <td>news</td>\n",
       "      <td>11-4-2016</td>\n",
       "      <td>Fake</td>\n",
       "    </tr>\n",
       "    <tr>\n",
       "      <th>999</th>\n",
       "      <td>CIA says mistakenly 'shredded' Senate torture ...</td>\n",
       "      <td>washington  reuters    the central intelligenc...</td>\n",
       "      <td>politicsnews</td>\n",
       "      <td>10-17-2017</td>\n",
       "      <td>Real</td>\n",
       "    </tr>\n",
       "  </tbody>\n",
       "</table>\n",
       "<p>1000 rows × 5 columns</p>\n",
       "</div>"
      ],
      "text/plain": [
       "                                                 title  \\\n",
       "0    U.S. monitoring sanctions regime in response t...   \n",
       "1     WATCH: Morning Joe RIPS Trump For Leaking Cla...   \n",
       "2    China reiterates opposition to South Korea's T...   \n",
       "3    U.N. to vote on new North Korea sanctions on M...   \n",
       "4    Republicans revamp U.S. health bill, boost ben...   \n",
       "..                                                 ...   \n",
       "995  ANTIFA MANUAL FOUND On Evergreen College Campu...   \n",
       "996  'Big Bang Theory' trumps TV audience for lates...   \n",
       "997   Texas Pastor Explains How She Can ‘Move Cloud...   \n",
       "998   Unhinged Trump Supporter Holds Children AT GU...   \n",
       "999  CIA says mistakenly 'shredded' Senate torture ...   \n",
       "\n",
       "                                                  text       subject  \\\n",
       "0    dhaka  reuters    the u s  government will con...     worldnews   \n",
       "1    joe scarborough is furious about donald trump ...          news   \n",
       "2    beijing  reuters    china reiterated on monday...  politicsnews   \n",
       "3    united nations  reuters    the u n  security c...     worldnews   \n",
       "4    washington  reuters    u s  house republicans ...  politicsnews   \n",
       "..                                                 ...           ...   \n",
       "995  this copy of the antifa manual  that is used b...     left-news   \n",
       "996  new york  reuters    some   million americans ...  politicsnews   \n",
       "997  texas christian pastor cindy jacobs stood in f...          news   \n",
       "998  if you had wanted to give trump supporters the...          news   \n",
       "999  washington  reuters    the central intelligenc...  politicsnews   \n",
       "\n",
       "            date real/fake  \n",
       "0      11-4-2017      Real  \n",
       "1      5-16-2017      Fake  \n",
       "2      4-17-2017      Real  \n",
       "3      9-11-2017      Real  \n",
       "4      3-19-2017      Real  \n",
       "..           ...       ...  \n",
       "995  Aug-19-2017      Fake  \n",
       "996    3-11-2016      Real  \n",
       "997    1-14-2016      Fake  \n",
       "998    11-4-2016      Fake  \n",
       "999   10-17-2017      Real  \n",
       "\n",
       "[1000 rows x 5 columns]"
      ]
     },
     "execution_count": 38,
     "metadata": {},
     "output_type": "execute_result"
    }
   ],
   "source": [
    "df.head(1000)"
   ]
  },
  {
   "cell_type": "code",
   "execution_count": 39,
   "metadata": {},
   "outputs": [],
   "source": [
    "df[\"date\"]=df.date.str.replace(\"Jan\",'1')\n",
    "df[\"date\"]=df.date.str.replace(\"Feb\",'2')\n",
    "df[\"date\"]=df.date.str.replace(\"Mar\",'3')\n",
    "df[\"date\"]=df.date.str.replace(\"Apr\",'4')\n",
    "df[\"date\"]=df.date.str.replace(\"Jun\",'6')\n",
    "df[\"date\"]=df.date.str.replace(\"Jul\",'7')\n",
    "df[\"date\"]=df.date.str.replace(\"Aug\",'8')\n",
    "df[\"date\"]=df.date.str.replace(\"Sep\",'9')\n",
    "df[\"date\"]=df.date.str.replace(\"Oct\",'10')\n",
    "df[\"date\"]=df.date.str.replace(\"Nov\",'11')\n",
    "df[\"date\"]=df.date.str.replace(\"Dec\",'12')"
   ]
  },
  {
   "cell_type": "code",
   "execution_count": 40,
   "metadata": {},
   "outputs": [
    {
     "data": {
      "text/html": [
       "<div>\n",
       "<style scoped>\n",
       "    .dataframe tbody tr th:only-of-type {\n",
       "        vertical-align: middle;\n",
       "    }\n",
       "\n",
       "    .dataframe tbody tr th {\n",
       "        vertical-align: top;\n",
       "    }\n",
       "\n",
       "    .dataframe thead th {\n",
       "        text-align: right;\n",
       "    }\n",
       "</style>\n",
       "<table border=\"1\" class=\"dataframe\">\n",
       "  <thead>\n",
       "    <tr style=\"text-align: right;\">\n",
       "      <th></th>\n",
       "      <th>title</th>\n",
       "      <th>text</th>\n",
       "      <th>subject</th>\n",
       "      <th>date</th>\n",
       "      <th>real/fake</th>\n",
       "    </tr>\n",
       "  </thead>\n",
       "  <tbody>\n",
       "    <tr>\n",
       "      <th>0</th>\n",
       "      <td>U.S. monitoring sanctions regime in response t...</td>\n",
       "      <td>dhaka  reuters    the u s  government will con...</td>\n",
       "      <td>worldnews</td>\n",
       "      <td>11-4-2017</td>\n",
       "      <td>Real</td>\n",
       "    </tr>\n",
       "    <tr>\n",
       "      <th>1</th>\n",
       "      <td>WATCH: Morning Joe RIPS Trump For Leaking Cla...</td>\n",
       "      <td>joe scarborough is furious about donald trump ...</td>\n",
       "      <td>news</td>\n",
       "      <td>5-16-2017</td>\n",
       "      <td>Fake</td>\n",
       "    </tr>\n",
       "    <tr>\n",
       "      <th>2</th>\n",
       "      <td>China reiterates opposition to South Korea's T...</td>\n",
       "      <td>beijing  reuters    china reiterated on monday...</td>\n",
       "      <td>politicsnews</td>\n",
       "      <td>4-17-2017</td>\n",
       "      <td>Real</td>\n",
       "    </tr>\n",
       "    <tr>\n",
       "      <th>3</th>\n",
       "      <td>U.N. to vote on new North Korea sanctions on M...</td>\n",
       "      <td>united nations  reuters    the u n  security c...</td>\n",
       "      <td>worldnews</td>\n",
       "      <td>9-11-2017</td>\n",
       "      <td>Real</td>\n",
       "    </tr>\n",
       "    <tr>\n",
       "      <th>4</th>\n",
       "      <td>Republicans revamp U.S. health bill, boost ben...</td>\n",
       "      <td>washington  reuters    u s  house republicans ...</td>\n",
       "      <td>politicsnews</td>\n",
       "      <td>3-19-2017</td>\n",
       "      <td>Real</td>\n",
       "    </tr>\n",
       "    <tr>\n",
       "      <th>...</th>\n",
       "      <td>...</td>\n",
       "      <td>...</td>\n",
       "      <td>...</td>\n",
       "      <td>...</td>\n",
       "      <td>...</td>\n",
       "    </tr>\n",
       "    <tr>\n",
       "      <th>95</th>\n",
       "      <td>White House says government shutdown always a ...</td>\n",
       "      <td>washington  reuters    as the u s  congress wo...</td>\n",
       "      <td>politicsnews</td>\n",
       "      <td>12-5-2017</td>\n",
       "      <td>Real</td>\n",
       "    </tr>\n",
       "    <tr>\n",
       "      <th>96</th>\n",
       "      <td>Trump’s Biggest, Most Pansy-A** Apologist Now...</td>\n",
       "      <td>very few of donald trump s fans are more blind...</td>\n",
       "      <td>news</td>\n",
       "      <td>8-3-2016</td>\n",
       "      <td>Fake</td>\n",
       "    </tr>\n",
       "    <tr>\n",
       "      <th>97</th>\n",
       "      <td>Macedonia's pro-Western Social Democrats claim...</td>\n",
       "      <td>skopje  reuters    macedonia s ruling social d...</td>\n",
       "      <td>worldnews</td>\n",
       "      <td>10-15-2017</td>\n",
       "      <td>Real</td>\n",
       "    </tr>\n",
       "    <tr>\n",
       "      <th>98</th>\n",
       "      <td>China urges Thailand to find Muslim Uighurs qu...</td>\n",
       "      <td>beijing  reuters    china said on tuesday it h...</td>\n",
       "      <td>worldnews</td>\n",
       "      <td>11-21-2017</td>\n",
       "      <td>Real</td>\n",
       "    </tr>\n",
       "    <tr>\n",
       "      <th>99</th>\n",
       "      <td>Ivanka’s Rabbi Breaks Ranks, Roundly Condemns...</td>\n",
       "      <td>donald trump expects unwavering loyalty from e...</td>\n",
       "      <td>news</td>\n",
       "      <td>8-17-2017</td>\n",
       "      <td>Fake</td>\n",
       "    </tr>\n",
       "  </tbody>\n",
       "</table>\n",
       "<p>100 rows × 5 columns</p>\n",
       "</div>"
      ],
      "text/plain": [
       "                                                title  \\\n",
       "0   U.S. monitoring sanctions regime in response t...   \n",
       "1    WATCH: Morning Joe RIPS Trump For Leaking Cla...   \n",
       "2   China reiterates opposition to South Korea's T...   \n",
       "3   U.N. to vote on new North Korea sanctions on M...   \n",
       "4   Republicans revamp U.S. health bill, boost ben...   \n",
       "..                                                ...   \n",
       "95  White House says government shutdown always a ...   \n",
       "96   Trump’s Biggest, Most Pansy-A** Apologist Now...   \n",
       "97  Macedonia's pro-Western Social Democrats claim...   \n",
       "98  China urges Thailand to find Muslim Uighurs qu...   \n",
       "99   Ivanka’s Rabbi Breaks Ranks, Roundly Condemns...   \n",
       "\n",
       "                                                 text       subject  \\\n",
       "0   dhaka  reuters    the u s  government will con...     worldnews   \n",
       "1   joe scarborough is furious about donald trump ...          news   \n",
       "2   beijing  reuters    china reiterated on monday...  politicsnews   \n",
       "3   united nations  reuters    the u n  security c...     worldnews   \n",
       "4   washington  reuters    u s  house republicans ...  politicsnews   \n",
       "..                                                ...           ...   \n",
       "95  washington  reuters    as the u s  congress wo...  politicsnews   \n",
       "96  very few of donald trump s fans are more blind...          news   \n",
       "97  skopje  reuters    macedonia s ruling social d...     worldnews   \n",
       "98  beijing  reuters    china said on tuesday it h...     worldnews   \n",
       "99  donald trump expects unwavering loyalty from e...          news   \n",
       "\n",
       "          date real/fake  \n",
       "0    11-4-2017      Real  \n",
       "1    5-16-2017      Fake  \n",
       "2    4-17-2017      Real  \n",
       "3    9-11-2017      Real  \n",
       "4    3-19-2017      Real  \n",
       "..         ...       ...  \n",
       "95   12-5-2017      Real  \n",
       "96    8-3-2016      Fake  \n",
       "97  10-15-2017      Real  \n",
       "98  11-21-2017      Real  \n",
       "99   8-17-2017      Fake  \n",
       "\n",
       "[100 rows x 5 columns]"
      ]
     },
     "execution_count": 40,
     "metadata": {},
     "output_type": "execute_result"
    }
   ],
   "source": [
    "df.head(100)"
   ]
  },
  {
   "cell_type": "code",
   "execution_count": 41,
   "metadata": {},
   "outputs": [],
   "source": [
    "import datetime as dt"
   ]
  },
  {
   "cell_type": "code",
   "execution_count": 42,
   "metadata": {},
   "outputs": [
    {
     "name": "stdout",
     "output_type": "stream",
     "text": [
      "<class 'pandas.core.frame.DataFrame'>\n",
      "RangeIndex: 38829 entries, 0 to 38828\n",
      "Data columns (total 5 columns):\n",
      " #   Column     Non-Null Count  Dtype \n",
      "---  ------     --------------  ----- \n",
      " 0   title      38829 non-null  object\n",
      " 1   text       38829 non-null  object\n",
      " 2   subject    38829 non-null  object\n",
      " 3   date       38829 non-null  object\n",
      " 4   real/fake  38829 non-null  object\n",
      "dtypes: object(5)\n",
      "memory usage: 1.5+ MB\n"
     ]
    }
   ],
   "source": [
    "df.info()\n",
    "#prints the datatypes of all the columns"
   ]
  },
  {
   "cell_type": "code",
   "execution_count": 43,
   "metadata": {},
   "outputs": [],
   "source": [
    "df[\"date\"]= pd.to_datetime(df[\"date\"])"
   ]
  },
  {
   "cell_type": "code",
   "execution_count": 44,
   "metadata": {},
   "outputs": [],
   "source": [
    "df.sort_values(by='date', inplace=True)\n",
    "#not to return a new dataset"
   ]
  },
  {
   "cell_type": "code",
   "execution_count": 45,
   "metadata": {},
   "outputs": [
    {
     "data": {
      "text/html": [
       "<div>\n",
       "<style scoped>\n",
       "    .dataframe tbody tr th:only-of-type {\n",
       "        vertical-align: middle;\n",
       "    }\n",
       "\n",
       "    .dataframe tbody tr th {\n",
       "        vertical-align: top;\n",
       "    }\n",
       "\n",
       "    .dataframe thead th {\n",
       "        text-align: right;\n",
       "    }\n",
       "</style>\n",
       "<table border=\"1\" class=\"dataframe\">\n",
       "  <thead>\n",
       "    <tr style=\"text-align: right;\">\n",
       "      <th></th>\n",
       "      <th>title</th>\n",
       "      <th>text</th>\n",
       "      <th>subject</th>\n",
       "      <th>date</th>\n",
       "      <th>real/fake</th>\n",
       "    </tr>\n",
       "  </thead>\n",
       "  <tbody>\n",
       "    <tr>\n",
       "      <th>3957</th>\n",
       "      <td>FLASHBACK: KING OBAMA COMMUTES SENTENCES OF 22...</td>\n",
       "      <td>just making room for hillary president obama t...</td>\n",
       "      <td>politics</td>\n",
       "      <td>2015-03-31</td>\n",
       "      <td>Fake</td>\n",
       "    </tr>\n",
       "    <tr>\n",
       "      <th>33406</th>\n",
       "      <td>HILLARY RODHAM NIXON: A CANDIDATE WITH MORE BA...</td>\n",
       "      <td>the irony here isn t lost on us  hillary is be...</td>\n",
       "      <td>politics</td>\n",
       "      <td>2015-03-31</td>\n",
       "      <td>Fake</td>\n",
       "    </tr>\n",
       "    <tr>\n",
       "      <th>30613</th>\n",
       "      <td>APPLE’S CEO SAYS RELIGIOUS FREEDOM LAWS ARE ‘D...</td>\n",
       "      <td>the gay mafia has a new corporate  don  this i...</td>\n",
       "      <td>politics</td>\n",
       "      <td>2015-03-31</td>\n",
       "      <td>Fake</td>\n",
       "    </tr>\n",
       "    <tr>\n",
       "      <th>1331</th>\n",
       "      <td>BENGHAZI PANEL CALLS HILLARY TO TESTIFY UNDER ...</td>\n",
       "      <td>does anyone really think hillary clinton will ...</td>\n",
       "      <td>politics</td>\n",
       "      <td>2015-03-31</td>\n",
       "      <td>Fake</td>\n",
       "    </tr>\n",
       "    <tr>\n",
       "      <th>20399</th>\n",
       "      <td>OH NO! GUESS WHO FUNDED THE SHRINE TO TED KENNEDY</td>\n",
       "      <td>nothing like political cronyism to make your s...</td>\n",
       "      <td>politics</td>\n",
       "      <td>2015-03-31</td>\n",
       "      <td>Fake</td>\n",
       "    </tr>\n",
       "    <tr>\n",
       "      <th>31487</th>\n",
       "      <td>WATCH DIRTY HARRY REID ON HIS LIE ABOUT ROMNEY...</td>\n",
       "      <td>in case you missed it sen  harry reid  r nv   ...</td>\n",
       "      <td>politics</td>\n",
       "      <td>2015-03-31</td>\n",
       "      <td>Fake</td>\n",
       "    </tr>\n",
       "    <tr>\n",
       "      <th>14003</th>\n",
       "      <td>“Non-violence hasn’t worked”…Reverend Sam Most...</td>\n",
       "      <td>yeah that whole  taking up arms  thing seems t...</td>\n",
       "      <td>left-news</td>\n",
       "      <td>2015-04-01</td>\n",
       "      <td>Fake</td>\n",
       "    </tr>\n",
       "    <tr>\n",
       "      <th>21177</th>\n",
       "      <td>MUSLIM WOMAN ARRESTED FOR SPITTING ON HER FELL...</td>\n",
       "      <td>this woman s having trouble entering the walma...</td>\n",
       "      <td>politics</td>\n",
       "      <td>2015-04-01</td>\n",
       "      <td>Fake</td>\n",
       "    </tr>\n",
       "    <tr>\n",
       "      <th>11134</th>\n",
       "      <td>IS ISIS IN DANGER OF BEING WIPED OUT BY A FLES...</td>\n",
       "      <td>try to fix that with a dull knife boys the sel...</td>\n",
       "      <td>politics</td>\n",
       "      <td>2015-04-02</td>\n",
       "      <td>Fake</td>\n",
       "    </tr>\n",
       "    <tr>\n",
       "      <th>11146</th>\n",
       "      <td>[VIDEO] 16 YR OLD ARRESTED For Violent Gang Be...</td>\n",
       "      <td>this is a sad commentary on a generation who h...</td>\n",
       "      <td>left-news</td>\n",
       "      <td>2015-04-04</td>\n",
       "      <td>Fake</td>\n",
       "    </tr>\n",
       "  </tbody>\n",
       "</table>\n",
       "</div>"
      ],
      "text/plain": [
       "                                                   title  \\\n",
       "3957   FLASHBACK: KING OBAMA COMMUTES SENTENCES OF 22...   \n",
       "33406  HILLARY RODHAM NIXON: A CANDIDATE WITH MORE BA...   \n",
       "30613  APPLE’S CEO SAYS RELIGIOUS FREEDOM LAWS ARE ‘D...   \n",
       "1331   BENGHAZI PANEL CALLS HILLARY TO TESTIFY UNDER ...   \n",
       "20399  OH NO! GUESS WHO FUNDED THE SHRINE TO TED KENNEDY   \n",
       "31487  WATCH DIRTY HARRY REID ON HIS LIE ABOUT ROMNEY...   \n",
       "14003  “Non-violence hasn’t worked”…Reverend Sam Most...   \n",
       "21177  MUSLIM WOMAN ARRESTED FOR SPITTING ON HER FELL...   \n",
       "11134  IS ISIS IN DANGER OF BEING WIPED OUT BY A FLES...   \n",
       "11146  [VIDEO] 16 YR OLD ARRESTED For Violent Gang Be...   \n",
       "\n",
       "                                                    text    subject  \\\n",
       "3957   just making room for hillary president obama t...   politics   \n",
       "33406  the irony here isn t lost on us  hillary is be...   politics   \n",
       "30613  the gay mafia has a new corporate  don  this i...   politics   \n",
       "1331   does anyone really think hillary clinton will ...   politics   \n",
       "20399  nothing like political cronyism to make your s...   politics   \n",
       "31487  in case you missed it sen  harry reid  r nv   ...   politics   \n",
       "14003  yeah that whole  taking up arms  thing seems t...  left-news   \n",
       "21177  this woman s having trouble entering the walma...   politics   \n",
       "11134  try to fix that with a dull knife boys the sel...   politics   \n",
       "11146  this is a sad commentary on a generation who h...  left-news   \n",
       "\n",
       "            date real/fake  \n",
       "3957  2015-03-31      Fake  \n",
       "33406 2015-03-31      Fake  \n",
       "30613 2015-03-31      Fake  \n",
       "1331  2015-03-31      Fake  \n",
       "20399 2015-03-31      Fake  \n",
       "31487 2015-03-31      Fake  \n",
       "14003 2015-04-01      Fake  \n",
       "21177 2015-04-01      Fake  \n",
       "11134 2015-04-02      Fake  \n",
       "11146 2015-04-04      Fake  "
      ]
     },
     "execution_count": 45,
     "metadata": {},
     "output_type": "execute_result"
    }
   ],
   "source": [
    "df.head(10)"
   ]
  },
  {
   "cell_type": "code",
   "execution_count": 46,
   "metadata": {},
   "outputs": [],
   "source": [
    "df = df.reset_index(drop=True)\n",
    "#when drop=false(default) a new dataframe is returned"
   ]
  },
  {
   "cell_type": "code",
   "execution_count": 47,
   "metadata": {},
   "outputs": [
    {
     "data": {
      "text/html": [
       "<div>\n",
       "<style scoped>\n",
       "    .dataframe tbody tr th:only-of-type {\n",
       "        vertical-align: middle;\n",
       "    }\n",
       "\n",
       "    .dataframe tbody tr th {\n",
       "        vertical-align: top;\n",
       "    }\n",
       "\n",
       "    .dataframe thead th {\n",
       "        text-align: right;\n",
       "    }\n",
       "</style>\n",
       "<table border=\"1\" class=\"dataframe\">\n",
       "  <thead>\n",
       "    <tr style=\"text-align: right;\">\n",
       "      <th></th>\n",
       "      <th>title</th>\n",
       "      <th>text</th>\n",
       "      <th>subject</th>\n",
       "      <th>date</th>\n",
       "      <th>real/fake</th>\n",
       "    </tr>\n",
       "  </thead>\n",
       "  <tbody>\n",
       "    <tr>\n",
       "      <th>0</th>\n",
       "      <td>FLASHBACK: KING OBAMA COMMUTES SENTENCES OF 22...</td>\n",
       "      <td>just making room for hillary president obama t...</td>\n",
       "      <td>politics</td>\n",
       "      <td>2015-03-31</td>\n",
       "      <td>Fake</td>\n",
       "    </tr>\n",
       "    <tr>\n",
       "      <th>1</th>\n",
       "      <td>HILLARY RODHAM NIXON: A CANDIDATE WITH MORE BA...</td>\n",
       "      <td>the irony here isn t lost on us  hillary is be...</td>\n",
       "      <td>politics</td>\n",
       "      <td>2015-03-31</td>\n",
       "      <td>Fake</td>\n",
       "    </tr>\n",
       "    <tr>\n",
       "      <th>2</th>\n",
       "      <td>APPLE’S CEO SAYS RELIGIOUS FREEDOM LAWS ARE ‘D...</td>\n",
       "      <td>the gay mafia has a new corporate  don  this i...</td>\n",
       "      <td>politics</td>\n",
       "      <td>2015-03-31</td>\n",
       "      <td>Fake</td>\n",
       "    </tr>\n",
       "    <tr>\n",
       "      <th>3</th>\n",
       "      <td>BENGHAZI PANEL CALLS HILLARY TO TESTIFY UNDER ...</td>\n",
       "      <td>does anyone really think hillary clinton will ...</td>\n",
       "      <td>politics</td>\n",
       "      <td>2015-03-31</td>\n",
       "      <td>Fake</td>\n",
       "    </tr>\n",
       "    <tr>\n",
       "      <th>4</th>\n",
       "      <td>OH NO! GUESS WHO FUNDED THE SHRINE TO TED KENNEDY</td>\n",
       "      <td>nothing like political cronyism to make your s...</td>\n",
       "      <td>politics</td>\n",
       "      <td>2015-03-31</td>\n",
       "      <td>Fake</td>\n",
       "    </tr>\n",
       "    <tr>\n",
       "      <th>...</th>\n",
       "      <td>...</td>\n",
       "      <td>...</td>\n",
       "      <td>...</td>\n",
       "      <td>...</td>\n",
       "      <td>...</td>\n",
       "    </tr>\n",
       "    <tr>\n",
       "      <th>38824</th>\n",
       "      <td>BUSTED! Maxine Waters’ Ties to Black Nationali...</td>\n",
       "      <td>we reported that maxine waters and members of ...</td>\n",
       "      <td>politics</td>\n",
       "      <td>2018-02-18</td>\n",
       "      <td>Fake</td>\n",
       "    </tr>\n",
       "    <tr>\n",
       "      <th>38825</th>\n",
       "      <td>WATCH: SNOWFLAKES ASKED Communist Party Platfo...</td>\n",
       "      <td>ami horowitz is fantastic  check out this man ...</td>\n",
       "      <td>politics</td>\n",
       "      <td>2018-02-19</td>\n",
       "      <td>Fake</td>\n",
       "    </tr>\n",
       "    <tr>\n",
       "      <th>38826</th>\n",
       "      <td>MSNBC ANCHOR Flabbergasted at What Texas Teach...</td>\n",
       "      <td>if we protect every other government building ...</td>\n",
       "      <td>politics</td>\n",
       "      <td>2018-02-19</td>\n",
       "      <td>Fake</td>\n",
       "    </tr>\n",
       "    <tr>\n",
       "      <th>38827</th>\n",
       "      <td>Democrat Senator Warns Mueller Not To Release ...</td>\n",
       "      <td>according to the hill  democrat senator bob ca...</td>\n",
       "      <td>politics</td>\n",
       "      <td>2018-02-19</td>\n",
       "      <td>Fake</td>\n",
       "    </tr>\n",
       "    <tr>\n",
       "      <th>38828</th>\n",
       "      <td>JUST IN: BADASS GENERAL JOHN KELLY Shoved Chin...</td>\n",
       "      <td>just one more reminder of why president trump ...</td>\n",
       "      <td>politics</td>\n",
       "      <td>2018-02-19</td>\n",
       "      <td>Fake</td>\n",
       "    </tr>\n",
       "  </tbody>\n",
       "</table>\n",
       "<p>38829 rows × 5 columns</p>\n",
       "</div>"
      ],
      "text/plain": [
       "                                                   title  \\\n",
       "0      FLASHBACK: KING OBAMA COMMUTES SENTENCES OF 22...   \n",
       "1      HILLARY RODHAM NIXON: A CANDIDATE WITH MORE BA...   \n",
       "2      APPLE’S CEO SAYS RELIGIOUS FREEDOM LAWS ARE ‘D...   \n",
       "3      BENGHAZI PANEL CALLS HILLARY TO TESTIFY UNDER ...   \n",
       "4      OH NO! GUESS WHO FUNDED THE SHRINE TO TED KENNEDY   \n",
       "...                                                  ...   \n",
       "38824  BUSTED! Maxine Waters’ Ties to Black Nationali...   \n",
       "38825  WATCH: SNOWFLAKES ASKED Communist Party Platfo...   \n",
       "38826  MSNBC ANCHOR Flabbergasted at What Texas Teach...   \n",
       "38827  Democrat Senator Warns Mueller Not To Release ...   \n",
       "38828  JUST IN: BADASS GENERAL JOHN KELLY Shoved Chin...   \n",
       "\n",
       "                                                    text   subject       date  \\\n",
       "0      just making room for hillary president obama t...  politics 2015-03-31   \n",
       "1      the irony here isn t lost on us  hillary is be...  politics 2015-03-31   \n",
       "2      the gay mafia has a new corporate  don  this i...  politics 2015-03-31   \n",
       "3      does anyone really think hillary clinton will ...  politics 2015-03-31   \n",
       "4      nothing like political cronyism to make your s...  politics 2015-03-31   \n",
       "...                                                  ...       ...        ...   \n",
       "38824  we reported that maxine waters and members of ...  politics 2018-02-18   \n",
       "38825  ami horowitz is fantastic  check out this man ...  politics 2018-02-19   \n",
       "38826  if we protect every other government building ...  politics 2018-02-19   \n",
       "38827  according to the hill  democrat senator bob ca...  politics 2018-02-19   \n",
       "38828  just one more reminder of why president trump ...  politics 2018-02-19   \n",
       "\n",
       "      real/fake  \n",
       "0          Fake  \n",
       "1          Fake  \n",
       "2          Fake  \n",
       "3          Fake  \n",
       "4          Fake  \n",
       "...         ...  \n",
       "38824      Fake  \n",
       "38825      Fake  \n",
       "38826      Fake  \n",
       "38827      Fake  \n",
       "38828      Fake  \n",
       "\n",
       "[38829 rows x 5 columns]"
      ]
     },
     "execution_count": 47,
     "metadata": {},
     "output_type": "execute_result"
    }
   ],
   "source": [
    "df"
   ]
  },
  {
   "cell_type": "code",
   "execution_count": 48,
   "metadata": {},
   "outputs": [],
   "source": [
    "final_df = df.to_csv(\"E:\\\\isfcr project\\\\final_df.csv\")"
   ]
  },
  {
   "cell_type": "code",
   "execution_count": 49,
   "metadata": {},
   "outputs": [],
   "source": [
    "#text-independent(x) real/fake-dependent(y)\n",
    "x = df[\"text\"]\n",
    "y = df[\"real/fake\"]"
   ]
  },
  {
   "cell_type": "code",
   "execution_count": 50,
   "metadata": {},
   "outputs": [],
   "source": [
    "#splitting data into train and test sets out of which 0.2 percent of data is for testing\n",
    "#train_test_split is a function in sklearn for splitting data sets into two sub-arrays randomly \n",
    "x_train, x_test, y_train, y_test = train_test_split(x, y, test_size=0.2,random_state=0)"
   ]
  },
  {
   "cell_type": "code",
   "execution_count": 51,
   "metadata": {},
   "outputs": [
    {
     "data": {
      "text/plain": [
       "14469    west palm beach  fla  washington  reuters    p...\n",
       "37939    brussels  reuters    the belgian trial of a ke...\n",
       "37722    brussels  reuters    european union leaders ga...\n",
       "2595     michael moore made on appearance on the megyn ...\n",
       "8130      century wire says this latest stunt only goes...\n",
       "                               ...                        \n",
       "20757    seoul  reuters    u s  vice president mike pen...\n",
       "32103    taipei  reuters    taiwan and china need to dr...\n",
       "30403    kobani  syria  reuters    islamic state fighte...\n",
       "21243    washington  reuters    an extra   visas for af...\n",
       "2732     washington  reuters    president barack obama ...\n",
       "Name: text, Length: 31063, dtype: object"
      ]
     },
     "execution_count": 51,
     "metadata": {},
     "output_type": "execute_result"
    }
   ],
   "source": [
    "x_train"
   ]
  },
  {
   "cell_type": "code",
   "execution_count": 52,
   "metadata": {},
   "outputs": [
    {
     "data": {
      "text/plain": [
       "829      trump made sure everyone got a chance to see h...\n",
       "29080    goma  democratic republic of congo  reuters   ...\n",
       "30359    the numbers are in  and  megyn kelly today  is...\n",
       "37322    moscow  reuters    former militants from  band...\n",
       "13387    tune in to the alternate current radio network...\n",
       "                               ...                        \n",
       "17127    bill maher is definitely not afraid of donald ...\n",
       "30282    the democratic national committee announced fr...\n",
       "17206    beirut  reuters    a syrian christian orthodox...\n",
       "10430    after all the backlash trump received for sayi...\n",
       "16515                                                     \n",
       "Name: text, Length: 7766, dtype: object"
      ]
     },
     "execution_count": 52,
     "metadata": {},
     "output_type": "execute_result"
    }
   ],
   "source": [
    "x_test"
   ]
  },
  {
   "cell_type": "code",
   "execution_count": 53,
   "metadata": {},
   "outputs": [
    {
     "data": {
      "text/plain": [
       "14469    Real\n",
       "37939    Real\n",
       "37722    Real\n",
       "2595     Fake\n",
       "8130     Fake\n",
       "         ... \n",
       "20757    Real\n",
       "32103    Real\n",
       "30403    Real\n",
       "21243    Real\n",
       "2732     Real\n",
       "Name: real/fake, Length: 31063, dtype: object"
      ]
     },
     "execution_count": 53,
     "metadata": {},
     "output_type": "execute_result"
    }
   ],
   "source": [
    "y_train"
   ]
  },
  {
   "cell_type": "code",
   "execution_count": 54,
   "metadata": {},
   "outputs": [
    {
     "data": {
      "text/plain": [
       "829      Fake\n",
       "29080    Real\n",
       "30359    Fake\n",
       "37322    Real\n",
       "13387    Fake\n",
       "         ... \n",
       "17127    Fake\n",
       "30282    Fake\n",
       "17206    Real\n",
       "10430    Fake\n",
       "16515    Fake\n",
       "Name: real/fake, Length: 7766, dtype: object"
      ]
     },
     "execution_count": 54,
     "metadata": {},
     "output_type": "execute_result"
    }
   ],
   "source": [
    "y_test"
   ]
  },
  {
   "cell_type": "code",
   "execution_count": 55,
   "metadata": {},
   "outputs": [],
   "source": [
    "#text column has raw data which cant be used for computations so vectorize it into  vectors\n",
    "from sklearn.feature_extraction.text import TfidfVectorizer"
   ]
  },
  {
   "cell_type": "code",
   "execution_count": 56,
   "metadata": {},
   "outputs": [],
   "source": [
    "#stop words are english words which doesn't add much meaning to a sentence and can be safely removed\n",
    "#term frequency–inverse document frequency\n",
    "tfvect = TfidfVectorizer(stop_words='english', max_df = 0.7)\n",
    "#max_df=0.7=>ignore terms that appear in more than 70% of the texts\n",
    "tfid_x_train = tfvect.fit_transform(x_train)\n",
    "tfid_x_test = tfvect.transform(x_test)\n",
    "#fit_tranform returns (sentence_index,feature_index) count.....fit_transform does some calculation and then transforms\n",
    "#it removes all 0 entries in a sparse matrix\n",
    "#transform just tranforms the raw text into number"
   ]
  },
  {
   "cell_type": "code",
   "execution_count": 57,
   "metadata": {},
   "outputs": [
    {
     "data": {
      "text/plain": [
       "<31063x94810 sparse matrix of type '<class 'numpy.float64'>'\n",
       "\twith 4535139 stored elements in Compressed Sparse Row format>"
      ]
     },
     "execution_count": 57,
     "metadata": {},
     "output_type": "execute_result"
    }
   ],
   "source": [
    "tfid_x_train"
   ]
  },
  {
   "cell_type": "code",
   "execution_count": 58,
   "metadata": {},
   "outputs": [
    {
     "data": {
      "text/plain": [
       "TfidfVectorizer(max_df=0.7, stop_words='english')"
      ]
     },
     "execution_count": 58,
     "metadata": {},
     "output_type": "execute_result"
    }
   ],
   "source": [
    "tfvect"
   ]
  },
  {
   "cell_type": "code",
   "execution_count": 59,
   "metadata": {},
   "outputs": [
    {
     "data": {
      "text/plain": [
       "<7766x94810 sparse matrix of type '<class 'numpy.float64'>'\n",
       "\twith 1129852 stored elements in Compressed Sparse Row format>"
      ]
     },
     "execution_count": 59,
     "metadata": {},
     "output_type": "execute_result"
    }
   ],
   "source": [
    "tfid_x_test"
   ]
  },
  {
   "cell_type": "code",
   "execution_count": 60,
   "metadata": {},
   "outputs": [
    {
     "data": {
      "text/plain": [
       "PassiveAggressiveClassifier(max_iter=50)"
      ]
     },
     "execution_count": 60,
     "metadata": {},
     "output_type": "execute_result"
    }
   ],
   "source": [
    "#this model remains passive for normal inputs(true) and turns aggressive on different input(fake)\n",
    "classifier = PassiveAggressiveClassifier(max_iter=50)\n",
    "#max_iter=maximum number of passes over the training data\n",
    "classifier.fit(tfid_x_train,y_train)\n",
    "#fit-taining part of the modelling process"
   ]
  },
  {
   "cell_type": "code",
   "execution_count": 61,
   "metadata": {},
   "outputs": [
    {
     "name": "stdout",
     "output_type": "stream",
     "text": [
      "Accuracy: 99.12%\n"
     ]
    }
   ],
   "source": [
    "y_pred = classifier.predict(tfid_x_test)\n",
    "#accuracy_score -> sklearn\n",
    "score = accuracy_score(y_test,y_pred)\n",
    "#accuracy between the predicted and actual values\n",
    "print(f'Accuracy: {round(score*100,2)}%')"
   ]
  },
  {
   "cell_type": "code",
   "execution_count": 62,
   "metadata": {},
   "outputs": [
    {
     "name": "stdout",
     "output_type": "stream",
     "text": [
      "[[3526   37]\n",
      " [  31 4172]]\n"
     ]
    }
   ],
   "source": [
    "cf = confusion_matrix(y_test,y_pred, labels=['Fake','Real'])\n",
    "print(cf)\n",
    "#2 rows and 2 columns that reports the number of false positives,false negatives,true positives and true negatives\n",
    "#actual fake and actual real along rows and actual fake and actual true along columns\n",
    "#the classifier predicted (19+4143) news as real and (3553+19) as fake, in reality (4143+19) news are real and (3553+51)are fake\n",
    "#'True -ve', 'False +ve'\n",
    "#'False -ve', 'True +ve'\n"
   ]
  },
  {
   "cell_type": "code",
   "execution_count": 63,
   "metadata": {},
   "outputs": [
    {
     "data": {
      "image/png": "[encoded data removed]",
      "text/plain": [
       "<Figure size 288x288 with 2 Axes>"
      ]
     },
     "metadata": {
      "needs_background": "light"
     },
     "output_type": "display_data"
    }
   ],
   "source": [
    "import pylab as pl\n",
    "pl.matshow(cf)\n",
    "pl.title(\"Confusion matrix of the classifier\")\n",
    "pl.colorbar()\n",
    "pl.show()"
   ]
  },
  {
   "cell_type": "code",
   "execution_count": 64,
   "metadata": {},
   "outputs": [
    {
     "data": {
      "text/plain": [
       "Text(0.5, 1.0, 'Confusion Matrix for PassiveAggressiveClassifier')"
      ]
     },
     "execution_count": 64,
     "metadata": {},
     "output_type": "execute_result"
    },
    {
     "data": {
      "image/png": "[encoded data removed]",
      "text/plain": [
       "<Figure size 432x288 with 2 Axes>"
      ]
     },
     "metadata": {
      "needs_background": "light"
     },
     "output_type": "display_data"
    }
   ],
   "source": [
    "import matplotlib as plt\n",
    "import seaborn as sns\n",
    "group_names = ['True -ve', 'False +ve', 'False -ve', 'True +ve']\n",
    "group_percentages = [\"{0:.3%}\".format(value) for value in\n",
    "                    cf.flatten()/np.sum(cf)]\n",
    "labels = [f\"{v1}\\n\\n{v2}\"\n",
    "          for v1,v2 in\n",
    "          zip(group_names, group_percentages)]\n",
    "labels = np.asarray(labels).reshape(2,2)\n",
    "#ax = plt.axes()\n",
    "ax=sns.heatmap(cf, annot = labels, fmt = '')\n",
    "ax.set_title('Confusion Matrix for PassiveAggressiveClassifier')"
   ]
  },
  {
   "cell_type": "code",
   "execution_count": 65,
   "metadata": {},
   "outputs": [
    {
     "name": "stdout",
     "output_type": "stream",
     "text": [
      "94810\n"
     ]
    }
   ],
   "source": [
    "print(len(tfvect.vocabulary_))\n",
    "#Total no of vocabularies identified"
   ]
  },
  {
   "cell_type": "code",
   "execution_count": 66,
   "metadata": {},
   "outputs": [],
   "source": [
    "#Pickle in Python is primarily used in serializing and deserializing a Python object structure.\n",
    "#In other words, it's the process of converting a Python object into a byte stream to store it in a file/database, maintain program state across sessions, or transport data over the network.\n",
    "import pickle"
   ]
  },
  {
   "cell_type": "code",
   "execution_count": 67,
   "metadata": {},
   "outputs": [],
   "source": [
    "#pickle.dump(pac,open('model_1.pkl', 'wb'))-direct method\n",
    "with open('model_1.pkl','wb') as handle:\n",
    "    pickle.dump(classifier,handle,protocol=pickle.HIGHEST_PROTOCOL)\n",
    "#handle-file object returned after opening the model\n",
    "#pickle.HIGHEST_PROTOCOL indicates the highest version of pickle"
   ]
  },
  {
   "cell_type": "code",
   "execution_count": 68,
   "metadata": {},
   "outputs": [
    {
     "name": "stdout",
     "output_type": "stream",
     "text": [
      "94810\n"
     ]
    }
   ],
   "source": [
    "print(len(tfvect.vocabulary_))"
   ]
  },
  {
   "cell_type": "code",
   "execution_count": 69,
   "metadata": {},
   "outputs": [],
   "source": [
    "pipeline = Pipeline([('tfidf', TfidfVectorizer(stop_words='english')), ('nbmodel', MultinomialNB())])\n",
    "#multinomial naive bayes algorithm is a probabilistic learning method used in NLP"
   ]
  },
  {
   "cell_type": "code",
   "execution_count": 70,
   "metadata": {},
   "outputs": [
    {
     "data": {
      "text/plain": [
       "Pipeline(steps=[('tfidf', TfidfVectorizer(stop_words='english')),\n",
       "                ('nbmodel', MultinomialNB())])"
      ]
     },
     "execution_count": 70,
     "metadata": {},
     "output_type": "execute_result"
    }
   ],
   "source": [
    "pipeline.fit(x_train, y_train)"
   ]
  },
  {
   "cell_type": "code",
   "execution_count": 71,
   "metadata": {},
   "outputs": [
    {
     "name": "stdout",
     "output_type": "stream",
     "text": [
      "Accuracy 0.9175894926603142\n"
     ]
    }
   ],
   "source": [
    "score = pipeline.score(x_test, y_test)\n",
    "print('Accuracy', score)\n",
    "#score-returns a score or a loss"
   ]
  },
  {
   "cell_type": "code",
   "execution_count": 72,
   "metadata": {},
   "outputs": [],
   "source": [
    "pred = pipeline.predict(x_test)"
   ]
  },
  {
   "cell_type": "code",
   "execution_count": 73,
   "metadata": {},
   "outputs": [
    {
     "name": "stdout",
     "output_type": "stream",
     "text": [
      "              precision    recall  f1-score   support\n",
      "\n",
      "        Fake       0.94      0.87      0.91      3563\n",
      "        Real       0.90      0.96      0.93      4203\n",
      "\n",
      "    accuracy                           0.92      7766\n",
      "   macro avg       0.92      0.91      0.92      7766\n",
      "weighted avg       0.92      0.92      0.92      7766\n",
      "\n"
     ]
    }
   ],
   "source": [
    "print(classification_report(y_test, pred))\n",
    "#to measure the quality of predictions\n",
    "#precisions-measure of classifier's exactness\n",
    "#recall-measure of classifier's completeness\n",
    "#f1-score=weighted harmonic mean of precision and recall\n",
    "#support-number of actual occurences of class in specified dataset"
   ]
  },
  {
   "cell_type": "code",
   "execution_count": 74,
   "metadata": {},
   "outputs": [
    {
     "name": "stdout",
     "output_type": "stream",
     "text": [
      "94810\n"
     ]
    }
   ],
   "source": [
    "print(len(tfvect.vocabulary_))"
   ]
  },
  {
   "cell_type": "code",
   "execution_count": 75,
   "metadata": {},
   "outputs": [
    {
     "name": "stdout",
     "output_type": "stream",
     "text": [
      "[[3109  454]\n",
      " [ 186 4017]]\n"
     ]
    }
   ],
   "source": [
    "print(confusion_matrix(y_test, pred))\n",
    "cf_pipe= confusion_matrix(y_test, pred)"
   ]
  },
  {
   "cell_type": "code",
   "execution_count": 76,
   "metadata": {},
   "outputs": [
    {
     "data": {
      "text/plain": [
       "Text(0.5, 1.0, 'Confusion Matrix for Pipeline Model')"
      ]
     },
     "execution_count": 76,
     "metadata": {},
     "output_type": "execute_result"
    },
    {
     "data": {
      "image/png": "[encoded data removed]",
      "text/plain": [
       "<Figure size 432x288 with 2 Axes>"
      ]
     },
     "metadata": {
      "needs_background": "light"
     },
     "output_type": "display_data"
    }
   ],
   "source": [
    "import seaborn as sns\n",
    "import matplotlib as plt\n",
    "import seaborn as sns\n",
    "group_names = ['True -ve', 'False +ve', 'False -ve', 'True +ve']\n",
    "group_percentages = [\"{0:.3%}\".format(value) for value in\n",
    "                    cf_pipe.flatten()/np.sum(cf_pipe)]\n",
    "labels = [f\"{v1}\\n\\n{v2}\"\n",
    "          for v1,v2 in\n",
    "          zip(group_names, group_percentages)]\n",
    "labels = np.asarray(labels).reshape(2,2)\n",
    "#ax = plt.axes()\n",
    "ax=sns.heatmap(cf_pipe, annot = labels, fmt = '')\n",
    "ax.set_title('Confusion Matrix for Pipeline Model')"
   ]
  },
  {
   "cell_type": "code",
   "execution_count": 77,
   "metadata": {},
   "outputs": [],
   "source": [
    "import pickle"
   ]
  },
  {
   "cell_type": "code",
   "execution_count": 78,
   "metadata": {},
   "outputs": [],
   "source": [
    "with open('model.pkl','wb') as handle:\n",
    "    pickle.dump(pipeline,handle,protocol=pickle.HIGHEST_PROTOCOL)"
   ]
  },
  {
   "cell_type": "code",
   "execution_count": 79,
   "metadata": {},
   "outputs": [],
   "source": [
    "#Logistic Regression, to model the probability of certain class or event existing\n",
    "from sklearn.linear_model import LogisticRegression"
   ]
  },
  {
   "cell_type": "code",
   "execution_count": 80,
   "metadata": {},
   "outputs": [
    {
     "data": {
      "text/plain": [
       "LogisticRegression()"
      ]
     },
     "execution_count": 80,
     "metadata": {},
     "output_type": "execute_result"
    }
   ],
   "source": [
    "LR = LogisticRegression()\n",
    "LR.fit(tfid_x_train,y_train)\n",
    "#fits the training dataset to the object"
   ]
  },
  {
   "cell_type": "code",
   "execution_count": 81,
   "metadata": {},
   "outputs": [],
   "source": [
    "#given a trained model it predicts the new set of data,it returns learned label of each object in an array\n",
    "pred_lr=LR.predict(tfid_x_test)"
   ]
  },
  {
   "cell_type": "code",
   "execution_count": 82,
   "metadata": {},
   "outputs": [
    {
     "data": {
      "text/plain": [
       "0.9793973731650786"
      ]
     },
     "execution_count": 82,
     "metadata": {},
     "output_type": "execute_result"
    }
   ],
   "source": [
    "#Returns the co-efficient of the determination of the prediction-model accuracy level\n",
    "LR.score(tfid_x_test, y_test)"
   ]
  },
  {
   "cell_type": "code",
   "execution_count": 83,
   "metadata": {},
   "outputs": [
    {
     "name": "stdout",
     "output_type": "stream",
     "text": [
      "              precision    recall  f1-score   support\n",
      "\n",
      "        Fake       0.98      0.97      0.98      3563\n",
      "        Real       0.98      0.98      0.98      4203\n",
      "\n",
      "    accuracy                           0.98      7766\n",
      "   macro avg       0.98      0.98      0.98      7766\n",
      "weighted avg       0.98      0.98      0.98      7766\n",
      "\n"
     ]
    }
   ],
   "source": [
    "#comparison between dataset class and predicted values\n",
    "print(classification_report(y_test, pred_lr))"
   ]
  },
  {
   "cell_type": "code",
   "execution_count": 84,
   "metadata": {},
   "outputs": [
    {
     "name": "stdout",
     "output_type": "stream",
     "text": [
      "[[3470   93]\n",
      " [  67 4136]]\n"
     ]
    }
   ],
   "source": [
    "print(confusion_matrix(y_test, pred_lr))"
   ]
  },
  {
   "cell_type": "code",
   "execution_count": 85,
   "metadata": {},
   "outputs": [],
   "source": [
    "#Decision tree classification\n",
    "from sklearn.tree import DecisionTreeClassifier"
   ]
  },
  {
   "cell_type": "code",
   "execution_count": 86,
   "metadata": {},
   "outputs": [
    {
     "data": {
      "text/plain": [
       "DecisionTreeClassifier()"
      ]
     },
     "execution_count": 86,
     "metadata": {},
     "output_type": "execute_result"
    }
   ],
   "source": [
    "DT = DecisionTreeClassifier()\n",
    "DT.fit(tfid_x_train, y_train)"
   ]
  },
  {
   "cell_type": "code",
   "execution_count": 87,
   "metadata": {},
   "outputs": [],
   "source": [
    "pred_dt = DT.predict(tfid_x_test)"
   ]
  },
  {
   "cell_type": "code",
   "execution_count": 88,
   "metadata": {},
   "outputs": [
    {
     "data": {
      "text/plain": [
       "0.993561679114087"
      ]
     },
     "execution_count": 88,
     "metadata": {},
     "output_type": "execute_result"
    }
   ],
   "source": [
    "DT.score(tfid_x_test, y_test)"
   ]
  },
  {
   "cell_type": "code",
   "execution_count": 89,
   "metadata": {},
   "outputs": [
    {
     "name": "stdout",
     "output_type": "stream",
     "text": [
      "              precision    recall  f1-score   support\n",
      "\n",
      "        Fake       0.99      0.99      0.99      3563\n",
      "        Real       0.99      0.99      0.99      4203\n",
      "\n",
      "    accuracy                           0.99      7766\n",
      "   macro avg       0.99      0.99      0.99      7766\n",
      "weighted avg       0.99      0.99      0.99      7766\n",
      "\n"
     ]
    }
   ],
   "source": [
    "print(classification_report(y_test, pred_dt))"
   ]
  },
  {
   "cell_type": "code",
   "execution_count": 90,
   "metadata": {},
   "outputs": [
    {
     "name": "stdout",
     "output_type": "stream",
     "text": [
      "[[3539   24]\n",
      " [  26 4177]]\n"
     ]
    }
   ],
   "source": [
    "print(confusion_matrix(y_test, pred_dt))"
   ]
  },
  {
   "cell_type": "code",
   "execution_count": 91,
   "metadata": {},
   "outputs": [],
   "source": [
    "#Gradient Boosting Classifier\n",
    "from sklearn.ensemble import GradientBoostingClassifier"
   ]
  },
  {
   "cell_type": "code",
   "execution_count": 92,
   "metadata": {},
   "outputs": [
    {
     "data": {
      "text/plain": [
       "GradientBoostingClassifier(random_state=0)"
      ]
     },
     "execution_count": 92,
     "metadata": {},
     "output_type": "execute_result"
    }
   ],
   "source": [
    "GBC = GradientBoostingClassifier(random_state=0)\n",
    "#random_state=0 controls the verbosity(fact and quality of using more words than needed) while splitting and prediction\n",
    "GBC.fit(tfid_x_train, y_train)"
   ]
  },
  {
   "cell_type": "code",
   "execution_count": 93,
   "metadata": {},
   "outputs": [],
   "source": [
    "pred_gbc = GBC.predict(tfid_x_test)"
   ]
  },
  {
   "cell_type": "code",
   "execution_count": 94,
   "metadata": {},
   "outputs": [
    {
     "data": {
      "text/plain": [
       "0.9949781097089879"
      ]
     },
     "execution_count": 94,
     "metadata": {},
     "output_type": "execute_result"
    }
   ],
   "source": [
    "GBC.score(tfid_x_test, y_test)"
   ]
  },
  {
   "cell_type": "code",
   "execution_count": 95,
   "metadata": {},
   "outputs": [
    {
     "name": "stdout",
     "output_type": "stream",
     "text": [
      "              precision    recall  f1-score   support\n",
      "\n",
      "        Fake       1.00      0.99      0.99      3563\n",
      "        Real       0.99      1.00      1.00      4203\n",
      "\n",
      "    accuracy                           0.99      7766\n",
      "   macro avg       1.00      0.99      0.99      7766\n",
      "weighted avg       0.99      0.99      0.99      7766\n",
      "\n"
     ]
    }
   ],
   "source": [
    "print(classification_report(y_test, pred_gbc))"
   ]
  },
  {
   "cell_type": "code",
   "execution_count": 96,
   "metadata": {},
   "outputs": [
    {
     "name": "stdout",
     "output_type": "stream",
     "text": [
      "[[3539   24]\n",
      " [  15 4188]]\n"
     ]
    }
   ],
   "source": [
    "print(confusion_matrix(y_test, pred_gbc))"
   ]
  },
  {
   "cell_type": "code",
   "execution_count": 97,
   "metadata": {},
   "outputs": [],
   "source": [
    "#Random forest Classifier\n",
    "from sklearn.ensemble import RandomForestClassifier"
   ]
  },
  {
   "cell_type": "code",
   "execution_count": 98,
   "metadata": {},
   "outputs": [
    {
     "data": {
      "text/plain": [
       "RandomForestClassifier(random_state=0)"
      ]
     },
     "execution_count": 98,
     "metadata": {},
     "output_type": "execute_result"
    }
   ],
   "source": [
    "RFC = RandomForestClassifier(random_state=0)\n",
    "RFC.fit(tfid_x_train, y_train)"
   ]
  },
  {
   "cell_type": "code",
   "execution_count": 99,
   "metadata": {},
   "outputs": [],
   "source": [
    "pred_rfc = RFC.predict(tfid_x_test)"
   ]
  },
  {
   "cell_type": "code",
   "execution_count": 100,
   "metadata": {},
   "outputs": [
    {
     "data": {
      "text/plain": [
       "0.9783672418233325"
      ]
     },
     "execution_count": 100,
     "metadata": {},
     "output_type": "execute_result"
    }
   ],
   "source": [
    "RFC.score(tfid_x_test, y_test)"
   ]
  },
  {
   "cell_type": "code",
   "execution_count": 101,
   "metadata": {},
   "outputs": [
    {
     "name": "stdout",
     "output_type": "stream",
     "text": [
      "              precision    recall  f1-score   support\n",
      "\n",
      "        Fake       0.99      0.97      0.98      3563\n",
      "        Real       0.97      0.99      0.98      4203\n",
      "\n",
      "    accuracy                           0.98      7766\n",
      "   macro avg       0.98      0.98      0.98      7766\n",
      "weighted avg       0.98      0.98      0.98      7766\n",
      "\n"
     ]
    }
   ],
   "source": [
    "print(classification_report(y_test, pred_rfc))"
   ]
  },
  {
   "cell_type": "code",
   "execution_count": 102,
   "metadata": {},
   "outputs": [
    {
     "name": "stdout",
     "output_type": "stream",
     "text": [
      "[[3444  119]\n",
      " [  49 4154]]\n"
     ]
    }
   ],
   "source": [
    "print(confusion_matrix(y_test, pred_rfc))"
   ]
  },
  {
   "cell_type": "code",
   "execution_count": 103,
   "metadata": {},
   "outputs": [],
   "source": [
    "#Manual Testing\n",
    "def output_lable(n):\n",
    "    if n == \"Fake\":\n",
    "        return \"Fake News\"\n",
    "    elif n == \"Real\":\n",
    "        return \"Real News\"\n",
    "    \n",
    "def manual_testing(news):\n",
    "    testing_news = {\"text\":[news]}\n",
    "    new_def_test = pd.DataFrame(testing_news)\n",
    "    #creates a dataframe\n",
    "    new_def_test[\"text\"] = new_def_test[\"text\"].apply(word_drop) \n",
    "    new_x_test = new_def_test[\"text\"]\n",
    "    new_xv_test = tfvect.transform(new_x_test)\n",
    "    pred_LR = LR.predict(new_xv_test)\n",
    "    pred_DT = DT.predict(new_xv_test)\n",
    "    pred_GBC = GBC.predict(new_xv_test)\n",
    "    pred_RFC = RFC.predict(new_xv_test)\n",
    "    pred_pac = classifier.predict(new_xv_test)\n",
    "\n",
    "    return print(\"\\n\\nLR Prediction: {} \\nDT Prediction: {} \\nGBC Prediction: {} \\nRFC Prediction: {} \\nPAC Prediction: {} \".format(output_lable(pred_LR[0]), \n",
    "                                                                                                              output_lable(pred_DT[0]), \n",
    "                                                                                                              output_lable(pred_GBC[0]), \n",
    "                                                                                                              output_lable(pred_RFC[0]),\n",
    "                                                                                                              output_lable(pred_pac[0])))"
   ]
  },
  {
   "cell_type": "code",
   "execution_count": 104,
   "metadata": {},
   "outputs": [
    {
     "name": "stdout",
     "output_type": "stream",
     "text": [
      "I have noticed that a lot of the methods focus on short texts, probably because it is the hard problem to solve: if you have a lot of text, it is really easy to detect languages (e.g. one could just use a dictionary!). However, this makes it difficult to find for an easy and suitable method for long texts.\n",
      "\n",
      "\n",
      "LR Prediction: Fake News \n",
      "DT Prediction: Fake News \n",
      "GBC Prediction: Fake News \n",
      "RFC Prediction: Fake News \n",
      "PAC Prediction: Fake News \n"
     ]
    }
   ],
   "source": [
    "news = str(input())\n",
    "manual_testing(news)"
   ]
  },
  {
   "cell_type": "code",
   "execution_count": null,
   "metadata": {},
   "outputs": [],
   "source": []
  },
  {
   "cell_type": "code",
   "execution_count": null,
   "metadata": {},
   "outputs": [],
   "source": []
  }
 ],
 "metadata": {
  "kernelspec": {
   "display_name": "Python 3",
   "language": "python",
   "name": "python3"
  },
  "language_info": {
   "codemirror_mode": {
    "name": "ipython",
    "version": 3
   },
   "file_extension": ".py",
   "mimetype": "text/x-python",
   "name": "python",
   "nbconvert_exporter": "python",
   "pygments_lexer": "ipython3",
   "version": "3.8.3"
  }
 },
 "nbformat": 4,
 "nbformat_minor": 4
}
